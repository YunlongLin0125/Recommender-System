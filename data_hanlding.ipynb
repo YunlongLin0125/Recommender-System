{
 "cells": [
  {
   "cell_type": "code",
   "execution_count": 2,
   "metadata": {
    "collapsed": true
   },
   "outputs": [],
   "source": [
    "from collections import defaultdict\n",
    "from datetime import datetime\n",
    "import torch\n",
    "import pandas as pd\n"
   ]
  },
  {
   "cell_type": "code",
   "execution_count": 3,
   "outputs": [],
   "source": [
    "m1_1m_path = 'datasets/ml-1m'"
   ],
   "metadata": {
    "collapsed": false
   }
  },
  {
   "cell_type": "code",
   "execution_count": 4,
   "outputs": [],
   "source": [
    "retail_path = 'datasets/Retailrocket'"
   ],
   "metadata": {
    "collapsed": false
   }
  },
  {
   "cell_type": "code",
   "execution_count": 5,
   "outputs": [
    {
     "data": {
      "text/plain": "                                      Title  Action  Adventure  Animation  \\\nMovieID                                                                     \n1                          Toy Story (1995)       0          0          1   \n2                            Jumanji (1995)       0          1          0   \n3                   Grumpier Old Men (1995)       0          0          0   \n4                  Waiting to Exhale (1995)       0          0          0   \n5        Father of the Bride Part II (1995)       0          0          0   \n...                                     ...     ...        ...        ...   \n3948                Meet the Parents (2000)       0          0          0   \n3949             Requiem for a Dream (2000)       0          0          0   \n3950                       Tigerland (2000)       0          0          0   \n3951                Two Family House (2000)       0          0          0   \n3952                  Contender, The (2000)       0          0          0   \n\n         Children's  Comedy  Crime  Documentary  Drama  Fantasy  Film-Noir  \\\nMovieID                                                                      \n1                 1       1      0            0      0        0          0   \n2                 1       0      0            0      0        1          0   \n3                 0       1      0            0      0        0          0   \n4                 0       1      0            0      1        0          0   \n5                 0       1      0            0      0        0          0   \n...             ...     ...    ...          ...    ...      ...        ...   \n3948              0       1      0            0      0        0          0   \n3949              0       0      0            0      1        0          0   \n3950              0       0      0            0      1        0          0   \n3951              0       0      0            0      1        0          0   \n3952              0       0      0            0      1        0          0   \n\n         Horror  Musical  Mystery  Romance  Sci-Fi  Thriller  War  Western  \nMovieID                                                                     \n1             0        0        0        0       0         0    0        0  \n2             0        0        0        0       0         0    0        0  \n3             0        0        0        1       0         0    0        0  \n4             0        0        0        0       0         0    0        0  \n5             0        0        0        0       0         0    0        0  \n...         ...      ...      ...      ...     ...       ...  ...      ...  \n3948          0        0        0        0       0         0    0        0  \n3949          0        0        0        0       0         0    0        0  \n3950          0        0        0        0       0         0    0        0  \n3951          0        0        0        0       0         0    0        0  \n3952          0        0        0        0       0         1    0        0  \n\n[3883 rows x 19 columns]",
      "text/html": "<div>\n<style scoped>\n    .dataframe tbody tr th:only-of-type {\n        vertical-align: middle;\n    }\n\n    .dataframe tbody tr th {\n        vertical-align: top;\n    }\n\n    .dataframe thead th {\n        text-align: right;\n    }\n</style>\n<table border=\"1\" class=\"dataframe\">\n  <thead>\n    <tr style=\"text-align: right;\">\n      <th></th>\n      <th>Title</th>\n      <th>Action</th>\n      <th>Adventure</th>\n      <th>Animation</th>\n      <th>Children's</th>\n      <th>Comedy</th>\n      <th>Crime</th>\n      <th>Documentary</th>\n      <th>Drama</th>\n      <th>Fantasy</th>\n      <th>Film-Noir</th>\n      <th>Horror</th>\n      <th>Musical</th>\n      <th>Mystery</th>\n      <th>Romance</th>\n      <th>Sci-Fi</th>\n      <th>Thriller</th>\n      <th>War</th>\n      <th>Western</th>\n    </tr>\n    <tr>\n      <th>MovieID</th>\n      <th></th>\n      <th></th>\n      <th></th>\n      <th></th>\n      <th></th>\n      <th></th>\n      <th></th>\n      <th></th>\n      <th></th>\n      <th></th>\n      <th></th>\n      <th></th>\n      <th></th>\n      <th></th>\n      <th></th>\n      <th></th>\n      <th></th>\n      <th></th>\n      <th></th>\n    </tr>\n  </thead>\n  <tbody>\n    <tr>\n      <th>1</th>\n      <td>Toy Story (1995)</td>\n      <td>0</td>\n      <td>0</td>\n      <td>1</td>\n      <td>1</td>\n      <td>1</td>\n      <td>0</td>\n      <td>0</td>\n      <td>0</td>\n      <td>0</td>\n      <td>0</td>\n      <td>0</td>\n      <td>0</td>\n      <td>0</td>\n      <td>0</td>\n      <td>0</td>\n      <td>0</td>\n      <td>0</td>\n      <td>0</td>\n    </tr>\n    <tr>\n      <th>2</th>\n      <td>Jumanji (1995)</td>\n      <td>0</td>\n      <td>1</td>\n      <td>0</td>\n      <td>1</td>\n      <td>0</td>\n      <td>0</td>\n      <td>0</td>\n      <td>0</td>\n      <td>1</td>\n      <td>0</td>\n      <td>0</td>\n      <td>0</td>\n      <td>0</td>\n      <td>0</td>\n      <td>0</td>\n      <td>0</td>\n      <td>0</td>\n      <td>0</td>\n    </tr>\n    <tr>\n      <th>3</th>\n      <td>Grumpier Old Men (1995)</td>\n      <td>0</td>\n      <td>0</td>\n      <td>0</td>\n      <td>0</td>\n      <td>1</td>\n      <td>0</td>\n      <td>0</td>\n      <td>0</td>\n      <td>0</td>\n      <td>0</td>\n      <td>0</td>\n      <td>0</td>\n      <td>0</td>\n      <td>1</td>\n      <td>0</td>\n      <td>0</td>\n      <td>0</td>\n      <td>0</td>\n    </tr>\n    <tr>\n      <th>4</th>\n      <td>Waiting to Exhale (1995)</td>\n      <td>0</td>\n      <td>0</td>\n      <td>0</td>\n      <td>0</td>\n      <td>1</td>\n      <td>0</td>\n      <td>0</td>\n      <td>1</td>\n      <td>0</td>\n      <td>0</td>\n      <td>0</td>\n      <td>0</td>\n      <td>0</td>\n      <td>0</td>\n      <td>0</td>\n      <td>0</td>\n      <td>0</td>\n      <td>0</td>\n    </tr>\n    <tr>\n      <th>5</th>\n      <td>Father of the Bride Part II (1995)</td>\n      <td>0</td>\n      <td>0</td>\n      <td>0</td>\n      <td>0</td>\n      <td>1</td>\n      <td>0</td>\n      <td>0</td>\n      <td>0</td>\n      <td>0</td>\n      <td>0</td>\n      <td>0</td>\n      <td>0</td>\n      <td>0</td>\n      <td>0</td>\n      <td>0</td>\n      <td>0</td>\n      <td>0</td>\n      <td>0</td>\n    </tr>\n    <tr>\n      <th>...</th>\n      <td>...</td>\n      <td>...</td>\n      <td>...</td>\n      <td>...</td>\n      <td>...</td>\n      <td>...</td>\n      <td>...</td>\n      <td>...</td>\n      <td>...</td>\n      <td>...</td>\n      <td>...</td>\n      <td>...</td>\n      <td>...</td>\n      <td>...</td>\n      <td>...</td>\n      <td>...</td>\n      <td>...</td>\n      <td>...</td>\n      <td>...</td>\n    </tr>\n    <tr>\n      <th>3948</th>\n      <td>Meet the Parents (2000)</td>\n      <td>0</td>\n      <td>0</td>\n      <td>0</td>\n      <td>0</td>\n      <td>1</td>\n      <td>0</td>\n      <td>0</td>\n      <td>0</td>\n      <td>0</td>\n      <td>0</td>\n      <td>0</td>\n      <td>0</td>\n      <td>0</td>\n      <td>0</td>\n      <td>0</td>\n      <td>0</td>\n      <td>0</td>\n      <td>0</td>\n    </tr>\n    <tr>\n      <th>3949</th>\n      <td>Requiem for a Dream (2000)</td>\n      <td>0</td>\n      <td>0</td>\n      <td>0</td>\n      <td>0</td>\n      <td>0</td>\n      <td>0</td>\n      <td>0</td>\n      <td>1</td>\n      <td>0</td>\n      <td>0</td>\n      <td>0</td>\n      <td>0</td>\n      <td>0</td>\n      <td>0</td>\n      <td>0</td>\n      <td>0</td>\n      <td>0</td>\n      <td>0</td>\n    </tr>\n    <tr>\n      <th>3950</th>\n      <td>Tigerland (2000)</td>\n      <td>0</td>\n      <td>0</td>\n      <td>0</td>\n      <td>0</td>\n      <td>0</td>\n      <td>0</td>\n      <td>0</td>\n      <td>1</td>\n      <td>0</td>\n      <td>0</td>\n      <td>0</td>\n      <td>0</td>\n      <td>0</td>\n      <td>0</td>\n      <td>0</td>\n      <td>0</td>\n      <td>0</td>\n      <td>0</td>\n    </tr>\n    <tr>\n      <th>3951</th>\n      <td>Two Family House (2000)</td>\n      <td>0</td>\n      <td>0</td>\n      <td>0</td>\n      <td>0</td>\n      <td>0</td>\n      <td>0</td>\n      <td>0</td>\n      <td>1</td>\n      <td>0</td>\n      <td>0</td>\n      <td>0</td>\n      <td>0</td>\n      <td>0</td>\n      <td>0</td>\n      <td>0</td>\n      <td>0</td>\n      <td>0</td>\n      <td>0</td>\n    </tr>\n    <tr>\n      <th>3952</th>\n      <td>Contender, The (2000)</td>\n      <td>0</td>\n      <td>0</td>\n      <td>0</td>\n      <td>0</td>\n      <td>0</td>\n      <td>0</td>\n      <td>0</td>\n      <td>1</td>\n      <td>0</td>\n      <td>0</td>\n      <td>0</td>\n      <td>0</td>\n      <td>0</td>\n      <td>0</td>\n      <td>0</td>\n      <td>1</td>\n      <td>0</td>\n      <td>0</td>\n    </tr>\n  </tbody>\n</table>\n<p>3883 rows × 19 columns</p>\n</div>"
     },
     "execution_count": 5,
     "metadata": {},
     "output_type": "execute_result"
    }
   ],
   "source": [
    "file_path = m1_1m_path + '/movies.dat'\n",
    "data_movies = pd.read_csv(file_path, encoding='latin-1', sep='::', engine='python',\n",
    "                   names=['MovieID', 'Title', 'Genres'], index_col='MovieID')\n",
    "genres = data_movies['Genres'].str.get_dummies('|')\n",
    "data_movies= pd.concat([data_movies, genres], axis=1)\n",
    "data_movies.drop('Genres', axis=1, inplace=True)\n",
    "data_movies"
   ],
   "metadata": {
    "collapsed": false
   }
  },
  {
   "cell_type": "code",
   "execution_count": 6,
   "outputs": [
    {
     "data": {
      "text/plain": "        Gender  Age  Occupation Zip-code\nUserID                                  \n1            0    1          10    48067\n2            1   56          16    70072\n3            1   25          15    55117\n4            1   45           7    02460\n5            1   25          20    55455\n...        ...  ...         ...      ...\n6036         0   25          15    32603\n6037         0   45           1    76006\n6038         0   56           1    14706\n6039         0   45           0    01060\n6040         1   25           6    11106\n\n[6040 rows x 4 columns]",
      "text/html": "<div>\n<style scoped>\n    .dataframe tbody tr th:only-of-type {\n        vertical-align: middle;\n    }\n\n    .dataframe tbody tr th {\n        vertical-align: top;\n    }\n\n    .dataframe thead th {\n        text-align: right;\n    }\n</style>\n<table border=\"1\" class=\"dataframe\">\n  <thead>\n    <tr style=\"text-align: right;\">\n      <th></th>\n      <th>Gender</th>\n      <th>Age</th>\n      <th>Occupation</th>\n      <th>Zip-code</th>\n    </tr>\n    <tr>\n      <th>UserID</th>\n      <th></th>\n      <th></th>\n      <th></th>\n      <th></th>\n    </tr>\n  </thead>\n  <tbody>\n    <tr>\n      <th>1</th>\n      <td>0</td>\n      <td>1</td>\n      <td>10</td>\n      <td>48067</td>\n    </tr>\n    <tr>\n      <th>2</th>\n      <td>1</td>\n      <td>56</td>\n      <td>16</td>\n      <td>70072</td>\n    </tr>\n    <tr>\n      <th>3</th>\n      <td>1</td>\n      <td>25</td>\n      <td>15</td>\n      <td>55117</td>\n    </tr>\n    <tr>\n      <th>4</th>\n      <td>1</td>\n      <td>45</td>\n      <td>7</td>\n      <td>02460</td>\n    </tr>\n    <tr>\n      <th>5</th>\n      <td>1</td>\n      <td>25</td>\n      <td>20</td>\n      <td>55455</td>\n    </tr>\n    <tr>\n      <th>...</th>\n      <td>...</td>\n      <td>...</td>\n      <td>...</td>\n      <td>...</td>\n    </tr>\n    <tr>\n      <th>6036</th>\n      <td>0</td>\n      <td>25</td>\n      <td>15</td>\n      <td>32603</td>\n    </tr>\n    <tr>\n      <th>6037</th>\n      <td>0</td>\n      <td>45</td>\n      <td>1</td>\n      <td>76006</td>\n    </tr>\n    <tr>\n      <th>6038</th>\n      <td>0</td>\n      <td>56</td>\n      <td>1</td>\n      <td>14706</td>\n    </tr>\n    <tr>\n      <th>6039</th>\n      <td>0</td>\n      <td>45</td>\n      <td>0</td>\n      <td>01060</td>\n    </tr>\n    <tr>\n      <th>6040</th>\n      <td>1</td>\n      <td>25</td>\n      <td>6</td>\n      <td>11106</td>\n    </tr>\n  </tbody>\n</table>\n<p>6040 rows × 4 columns</p>\n</div>"
     },
     "execution_count": 6,
     "metadata": {},
     "output_type": "execute_result"
    }
   ],
   "source": [
    "file_path = m1_1m_path + '/users.dat'\n",
    "data_users = pd.read_csv(file_path, sep='::', engine='python',\n",
    "                   names=['UserID', 'Gender', 'Age', 'Occupation', 'Zip-code'], index_col='UserID')\n",
    "\n",
    "\n",
    "# Convert Gender to binary indicator variable\n",
    "data_users['Gender'] = (data_users['Gender'] == 'M').astype(int)\n",
    "occupation_map = {\n",
    "    0: 'other',\n",
    "    1: 'academic/educator',\n",
    "    2: 'artist',\n",
    "    3: 'clerical/admin',\n",
    "    4: 'college/grad student',\n",
    "    5: 'customer service',\n",
    "    6: 'doctor/health care',\n",
    "    7: 'executive/managerial',\n",
    "    8: 'farmer',\n",
    "    9: 'homemaker',\n",
    "    10: 'K-12 student',\n",
    "    11: 'lawyer',\n",
    "    12: 'programmer',\n",
    "    13: 'retired',\n",
    "    14: 'sales/marketing',\n",
    "    15: 'scientist',\n",
    "    16: 'self-employed',\n",
    "    17: 'technician/engineer',\n",
    "    18: 'tradesman/craftsman',\n",
    "    19: 'unemployed',\n",
    "    20: 'writer'\n",
    "}\n",
    "# data['Occupation'] = data['Occupation'].map(occupation_map)\n",
    "data_users"
   ],
   "metadata": {
    "collapsed": false
   }
  },
  {
   "cell_type": "code",
   "execution_count": 18,
   "outputs": [
    {
     "data": {
      "text/plain": "        MovieID  Rating  Timestamp\nUserID                            \n1          1193       5  978300760\n1           661       3  978302109\n1           914       3  978301968\n1          3408       4  978300275\n1          2355       5  978824291\n1          1197       3  978302268\n1          1287       5  978302039\n1          2804       5  978300719\n1           594       4  978302268\n1           919       4  978301368\n1           595       5  978824268\n1           938       4  978301752\n1          2398       4  978302281\n1          2918       4  978302124\n1          1035       5  978301753\n1          2791       4  978302188\n1          2687       3  978824268\n1          2018       4  978301777\n1          3105       5  978301713\n1          2797       4  978302039\n1          2321       3  978302205\n1           720       3  978300760\n1          1270       5  978300055\n1           527       5  978824195\n1          2340       3  978300103\n1            48       5  978824351\n1          1097       4  978301953\n1          1721       4  978300055\n1          1545       4  978824139\n1           745       3  978824268\n1          2294       4  978824291\n1          3186       4  978300019\n1          1566       4  978824330\n1           588       4  978824268\n1          1907       4  978824330\n1           783       4  978824291\n1          1836       5  978300172\n1          1022       5  978300055\n1          2762       4  978302091\n1           150       5  978301777\n1             1       5  978824268\n1          1961       5  978301590\n1          1962       4  978301753\n1          2692       4  978301570\n1           260       4  978300760\n1          1028       5  978301777\n1          1029       5  978302205\n1          1207       4  978300719\n1          2028       5  978301619\n1           531       4  978302149\n1          3114       4  978302174\n1           608       4  978301398\n1          1246       4  978302091",
      "text/html": "<div>\n<style scoped>\n    .dataframe tbody tr th:only-of-type {\n        vertical-align: middle;\n    }\n\n    .dataframe tbody tr th {\n        vertical-align: top;\n    }\n\n    .dataframe thead th {\n        text-align: right;\n    }\n</style>\n<table border=\"1\" class=\"dataframe\">\n  <thead>\n    <tr style=\"text-align: right;\">\n      <th></th>\n      <th>MovieID</th>\n      <th>Rating</th>\n      <th>Timestamp</th>\n    </tr>\n    <tr>\n      <th>UserID</th>\n      <th></th>\n      <th></th>\n      <th></th>\n    </tr>\n  </thead>\n  <tbody>\n    <tr>\n      <th>1</th>\n      <td>1193</td>\n      <td>5</td>\n      <td>978300760</td>\n    </tr>\n    <tr>\n      <th>1</th>\n      <td>661</td>\n      <td>3</td>\n      <td>978302109</td>\n    </tr>\n    <tr>\n      <th>1</th>\n      <td>914</td>\n      <td>3</td>\n      <td>978301968</td>\n    </tr>\n    <tr>\n      <th>1</th>\n      <td>3408</td>\n      <td>4</td>\n      <td>978300275</td>\n    </tr>\n    <tr>\n      <th>1</th>\n      <td>2355</td>\n      <td>5</td>\n      <td>978824291</td>\n    </tr>\n    <tr>\n      <th>1</th>\n      <td>1197</td>\n      <td>3</td>\n      <td>978302268</td>\n    </tr>\n    <tr>\n      <th>1</th>\n      <td>1287</td>\n      <td>5</td>\n      <td>978302039</td>\n    </tr>\n    <tr>\n      <th>1</th>\n      <td>2804</td>\n      <td>5</td>\n      <td>978300719</td>\n    </tr>\n    <tr>\n      <th>1</th>\n      <td>594</td>\n      <td>4</td>\n      <td>978302268</td>\n    </tr>\n    <tr>\n      <th>1</th>\n      <td>919</td>\n      <td>4</td>\n      <td>978301368</td>\n    </tr>\n    <tr>\n      <th>1</th>\n      <td>595</td>\n      <td>5</td>\n      <td>978824268</td>\n    </tr>\n    <tr>\n      <th>1</th>\n      <td>938</td>\n      <td>4</td>\n      <td>978301752</td>\n    </tr>\n    <tr>\n      <th>1</th>\n      <td>2398</td>\n      <td>4</td>\n      <td>978302281</td>\n    </tr>\n    <tr>\n      <th>1</th>\n      <td>2918</td>\n      <td>4</td>\n      <td>978302124</td>\n    </tr>\n    <tr>\n      <th>1</th>\n      <td>1035</td>\n      <td>5</td>\n      <td>978301753</td>\n    </tr>\n    <tr>\n      <th>1</th>\n      <td>2791</td>\n      <td>4</td>\n      <td>978302188</td>\n    </tr>\n    <tr>\n      <th>1</th>\n      <td>2687</td>\n      <td>3</td>\n      <td>978824268</td>\n    </tr>\n    <tr>\n      <th>1</th>\n      <td>2018</td>\n      <td>4</td>\n      <td>978301777</td>\n    </tr>\n    <tr>\n      <th>1</th>\n      <td>3105</td>\n      <td>5</td>\n      <td>978301713</td>\n    </tr>\n    <tr>\n      <th>1</th>\n      <td>2797</td>\n      <td>4</td>\n      <td>978302039</td>\n    </tr>\n    <tr>\n      <th>1</th>\n      <td>2321</td>\n      <td>3</td>\n      <td>978302205</td>\n    </tr>\n    <tr>\n      <th>1</th>\n      <td>720</td>\n      <td>3</td>\n      <td>978300760</td>\n    </tr>\n    <tr>\n      <th>1</th>\n      <td>1270</td>\n      <td>5</td>\n      <td>978300055</td>\n    </tr>\n    <tr>\n      <th>1</th>\n      <td>527</td>\n      <td>5</td>\n      <td>978824195</td>\n    </tr>\n    <tr>\n      <th>1</th>\n      <td>2340</td>\n      <td>3</td>\n      <td>978300103</td>\n    </tr>\n    <tr>\n      <th>1</th>\n      <td>48</td>\n      <td>5</td>\n      <td>978824351</td>\n    </tr>\n    <tr>\n      <th>1</th>\n      <td>1097</td>\n      <td>4</td>\n      <td>978301953</td>\n    </tr>\n    <tr>\n      <th>1</th>\n      <td>1721</td>\n      <td>4</td>\n      <td>978300055</td>\n    </tr>\n    <tr>\n      <th>1</th>\n      <td>1545</td>\n      <td>4</td>\n      <td>978824139</td>\n    </tr>\n    <tr>\n      <th>1</th>\n      <td>745</td>\n      <td>3</td>\n      <td>978824268</td>\n    </tr>\n    <tr>\n      <th>1</th>\n      <td>2294</td>\n      <td>4</td>\n      <td>978824291</td>\n    </tr>\n    <tr>\n      <th>1</th>\n      <td>3186</td>\n      <td>4</td>\n      <td>978300019</td>\n    </tr>\n    <tr>\n      <th>1</th>\n      <td>1566</td>\n      <td>4</td>\n      <td>978824330</td>\n    </tr>\n    <tr>\n      <th>1</th>\n      <td>588</td>\n      <td>4</td>\n      <td>978824268</td>\n    </tr>\n    <tr>\n      <th>1</th>\n      <td>1907</td>\n      <td>4</td>\n      <td>978824330</td>\n    </tr>\n    <tr>\n      <th>1</th>\n      <td>783</td>\n      <td>4</td>\n      <td>978824291</td>\n    </tr>\n    <tr>\n      <th>1</th>\n      <td>1836</td>\n      <td>5</td>\n      <td>978300172</td>\n    </tr>\n    <tr>\n      <th>1</th>\n      <td>1022</td>\n      <td>5</td>\n      <td>978300055</td>\n    </tr>\n    <tr>\n      <th>1</th>\n      <td>2762</td>\n      <td>4</td>\n      <td>978302091</td>\n    </tr>\n    <tr>\n      <th>1</th>\n      <td>150</td>\n      <td>5</td>\n      <td>978301777</td>\n    </tr>\n    <tr>\n      <th>1</th>\n      <td>1</td>\n      <td>5</td>\n      <td>978824268</td>\n    </tr>\n    <tr>\n      <th>1</th>\n      <td>1961</td>\n      <td>5</td>\n      <td>978301590</td>\n    </tr>\n    <tr>\n      <th>1</th>\n      <td>1962</td>\n      <td>4</td>\n      <td>978301753</td>\n    </tr>\n    <tr>\n      <th>1</th>\n      <td>2692</td>\n      <td>4</td>\n      <td>978301570</td>\n    </tr>\n    <tr>\n      <th>1</th>\n      <td>260</td>\n      <td>4</td>\n      <td>978300760</td>\n    </tr>\n    <tr>\n      <th>1</th>\n      <td>1028</td>\n      <td>5</td>\n      <td>978301777</td>\n    </tr>\n    <tr>\n      <th>1</th>\n      <td>1029</td>\n      <td>5</td>\n      <td>978302205</td>\n    </tr>\n    <tr>\n      <th>1</th>\n      <td>1207</td>\n      <td>4</td>\n      <td>978300719</td>\n    </tr>\n    <tr>\n      <th>1</th>\n      <td>2028</td>\n      <td>5</td>\n      <td>978301619</td>\n    </tr>\n    <tr>\n      <th>1</th>\n      <td>531</td>\n      <td>4</td>\n      <td>978302149</td>\n    </tr>\n    <tr>\n      <th>1</th>\n      <td>3114</td>\n      <td>4</td>\n      <td>978302174</td>\n    </tr>\n    <tr>\n      <th>1</th>\n      <td>608</td>\n      <td>4</td>\n      <td>978301398</td>\n    </tr>\n    <tr>\n      <th>1</th>\n      <td>1246</td>\n      <td>4</td>\n      <td>978302091</td>\n    </tr>\n  </tbody>\n</table>\n</div>"
     },
     "execution_count": 18,
     "metadata": {},
     "output_type": "execute_result"
    }
   ],
   "source": [
    "file_path = m1_1m_path + '/ratings.dat'\n",
    "\n",
    "data_ratings = pd.read_csv(file_path, sep='::', engine='python',\n",
    "                   names=['UserID', 'MovieID', 'Rating', 'Timestamp'], index_col='UserID')\n",
    "\n",
    "data_ratings.loc[1]"
   ],
   "metadata": {
    "collapsed": false
   }
  },
  {
   "cell_type": "code",
   "execution_count": 8,
   "outputs": [
    {
     "data": {
      "text/plain": "        MovieID  Rating  Timestamp\nUserID                            \n2          1357       5  978298709\n2          3068       4  978299000\n2          1537       4  978299620\n2           647       3  978299351\n2          2194       4  978299297\n...         ...     ...        ...\n2           356       5  978299686\n2          1245       2  978299200\n2          1246       5  978299418\n2          3893       1  978299535\n2          1247       5  978298652\n\n[129 rows x 3 columns]",
      "text/html": "<div>\n<style scoped>\n    .dataframe tbody tr th:only-of-type {\n        vertical-align: middle;\n    }\n\n    .dataframe tbody tr th {\n        vertical-align: top;\n    }\n\n    .dataframe thead th {\n        text-align: right;\n    }\n</style>\n<table border=\"1\" class=\"dataframe\">\n  <thead>\n    <tr style=\"text-align: right;\">\n      <th></th>\n      <th>MovieID</th>\n      <th>Rating</th>\n      <th>Timestamp</th>\n    </tr>\n    <tr>\n      <th>UserID</th>\n      <th></th>\n      <th></th>\n      <th></th>\n    </tr>\n  </thead>\n  <tbody>\n    <tr>\n      <th>2</th>\n      <td>1357</td>\n      <td>5</td>\n      <td>978298709</td>\n    </tr>\n    <tr>\n      <th>2</th>\n      <td>3068</td>\n      <td>4</td>\n      <td>978299000</td>\n    </tr>\n    <tr>\n      <th>2</th>\n      <td>1537</td>\n      <td>4</td>\n      <td>978299620</td>\n    </tr>\n    <tr>\n      <th>2</th>\n      <td>647</td>\n      <td>3</td>\n      <td>978299351</td>\n    </tr>\n    <tr>\n      <th>2</th>\n      <td>2194</td>\n      <td>4</td>\n      <td>978299297</td>\n    </tr>\n    <tr>\n      <th>...</th>\n      <td>...</td>\n      <td>...</td>\n      <td>...</td>\n    </tr>\n    <tr>\n      <th>2</th>\n      <td>356</td>\n      <td>5</td>\n      <td>978299686</td>\n    </tr>\n    <tr>\n      <th>2</th>\n      <td>1245</td>\n      <td>2</td>\n      <td>978299200</td>\n    </tr>\n    <tr>\n      <th>2</th>\n      <td>1246</td>\n      <td>5</td>\n      <td>978299418</td>\n    </tr>\n    <tr>\n      <th>2</th>\n      <td>3893</td>\n      <td>1</td>\n      <td>978299535</td>\n    </tr>\n    <tr>\n      <th>2</th>\n      <td>1247</td>\n      <td>5</td>\n      <td>978298652</td>\n    </tr>\n  </tbody>\n</table>\n<p>129 rows × 3 columns</p>\n</div>"
     },
     "execution_count": 8,
     "metadata": {},
     "output_type": "execute_result"
    }
   ],
   "source": [
    "data_ratings.loc[2]"
   ],
   "metadata": {
    "collapsed": false
   }
  },
  {
   "cell_type": "markdown",
   "source": [
    "## SASRec handling\n",
    "Only use implicit feedback in the sequence of items"
   ],
   "metadata": {
    "collapsed": false
   }
  },
  {
   "cell_type": "code",
   "execution_count": 19,
   "outputs": [
    {
     "data": {
      "text/plain": "        MovieID  Rating  Timestamp\nUserID                            \n1          1193       5  978300760\n1           661       3  978302109\n1           914       3  978301968\n1          3408       4  978300275\n1          2355       5  978824291\n...         ...     ...        ...\n6040       1091       1  956716541\n6040       1094       5  956704887\n6040        562       5  956704746\n6040       1096       4  956715648\n6040       1097       4  956715569\n\n[1000209 rows x 3 columns]",
      "text/html": "<div>\n<style scoped>\n    .dataframe tbody tr th:only-of-type {\n        vertical-align: middle;\n    }\n\n    .dataframe tbody tr th {\n        vertical-align: top;\n    }\n\n    .dataframe thead th {\n        text-align: right;\n    }\n</style>\n<table border=\"1\" class=\"dataframe\">\n  <thead>\n    <tr style=\"text-align: right;\">\n      <th></th>\n      <th>MovieID</th>\n      <th>Rating</th>\n      <th>Timestamp</th>\n    </tr>\n    <tr>\n      <th>UserID</th>\n      <th></th>\n      <th></th>\n      <th></th>\n    </tr>\n  </thead>\n  <tbody>\n    <tr>\n      <th>1</th>\n      <td>1193</td>\n      <td>5</td>\n      <td>978300760</td>\n    </tr>\n    <tr>\n      <th>1</th>\n      <td>661</td>\n      <td>3</td>\n      <td>978302109</td>\n    </tr>\n    <tr>\n      <th>1</th>\n      <td>914</td>\n      <td>3</td>\n      <td>978301968</td>\n    </tr>\n    <tr>\n      <th>1</th>\n      <td>3408</td>\n      <td>4</td>\n      <td>978300275</td>\n    </tr>\n    <tr>\n      <th>1</th>\n      <td>2355</td>\n      <td>5</td>\n      <td>978824291</td>\n    </tr>\n    <tr>\n      <th>...</th>\n      <td>...</td>\n      <td>...</td>\n      <td>...</td>\n    </tr>\n    <tr>\n      <th>6040</th>\n      <td>1091</td>\n      <td>1</td>\n      <td>956716541</td>\n    </tr>\n    <tr>\n      <th>6040</th>\n      <td>1094</td>\n      <td>5</td>\n      <td>956704887</td>\n    </tr>\n    <tr>\n      <th>6040</th>\n      <td>562</td>\n      <td>5</td>\n      <td>956704746</td>\n    </tr>\n    <tr>\n      <th>6040</th>\n      <td>1096</td>\n      <td>4</td>\n      <td>956715648</td>\n    </tr>\n    <tr>\n      <th>6040</th>\n      <td>1097</td>\n      <td>4</td>\n      <td>956715569</td>\n    </tr>\n  </tbody>\n</table>\n<p>1000209 rows × 3 columns</p>\n</div>"
     },
     "execution_count": 19,
     "metadata": {},
     "output_type": "execute_result"
    }
   ],
   "source": [
    "data_ratings"
   ],
   "metadata": {
    "collapsed": false
   }
  },
  {
   "cell_type": "code",
   "execution_count": 24,
   "outputs": [],
   "source": [
    "order_ratings = data_ratings.groupby('UserID').apply(lambda  x: x.sort_values('Timestamp'))\n",
    "# use timestamps to determine the sequence order of actions.\n",
    "order_ratings = order_ratings.groupby('UserID').filter(lambda  x: len(x) >= 5)\n",
    "# We discard users and items with fewer than 5 related actions."
   ],
   "metadata": {
    "collapsed": false
   }
  },
  {
   "cell_type": "code",
   "execution_count": 33,
   "outputs": [
    {
     "data": {
      "text/plain": "        MovieID\nUserID         \n1          3186\n1          1721\n1          1022\n1          1270\n1          2340\n1          1836\n1          3408\n1          1207\n1          2804\n1           720\n1          1193\n1           260\n1           919\n1           608\n1          2692\n1          1961\n1          2028\n1          3105\n1           938\n1          1962\n1          1035\n1           150\n1          2018\n1          1028\n1          1097\n1           914\n1          2797\n1          1287\n1          2762\n1          1246\n1           661\n1          2918\n1           531\n1          3114\n1          2791\n1          1029\n1          2321\n1          1197\n1           594\n1          2398\n1          1545\n1           527\n1             1\n1           588\n1          2687\n1           745\n1           595\n1          2294\n1           783\n1          2355\n1          1907\n1          1566\n1            48",
      "text/html": "<div>\n<style scoped>\n    .dataframe tbody tr th:only-of-type {\n        vertical-align: middle;\n    }\n\n    .dataframe tbody tr th {\n        vertical-align: top;\n    }\n\n    .dataframe thead th {\n        text-align: right;\n    }\n</style>\n<table border=\"1\" class=\"dataframe\">\n  <thead>\n    <tr style=\"text-align: right;\">\n      <th></th>\n      <th>MovieID</th>\n    </tr>\n    <tr>\n      <th>UserID</th>\n      <th></th>\n    </tr>\n  </thead>\n  <tbody>\n    <tr>\n      <th>1</th>\n      <td>3186</td>\n    </tr>\n    <tr>\n      <th>1</th>\n      <td>1721</td>\n    </tr>\n    <tr>\n      <th>1</th>\n      <td>1022</td>\n    </tr>\n    <tr>\n      <th>1</th>\n      <td>1270</td>\n    </tr>\n    <tr>\n      <th>1</th>\n      <td>2340</td>\n    </tr>\n    <tr>\n      <th>1</th>\n      <td>1836</td>\n    </tr>\n    <tr>\n      <th>1</th>\n      <td>3408</td>\n    </tr>\n    <tr>\n      <th>1</th>\n      <td>1207</td>\n    </tr>\n    <tr>\n      <th>1</th>\n      <td>2804</td>\n    </tr>\n    <tr>\n      <th>1</th>\n      <td>720</td>\n    </tr>\n    <tr>\n      <th>1</th>\n      <td>1193</td>\n    </tr>\n    <tr>\n      <th>1</th>\n      <td>260</td>\n    </tr>\n    <tr>\n      <th>1</th>\n      <td>919</td>\n    </tr>\n    <tr>\n      <th>1</th>\n      <td>608</td>\n    </tr>\n    <tr>\n      <th>1</th>\n      <td>2692</td>\n    </tr>\n    <tr>\n      <th>1</th>\n      <td>1961</td>\n    </tr>\n    <tr>\n      <th>1</th>\n      <td>2028</td>\n    </tr>\n    <tr>\n      <th>1</th>\n      <td>3105</td>\n    </tr>\n    <tr>\n      <th>1</th>\n      <td>938</td>\n    </tr>\n    <tr>\n      <th>1</th>\n      <td>1962</td>\n    </tr>\n    <tr>\n      <th>1</th>\n      <td>1035</td>\n    </tr>\n    <tr>\n      <th>1</th>\n      <td>150</td>\n    </tr>\n    <tr>\n      <th>1</th>\n      <td>2018</td>\n    </tr>\n    <tr>\n      <th>1</th>\n      <td>1028</td>\n    </tr>\n    <tr>\n      <th>1</th>\n      <td>1097</td>\n    </tr>\n    <tr>\n      <th>1</th>\n      <td>914</td>\n    </tr>\n    <tr>\n      <th>1</th>\n      <td>2797</td>\n    </tr>\n    <tr>\n      <th>1</th>\n      <td>1287</td>\n    </tr>\n    <tr>\n      <th>1</th>\n      <td>2762</td>\n    </tr>\n    <tr>\n      <th>1</th>\n      <td>1246</td>\n    </tr>\n    <tr>\n      <th>1</th>\n      <td>661</td>\n    </tr>\n    <tr>\n      <th>1</th>\n      <td>2918</td>\n    </tr>\n    <tr>\n      <th>1</th>\n      <td>531</td>\n    </tr>\n    <tr>\n      <th>1</th>\n      <td>3114</td>\n    </tr>\n    <tr>\n      <th>1</th>\n      <td>2791</td>\n    </tr>\n    <tr>\n      <th>1</th>\n      <td>1029</td>\n    </tr>\n    <tr>\n      <th>1</th>\n      <td>2321</td>\n    </tr>\n    <tr>\n      <th>1</th>\n      <td>1197</td>\n    </tr>\n    <tr>\n      <th>1</th>\n      <td>594</td>\n    </tr>\n    <tr>\n      <th>1</th>\n      <td>2398</td>\n    </tr>\n    <tr>\n      <th>1</th>\n      <td>1545</td>\n    </tr>\n    <tr>\n      <th>1</th>\n      <td>527</td>\n    </tr>\n    <tr>\n      <th>1</th>\n      <td>1</td>\n    </tr>\n    <tr>\n      <th>1</th>\n      <td>588</td>\n    </tr>\n    <tr>\n      <th>1</th>\n      <td>2687</td>\n    </tr>\n    <tr>\n      <th>1</th>\n      <td>745</td>\n    </tr>\n    <tr>\n      <th>1</th>\n      <td>595</td>\n    </tr>\n    <tr>\n      <th>1</th>\n      <td>2294</td>\n    </tr>\n    <tr>\n      <th>1</th>\n      <td>783</td>\n    </tr>\n    <tr>\n      <th>1</th>\n      <td>2355</td>\n    </tr>\n    <tr>\n      <th>1</th>\n      <td>1907</td>\n    </tr>\n    <tr>\n      <th>1</th>\n      <td>1566</td>\n    </tr>\n    <tr>\n      <th>1</th>\n      <td>48</td>\n    </tr>\n  </tbody>\n</table>\n</div>"
     },
     "execution_count": 33,
     "metadata": {},
     "output_type": "execute_result"
    }
   ],
   "source": [
    "sas_data = order_ratings.drop('Rating', axis=1, inplace=False).drop('Timestamp', axis=1, inplace=False)\n",
    "## ..continue\n",
    "sas_data.loc[1]"
   ],
   "metadata": {
    "collapsed": false
   }
  },
  {
   "cell_type": "code",
   "execution_count": 37,
   "outputs": [
    {
     "ename": "KeyboardInterrupt",
     "evalue": "",
     "output_type": "error",
     "traceback": [
      "\u001B[1;31m---------------------------------------------------------------------------\u001B[0m",
      "\u001B[1;31mKeyboardInterrupt\u001B[0m                         Traceback (most recent call last)",
      "Input \u001B[1;32mIn [37]\u001B[0m, in \u001B[0;36m<cell line: 1>\u001B[1;34m()\u001B[0m\n\u001B[0;32m      2\u001B[0m \u001B[38;5;28;01mfor\u001B[39;00m _id \u001B[38;5;129;01min\u001B[39;00m sas_data\u001B[38;5;241m.\u001B[39mindex:\n\u001B[0;32m      3\u001B[0m     \u001B[38;5;28;01mfor\u001B[39;00m  user_id, movie_id \u001B[38;5;129;01min\u001B[39;00m sas_data\u001B[38;5;241m.\u001B[39mloc[_id]\u001B[38;5;241m.\u001B[39miterrows():\n\u001B[1;32m----> 4\u001B[0m         \u001B[43mf\u001B[49m\u001B[38;5;241;43m.\u001B[39;49m\u001B[43mwrite\u001B[49m\u001B[43m(\u001B[49m\u001B[38;5;124;43m'\u001B[39;49m\u001B[38;5;132;43;01m%d\u001B[39;49;00m\u001B[38;5;124;43m \u001B[39;49m\u001B[38;5;132;43;01m%d\u001B[39;49;00m\u001B[38;5;130;43;01m\\n\u001B[39;49;00m\u001B[38;5;124;43m'\u001B[39;49m\u001B[43m \u001B[49m\u001B[38;5;241;43m%\u001B[39;49m\u001B[43m \u001B[49m\u001B[43m(\u001B[49m\u001B[43muser_id\u001B[49m\u001B[43m,\u001B[49m\u001B[43m \u001B[49m\u001B[43mmovie_id\u001B[49m\u001B[43m)\u001B[49m\u001B[43m)\u001B[49m\n",
      "\u001B[1;31mKeyboardInterrupt\u001B[0m: "
     ]
    }
   ],
   "source": [
    "with open('datasets/processed_SASRec/m1_1m.txt', 'w') as f:\n",
    "    for _id in sas_data.index:\n",
    "        for  user_id, movie_id in sas_data.loc[_id].iterrows():\n",
    "            f.write('%d %d\\n' % (user_id, movie_id))"
   ],
   "metadata": {
    "collapsed": false
   }
  }
 ],
 "metadata": {
  "kernelspec": {
   "display_name": "Python 3",
   "language": "python",
   "name": "python3"
  },
  "language_info": {
   "codemirror_mode": {
    "name": "ipython",
    "version": 2
   },
   "file_extension": ".py",
   "mimetype": "text/x-python",
   "name": "python",
   "nbconvert_exporter": "python",
   "pygments_lexer": "ipython2",
   "version": "2.7.6"
  }
 },
 "nbformat": 4,
 "nbformat_minor": 0
}
