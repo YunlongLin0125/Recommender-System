{
 "cells": [
  {
   "cell_type": "code",
   "execution_count": 94,
   "metadata": {
    "collapsed": true
   },
   "outputs": [],
   "source": [
    "from collections import defaultdict\n",
    "from datetime import datetime\n",
    "import torch\n",
    "import numpy as np\n",
    "import pandas as pd\n",
    "import datetime as dt"
   ]
  },
  {
   "cell_type": "code",
   "execution_count": 95,
   "outputs": [],
   "source": [
    "m1_1m_path = '../../../datasets/ml-1m'\n",
    "PATH_TO_PROCESSED_DATA = 'processed/'"
   ],
   "metadata": {
    "collapsed": false
   }
  },
  {
   "cell_type": "code",
   "execution_count": 96,
   "outputs": [],
   "source": [
    "file_path = m1_1m_path + '/ratings.dat'\n",
    "\n",
    "data_ratings = pd.read_csv(file_path, sep='::', engine='python',\n",
    "                   names=['SessionId', 'ItemId', 'Rating', 'Time'], index_col='SessionId').drop('Rating', axis=1, inplace=False)"
   ],
   "metadata": {
    "collapsed": false
   }
  },
  {
   "cell_type": "code",
   "execution_count": 97,
   "outputs": [
    {
     "data": {
      "text/plain": "           ItemId       Time\nSessionId                   \n2            1357  978298709\n2            3068  978299000\n2            1537  978299620\n2             647  978299351\n2            2194  978299297\n...           ...        ...\n2             356  978299686\n2            1245  978299200\n2            1246  978299418\n2            3893  978299535\n2            1247  978298652\n\n[129 rows x 2 columns]",
      "text/html": "<div>\n<style scoped>\n    .dataframe tbody tr th:only-of-type {\n        vertical-align: middle;\n    }\n\n    .dataframe tbody tr th {\n        vertical-align: top;\n    }\n\n    .dataframe thead th {\n        text-align: right;\n    }\n</style>\n<table border=\"1\" class=\"dataframe\">\n  <thead>\n    <tr style=\"text-align: right;\">\n      <th></th>\n      <th>ItemId</th>\n      <th>Time</th>\n    </tr>\n    <tr>\n      <th>SessionId</th>\n      <th></th>\n      <th></th>\n    </tr>\n  </thead>\n  <tbody>\n    <tr>\n      <th>2</th>\n      <td>1357</td>\n      <td>978298709</td>\n    </tr>\n    <tr>\n      <th>2</th>\n      <td>3068</td>\n      <td>978299000</td>\n    </tr>\n    <tr>\n      <th>2</th>\n      <td>1537</td>\n      <td>978299620</td>\n    </tr>\n    <tr>\n      <th>2</th>\n      <td>647</td>\n      <td>978299351</td>\n    </tr>\n    <tr>\n      <th>2</th>\n      <td>2194</td>\n      <td>978299297</td>\n    </tr>\n    <tr>\n      <th>...</th>\n      <td>...</td>\n      <td>...</td>\n    </tr>\n    <tr>\n      <th>2</th>\n      <td>356</td>\n      <td>978299686</td>\n    </tr>\n    <tr>\n      <th>2</th>\n      <td>1245</td>\n      <td>978299200</td>\n    </tr>\n    <tr>\n      <th>2</th>\n      <td>1246</td>\n      <td>978299418</td>\n    </tr>\n    <tr>\n      <th>2</th>\n      <td>3893</td>\n      <td>978299535</td>\n    </tr>\n    <tr>\n      <th>2</th>\n      <td>1247</td>\n      <td>978298652</td>\n    </tr>\n  </tbody>\n</table>\n<p>129 rows × 2 columns</p>\n</div>"
     },
     "execution_count": 97,
     "metadata": {},
     "output_type": "execute_result"
    }
   ],
   "source": [
    "data_ratings.loc[2]"
   ],
   "metadata": {
    "collapsed": false
   }
  },
  {
   "cell_type": "markdown",
   "source": [
    "## GRU4Rec handling\n",
    "Only use implicit feedback in the sequence of items"
   ],
   "metadata": {
    "collapsed": false
   }
  },
  {
   "cell_type": "code",
   "execution_count": 98,
   "outputs": [
    {
     "data": {
      "text/plain": "           ItemId       Time\nSessionId                   \n1            3186  978300019\n1            1721  978300055\n1            1022  978300055\n1            1270  978300055\n1            2340  978300103\n...           ...        ...\n6040         2917  997454429\n6040         1784  997454464\n6040         1921  997454464\n6040          161  997454486\n6040         1221  998315055\n\n[999611 rows x 2 columns]",
      "text/html": "<div>\n<style scoped>\n    .dataframe tbody tr th:only-of-type {\n        vertical-align: middle;\n    }\n\n    .dataframe tbody tr th {\n        vertical-align: top;\n    }\n\n    .dataframe thead th {\n        text-align: right;\n    }\n</style>\n<table border=\"1\" class=\"dataframe\">\n  <thead>\n    <tr style=\"text-align: right;\">\n      <th></th>\n      <th>ItemId</th>\n      <th>Time</th>\n    </tr>\n    <tr>\n      <th>SessionId</th>\n      <th></th>\n      <th></th>\n    </tr>\n  </thead>\n  <tbody>\n    <tr>\n      <th>1</th>\n      <td>3186</td>\n      <td>978300019</td>\n    </tr>\n    <tr>\n      <th>1</th>\n      <td>1721</td>\n      <td>978300055</td>\n    </tr>\n    <tr>\n      <th>1</th>\n      <td>1022</td>\n      <td>978300055</td>\n    </tr>\n    <tr>\n      <th>1</th>\n      <td>1270</td>\n      <td>978300055</td>\n    </tr>\n    <tr>\n      <th>1</th>\n      <td>2340</td>\n      <td>978300103</td>\n    </tr>\n    <tr>\n      <th>...</th>\n      <td>...</td>\n      <td>...</td>\n    </tr>\n    <tr>\n      <th>6040</th>\n      <td>2917</td>\n      <td>997454429</td>\n    </tr>\n    <tr>\n      <th>6040</th>\n      <td>1784</td>\n      <td>997454464</td>\n    </tr>\n    <tr>\n      <th>6040</th>\n      <td>1921</td>\n      <td>997454464</td>\n    </tr>\n    <tr>\n      <th>6040</th>\n      <td>161</td>\n      <td>997454486</td>\n    </tr>\n    <tr>\n      <th>6040</th>\n      <td>1221</td>\n      <td>998315055</td>\n    </tr>\n  </tbody>\n</table>\n<p>999611 rows × 2 columns</p>\n</div>"
     },
     "execution_count": 98,
     "metadata": {},
     "output_type": "execute_result"
    }
   ],
   "source": [
    "order_ratings = data_ratings\n",
    "# session_lengths>1\n",
    "order_ratings = order_ratings.groupby('SessionId').filter(lambda  x: len(x) > 1)\n",
    "order_ratings = order_ratings.groupby('ItemId').filter(lambda  x: len(x) >= 5)\n",
    "order_ratings = order_ratings.groupby('SessionId').filter(lambda  x: len(x) >= 2)\n",
    "order_ratings = order_ratings.groupby('SessionId').apply(lambda  x: x.sort_values('Time'))\n",
    "# We discard users and items with fewer than 5 related actions.\n",
    "order_ratings"
   ],
   "metadata": {
    "collapsed": false
   }
  },
  {
   "cell_type": "code",
   "execution_count": 99,
   "outputs": [
    {
     "data": {
      "text/plain": "6040"
     },
     "execution_count": 99,
     "metadata": {},
     "output_type": "execute_result"
    }
   ],
   "source": [
    "len(set(order_ratings.index))"
   ],
   "metadata": {
    "collapsed": false
   }
  },
  {
   "cell_type": "code",
   "execution_count": 100,
   "outputs": [
    {
     "data": {
      "text/plain": "(6035, 914, 932987, 66579)"
     },
     "execution_count": 100,
     "metadata": {},
     "output_type": "execute_result"
    }
   ],
   "source": [
    "tmax = order_ratings.Time.max()\n",
    "interval = 86400 * 30 * 12 * 2\n",
    "split_point_1 = tmax - interval\n",
    "session_train = order_ratings[order_ratings['Time'] <= split_point_1]\n",
    "session_test = order_ratings[order_ratings['Time'] > split_point_1]\n",
    "session_test = session_test.groupby('SessionId').filter(lambda  x: len(x) >= 2)\n",
    "len(set(session_train.index)), len(set(session_test.index)), len(session_train), len(session_test)"
   ],
   "metadata": {
    "collapsed": false
   }
  },
  {
   "cell_type": "code",
   "execution_count": 101,
   "outputs": [
    {
     "name": "stdout",
     "output_type": "stream",
     "text": [
      "Full train set\n",
      "\tEvents: 932987\n",
      "\tSessions: 6035\n",
      "\tItems: 3414\n",
      "Test set\n",
      "\tEvents: 66579\n",
      "\tSessions: 914\n",
      "\tItems: 3246\n"
     ]
    }
   ],
   "source": [
    "train = session_train\n",
    "test = session_test\n",
    "print('Full train set\\n\\tEvents: {}\\n\\tSessions: {}\\n\\tItems: {}'.format(len(train), train.index.nunique(), train.ItemId.nunique()))\n",
    "train.to_csv(PATH_TO_PROCESSED_DATA + 'ml-1m_train_full.txt', sep='\\t', index=False)\n",
    "print('Test set\\n\\tEvents: {}\\n\\tSessions: {}\\n\\tItems: {}'.format(len(test), test.index.nunique(), test.ItemId.nunique()))\n",
    "test.to_csv(PATH_TO_PROCESSED_DATA + 'ml-1m_test.txt', sep='\\t', index=False)"
   ],
   "metadata": {
    "collapsed": false
   }
  },
  {
   "cell_type": "code",
   "execution_count": 102,
   "outputs": [
    {
     "name": "stdout",
     "output_type": "stream",
     "text": [
      "Train set\n",
      "\tEvents: 850937\n",
      "\tSessions: 5719\n",
      "\tItems: 3411\n",
      "Validation set\n",
      "\tEvents: 81984\n",
      "\tSessions: 1100\n",
      "\tItems: 3239\n"
     ]
    }
   ],
   "source": [
    "tmax = train.Time.max()\n",
    "interval = 86400 * 30 * 3\n",
    "split_point_2 = tmax - interval\n",
    "session_train = train[train['Time'] <= split_point_2]\n",
    "session_val = train[train['Time'] > split_point_2]\n",
    "train_tr = session_train\n",
    "valid = session_val\n",
    "valid = valid.groupby('SessionId').filter(lambda  x: len(x) >= 2)\n",
    "print('Train set\\n\\tEvents: {}\\n\\tSessions: {}\\n\\tItems: {}'.format(len(train_tr), train_tr.index.nunique(), train_tr.ItemId.nunique()))\n",
    "train_tr.to_csv(PATH_TO_PROCESSED_DATA + 'ml-1m_train_tr.txt', sep='\\t', index=False)\n",
    "print('Validation set\\n\\tEvents: {}\\n\\tSessions: {}\\n\\tItems: {}'.format(len(valid), valid.index.nunique(), valid.ItemId.nunique()))\n",
    "valid.to_csv(PATH_TO_PROCESSED_DATA + 'ml-1m_train_valid.txt', sep='\\t', index=False)"
   ],
   "metadata": {
    "collapsed": false
   }
  }
 ],
 "metadata": {
  "kernelspec": {
   "display_name": "Python 3",
   "language": "python",
   "name": "python3"
  },
  "language_info": {
   "codemirror_mode": {
    "name": "ipython",
    "version": 2
   },
   "file_extension": ".py",
   "mimetype": "text/x-python",
   "name": "python",
   "nbconvert_exporter": "python",
   "pygments_lexer": "ipython2",
   "version": "2.7.6"
  }
 },
 "nbformat": 4,
 "nbformat_minor": 0
}
