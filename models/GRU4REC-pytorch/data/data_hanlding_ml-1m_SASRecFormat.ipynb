{
 "cells": [
  {
   "cell_type": "code",
   "execution_count": 19,
   "metadata": {
    "collapsed": true
   },
   "outputs": [],
   "source": [
    "from collections import defaultdict\n",
    "from datetime import datetime\n",
    "import torch\n",
    "import numpy as np\n",
    "import pandas as pd\n",
    "from datetime import datetime"
   ]
  },
  {
   "cell_type": "code",
   "execution_count": 20,
   "outputs": [],
   "source": [
    "ml_1m_path = '../../../datasets/ml-1m'\n",
    "PATH_TO_PROCESSED_DATA = 'processed/'\n",
    "dataAfter = 'preprocessed_data/'\n",
    "dayTime = 86400"
   ],
   "metadata": {
    "collapsed": false
   }
  },
  {
   "cell_type": "code",
   "execution_count": 21,
   "outputs": [],
   "source": [
    "file_path = ml_1m_path + '/ratings.dat'\n",
    "data_ratings = pd.read_csv(file_path, sep='::', engine='python',\n",
    "                   names=['SessionID', 'ItemID', 'Rating', 'Time'], index_col='SessionID').drop('Rating', axis=1, inplace=False)"
   ],
   "metadata": {
    "collapsed": false
   }
  },
  {
   "cell_type": "markdown",
   "source": [
    "## SASRec handling\n",
    "Only use implicit feedback in the sequence of items"
   ],
   "metadata": {
    "collapsed": false
   }
  },
  {
   "cell_type": "code",
   "execution_count": 22,
   "outputs": [
    {
     "data": {
      "text/plain": "           ItemID       Time\nSessionID                   \n1            1193  978300760\n1             661  978302109\n1             914  978301968\n1            3408  978300275\n1            2355  978824291\n...           ...        ...\n6040         1091  956716541\n6040         1094  956704887\n6040          562  956704746\n6040         1096  956715648\n6040         1097  956715569\n\n[1000209 rows x 2 columns]",
      "text/html": "<div>\n<style scoped>\n    .dataframe tbody tr th:only-of-type {\n        vertical-align: middle;\n    }\n\n    .dataframe tbody tr th {\n        vertical-align: top;\n    }\n\n    .dataframe thead th {\n        text-align: right;\n    }\n</style>\n<table border=\"1\" class=\"dataframe\">\n  <thead>\n    <tr style=\"text-align: right;\">\n      <th></th>\n      <th>ItemID</th>\n      <th>Time</th>\n    </tr>\n    <tr>\n      <th>SessionID</th>\n      <th></th>\n      <th></th>\n    </tr>\n  </thead>\n  <tbody>\n    <tr>\n      <th>1</th>\n      <td>1193</td>\n      <td>978300760</td>\n    </tr>\n    <tr>\n      <th>1</th>\n      <td>661</td>\n      <td>978302109</td>\n    </tr>\n    <tr>\n      <th>1</th>\n      <td>914</td>\n      <td>978301968</td>\n    </tr>\n    <tr>\n      <th>1</th>\n      <td>3408</td>\n      <td>978300275</td>\n    </tr>\n    <tr>\n      <th>1</th>\n      <td>2355</td>\n      <td>978824291</td>\n    </tr>\n    <tr>\n      <th>...</th>\n      <td>...</td>\n      <td>...</td>\n    </tr>\n    <tr>\n      <th>6040</th>\n      <td>1091</td>\n      <td>956716541</td>\n    </tr>\n    <tr>\n      <th>6040</th>\n      <td>1094</td>\n      <td>956704887</td>\n    </tr>\n    <tr>\n      <th>6040</th>\n      <td>562</td>\n      <td>956704746</td>\n    </tr>\n    <tr>\n      <th>6040</th>\n      <td>1096</td>\n      <td>956715648</td>\n    </tr>\n    <tr>\n      <th>6040</th>\n      <td>1097</td>\n      <td>956715569</td>\n    </tr>\n  </tbody>\n</table>\n<p>1000209 rows × 2 columns</p>\n</div>"
     },
     "execution_count": 22,
     "metadata": {},
     "output_type": "execute_result"
    }
   ],
   "source": [
    "data_ratings"
   ],
   "metadata": {
    "collapsed": false
   }
  },
  {
   "cell_type": "code",
   "execution_count": 23,
   "outputs": [
    {
     "data": {
      "text/plain": "           ItemID       Time\nSessionID                   \n1            3186  978300019\n1            1721  978300055\n1            1022  978300055\n1            1270  978300055\n1            2340  978300103\n...           ...        ...\n6040         2917  997454429\n6040         1784  997454464\n6040         1921  997454464\n6040          161  997454486\n6040         1221  998315055\n\n[999611 rows x 2 columns]",
      "text/html": "<div>\n<style scoped>\n    .dataframe tbody tr th:only-of-type {\n        vertical-align: middle;\n    }\n\n    .dataframe tbody tr th {\n        vertical-align: top;\n    }\n\n    .dataframe thead th {\n        text-align: right;\n    }\n</style>\n<table border=\"1\" class=\"dataframe\">\n  <thead>\n    <tr style=\"text-align: right;\">\n      <th></th>\n      <th>ItemID</th>\n      <th>Time</th>\n    </tr>\n    <tr>\n      <th>SessionID</th>\n      <th></th>\n      <th></th>\n    </tr>\n  </thead>\n  <tbody>\n    <tr>\n      <th>1</th>\n      <td>3186</td>\n      <td>978300019</td>\n    </tr>\n    <tr>\n      <th>1</th>\n      <td>1721</td>\n      <td>978300055</td>\n    </tr>\n    <tr>\n      <th>1</th>\n      <td>1022</td>\n      <td>978300055</td>\n    </tr>\n    <tr>\n      <th>1</th>\n      <td>1270</td>\n      <td>978300055</td>\n    </tr>\n    <tr>\n      <th>1</th>\n      <td>2340</td>\n      <td>978300103</td>\n    </tr>\n    <tr>\n      <th>...</th>\n      <td>...</td>\n      <td>...</td>\n    </tr>\n    <tr>\n      <th>6040</th>\n      <td>2917</td>\n      <td>997454429</td>\n    </tr>\n    <tr>\n      <th>6040</th>\n      <td>1784</td>\n      <td>997454464</td>\n    </tr>\n    <tr>\n      <th>6040</th>\n      <td>1921</td>\n      <td>997454464</td>\n    </tr>\n    <tr>\n      <th>6040</th>\n      <td>161</td>\n      <td>997454486</td>\n    </tr>\n    <tr>\n      <th>6040</th>\n      <td>1221</td>\n      <td>998315055</td>\n    </tr>\n  </tbody>\n</table>\n<p>999611 rows × 2 columns</p>\n</div>"
     },
     "execution_count": 23,
     "metadata": {},
     "output_type": "execute_result"
    }
   ],
   "source": [
    "actions = data_ratings\n",
    "actions = actions.groupby('ItemID').filter(lambda  x: len(x) >= 5)\n",
    "actions = actions.groupby('SessionID').filter(lambda  x: len(x) >= 5)\n",
    "actions = actions.groupby('SessionID', group_keys=False).apply(lambda  x: x.sort_values('Time'))\n",
    "# We discard users and items with fewer than 5 related actions.\n",
    "actions"
   ],
   "metadata": {
    "collapsed": false
   }
  },
  {
   "cell_type": "code",
   "execution_count": 24,
   "outputs": [],
   "source": [
    "cols = actions.columns.tolist()  # get a list of all the columns\n",
    "b, c = cols.index('ItemID'), cols.index('Time')  # get the index of columns 'B' and 'C'\n",
    "cols[b], cols[c] = cols[c], cols[b]  # swap the columns\n",
    "actions = actions[cols]\n",
    "# swap the Time and ItemID columns"
   ],
   "metadata": {
    "collapsed": false
   }
  },
  {
   "cell_type": "code",
   "execution_count": 25,
   "outputs": [],
   "source": [
    "usermap = dict()\n",
    "usernum = 0\n",
    "itemmap = dict()\n",
    "itemnum = 0\n",
    "# reorder the userid and itemid (keep the same step with original SASRec code)\n",
    "for _id, row in actions.iterrows():\n",
    "    if _id in usermap:\n",
    "        userid = usermap[_id]\n",
    "    else:\n",
    "        usernum += 1\n",
    "        userid = usernum\n",
    "        usermap[_id] = userid\n",
    "\n",
    "    if row.ItemID in itemmap:\n",
    "        itemid = itemmap[row.ItemID]\n",
    "    else:\n",
    "        itemnum += 1\n",
    "        itemid = itemnum\n",
    "        itemmap[row.ItemID] = itemid"
   ],
   "metadata": {
    "collapsed": false
   }
  },
  {
   "cell_type": "code",
   "execution_count": 26,
   "outputs": [],
   "source": [
    "actions['ItemID'] = actions['ItemID'].map(itemmap)\n",
    "actions.index = actions.index.map(usermap)\n",
    "# data['Occupation'] = data['Occupation'].map(occupation_map)"
   ],
   "metadata": {
    "collapsed": false
   }
  },
  {
   "cell_type": "code",
   "execution_count": 27,
   "outputs": [
    {
     "data": {
      "text/plain": "6040"
     },
     "execution_count": 27,
     "metadata": {},
     "output_type": "execute_result"
    }
   ],
   "source": [
    "actions.index.nunique()"
   ],
   "metadata": {
    "collapsed": false
   }
  },
  {
   "cell_type": "code",
   "execution_count": 28,
   "outputs": [],
   "source": [
    "Train = actions.groupby('SessionID', group_keys=False).apply(lambda x: x.iloc[:-2])\n",
    "Valid = actions.groupby('SessionID', group_keys=False).apply(lambda x: x.iloc[:-1])\n",
    "Test = actions\n",
    "# Test = actions.groupby('SessionID', group_keys=False)"
   ],
   "metadata": {
    "collapsed": false
   }
  },
  {
   "cell_type": "code",
   "execution_count": 29,
   "outputs": [
    {
     "data": {
      "text/plain": "                Time  ItemID\nSessionID                   \n1          978300019       1\n1          978300055       2\n1          978300055       3\n1          978300055       4\n1          978300103       5\n...              ...     ...\n6040       997454429    1249\n6040       997454464      88\n6040       997454464     371\n6040       997454486     464\n6040       998315055     431\n\n[999611 rows x 2 columns]",
      "text/html": "<div>\n<style scoped>\n    .dataframe tbody tr th:only-of-type {\n        vertical-align: middle;\n    }\n\n    .dataframe tbody tr th {\n        vertical-align: top;\n    }\n\n    .dataframe thead th {\n        text-align: right;\n    }\n</style>\n<table border=\"1\" class=\"dataframe\">\n  <thead>\n    <tr style=\"text-align: right;\">\n      <th></th>\n      <th>Time</th>\n      <th>ItemID</th>\n    </tr>\n    <tr>\n      <th>SessionID</th>\n      <th></th>\n      <th></th>\n    </tr>\n  </thead>\n  <tbody>\n    <tr>\n      <th>1</th>\n      <td>978300019</td>\n      <td>1</td>\n    </tr>\n    <tr>\n      <th>1</th>\n      <td>978300055</td>\n      <td>2</td>\n    </tr>\n    <tr>\n      <th>1</th>\n      <td>978300055</td>\n      <td>3</td>\n    </tr>\n    <tr>\n      <th>1</th>\n      <td>978300055</td>\n      <td>4</td>\n    </tr>\n    <tr>\n      <th>1</th>\n      <td>978300103</td>\n      <td>5</td>\n    </tr>\n    <tr>\n      <th>...</th>\n      <td>...</td>\n      <td>...</td>\n    </tr>\n    <tr>\n      <th>6040</th>\n      <td>997454429</td>\n      <td>1249</td>\n    </tr>\n    <tr>\n      <th>6040</th>\n      <td>997454464</td>\n      <td>88</td>\n    </tr>\n    <tr>\n      <th>6040</th>\n      <td>997454464</td>\n      <td>371</td>\n    </tr>\n    <tr>\n      <th>6040</th>\n      <td>997454486</td>\n      <td>464</td>\n    </tr>\n    <tr>\n      <th>6040</th>\n      <td>998315055</td>\n      <td>431</td>\n    </tr>\n  </tbody>\n</table>\n<p>999611 rows × 2 columns</p>\n</div>"
     },
     "execution_count": 29,
     "metadata": {},
     "output_type": "execute_result"
    }
   ],
   "source": [
    "actions"
   ],
   "metadata": {
    "collapsed": false
   }
  },
  {
   "cell_type": "code",
   "execution_count": 30,
   "outputs": [],
   "source": [
    "Train.to_csv(dataAfter + 'ml-1m-Train_SAS.txt', sep=',', index=True)\n",
    "Valid.to_csv(dataAfter + 'ml-1m-Valid_SAS.txt', sep=',', index=True)\n",
    "Test.to_csv(dataAfter + 'ml-1m-Test_SAS.txt', sep=',', index=True)"
   ],
   "metadata": {
    "collapsed": false
   }
  }
 ],
 "metadata": {
  "kernelspec": {
   "display_name": "Python 3",
   "language": "python",
   "name": "python3"
  },
  "language_info": {
   "codemirror_mode": {
    "name": "ipython",
    "version": 2
   },
   "file_extension": ".py",
   "mimetype": "text/x-python",
   "name": "python",
   "nbconvert_exporter": "python",
   "pygments_lexer": "ipython2",
   "version": "2.7.6"
  }
 },
 "nbformat": 4,
 "nbformat_minor": 0
}
