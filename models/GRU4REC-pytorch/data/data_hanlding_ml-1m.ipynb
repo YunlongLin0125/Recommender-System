{
 "cells": [
  {
   "cell_type": "code",
   "execution_count": 65,
   "metadata": {
    "collapsed": true
   },
   "outputs": [],
   "source": [
    "from collections import defaultdict\n",
    "from datetime import datetime\n",
    "import torch\n",
    "import numpy as np\n",
    "import pandas as pd\n",
    "from datetime import datetime"
   ]
  },
  {
   "cell_type": "code",
   "execution_count": 40,
   "outputs": [],
   "source": [
    "m1_1m_path = '../../../datasets/ml-1m'\n",
    "PATH_TO_PROCESSED_DATA = 'processed/'\n"
   ],
   "metadata": {
    "collapsed": false
   }
  },
  {
   "cell_type": "code",
   "execution_count": 23,
   "outputs": [],
   "source": [
    "file_path = m1_1m_path + '/ratings.dat'\n",
    "\n",
    "data_ratings = pd.read_csv(file_path, sep='::', engine='python',\n",
    "                   names=['SessionID', 'ItemID', 'Rating', 'Time'], index_col='SessionID').drop('Rating', axis=1, inplace=False)"
   ],
   "metadata": {
    "collapsed": false
   }
  },
  {
   "cell_type": "code",
   "execution_count": 27,
   "outputs": [
    {
     "data": {
      "text/plain": "           ItemID       Time\nSessionID                   \n1            1193  978300760\n1             661  978302109\n1             914  978301968\n1            3408  978300275\n1            2355  978824291\n...           ...        ...\n6040         1091  956716541\n6040         1094  956704887\n6040          562  956704746\n6040         1096  956715648\n6040         1097  956715569\n\n[1000209 rows x 2 columns]",
      "text/html": "<div>\n<style scoped>\n    .dataframe tbody tr th:only-of-type {\n        vertical-align: middle;\n    }\n\n    .dataframe tbody tr th {\n        vertical-align: top;\n    }\n\n    .dataframe thead th {\n        text-align: right;\n    }\n</style>\n<table border=\"1\" class=\"dataframe\">\n  <thead>\n    <tr style=\"text-align: right;\">\n      <th></th>\n      <th>ItemID</th>\n      <th>Time</th>\n    </tr>\n    <tr>\n      <th>SessionID</th>\n      <th></th>\n      <th></th>\n    </tr>\n  </thead>\n  <tbody>\n    <tr>\n      <th>1</th>\n      <td>1193</td>\n      <td>978300760</td>\n    </tr>\n    <tr>\n      <th>1</th>\n      <td>661</td>\n      <td>978302109</td>\n    </tr>\n    <tr>\n      <th>1</th>\n      <td>914</td>\n      <td>978301968</td>\n    </tr>\n    <tr>\n      <th>1</th>\n      <td>3408</td>\n      <td>978300275</td>\n    </tr>\n    <tr>\n      <th>1</th>\n      <td>2355</td>\n      <td>978824291</td>\n    </tr>\n    <tr>\n      <th>...</th>\n      <td>...</td>\n      <td>...</td>\n    </tr>\n    <tr>\n      <th>6040</th>\n      <td>1091</td>\n      <td>956716541</td>\n    </tr>\n    <tr>\n      <th>6040</th>\n      <td>1094</td>\n      <td>956704887</td>\n    </tr>\n    <tr>\n      <th>6040</th>\n      <td>562</td>\n      <td>956704746</td>\n    </tr>\n    <tr>\n      <th>6040</th>\n      <td>1096</td>\n      <td>956715648</td>\n    </tr>\n    <tr>\n      <th>6040</th>\n      <td>1097</td>\n      <td>956715569</td>\n    </tr>\n  </tbody>\n</table>\n<p>1000209 rows × 2 columns</p>\n</div>"
     },
     "execution_count": 27,
     "metadata": {},
     "output_type": "execute_result"
    }
   ],
   "source": [
    "data_ratings"
   ],
   "metadata": {
    "collapsed": false
   }
  },
  {
   "cell_type": "code",
   "execution_count": 30,
   "outputs": [
    {
     "data": {
      "text/plain": "6040"
     },
     "execution_count": 30,
     "metadata": {},
     "output_type": "execute_result"
    }
   ],
   "source": [
    "len(set(data_ratings.index))"
   ],
   "metadata": {
    "collapsed": false
   }
  },
  {
   "cell_type": "markdown",
   "source": [
    "# SASRec Handling"
   ],
   "metadata": {
    "collapsed": false
   }
  },
  {
   "cell_type": "code",
   "execution_count": 58,
   "outputs": [
    {
     "name": "stderr",
     "output_type": "stream",
     "text": [
      "C:\\Users\\Yunlong\\AppData\\Local\\Temp\\ipykernel_15864\\1495072793.py:5: FutureWarning: Not prepending group keys to the result index of transform-like apply. In the future, the group keys will be included in the index, regardless of whether the applied function returns a like-indexed object.\n",
      "To preserve the previous behavior, use\n",
      "\n",
      "\t>>> .groupby(..., group_keys=False)\n",
      "\n",
      "To adopt the future behavior and silence this warning, use \n",
      "\n",
      "\t>>> .groupby(..., group_keys=True)\n",
      "  order_ratings = order_ratings.groupby('SessionID').apply(lambda  x: x.sort_values('Time'))\n"
     ]
    }
   ],
   "source": [
    "order_ratings = data_ratings\n",
    "# session_lengths>1\n",
    "order_ratings = order_ratings.groupby('ItemID').filter(lambda  x: len(x) >= 5)\n",
    "order_ratings = order_ratings.groupby('SessionID').filter(lambda  x: len(x) >= 2)\n",
    "order_ratings = order_ratings.groupby('SessionID').apply(lambda  x: x.sort_values('Time'))\n",
    "train_tr = order_ratings.groupby('SessionID').apply(lambda x: x.iloc[:-2]).reset_index(level=0, drop=True).reindex(columns=['Time', 'ItemID'])\n",
    "valid = order_ratings.groupby('SessionID').apply(lambda x: x.iloc[:-1]).reset_index(level=0, drop=True).reindex(columns=['Time', 'ItemID'])\n",
    "test = order_ratings.reindex(columns=['Time', 'ItemID'])"
   ],
   "metadata": {
    "collapsed": false
   }
  },
  {
   "cell_type": "code",
   "execution_count": 60,
   "outputs": [],
   "source": [
    "train_tr.to_csv(PATH_TO_PROCESSED_DATA + 'ml-1m_train_tr.txt', sep=',', index=True)\n",
    "valid.to_csv(PATH_TO_PROCESSED_DATA + 'ml-1m_train_valid.txt', sep=',', index=True)\n",
    "test.to_csv(PATH_TO_PROCESSED_DATA + 'ml-1m_test.txt', sep=',', index=True)"
   ],
   "metadata": {
    "collapsed": false
   }
  },
  {
   "cell_type": "code",
   "execution_count": 57,
   "outputs": [
    {
     "data": {
      "text/plain": "                Time  ItemID\nSessionID                   \n1          978300019    3186\n1          978300055    1721\n1          978300055    1022\n1          978300055    1270\n1          978300103    2340\n...              ...     ...\n6040       997454367    3671\n6040       997454398     232\n6040       997454429    2917\n6040       997454464    1784\n6040       997454464    1921\n\n[987531 rows x 2 columns]",
      "text/html": "<div>\n<style scoped>\n    .dataframe tbody tr th:only-of-type {\n        vertical-align: middle;\n    }\n\n    .dataframe tbody tr th {\n        vertical-align: top;\n    }\n\n    .dataframe thead th {\n        text-align: right;\n    }\n</style>\n<table border=\"1\" class=\"dataframe\">\n  <thead>\n    <tr style=\"text-align: right;\">\n      <th></th>\n      <th>Time</th>\n      <th>ItemID</th>\n    </tr>\n    <tr>\n      <th>SessionID</th>\n      <th></th>\n      <th></th>\n    </tr>\n  </thead>\n  <tbody>\n    <tr>\n      <th>1</th>\n      <td>978300019</td>\n      <td>3186</td>\n    </tr>\n    <tr>\n      <th>1</th>\n      <td>978300055</td>\n      <td>1721</td>\n    </tr>\n    <tr>\n      <th>1</th>\n      <td>978300055</td>\n      <td>1022</td>\n    </tr>\n    <tr>\n      <th>1</th>\n      <td>978300055</td>\n      <td>1270</td>\n    </tr>\n    <tr>\n      <th>1</th>\n      <td>978300103</td>\n      <td>2340</td>\n    </tr>\n    <tr>\n      <th>...</th>\n      <td>...</td>\n      <td>...</td>\n    </tr>\n    <tr>\n      <th>6040</th>\n      <td>997454367</td>\n      <td>3671</td>\n    </tr>\n    <tr>\n      <th>6040</th>\n      <td>997454398</td>\n      <td>232</td>\n    </tr>\n    <tr>\n      <th>6040</th>\n      <td>997454429</td>\n      <td>2917</td>\n    </tr>\n    <tr>\n      <th>6040</th>\n      <td>997454464</td>\n      <td>1784</td>\n    </tr>\n    <tr>\n      <th>6040</th>\n      <td>997454464</td>\n      <td>1921</td>\n    </tr>\n  </tbody>\n</table>\n<p>987531 rows × 2 columns</p>\n</div>"
     },
     "execution_count": 57,
     "metadata": {},
     "output_type": "execute_result"
    }
   ],
   "source": [
    "train_tr.reindex(columns=['Time', 'ItemID'])"
   ],
   "metadata": {
    "collapsed": false
   }
  },
  {
   "cell_type": "code",
   "execution_count": 48,
   "outputs": [
    {
     "data": {
      "text/plain": "           ItemID       Time\nSessionID                   \n1            3186  978300019\n1            1721  978300055\n1            1022  978300055\n1            1270  978300055\n1            2340  978300103\n...           ...        ...\n6040         3671  997454367\n6040          232  997454398\n6040         2917  997454429\n6040         1784  997454464\n6040         1921  997454464\n\n[987531 rows x 2 columns]",
      "text/html": "<div>\n<style scoped>\n    .dataframe tbody tr th:only-of-type {\n        vertical-align: middle;\n    }\n\n    .dataframe tbody tr th {\n        vertical-align: top;\n    }\n\n    .dataframe thead th {\n        text-align: right;\n    }\n</style>\n<table border=\"1\" class=\"dataframe\">\n  <thead>\n    <tr style=\"text-align: right;\">\n      <th></th>\n      <th>ItemID</th>\n      <th>Time</th>\n    </tr>\n    <tr>\n      <th>SessionID</th>\n      <th></th>\n      <th></th>\n    </tr>\n  </thead>\n  <tbody>\n    <tr>\n      <th>1</th>\n      <td>3186</td>\n      <td>978300019</td>\n    </tr>\n    <tr>\n      <th>1</th>\n      <td>1721</td>\n      <td>978300055</td>\n    </tr>\n    <tr>\n      <th>1</th>\n      <td>1022</td>\n      <td>978300055</td>\n    </tr>\n    <tr>\n      <th>1</th>\n      <td>1270</td>\n      <td>978300055</td>\n    </tr>\n    <tr>\n      <th>1</th>\n      <td>2340</td>\n      <td>978300103</td>\n    </tr>\n    <tr>\n      <th>...</th>\n      <td>...</td>\n      <td>...</td>\n    </tr>\n    <tr>\n      <th>6040</th>\n      <td>3671</td>\n      <td>997454367</td>\n    </tr>\n    <tr>\n      <th>6040</th>\n      <td>232</td>\n      <td>997454398</td>\n    </tr>\n    <tr>\n      <th>6040</th>\n      <td>2917</td>\n      <td>997454429</td>\n    </tr>\n    <tr>\n      <th>6040</th>\n      <td>1784</td>\n      <td>997454464</td>\n    </tr>\n    <tr>\n      <th>6040</th>\n      <td>1921</td>\n      <td>997454464</td>\n    </tr>\n  </tbody>\n</table>\n<p>987531 rows × 2 columns</p>\n</div>"
     },
     "execution_count": 48,
     "metadata": {},
     "output_type": "execute_result"
    }
   ],
   "source": [
    "train_tr"
   ],
   "metadata": {
    "collapsed": false
   }
  },
  {
   "cell_type": "code",
   "execution_count": 49,
   "outputs": [
    {
     "data": {
      "text/plain": "           ItemID       Time\nSessionID                   \n1            3186  978300019\n1            1721  978300055\n1            1022  978300055\n1            1270  978300055\n1            2340  978300103\n...           ...        ...\n6040          232  997454398\n6040         2917  997454429\n6040         1784  997454464\n6040         1921  997454464\n6040          161  997454486\n\n[993571 rows x 2 columns]",
      "text/html": "<div>\n<style scoped>\n    .dataframe tbody tr th:only-of-type {\n        vertical-align: middle;\n    }\n\n    .dataframe tbody tr th {\n        vertical-align: top;\n    }\n\n    .dataframe thead th {\n        text-align: right;\n    }\n</style>\n<table border=\"1\" class=\"dataframe\">\n  <thead>\n    <tr style=\"text-align: right;\">\n      <th></th>\n      <th>ItemID</th>\n      <th>Time</th>\n    </tr>\n    <tr>\n      <th>SessionID</th>\n      <th></th>\n      <th></th>\n    </tr>\n  </thead>\n  <tbody>\n    <tr>\n      <th>1</th>\n      <td>3186</td>\n      <td>978300019</td>\n    </tr>\n    <tr>\n      <th>1</th>\n      <td>1721</td>\n      <td>978300055</td>\n    </tr>\n    <tr>\n      <th>1</th>\n      <td>1022</td>\n      <td>978300055</td>\n    </tr>\n    <tr>\n      <th>1</th>\n      <td>1270</td>\n      <td>978300055</td>\n    </tr>\n    <tr>\n      <th>1</th>\n      <td>2340</td>\n      <td>978300103</td>\n    </tr>\n    <tr>\n      <th>...</th>\n      <td>...</td>\n      <td>...</td>\n    </tr>\n    <tr>\n      <th>6040</th>\n      <td>232</td>\n      <td>997454398</td>\n    </tr>\n    <tr>\n      <th>6040</th>\n      <td>2917</td>\n      <td>997454429</td>\n    </tr>\n    <tr>\n      <th>6040</th>\n      <td>1784</td>\n      <td>997454464</td>\n    </tr>\n    <tr>\n      <th>6040</th>\n      <td>1921</td>\n      <td>997454464</td>\n    </tr>\n    <tr>\n      <th>6040</th>\n      <td>161</td>\n      <td>997454486</td>\n    </tr>\n  </tbody>\n</table>\n<p>993571 rows × 2 columns</p>\n</div>"
     },
     "execution_count": 49,
     "metadata": {},
     "output_type": "execute_result"
    }
   ],
   "source": [
    "valid"
   ],
   "metadata": {
    "collapsed": false
   }
  },
  {
   "cell_type": "code",
   "execution_count": 50,
   "outputs": [
    {
     "data": {
      "text/plain": "           ItemID       Time\nSessionID                   \n1            3186  978300019\n1            1721  978300055\n1            1022  978300055\n1            1270  978300055\n1            2340  978300103\n...           ...        ...\n6040         2917  997454429\n6040         1784  997454464\n6040         1921  997454464\n6040          161  997454486\n6040         1221  998315055\n\n[999611 rows x 2 columns]",
      "text/html": "<div>\n<style scoped>\n    .dataframe tbody tr th:only-of-type {\n        vertical-align: middle;\n    }\n\n    .dataframe tbody tr th {\n        vertical-align: top;\n    }\n\n    .dataframe thead th {\n        text-align: right;\n    }\n</style>\n<table border=\"1\" class=\"dataframe\">\n  <thead>\n    <tr style=\"text-align: right;\">\n      <th></th>\n      <th>ItemID</th>\n      <th>Time</th>\n    </tr>\n    <tr>\n      <th>SessionID</th>\n      <th></th>\n      <th></th>\n    </tr>\n  </thead>\n  <tbody>\n    <tr>\n      <th>1</th>\n      <td>3186</td>\n      <td>978300019</td>\n    </tr>\n    <tr>\n      <th>1</th>\n      <td>1721</td>\n      <td>978300055</td>\n    </tr>\n    <tr>\n      <th>1</th>\n      <td>1022</td>\n      <td>978300055</td>\n    </tr>\n    <tr>\n      <th>1</th>\n      <td>1270</td>\n      <td>978300055</td>\n    </tr>\n    <tr>\n      <th>1</th>\n      <td>2340</td>\n      <td>978300103</td>\n    </tr>\n    <tr>\n      <th>...</th>\n      <td>...</td>\n      <td>...</td>\n    </tr>\n    <tr>\n      <th>6040</th>\n      <td>2917</td>\n      <td>997454429</td>\n    </tr>\n    <tr>\n      <th>6040</th>\n      <td>1784</td>\n      <td>997454464</td>\n    </tr>\n    <tr>\n      <th>6040</th>\n      <td>1921</td>\n      <td>997454464</td>\n    </tr>\n    <tr>\n      <th>6040</th>\n      <td>161</td>\n      <td>997454486</td>\n    </tr>\n    <tr>\n      <th>6040</th>\n      <td>1221</td>\n      <td>998315055</td>\n    </tr>\n  </tbody>\n</table>\n<p>999611 rows × 2 columns</p>\n</div>"
     },
     "execution_count": 50,
     "metadata": {},
     "output_type": "execute_result"
    }
   ],
   "source": [
    "test"
   ],
   "metadata": {
    "collapsed": false
   }
  },
  {
   "cell_type": "markdown",
   "source": [
    "# GRU4Rec handling\n"
   ],
   "metadata": {
    "collapsed": false
   }
  },
  {
   "cell_type": "code",
   "execution_count": 14,
   "outputs": [
    {
     "name": "stderr",
     "output_type": "stream",
     "text": [
      "C:\\Users\\Yunlong\\AppData\\Local\\Temp\\ipykernel_15864\\3072087427.py:6: FutureWarning: Not prepending group keys to the result index of transform-like apply. In the future, the group keys will be included in the index, regardless of whether the applied function returns a like-indexed object.\n",
      "To preserve the previous behavior, use\n",
      "\n",
      "\t>>> .groupby(..., group_keys=False)\n",
      "\n",
      "To adopt the future behavior and silence this warning, use \n",
      "\n",
      "\t>>> .groupby(..., group_keys=True)\n",
      "  order_ratings = order_ratings.groupby('SessionID').apply(lambda  x: x.sort_values('Time'))\n"
     ]
    },
    {
     "data": {
      "text/plain": "           ItemID       Time\nSessionID                   \n1            3186  978300019\n1            1721  978300055\n1            1022  978300055\n1            1270  978300055\n1            2340  978300103\n...           ...        ...\n6040         2917  997454429\n6040         1784  997454464\n6040         1921  997454464\n6040          161  997454486\n6040         1221  998315055\n\n[999611 rows x 2 columns]",
      "text/html": "<div>\n<style scoped>\n    .dataframe tbody tr th:only-of-type {\n        vertical-align: middle;\n    }\n\n    .dataframe tbody tr th {\n        vertical-align: top;\n    }\n\n    .dataframe thead th {\n        text-align: right;\n    }\n</style>\n<table border=\"1\" class=\"dataframe\">\n  <thead>\n    <tr style=\"text-align: right;\">\n      <th></th>\n      <th>ItemID</th>\n      <th>Time</th>\n    </tr>\n    <tr>\n      <th>SessionID</th>\n      <th></th>\n      <th></th>\n    </tr>\n  </thead>\n  <tbody>\n    <tr>\n      <th>1</th>\n      <td>3186</td>\n      <td>978300019</td>\n    </tr>\n    <tr>\n      <th>1</th>\n      <td>1721</td>\n      <td>978300055</td>\n    </tr>\n    <tr>\n      <th>1</th>\n      <td>1022</td>\n      <td>978300055</td>\n    </tr>\n    <tr>\n      <th>1</th>\n      <td>1270</td>\n      <td>978300055</td>\n    </tr>\n    <tr>\n      <th>1</th>\n      <td>2340</td>\n      <td>978300103</td>\n    </tr>\n    <tr>\n      <th>...</th>\n      <td>...</td>\n      <td>...</td>\n    </tr>\n    <tr>\n      <th>6040</th>\n      <td>2917</td>\n      <td>997454429</td>\n    </tr>\n    <tr>\n      <th>6040</th>\n      <td>1784</td>\n      <td>997454464</td>\n    </tr>\n    <tr>\n      <th>6040</th>\n      <td>1921</td>\n      <td>997454464</td>\n    </tr>\n    <tr>\n      <th>6040</th>\n      <td>161</td>\n      <td>997454486</td>\n    </tr>\n    <tr>\n      <th>6040</th>\n      <td>1221</td>\n      <td>998315055</td>\n    </tr>\n  </tbody>\n</table>\n<p>999611 rows × 2 columns</p>\n</div>"
     },
     "execution_count": 14,
     "metadata": {},
     "output_type": "execute_result"
    }
   ],
   "source": [
    "order_ratings = data_ratings\n",
    "# session_lengths>1\n",
    "order_ratings = order_ratings.groupby('SessionID').filter(lambda  x: len(x) > 1)\n",
    "order_ratings = order_ratings.groupby('ItemID').filter(lambda  x: len(x) >= 5)\n",
    "order_ratings = order_ratings.groupby('SessionID').filter(lambda  x: len(x) >= 2)\n",
    "order_ratings = order_ratings.groupby('SessionID').apply(lambda  x: x.sort_values('Time'))\n",
    "# We discard users and items with fewer than 5 related actions.\n",
    "order_ratings"
   ],
   "metadata": {
    "collapsed": false
   }
  },
  {
   "cell_type": "code",
   "execution_count": 15,
   "outputs": [
    {
     "data": {
      "text/plain": "6040"
     },
     "execution_count": 15,
     "metadata": {},
     "output_type": "execute_result"
    }
   ],
   "source": [
    "len(set(order_ratings.index))"
   ],
   "metadata": {
    "collapsed": false
   }
  },
  {
   "cell_type": "code",
   "execution_count": 16,
   "outputs": [
    {
     "data": {
      "text/plain": "(6035, 914, 932987, 66579)"
     },
     "execution_count": 16,
     "metadata": {},
     "output_type": "execute_result"
    }
   ],
   "source": [
    "tmax = order_ratings.Time.max()\n",
    "interval = 86400 * 30 * 12 * 2\n",
    "split_point_1 = tmax - interval\n",
    "session_train = order_ratings[order_ratings['Time'] <= split_point_1]\n",
    "session_test = order_ratings[order_ratings['Time'] > split_point_1]\n",
    "session_test = session_test.groupby('SessionID').filter(lambda  x: len(x) >= 2)\n",
    "len(set(session_train.index)), len(set(session_test.index)), len(session_train), len(session_test)"
   ],
   "metadata": {
    "collapsed": false
   }
  },
  {
   "cell_type": "code",
   "execution_count": 17,
   "outputs": [],
   "source": [
    "# train = session_train.reset_index().rename(columns={'index': 'SessionID'})\n",
    "# train"
   ],
   "metadata": {
    "collapsed": false
   }
  },
  {
   "cell_type": "code",
   "execution_count": 18,
   "outputs": [
    {
     "name": "stdout",
     "output_type": "stream",
     "text": [
      "Full train set\n",
      "\tEvents: 932987\n",
      "\tSessions: 6035\n",
      "\tItems: 3414\n",
      "Test set\n",
      "\tEvents: 66579\n",
      "\tSessions: 914\n",
      "\tItems: 3246\n"
     ]
    }
   ],
   "source": [
    "train = session_train\n",
    "test = session_test\n",
    "print('Full train set\\n\\tEvents: {}\\n\\tSessions: {}\\n\\tItems: {}'.format(len(train), train.index.nunique(), train.ItemID.nunique()))\n",
    "train.to_csv(PATH_TO_PROCESSED_DATA + 'ml-1m_train_full.txt', sep=',', index=True)\n",
    "print('Test set\\n\\tEvents: {}\\n\\tSessions: {}\\n\\tItems: {}'.format(len(test), test.index.nunique(), test.ItemID.nunique()))\n",
    "test.to_csv(PATH_TO_PROCESSED_DATA + 'ml-1m_test.txt', sep=',', index=True)"
   ],
   "metadata": {
    "collapsed": false
   }
  },
  {
   "cell_type": "code",
   "execution_count": 19,
   "outputs": [
    {
     "name": "stdout",
     "output_type": "stream",
     "text": [
      "Train set\n",
      "\tEvents: 850937\n",
      "\tSessions: 5719\n",
      "\tItems: 3411\n",
      "Validation set\n",
      "\tEvents: 81984\n",
      "\tSessions: 1100\n",
      "\tItems: 3239\n"
     ]
    }
   ],
   "source": [
    "tmax = train.Time.max()\n",
    "interval = 86400 * 30 * 3\n",
    "split_point_2 = tmax - interval\n",
    "session_train = train[train['Time'] <= split_point_2]\n",
    "session_val = train[train['Time'] > split_point_2]\n",
    "train_tr = session_train\n",
    "valid = session_val\n",
    "valid = valid.groupby('SessionID').filter(lambda  x: len(x) >= 2)\n",
    "print('Train set\\n\\tEvents: {}\\n\\tSessions: {}\\n\\tItems: {}'.format(len(train_tr), train_tr.index.nunique(), train_tr.ItemID.nunique()))\n",
    "train_tr.to_csv(PATH_TO_PROCESSED_DATA + 'ml-1m_train_tr.txt', sep=',', index=True)\n",
    "print('Validation set\\n\\tEvents: {}\\n\\tSessions: {}\\n\\tItems: {}'.format(len(valid), valid.index.nunique(), valid.ItemID.nunique()))\n",
    "valid.to_csv(PATH_TO_PROCESSED_DATA + 'ml-1m_train_valid.txt', sep=',', index=True)x"
   ],
   "metadata": {
    "collapsed": false
   }
  },
  {
   "cell_type": "code",
   "execution_count": 62,
   "outputs": [
    {
     "name": "stderr",
     "output_type": "stream",
     "text": [
      "C:\\Users\\Yunlong\\AppData\\Local\\Temp\\ipykernel_15864\\422227443.py:2: ParserWarning: Falling back to the 'python' engine because the 'c' engine does not support regex separators (separators > 1 char and different from '\\s+' are interpreted as regex); you can avoid this warning by specifying engine='python'.\n",
      "  train = pd.read_csv(dataBefore, sep='::', header=None, usecols=[0, 1, 2], dtype={0: np.int32, 1: str, 2: np.int64})\n"
     ]
    }
   ],
   "source": [
    "dataBefore = 'C:\\\\Users\\\\Yunlong\\\\Desktop\\\\Recommender-System\\\\datasets\\\\ml-1m\\\\ratings.dat'\n",
    "train = pd.read_csv(dataBefore, sep='::', header=None, usecols=[0, 1, 2], dtype={0: np.int32, 1: str, 2: np.int64})"
   ],
   "metadata": {
    "collapsed": false
   }
  },
  {
   "cell_type": "code",
   "execution_count": 63,
   "outputs": [
    {
     "data": {
      "text/plain": "            0     1  2\n0           1  1193  5\n1           1   661  3\n2           1   914  3\n3           1  3408  4\n4           1  2355  5\n...       ...   ... ..\n1000204  6040  1091  1\n1000205  6040  1094  5\n1000206  6040   562  5\n1000207  6040  1096  4\n1000208  6040  1097  4\n\n[1000209 rows x 3 columns]",
      "text/html": "<div>\n<style scoped>\n    .dataframe tbody tr th:only-of-type {\n        vertical-align: middle;\n    }\n\n    .dataframe tbody tr th {\n        vertical-align: top;\n    }\n\n    .dataframe thead th {\n        text-align: right;\n    }\n</style>\n<table border=\"1\" class=\"dataframe\">\n  <thead>\n    <tr style=\"text-align: right;\">\n      <th></th>\n      <th>0</th>\n      <th>1</th>\n      <th>2</th>\n    </tr>\n  </thead>\n  <tbody>\n    <tr>\n      <th>0</th>\n      <td>1</td>\n      <td>1193</td>\n      <td>5</td>\n    </tr>\n    <tr>\n      <th>1</th>\n      <td>1</td>\n      <td>661</td>\n      <td>3</td>\n    </tr>\n    <tr>\n      <th>2</th>\n      <td>1</td>\n      <td>914</td>\n      <td>3</td>\n    </tr>\n    <tr>\n      <th>3</th>\n      <td>1</td>\n      <td>3408</td>\n      <td>4</td>\n    </tr>\n    <tr>\n      <th>4</th>\n      <td>1</td>\n      <td>2355</td>\n      <td>5</td>\n    </tr>\n    <tr>\n      <th>...</th>\n      <td>...</td>\n      <td>...</td>\n      <td>...</td>\n    </tr>\n    <tr>\n      <th>1000204</th>\n      <td>6040</td>\n      <td>1091</td>\n      <td>1</td>\n    </tr>\n    <tr>\n      <th>1000205</th>\n      <td>6040</td>\n      <td>1094</td>\n      <td>5</td>\n    </tr>\n    <tr>\n      <th>1000206</th>\n      <td>6040</td>\n      <td>562</td>\n      <td>5</td>\n    </tr>\n    <tr>\n      <th>1000207</th>\n      <td>6040</td>\n      <td>1096</td>\n      <td>4</td>\n    </tr>\n    <tr>\n      <th>1000208</th>\n      <td>6040</td>\n      <td>1097</td>\n      <td>4</td>\n    </tr>\n  </tbody>\n</table>\n<p>1000209 rows × 3 columns</p>\n</div>"
     },
     "execution_count": 63,
     "metadata": {},
     "output_type": "execute_result"
    }
   ],
   "source": [
    "train"
   ],
   "metadata": {
    "collapsed": false
   }
  }
 ],
 "metadata": {
  "kernelspec": {
   "display_name": "Python 3",
   "language": "python",
   "name": "python3"
  },
  "language_info": {
   "codemirror_mode": {
    "name": "ipython",
    "version": 2
   },
   "file_extension": ".py",
   "mimetype": "text/x-python",
   "name": "python",
   "nbconvert_exporter": "python",
   "pygments_lexer": "ipython2",
   "version": "2.7.6"
  }
 },
 "nbformat": 4,
 "nbformat_minor": 0
}
