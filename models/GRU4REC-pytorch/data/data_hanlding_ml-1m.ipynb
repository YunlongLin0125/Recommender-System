{
 "cells": [
  {
   "cell_type": "code",
   "execution_count": 1,
   "metadata": {
    "collapsed": true
   },
   "outputs": [],
   "source": [
    "from collections import defaultdict\n",
    "from datetime import datetime\n",
    "import torch\n",
    "import numpy as np\n",
    "import pandas as pd\n",
    "from datetime import datetime"
   ]
  },
  {
   "cell_type": "code",
   "execution_count": 14,
   "outputs": [],
   "source": [
    "ml_1m_path = '../../../datasets/ml-1m'\n",
    "PATH_TO_PROCESSED_DATA = 'processed/'\n",
    "dataAfter = 'preprocessed_data/'\n",
    "dayTime = 86400"
   ],
   "metadata": {
    "collapsed": false
   }
  },
  {
   "cell_type": "code",
   "execution_count": 4,
   "outputs": [],
   "source": [
    "file_path = ml_1m_path + '/ratings.dat'\n",
    "data_ratings = pd.read_csv(file_path, sep='::', engine='python',\n",
    "                   names=['SessionID', 'ItemID', 'Rating', 'Time'], index_col='SessionID').drop('Rating', axis=1, inplace=False)"
   ],
   "metadata": {
    "collapsed": false
   }
  },
  {
   "cell_type": "markdown",
   "source": [
    "## SASRec handling\n",
    "Only use implicit feedback in the sequence of items"
   ],
   "metadata": {
    "collapsed": false
   }
  },
  {
   "cell_type": "code",
   "execution_count": 5,
   "outputs": [
    {
     "data": {
      "text/plain": "           ItemID       Time\nSessionID                   \n1            1193  978300760\n1             661  978302109\n1             914  978301968\n1            3408  978300275\n1            2355  978824291\n...           ...        ...\n6040         1091  956716541\n6040         1094  956704887\n6040          562  956704746\n6040         1096  956715648\n6040         1097  956715569\n\n[1000209 rows x 2 columns]",
      "text/html": "<div>\n<style scoped>\n    .dataframe tbody tr th:only-of-type {\n        vertical-align: middle;\n    }\n\n    .dataframe tbody tr th {\n        vertical-align: top;\n    }\n\n    .dataframe thead th {\n        text-align: right;\n    }\n</style>\n<table border=\"1\" class=\"dataframe\">\n  <thead>\n    <tr style=\"text-align: right;\">\n      <th></th>\n      <th>ItemID</th>\n      <th>Time</th>\n    </tr>\n    <tr>\n      <th>SessionID</th>\n      <th></th>\n      <th></th>\n    </tr>\n  </thead>\n  <tbody>\n    <tr>\n      <th>1</th>\n      <td>1193</td>\n      <td>978300760</td>\n    </tr>\n    <tr>\n      <th>1</th>\n      <td>661</td>\n      <td>978302109</td>\n    </tr>\n    <tr>\n      <th>1</th>\n      <td>914</td>\n      <td>978301968</td>\n    </tr>\n    <tr>\n      <th>1</th>\n      <td>3408</td>\n      <td>978300275</td>\n    </tr>\n    <tr>\n      <th>1</th>\n      <td>2355</td>\n      <td>978824291</td>\n    </tr>\n    <tr>\n      <th>...</th>\n      <td>...</td>\n      <td>...</td>\n    </tr>\n    <tr>\n      <th>6040</th>\n      <td>1091</td>\n      <td>956716541</td>\n    </tr>\n    <tr>\n      <th>6040</th>\n      <td>1094</td>\n      <td>956704887</td>\n    </tr>\n    <tr>\n      <th>6040</th>\n      <td>562</td>\n      <td>956704746</td>\n    </tr>\n    <tr>\n      <th>6040</th>\n      <td>1096</td>\n      <td>956715648</td>\n    </tr>\n    <tr>\n      <th>6040</th>\n      <td>1097</td>\n      <td>956715569</td>\n    </tr>\n  </tbody>\n</table>\n<p>1000209 rows × 2 columns</p>\n</div>"
     },
     "execution_count": 5,
     "metadata": {},
     "output_type": "execute_result"
    }
   ],
   "source": [
    "data_ratings"
   ],
   "metadata": {
    "collapsed": false
   }
  },
  {
   "cell_type": "code",
   "execution_count": 6,
   "outputs": [],
   "source": [
    "def removeShortSessions(data):\n",
    "    #delete sessions of length < 1\n",
    "    sessionLen = data.groupby('SessionID').size() #group by sessionID and get size of each session\n",
    "    data = data[np.in1d(data.SessionID, sessionLen[sessionLen > 1].index)]\n",
    "    return data"
   ],
   "metadata": {
    "collapsed": false
   }
  },
  {
   "cell_type": "code",
   "execution_count": 7,
   "outputs": [],
   "source": [
    "actions = data_ratings\n",
    "actions = actions.groupby('SessionID').filter(lambda x: len(x)>=2)\n",
    "actions = actions.groupby('ItemID').filter(lambda  x: len(x)>= 5)\n",
    "# item length > 4\n",
    "actions = actions.groupby('SessionID').filter(lambda x: len(x)>=2)\n",
    "# session_lengths > 1\n",
    "train = actions[(actions.index % 5 != 0)]\n",
    "test = actions[(actions.index % 5 == 0)]"
   ],
   "metadata": {
    "collapsed": false
   }
  },
  {
   "cell_type": "code",
   "execution_count": 8,
   "outputs": [
    {
     "data": {
      "text/plain": "           ItemID       Time\nSessionID                   \n1            1193  978300760\n1             661  978302109\n1             914  978301968\n1            3408  978300275\n1            2355  978824291\n...           ...        ...\n6039         1081  956705989\n6039         1083  956706051\n6039         1086  956706182\n6039         1088  956706019\n6039         1097  956705811\n\n[801145 rows x 2 columns]",
      "text/html": "<div>\n<style scoped>\n    .dataframe tbody tr th:only-of-type {\n        vertical-align: middle;\n    }\n\n    .dataframe tbody tr th {\n        vertical-align: top;\n    }\n\n    .dataframe thead th {\n        text-align: right;\n    }\n</style>\n<table border=\"1\" class=\"dataframe\">\n  <thead>\n    <tr style=\"text-align: right;\">\n      <th></th>\n      <th>ItemID</th>\n      <th>Time</th>\n    </tr>\n    <tr>\n      <th>SessionID</th>\n      <th></th>\n      <th></th>\n    </tr>\n  </thead>\n  <tbody>\n    <tr>\n      <th>1</th>\n      <td>1193</td>\n      <td>978300760</td>\n    </tr>\n    <tr>\n      <th>1</th>\n      <td>661</td>\n      <td>978302109</td>\n    </tr>\n    <tr>\n      <th>1</th>\n      <td>914</td>\n      <td>978301968</td>\n    </tr>\n    <tr>\n      <th>1</th>\n      <td>3408</td>\n      <td>978300275</td>\n    </tr>\n    <tr>\n      <th>1</th>\n      <td>2355</td>\n      <td>978824291</td>\n    </tr>\n    <tr>\n      <th>...</th>\n      <td>...</td>\n      <td>...</td>\n    </tr>\n    <tr>\n      <th>6039</th>\n      <td>1081</td>\n      <td>956705989</td>\n    </tr>\n    <tr>\n      <th>6039</th>\n      <td>1083</td>\n      <td>956706051</td>\n    </tr>\n    <tr>\n      <th>6039</th>\n      <td>1086</td>\n      <td>956706182</td>\n    </tr>\n    <tr>\n      <th>6039</th>\n      <td>1088</td>\n      <td>956706019</td>\n    </tr>\n    <tr>\n      <th>6039</th>\n      <td>1097</td>\n      <td>956705811</td>\n    </tr>\n  </tbody>\n</table>\n<p>801145 rows × 2 columns</p>\n</div>"
     },
     "execution_count": 8,
     "metadata": {},
     "output_type": "execute_result"
    }
   ],
   "source": [
    "train"
   ],
   "metadata": {
    "collapsed": false
   }
  },
  {
   "cell_type": "code",
   "execution_count": 9,
   "outputs": [
    {
     "data": {
      "text/plain": "           ItemID       Time\nSessionID                   \n5            2987  978243170\n5            2333  978242607\n5            1175  978244759\n5              39  978245037\n5             288  978246585\n...           ...        ...\n6040         1091  956716541\n6040         1094  956704887\n6040          562  956704746\n6040         1096  956715648\n6040         1097  956715569\n\n[198466 rows x 2 columns]",
      "text/html": "<div>\n<style scoped>\n    .dataframe tbody tr th:only-of-type {\n        vertical-align: middle;\n    }\n\n    .dataframe tbody tr th {\n        vertical-align: top;\n    }\n\n    .dataframe thead th {\n        text-align: right;\n    }\n</style>\n<table border=\"1\" class=\"dataframe\">\n  <thead>\n    <tr style=\"text-align: right;\">\n      <th></th>\n      <th>ItemID</th>\n      <th>Time</th>\n    </tr>\n    <tr>\n      <th>SessionID</th>\n      <th></th>\n      <th></th>\n    </tr>\n  </thead>\n  <tbody>\n    <tr>\n      <th>5</th>\n      <td>2987</td>\n      <td>978243170</td>\n    </tr>\n    <tr>\n      <th>5</th>\n      <td>2333</td>\n      <td>978242607</td>\n    </tr>\n    <tr>\n      <th>5</th>\n      <td>1175</td>\n      <td>978244759</td>\n    </tr>\n    <tr>\n      <th>5</th>\n      <td>39</td>\n      <td>978245037</td>\n    </tr>\n    <tr>\n      <th>5</th>\n      <td>288</td>\n      <td>978246585</td>\n    </tr>\n    <tr>\n      <th>...</th>\n      <td>...</td>\n      <td>...</td>\n    </tr>\n    <tr>\n      <th>6040</th>\n      <td>1091</td>\n      <td>956716541</td>\n    </tr>\n    <tr>\n      <th>6040</th>\n      <td>1094</td>\n      <td>956704887</td>\n    </tr>\n    <tr>\n      <th>6040</th>\n      <td>562</td>\n      <td>956704746</td>\n    </tr>\n    <tr>\n      <th>6040</th>\n      <td>1096</td>\n      <td>956715648</td>\n    </tr>\n    <tr>\n      <th>6040</th>\n      <td>1097</td>\n      <td>956715569</td>\n    </tr>\n  </tbody>\n</table>\n<p>198466 rows × 2 columns</p>\n</div>"
     },
     "execution_count": 9,
     "metadata": {},
     "output_type": "execute_result"
    }
   ],
   "source": [
    "test"
   ],
   "metadata": {
    "collapsed": false
   }
  },
  {
   "cell_type": "code",
   "execution_count": 16,
   "outputs": [
    {
     "name": "stdout",
     "output_type": "stream",
     "text": [
      "Testing Set has 198466 Events,  1208 Sessions, and 3370 Items\n",
      "\n",
      "\n"
     ]
    }
   ],
   "source": [
    "print('Testing Set has', len(test), 'Events, ', test.index.nunique(), 'Sessions, and', test.ItemID.nunique(), 'Items\\n\\n')\n",
    "test.to_csv(dataAfter + 'ml-1m-Test.txt', sep=',', index=True)"
   ],
   "metadata": {
    "collapsed": false
   }
  },
  {
   "cell_type": "code",
   "execution_count": 11,
   "outputs": [],
   "source": [
    "timeMax = train.Time.max()\n",
    "sessionMaxTime = train.groupby('SessionID').Time.max()\n",
    "# temporal split\n",
    "sessionTrain = sessionMaxTime[sessionMaxTime < (timeMax - dayTime)].index #training split is all sessions that ended before the last 2nd day\n",
    "sessionValid = sessionMaxTime[sessionMaxTime >= (timeMax - dayTime)].index #validation split is all sessions that ended during the last 2nd day\n",
    "trainTR = train[np.in1d(train.index, sessionTrain)]\n",
    "trainVD = train[np.in1d(train.index, sessionValid)]\n",
    "trainVD = trainVD[np.in1d(trainVD.ItemID, trainTR.ItemID)]"
   ],
   "metadata": {
    "collapsed": false
   }
  },
  {
   "cell_type": "code",
   "execution_count": 12,
   "outputs": [
    {
     "data": {
      "text/plain": "SessionID\n1       978824351\n2       978300174\n3       978298504\n4       978294282\n6       978239019\n          ...    \n6034    956712388\n6036    956755196\n6037    956801840\n6038    956717204\n6039    956758029\nName: Time, Length: 4832, dtype: int64"
     },
     "execution_count": 12,
     "metadata": {},
     "output_type": "execute_result"
    }
   ],
   "source": [
    "sessionMaxTime"
   ],
   "metadata": {
    "collapsed": false
   }
  },
  {
   "cell_type": "code",
   "execution_count": 56,
   "outputs": [
    {
     "data": {
      "text/plain": "           ItemID       Time\nSessionID                   \n1            1193  978300760\n1             661  978302109\n1             914  978301968\n1            3408  978300275\n1            2355  978824291\n...           ...        ...\n6039         1081  956705989\n6039         1083  956706051\n6039         1086  956706182\n6039         1088  956706019\n6039         1097  956705811\n\n[798405 rows x 2 columns]",
      "text/html": "<div>\n<style scoped>\n    .dataframe tbody tr th:only-of-type {\n        vertical-align: middle;\n    }\n\n    .dataframe tbody tr th {\n        vertical-align: top;\n    }\n\n    .dataframe thead th {\n        text-align: right;\n    }\n</style>\n<table border=\"1\" class=\"dataframe\">\n  <thead>\n    <tr style=\"text-align: right;\">\n      <th></th>\n      <th>ItemID</th>\n      <th>Time</th>\n    </tr>\n    <tr>\n      <th>SessionID</th>\n      <th></th>\n      <th></th>\n    </tr>\n  </thead>\n  <tbody>\n    <tr>\n      <th>1</th>\n      <td>1193</td>\n      <td>978300760</td>\n    </tr>\n    <tr>\n      <th>1</th>\n      <td>661</td>\n      <td>978302109</td>\n    </tr>\n    <tr>\n      <th>1</th>\n      <td>914</td>\n      <td>978301968</td>\n    </tr>\n    <tr>\n      <th>1</th>\n      <td>3408</td>\n      <td>978300275</td>\n    </tr>\n    <tr>\n      <th>1</th>\n      <td>2355</td>\n      <td>978824291</td>\n    </tr>\n    <tr>\n      <th>...</th>\n      <td>...</td>\n      <td>...</td>\n    </tr>\n    <tr>\n      <th>6039</th>\n      <td>1081</td>\n      <td>956705989</td>\n    </tr>\n    <tr>\n      <th>6039</th>\n      <td>1083</td>\n      <td>956706051</td>\n    </tr>\n    <tr>\n      <th>6039</th>\n      <td>1086</td>\n      <td>956706182</td>\n    </tr>\n    <tr>\n      <th>6039</th>\n      <td>1088</td>\n      <td>956706019</td>\n    </tr>\n    <tr>\n      <th>6039</th>\n      <td>1097</td>\n      <td>956705811</td>\n    </tr>\n  </tbody>\n</table>\n<p>798405 rows × 2 columns</p>\n</div>"
     },
     "execution_count": 56,
     "metadata": {},
     "output_type": "execute_result"
    }
   ],
   "source": [
    "trainTR"
   ],
   "metadata": {
    "collapsed": false
   }
  },
  {
   "cell_type": "code",
   "execution_count": 59,
   "outputs": [],
   "source": [
    "trainVD = trainVD.groupby('SessionID').filter(lambda x: len(x)>=2)"
   ],
   "metadata": {
    "collapsed": false
   }
  },
  {
   "cell_type": "code",
   "execution_count": 60,
   "outputs": [
    {
     "data": {
      "text/plain": "           ItemID        Time\nSessionID                    \n403           647   976308336\n403           648   976292055\n403          3863   983048243\n403          2052   976306625\n403          2126   976303458\n...           ...         ...\n5948         1088   959956945\n5948         1096   957190795\n5948         1097   957291769\n5948         1099  1030013977\n5948         3788   962043014\n\n[2740 rows x 2 columns]",
      "text/html": "<div>\n<style scoped>\n    .dataframe tbody tr th:only-of-type {\n        vertical-align: middle;\n    }\n\n    .dataframe tbody tr th {\n        vertical-align: top;\n    }\n\n    .dataframe thead th {\n        text-align: right;\n    }\n</style>\n<table border=\"1\" class=\"dataframe\">\n  <thead>\n    <tr style=\"text-align: right;\">\n      <th></th>\n      <th>ItemID</th>\n      <th>Time</th>\n    </tr>\n    <tr>\n      <th>SessionID</th>\n      <th></th>\n      <th></th>\n    </tr>\n  </thead>\n  <tbody>\n    <tr>\n      <th>403</th>\n      <td>647</td>\n      <td>976308336</td>\n    </tr>\n    <tr>\n      <th>403</th>\n      <td>648</td>\n      <td>976292055</td>\n    </tr>\n    <tr>\n      <th>403</th>\n      <td>3863</td>\n      <td>983048243</td>\n    </tr>\n    <tr>\n      <th>403</th>\n      <td>2052</td>\n      <td>976306625</td>\n    </tr>\n    <tr>\n      <th>403</th>\n      <td>2126</td>\n      <td>976303458</td>\n    </tr>\n    <tr>\n      <th>...</th>\n      <td>...</td>\n      <td>...</td>\n    </tr>\n    <tr>\n      <th>5948</th>\n      <td>1088</td>\n      <td>959956945</td>\n    </tr>\n    <tr>\n      <th>5948</th>\n      <td>1096</td>\n      <td>957190795</td>\n    </tr>\n    <tr>\n      <th>5948</th>\n      <td>1097</td>\n      <td>957291769</td>\n    </tr>\n    <tr>\n      <th>5948</th>\n      <td>1099</td>\n      <td>1030013977</td>\n    </tr>\n    <tr>\n      <th>5948</th>\n      <td>3788</td>\n      <td>962043014</td>\n    </tr>\n  </tbody>\n</table>\n<p>2740 rows × 2 columns</p>\n</div>"
     },
     "execution_count": 60,
     "metadata": {},
     "output_type": "execute_result"
    }
   ],
   "source": [
    "trainVD"
   ],
   "metadata": {
    "collapsed": false
   }
  },
  {
   "cell_type": "code",
   "execution_count": 18,
   "outputs": [
    {
     "name": "stdout",
     "output_type": "stream",
     "text": [
      "Training Set has 798405 Events,  4826 Sessions, and 3416 Items\n",
      "\n",
      "\n",
      "Validation Set has 2740 Events,  6 Sessions, and 1411 Items\n",
      "\n",
      "\n"
     ]
    }
   ],
   "source": [
    "print('Training Set has', len(trainTR), 'Events, ', trainTR.index.nunique(), 'Sessions, and', trainTR.ItemID.nunique(), 'Items\\n\\n')\n",
    "trainTR.to_csv(dataAfter + 'ml-1m-Train.txt', sep=',', index=True)\n",
    "print('Validation Set has', len(trainVD), 'Events, ', trainVD.index.nunique(), 'Sessions, and', trainVD.ItemID.nunique(), 'Items\\n\\n')\n",
    "trainVD.to_csv(dataAfter + 'ml-1m-Valid.txt', sep=',', index=True)"
   ],
   "metadata": {
    "collapsed": false
   }
  }
 ],
 "metadata": {
  "kernelspec": {
   "display_name": "Python 3",
   "language": "python",
   "name": "python3"
  },
  "language_info": {
   "codemirror_mode": {
    "name": "ipython",
    "version": 2
   },
   "file_extension": ".py",
   "mimetype": "text/x-python",
   "name": "python",
   "nbconvert_exporter": "python",
   "pygments_lexer": "ipython2",
   "version": "2.7.6"
  }
 },
 "nbformat": 4,
 "nbformat_minor": 0
}
