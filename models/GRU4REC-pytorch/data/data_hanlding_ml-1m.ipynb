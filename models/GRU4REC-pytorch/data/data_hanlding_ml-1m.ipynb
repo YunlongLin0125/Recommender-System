{
 "cells": [
  {
   "cell_type": "code",
   "execution_count": 10,
   "metadata": {
    "collapsed": true
   },
   "outputs": [],
   "source": [
    "from collections import defaultdict\n",
    "from datetime import datetime\n",
    "import torch\n",
    "import numpy as np\n",
    "import pandas as pd\n",
    "import datetime as dt"
   ]
  },
  {
   "cell_type": "code",
   "execution_count": 11,
   "outputs": [],
   "source": [
    "m1_1m_path = '../../../datasets/ml-1m'\n",
    "PATH_TO_PROCESSED_DATA = 'preprocessed_data/'"
   ],
   "metadata": {
    "collapsed": false
   }
  },
  {
   "cell_type": "code",
   "execution_count": 12,
   "outputs": [],
   "source": [
    "file_path = m1_1m_path + '/ratings.dat'\n",
    "\n",
    "data_ratings = pd.read_csv(file_path, sep='::', engine='python',\n",
    "                   names=['SessionID', 'ItemID', 'Rating', 'Time'], index_col='SessionID').drop('Rating', axis=1, inplace=False)"
   ],
   "metadata": {
    "collapsed": false
   }
  },
  {
   "cell_type": "code",
   "execution_count": 13,
   "outputs": [
    {
     "data": {
      "text/plain": "           ItemID       Time\nSessionID                   \n2            1357  978298709\n2            3068  978299000\n2            1537  978299620\n2             647  978299351\n2            2194  978299297\n...           ...        ...\n2             356  978299686\n2            1245  978299200\n2            1246  978299418\n2            3893  978299535\n2            1247  978298652\n\n[129 rows x 2 columns]",
      "text/html": "<div>\n<style scoped>\n    .dataframe tbody tr th:only-of-type {\n        vertical-align: middle;\n    }\n\n    .dataframe tbody tr th {\n        vertical-align: top;\n    }\n\n    .dataframe thead th {\n        text-align: right;\n    }\n</style>\n<table border=\"1\" class=\"dataframe\">\n  <thead>\n    <tr style=\"text-align: right;\">\n      <th></th>\n      <th>ItemID</th>\n      <th>Time</th>\n    </tr>\n    <tr>\n      <th>SessionID</th>\n      <th></th>\n      <th></th>\n    </tr>\n  </thead>\n  <tbody>\n    <tr>\n      <th>2</th>\n      <td>1357</td>\n      <td>978298709</td>\n    </tr>\n    <tr>\n      <th>2</th>\n      <td>3068</td>\n      <td>978299000</td>\n    </tr>\n    <tr>\n      <th>2</th>\n      <td>1537</td>\n      <td>978299620</td>\n    </tr>\n    <tr>\n      <th>2</th>\n      <td>647</td>\n      <td>978299351</td>\n    </tr>\n    <tr>\n      <th>2</th>\n      <td>2194</td>\n      <td>978299297</td>\n    </tr>\n    <tr>\n      <th>...</th>\n      <td>...</td>\n      <td>...</td>\n    </tr>\n    <tr>\n      <th>2</th>\n      <td>356</td>\n      <td>978299686</td>\n    </tr>\n    <tr>\n      <th>2</th>\n      <td>1245</td>\n      <td>978299200</td>\n    </tr>\n    <tr>\n      <th>2</th>\n      <td>1246</td>\n      <td>978299418</td>\n    </tr>\n    <tr>\n      <th>2</th>\n      <td>3893</td>\n      <td>978299535</td>\n    </tr>\n    <tr>\n      <th>2</th>\n      <td>1247</td>\n      <td>978298652</td>\n    </tr>\n  </tbody>\n</table>\n<p>129 rows × 2 columns</p>\n</div>"
     },
     "execution_count": 13,
     "metadata": {},
     "output_type": "execute_result"
    }
   ],
   "source": [
    "data_ratings.loc[2]"
   ],
   "metadata": {
    "collapsed": false
   }
  },
  {
   "cell_type": "markdown",
   "source": [
    "## GRU4Rec handling\n",
    "Only use implicit feedback in the sequence of items"
   ],
   "metadata": {
    "collapsed": false
   }
  },
  {
   "cell_type": "code",
   "execution_count": 14,
   "outputs": [
    {
     "name": "stderr",
     "output_type": "stream",
     "text": [
      "C:\\Users\\Yunlong\\AppData\\Local\\Temp\\ipykernel_15864\\3072087427.py:6: FutureWarning: Not prepending group keys to the result index of transform-like apply. In the future, the group keys will be included in the index, regardless of whether the applied function returns a like-indexed object.\n",
      "To preserve the previous behavior, use\n",
      "\n",
      "\t>>> .groupby(..., group_keys=False)\n",
      "\n",
      "To adopt the future behavior and silence this warning, use \n",
      "\n",
      "\t>>> .groupby(..., group_keys=True)\n",
      "  order_ratings = order_ratings.groupby('SessionID').apply(lambda  x: x.sort_values('Time'))\n"
     ]
    },
    {
     "data": {
      "text/plain": "           ItemID       Time\nSessionID                   \n1            3186  978300019\n1            1721  978300055\n1            1022  978300055\n1            1270  978300055\n1            2340  978300103\n...           ...        ...\n6040         2917  997454429\n6040         1784  997454464\n6040         1921  997454464\n6040          161  997454486\n6040         1221  998315055\n\n[999611 rows x 2 columns]",
      "text/html": "<div>\n<style scoped>\n    .dataframe tbody tr th:only-of-type {\n        vertical-align: middle;\n    }\n\n    .dataframe tbody tr th {\n        vertical-align: top;\n    }\n\n    .dataframe thead th {\n        text-align: right;\n    }\n</style>\n<table border=\"1\" class=\"dataframe\">\n  <thead>\n    <tr style=\"text-align: right;\">\n      <th></th>\n      <th>ItemID</th>\n      <th>Time</th>\n    </tr>\n    <tr>\n      <th>SessionID</th>\n      <th></th>\n      <th></th>\n    </tr>\n  </thead>\n  <tbody>\n    <tr>\n      <th>1</th>\n      <td>3186</td>\n      <td>978300019</td>\n    </tr>\n    <tr>\n      <th>1</th>\n      <td>1721</td>\n      <td>978300055</td>\n    </tr>\n    <tr>\n      <th>1</th>\n      <td>1022</td>\n      <td>978300055</td>\n    </tr>\n    <tr>\n      <th>1</th>\n      <td>1270</td>\n      <td>978300055</td>\n    </tr>\n    <tr>\n      <th>1</th>\n      <td>2340</td>\n      <td>978300103</td>\n    </tr>\n    <tr>\n      <th>...</th>\n      <td>...</td>\n      <td>...</td>\n    </tr>\n    <tr>\n      <th>6040</th>\n      <td>2917</td>\n      <td>997454429</td>\n    </tr>\n    <tr>\n      <th>6040</th>\n      <td>1784</td>\n      <td>997454464</td>\n    </tr>\n    <tr>\n      <th>6040</th>\n      <td>1921</td>\n      <td>997454464</td>\n    </tr>\n    <tr>\n      <th>6040</th>\n      <td>161</td>\n      <td>997454486</td>\n    </tr>\n    <tr>\n      <th>6040</th>\n      <td>1221</td>\n      <td>998315055</td>\n    </tr>\n  </tbody>\n</table>\n<p>999611 rows × 2 columns</p>\n</div>"
     },
     "execution_count": 14,
     "metadata": {},
     "output_type": "execute_result"
    }
   ],
   "source": [
    "order_ratings = data_ratings\n",
    "# session_lengths>1\n",
    "order_ratings = order_ratings.groupby('SessionID').filter(lambda  x: len(x) > 1)\n",
    "order_ratings = order_ratings.groupby('ItemID').filter(lambda  x: len(x) >= 5)\n",
    "order_ratings = order_ratings.groupby('SessionID').filter(lambda  x: len(x) >= 2)\n",
    "order_ratings = order_ratings.groupby('SessionID').apply(lambda  x: x.sort_values('Time'))\n",
    "# We discard users and items with fewer than 5 related actions.\n",
    "order_ratings"
   ],
   "metadata": {
    "collapsed": false
   }
  },
  {
   "cell_type": "code",
   "execution_count": 15,
   "outputs": [
    {
     "data": {
      "text/plain": "6040"
     },
     "execution_count": 15,
     "metadata": {},
     "output_type": "execute_result"
    }
   ],
   "source": [
    "len(set(order_ratings.index))"
   ],
   "metadata": {
    "collapsed": false
   }
  },
  {
   "cell_type": "code",
   "execution_count": 16,
   "outputs": [
    {
     "data": {
      "text/plain": "(6035, 914, 932987, 66579)"
     },
     "execution_count": 16,
     "metadata": {},
     "output_type": "execute_result"
    }
   ],
   "source": [
    "tmax = order_ratings.Time.max()\n",
    "interval = 86400 * 30 * 12 * 2\n",
    "split_point_1 = tmax - interval\n",
    "session_train = order_ratings[order_ratings['Time'] <= split_point_1]\n",
    "session_test = order_ratings[order_ratings['Time'] > split_point_1]\n",
    "session_test = session_test.groupby('SessionID').filter(lambda  x: len(x) >= 2)\n",
    "len(set(session_train.index)), len(set(session_test.index)), len(session_train), len(session_test)"
   ],
   "metadata": {
    "collapsed": false
   }
  },
  {
   "cell_type": "code",
   "execution_count": 17,
   "outputs": [],
   "source": [
    "# train = session_train.reset_index().rename(columns={'index': 'SessionID'})\n",
    "# train"
   ],
   "metadata": {
    "collapsed": false
   }
  },
  {
   "cell_type": "code",
   "execution_count": 18,
   "outputs": [
    {
     "name": "stdout",
     "output_type": "stream",
     "text": [
      "Full train set\n",
      "\tEvents: 932987\n",
      "\tSessions: 6035\n",
      "\tItems: 3414\n",
      "Test set\n",
      "\tEvents: 66579\n",
      "\tSessions: 914\n",
      "\tItems: 3246\n"
     ]
    }
   ],
   "source": [
    "train = session_train\n",
    "test = session_test\n",
    "print('Full train set\\n\\tEvents: {}\\n\\tSessions: {}\\n\\tItems: {}'.format(len(train), train.index.nunique(), train.ItemID.nunique()))\n",
    "train.to_csv(PATH_TO_PROCESSED_DATA + 'ml-1m_train_full.txt', sep=',', index=True)\n",
    "print('Test set\\n\\tEvents: {}\\n\\tSessions: {}\\n\\tItems: {}'.format(len(test), test.index.nunique(), test.ItemID.nunique()))\n",
    "test.to_csv(PATH_TO_PROCESSED_DATA + 'ml-1m_test.txt', sep=',', index=True)"
   ],
   "metadata": {
    "collapsed": false
   }
  },
  {
   "cell_type": "code",
   "execution_count": 19,
   "outputs": [
    {
     "name": "stdout",
     "output_type": "stream",
     "text": [
      "Train set\n",
      "\tEvents: 850937\n",
      "\tSessions: 5719\n",
      "\tItems: 3411\n",
      "Validation set\n",
      "\tEvents: 81984\n",
      "\tSessions: 1100\n",
      "\tItems: 3239\n"
     ]
    }
   ],
   "source": [
    "tmax = train.Time.max()\n",
    "interval = 86400 * 30 * 3\n",
    "split_point_2 = tmax - interval\n",
    "session_train = train[train['Time'] <= split_point_2]\n",
    "session_val = train[train['Time'] > split_point_2]\n",
    "train_tr = session_train\n",
    "valid = session_val\n",
    "valid = valid.groupby('SessionID').filter(lambda  x: len(x) >= 2)\n",
    "print('Train set\\n\\tEvents: {}\\n\\tSessions: {}\\n\\tItems: {}'.format(len(train_tr), train_tr.index.nunique(), train_tr.ItemID.nunique()))\n",
    "train_tr.to_csv(PATH_TO_PROCESSED_DATA + 'ml-1m_train_tr.txt', sep=',', index=True)\n",
    "print('Validation set\\n\\tEvents: {}\\n\\tSessions: {}\\n\\tItems: {}'.format(len(valid), valid.index.nunique(), valid.ItemID.nunique()))\n",
    "valid.to_csv(PATH_TO_PROCESSED_DATA + 'ml-1m_train_valid.txt', sep=',', index=True)"
   ],
   "metadata": {
    "collapsed": false
   }
  }
 ],
 "metadata": {
  "kernelspec": {
   "display_name": "Python 3",
   "language": "python",
   "name": "python3"
  },
  "language_info": {
   "codemirror_mode": {
    "name": "ipython",
    "version": 2
   },
   "file_extension": ".py",
   "mimetype": "text/x-python",
   "name": "python",
   "nbconvert_exporter": "python",
   "pygments_lexer": "ipython2",
   "version": "2.7.6"
  }
 },
 "nbformat": 4,
 "nbformat_minor": 0
}
