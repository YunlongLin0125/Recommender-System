{
 "cells": [
  {
   "cell_type": "code",
   "execution_count": 12,
   "metadata": {
    "collapsed": true
   },
   "outputs": [],
   "source": [
    "from collections import Counter\n",
    "import utils\n",
    "\n",
    "class PopularityRecommender():\n",
    "    def __init__(self):\n",
    "        self.item_counter = Counter()\n",
    "\n",
    "    def train(self, user_items):\n",
    "        \"\"\"\n",
    "        Train the recommender with a list of user-item interactions.\n",
    "        user_item_list: a list of tuples, where the first element in the tuple\n",
    "        is the user and the second element is the item.\n",
    "        \"\"\"\n",
    "        for user, items in user_items.items():\n",
    "            for item in items:\n",
    "                self.item_counter[item] += 1\n",
    "\n",
    "    def predict(self, num_items=10):\n",
    "        \"\"\"\n",
    "        Recommend the top-N most popular items.\n",
    "        num_items: the number of items to recommend\n",
    "        \"\"\"\n",
    "        most_common_items = self.item_counter.most_common(num_items)\n",
    "        # Return only the items, not the counts\n",
    "        return [item for item, count in most_common_items]"
   ]
  },
  {
   "cell_type": "code",
   "execution_count": 4,
   "outputs": [
    {
     "name": "stdout",
     "output_type": "stream",
     "text": [
      "average sequence length: 163.50\n",
      "number of training data: 6040.00\n",
      "number of items: 6040.00\n"
     ]
    }
   ],
   "source": [
    "# global dataset\n",
    "dataset = utils.data_partition('processed/ml-1m')\n",
    "[user_train, user_valid, user_test, usernum, itemnum] = dataset\n",
    "\n",
    "cc = 0.0\n",
    "for u in user_train:\n",
    "    cc += len(user_train[u])\n",
    "print('average sequence length: %.2f' % (cc / len(user_train)))\n",
    "print('number of training data: %.2f' % len(user_train))\n",
    "print('number of items: %.2f' % usernum)"
   ],
   "metadata": {
    "collapsed": false
   }
  },
  {
   "cell_type": "code",
   "execution_count": 13,
   "outputs": [],
   "source": [
    "PopRec = PopularityRecommender()\n",
    "PopRec.train(user_train)"
   ],
   "metadata": {
    "collapsed": false
   }
  },
  {
   "cell_type": "code",
   "execution_count": 18,
   "outputs": [
    {
     "data": {
      "text/plain": "[63, 79, 12, 56, 138, 17, 132, 4, 130, 66]"
     },
     "execution_count": 18,
     "metadata": {},
     "output_type": "execute_result"
    }
   ],
   "source": [
    "PopRec.predict()"
   ],
   "metadata": {
    "collapsed": false
   }
  },
  {
   "cell_type": "code",
   "execution_count": 21,
   "outputs": [],
   "source": [
    "dataset = utils.data_partition('processed/ml-1m')\n",
    "dataset_window = utils.data_partition_window_P('processed/ml-1m', valid_percent=0.2, test_percent=0.2, train_percent=0.2)"
   ],
   "metadata": {
    "collapsed": false
   }
  },
  {
   "cell_type": "code",
   "execution_count": 22,
   "outputs": [],
   "source": [
    "import copy, torch, random, sys\n",
    "\n",
    "def evaluate_window_valid(model, dataset, dataset_window):\n",
    "    [train, valid, test, usernum, itemnum] = copy.deepcopy(dataset)\n",
    "    [_, train, valid, test, _, itemnum] = copy.deepcopy(dataset_window)\n",
    "    Recall = 0.0\n",
    "    Recall_U = 0.0\n",
    "    coverage_list = []\n",
    "    # P90 coverage means the smallest item sets that appear in the top 10 lists of at least 90% of the users.\n",
    "    valid_user = 0.0\n",
    "    sample_nums = 500\n",
    "    random_items = random.sample(range(1, itemnum + 1), sample_nums)\n",
    "    sample_idx = random_items\n",
    "    sample_idx_tensor = torch.tensor(sample_idx)\n",
    "    users = range(1, usernum + 1)\n",
    "    predictions = model.predict()\n",
    "    for u in users:\n",
    "        if len(train[u]) < 1 or len(valid[u]) < 1: continue\n",
    "        ground_truth_idx = valid[u]\n",
    "        valid_num = len(valid[u])\n",
    "        for item in ground_truth_idx:\n",
    "            if item in predictions:\n",
    "                Recall_U += 1\n",
    "        Recall_U = Recall_U/valid_num\n",
    "        Recall += Recall_U\n",
    "        Recall_U=0\n",
    "        # coverage_list+=predictions\n",
    "        valid_user += 1\n",
    "        if valid_user % 100 == 0:\n",
    "            print('.', end=\"\")\n",
    "            sys.stdout.flush()\n",
    "    return Recall/valid_user, 9/sample_nums"
   ],
   "metadata": {
    "collapsed": false
   }
  },
  {
   "cell_type": "code",
   "execution_count": 24,
   "outputs": [
    {
     "name": "stdout",
     "output_type": "stream",
     "text": [
      "............................................................"
     ]
    },
    {
     "data": {
      "text/plain": "(0.02763014686996881, 0.018)"
     },
     "execution_count": 24,
     "metadata": {},
     "output_type": "execute_result"
    }
   ],
   "source": [
    "evaluate_window_valid(PopRec, dataset, dataset_window)"
   ],
   "metadata": {
    "collapsed": false
   }
  },
  {
   "cell_type": "code",
   "execution_count": 25,
   "outputs": [
    {
     "name": "stdout",
     "output_type": "stream",
     "text": [
      "............................................................"
     ]
    },
    {
     "data": {
      "text/plain": "(0.02763014686996881, 0.018)"
     },
     "execution_count": 25,
     "metadata": {},
     "output_type": "execute_result"
    }
   ],
   "source": [
    "evaluate_window_valid(PopRec, dataset, dataset_window)"
   ],
   "metadata": {
    "collapsed": false
   }
  }
 ],
 "metadata": {
  "kernelspec": {
   "display_name": "Python 3",
   "language": "python",
   "name": "python3"
  },
  "language_info": {
   "codemirror_mode": {
    "name": "ipython",
    "version": 2
   },
   "file_extension": ".py",
   "mimetype": "text/x-python",
   "name": "python",
   "nbconvert_exporter": "python",
   "pygments_lexer": "ipython2",
   "version": "2.7.6"
  }
 },
 "nbformat": 4,
 "nbformat_minor": 0
}
