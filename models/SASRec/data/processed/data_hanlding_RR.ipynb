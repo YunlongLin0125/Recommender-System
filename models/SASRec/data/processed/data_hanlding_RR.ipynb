{
 "cells": [
  {
   "cell_type": "code",
   "execution_count": 1,
   "metadata": {
    "collapsed": true
   },
   "outputs": [],
   "source": [
    "from collections import defaultdict\n",
    "from datetime import datetime\n",
    "import torch\n",
    "import pandas as pd"
   ]
  },
  {
   "cell_type": "code",
   "execution_count": 2,
   "outputs": [],
   "source": [
    "data_path = '../../../../datasets/Retailrocket'"
   ],
   "metadata": {
    "collapsed": false
   }
  },
  {
   "cell_type": "code",
   "execution_count": 3,
   "outputs": [],
   "source": [
    "file_path = data_path + '/events.csv'\n",
    "events_data = pd.read_csv(file_path, index_col='visitorid')\n",
    "events_data = events_data.sort_index().drop('transactionid', axis=1, inplace=False)"
   ],
   "metadata": {
    "collapsed": false
   }
  },
  {
   "cell_type": "code",
   "execution_count": 4,
   "outputs": [
    {
     "data": {
      "text/plain": "               timestamp event  itemid\nvisitorid                             \n0          1442004589439  view  285930\n0          1442004759591  view  357564\n0          1442004917175  view   67045\n1          1439487966444  view   72028\n2          1438971444375  view  342816\n...                  ...   ...     ...\n1407575    1433972768922  view  121220\n1407576    1433343689991  view  356208\n1407577    1431899284867  view  427784\n1407578    1431825683288  view  188736\n1407579    1435184526978  view    2521\n\n[2756101 rows x 3 columns]",
      "text/html": "<div>\n<style scoped>\n    .dataframe tbody tr th:only-of-type {\n        vertical-align: middle;\n    }\n\n    .dataframe tbody tr th {\n        vertical-align: top;\n    }\n\n    .dataframe thead th {\n        text-align: right;\n    }\n</style>\n<table border=\"1\" class=\"dataframe\">\n  <thead>\n    <tr style=\"text-align: right;\">\n      <th></th>\n      <th>timestamp</th>\n      <th>event</th>\n      <th>itemid</th>\n    </tr>\n    <tr>\n      <th>visitorid</th>\n      <th></th>\n      <th></th>\n      <th></th>\n    </tr>\n  </thead>\n  <tbody>\n    <tr>\n      <th>0</th>\n      <td>1442004589439</td>\n      <td>view</td>\n      <td>285930</td>\n    </tr>\n    <tr>\n      <th>0</th>\n      <td>1442004759591</td>\n      <td>view</td>\n      <td>357564</td>\n    </tr>\n    <tr>\n      <th>0</th>\n      <td>1442004917175</td>\n      <td>view</td>\n      <td>67045</td>\n    </tr>\n    <tr>\n      <th>1</th>\n      <td>1439487966444</td>\n      <td>view</td>\n      <td>72028</td>\n    </tr>\n    <tr>\n      <th>2</th>\n      <td>1438971444375</td>\n      <td>view</td>\n      <td>342816</td>\n    </tr>\n    <tr>\n      <th>...</th>\n      <td>...</td>\n      <td>...</td>\n      <td>...</td>\n    </tr>\n    <tr>\n      <th>1407575</th>\n      <td>1433972768922</td>\n      <td>view</td>\n      <td>121220</td>\n    </tr>\n    <tr>\n      <th>1407576</th>\n      <td>1433343689991</td>\n      <td>view</td>\n      <td>356208</td>\n    </tr>\n    <tr>\n      <th>1407577</th>\n      <td>1431899284867</td>\n      <td>view</td>\n      <td>427784</td>\n    </tr>\n    <tr>\n      <th>1407578</th>\n      <td>1431825683288</td>\n      <td>view</td>\n      <td>188736</td>\n    </tr>\n    <tr>\n      <th>1407579</th>\n      <td>1435184526978</td>\n      <td>view</td>\n      <td>2521</td>\n    </tr>\n  </tbody>\n</table>\n<p>2756101 rows × 3 columns</p>\n</div>"
     },
     "execution_count": 4,
     "metadata": {},
     "output_type": "execute_result"
    }
   ],
   "source": [
    "events_data"
   ],
   "metadata": {
    "collapsed": false
   }
  },
  {
   "cell_type": "markdown",
   "source": [
    "## SASRec handling\n",
    "Only use implicit feedback in the sequence of items"
   ],
   "metadata": {
    "collapsed": false
   }
  },
  {
   "cell_type": "code",
   "execution_count": 5,
   "outputs": [
    {
     "data": {
      "text/plain": "               timestamp event  itemid\nvisitorid                             \n2          1438969904567  view  325215\n2          1438970013790  view  325215\n2          1438970212664  view  259884\n2          1438970468920  view  216305\n2          1438970905669  view  342816\n...                  ...   ...     ...\n1407573    1437973995037  view   57720\n1407573    1438402327230  view  363109\n1407573    1438402365311  view  463766\n1407573    1438648367715  view   82278\n1407573    1438648495146  view   82278\n\n[879086 rows x 3 columns]",
      "text/html": "<div>\n<style scoped>\n    .dataframe tbody tr th:only-of-type {\n        vertical-align: middle;\n    }\n\n    .dataframe tbody tr th {\n        vertical-align: top;\n    }\n\n    .dataframe thead th {\n        text-align: right;\n    }\n</style>\n<table border=\"1\" class=\"dataframe\">\n  <thead>\n    <tr style=\"text-align: right;\">\n      <th></th>\n      <th>timestamp</th>\n      <th>event</th>\n      <th>itemid</th>\n    </tr>\n    <tr>\n      <th>visitorid</th>\n      <th></th>\n      <th></th>\n      <th></th>\n    </tr>\n  </thead>\n  <tbody>\n    <tr>\n      <th>2</th>\n      <td>1438969904567</td>\n      <td>view</td>\n      <td>325215</td>\n    </tr>\n    <tr>\n      <th>2</th>\n      <td>1438970013790</td>\n      <td>view</td>\n      <td>325215</td>\n    </tr>\n    <tr>\n      <th>2</th>\n      <td>1438970212664</td>\n      <td>view</td>\n      <td>259884</td>\n    </tr>\n    <tr>\n      <th>2</th>\n      <td>1438970468920</td>\n      <td>view</td>\n      <td>216305</td>\n    </tr>\n    <tr>\n      <th>2</th>\n      <td>1438970905669</td>\n      <td>view</td>\n      <td>342816</td>\n    </tr>\n    <tr>\n      <th>...</th>\n      <td>...</td>\n      <td>...</td>\n      <td>...</td>\n    </tr>\n    <tr>\n      <th>1407573</th>\n      <td>1437973995037</td>\n      <td>view</td>\n      <td>57720</td>\n    </tr>\n    <tr>\n      <th>1407573</th>\n      <td>1438402327230</td>\n      <td>view</td>\n      <td>363109</td>\n    </tr>\n    <tr>\n      <th>1407573</th>\n      <td>1438402365311</td>\n      <td>view</td>\n      <td>463766</td>\n    </tr>\n    <tr>\n      <th>1407573</th>\n      <td>1438648367715</td>\n      <td>view</td>\n      <td>82278</td>\n    </tr>\n    <tr>\n      <th>1407573</th>\n      <td>1438648495146</td>\n      <td>view</td>\n      <td>82278</td>\n    </tr>\n  </tbody>\n</table>\n<p>879086 rows × 3 columns</p>\n</div>"
     },
     "execution_count": 5,
     "metadata": {},
     "output_type": "execute_result"
    }
   ],
   "source": [
    "# use timestamps to determine the sequence order of actions.\n",
    "actions = events_data\n",
    "actions = actions.groupby('itemid').filter(lambda  x: len(x) >= 5)\n",
    "actions = actions.groupby('visitorid').filter(lambda  x: len(x) >= 5)\n",
    "actions = actions.groupby('visitorid', group_keys= False).apply(lambda  x: x.sort_values('timestamp'))\n",
    "# We discard users and items with fewer than 5 related actions.\n",
    "actions"
   ],
   "metadata": {
    "collapsed": false
   }
  },
  {
   "cell_type": "code",
   "execution_count": 6,
   "outputs": [],
   "source": [
    "usermap = dict()\n",
    "usernum = 0\n",
    "itemmap = dict()\n",
    "itemnum = 0\n",
    "for _id, row in actions.iterrows():\n",
    "    if _id in usermap:\n",
    "        userid = usermap[_id]\n",
    "    else:\n",
    "        usernum += 1\n",
    "        userid = usernum\n",
    "        usermap[_id] = userid\n",
    "\n",
    "    if row.itemid in itemmap:\n",
    "        itemid = itemmap[row.itemid]\n",
    "    else:\n",
    "        itemnum += 1\n",
    "        itemid = itemnum\n",
    "        itemmap[row.itemid] = itemid"
   ],
   "metadata": {
    "collapsed": false
   }
  },
  {
   "cell_type": "code",
   "execution_count": 7,
   "outputs": [
    {
     "data": {
      "text/plain": "(75875, 65712)"
     },
     "execution_count": 7,
     "metadata": {},
     "output_type": "execute_result"
    }
   ],
   "source": [
    "usermap.__len__(), itemmap.__len__()"
   ],
   "metadata": {
    "collapsed": false
   }
  },
  {
   "cell_type": "code",
   "execution_count": 8,
   "outputs": [],
   "source": [
    "actions['itemid'] = actions['itemid'].map(itemmap)\n",
    "actions.index = actions.index.map(usermap)\n",
    "# data['Occupation'] = data['Occupation'].map(occupation_map)"
   ],
   "metadata": {
    "collapsed": false
   }
  },
  {
   "cell_type": "code",
   "execution_count": 9,
   "outputs": [
    {
     "data": {
      "text/plain": "               timestamp event  itemid\nvisitorid                             \n1          1438969904567  view       1\n1          1438970013790  view       1\n1          1438970212664  view       2\n1          1438970468920  view       3\n1          1438970905669  view       4\n...                  ...   ...     ...\n75875      1437973995037  view   65712\n75875      1438402327230  view   32303\n75875      1438402365311  view    1327\n75875      1438648367715  view    3346\n75875      1438648495146  view    3346\n\n[879086 rows x 3 columns]",
      "text/html": "<div>\n<style scoped>\n    .dataframe tbody tr th:only-of-type {\n        vertical-align: middle;\n    }\n\n    .dataframe tbody tr th {\n        vertical-align: top;\n    }\n\n    .dataframe thead th {\n        text-align: right;\n    }\n</style>\n<table border=\"1\" class=\"dataframe\">\n  <thead>\n    <tr style=\"text-align: right;\">\n      <th></th>\n      <th>timestamp</th>\n      <th>event</th>\n      <th>itemid</th>\n    </tr>\n    <tr>\n      <th>visitorid</th>\n      <th></th>\n      <th></th>\n      <th></th>\n    </tr>\n  </thead>\n  <tbody>\n    <tr>\n      <th>1</th>\n      <td>1438969904567</td>\n      <td>view</td>\n      <td>1</td>\n    </tr>\n    <tr>\n      <th>1</th>\n      <td>1438970013790</td>\n      <td>view</td>\n      <td>1</td>\n    </tr>\n    <tr>\n      <th>1</th>\n      <td>1438970212664</td>\n      <td>view</td>\n      <td>2</td>\n    </tr>\n    <tr>\n      <th>1</th>\n      <td>1438970468920</td>\n      <td>view</td>\n      <td>3</td>\n    </tr>\n    <tr>\n      <th>1</th>\n      <td>1438970905669</td>\n      <td>view</td>\n      <td>4</td>\n    </tr>\n    <tr>\n      <th>...</th>\n      <td>...</td>\n      <td>...</td>\n      <td>...</td>\n    </tr>\n    <tr>\n      <th>75875</th>\n      <td>1437973995037</td>\n      <td>view</td>\n      <td>65712</td>\n    </tr>\n    <tr>\n      <th>75875</th>\n      <td>1438402327230</td>\n      <td>view</td>\n      <td>32303</td>\n    </tr>\n    <tr>\n      <th>75875</th>\n      <td>1438402365311</td>\n      <td>view</td>\n      <td>1327</td>\n    </tr>\n    <tr>\n      <th>75875</th>\n      <td>1438648367715</td>\n      <td>view</td>\n      <td>3346</td>\n    </tr>\n    <tr>\n      <th>75875</th>\n      <td>1438648495146</td>\n      <td>view</td>\n      <td>3346</td>\n    </tr>\n  </tbody>\n</table>\n<p>879086 rows × 3 columns</p>\n</div>"
     },
     "execution_count": 9,
     "metadata": {},
     "output_type": "execute_result"
    }
   ],
   "source": [
    "actions"
   ],
   "metadata": {
    "collapsed": false
   }
  },
  {
   "cell_type": "code",
   "execution_count": 10,
   "outputs": [
    {
     "data": {
      "text/plain": "           itemid\nvisitorid        \n1               1\n1               1\n1               2\n1               3\n1               4\n1               4\n1               3\n1               1",
      "text/html": "<div>\n<style scoped>\n    .dataframe tbody tr th:only-of-type {\n        vertical-align: middle;\n    }\n\n    .dataframe tbody tr th {\n        vertical-align: top;\n    }\n\n    .dataframe thead th {\n        text-align: right;\n    }\n</style>\n<table border=\"1\" class=\"dataframe\">\n  <thead>\n    <tr style=\"text-align: right;\">\n      <th></th>\n      <th>itemid</th>\n    </tr>\n    <tr>\n      <th>visitorid</th>\n      <th></th>\n    </tr>\n  </thead>\n  <tbody>\n    <tr>\n      <th>1</th>\n      <td>1</td>\n    </tr>\n    <tr>\n      <th>1</th>\n      <td>1</td>\n    </tr>\n    <tr>\n      <th>1</th>\n      <td>2</td>\n    </tr>\n    <tr>\n      <th>1</th>\n      <td>3</td>\n    </tr>\n    <tr>\n      <th>1</th>\n      <td>4</td>\n    </tr>\n    <tr>\n      <th>1</th>\n      <td>4</td>\n    </tr>\n    <tr>\n      <th>1</th>\n      <td>3</td>\n    </tr>\n    <tr>\n      <th>1</th>\n      <td>1</td>\n    </tr>\n  </tbody>\n</table>\n</div>"
     },
     "execution_count": 10,
     "metadata": {},
     "output_type": "execute_result"
    }
   ],
   "source": [
    "sas_data = actions.drop('timestamp', axis=1, inplace=False).drop('event', axis=1, inplace=False)\n",
    "## ..continue\n",
    "sas_data.loc[1]"
   ],
   "metadata": {
    "collapsed": false
   }
  },
  {
   "cell_type": "code",
   "execution_count": 11,
   "outputs": [
    {
     "data": {
      "text/plain": "           itemid\nvisitorid        \n1               1\n1               1\n1               2\n1               3\n1               4\n...           ...\n75875       65712\n75875       32303\n75875        1327\n75875        3346\n75875        3346\n\n[879086 rows x 1 columns]",
      "text/html": "<div>\n<style scoped>\n    .dataframe tbody tr th:only-of-type {\n        vertical-align: middle;\n    }\n\n    .dataframe tbody tr th {\n        vertical-align: top;\n    }\n\n    .dataframe thead th {\n        text-align: right;\n    }\n</style>\n<table border=\"1\" class=\"dataframe\">\n  <thead>\n    <tr style=\"text-align: right;\">\n      <th></th>\n      <th>itemid</th>\n    </tr>\n    <tr>\n      <th>visitorid</th>\n      <th></th>\n    </tr>\n  </thead>\n  <tbody>\n    <tr>\n      <th>1</th>\n      <td>1</td>\n    </tr>\n    <tr>\n      <th>1</th>\n      <td>1</td>\n    </tr>\n    <tr>\n      <th>1</th>\n      <td>2</td>\n    </tr>\n    <tr>\n      <th>1</th>\n      <td>3</td>\n    </tr>\n    <tr>\n      <th>1</th>\n      <td>4</td>\n    </tr>\n    <tr>\n      <th>...</th>\n      <td>...</td>\n    </tr>\n    <tr>\n      <th>75875</th>\n      <td>65712</td>\n    </tr>\n    <tr>\n      <th>75875</th>\n      <td>32303</td>\n    </tr>\n    <tr>\n      <th>75875</th>\n      <td>1327</td>\n    </tr>\n    <tr>\n      <th>75875</th>\n      <td>3346</td>\n    </tr>\n    <tr>\n      <th>75875</th>\n      <td>3346</td>\n    </tr>\n  </tbody>\n</table>\n<p>879086 rows × 1 columns</p>\n</div>"
     },
     "execution_count": 11,
     "metadata": {},
     "output_type": "execute_result"
    }
   ],
   "source": [
    "sas_data"
   ],
   "metadata": {
    "collapsed": false
   }
  },
  {
   "cell_type": "code",
   "execution_count": 13,
   "outputs": [],
   "source": [
    "with open('retailrocket.txt', 'w') as f:\n",
    "    for _id in set(sas_data.index):\n",
    "        for item_id in sas_data.loc[_id].itemid:\n",
    "            f.write('%d %d\\n' % (_id, item_id))"
   ],
   "metadata": {
    "collapsed": false
   }
  }
 ],
 "metadata": {
  "kernelspec": {
   "display_name": "Python 3",
   "language": "python",
   "name": "python3"
  },
  "language_info": {
   "codemirror_mode": {
    "name": "ipython",
    "version": 2
   },
   "file_extension": ".py",
   "mimetype": "text/x-python",
   "name": "python",
   "nbconvert_exporter": "python",
   "pygments_lexer": "ipython2",
   "version": "2.7.6"
  }
 },
 "nbformat": 4,
 "nbformat_minor": 0
}
