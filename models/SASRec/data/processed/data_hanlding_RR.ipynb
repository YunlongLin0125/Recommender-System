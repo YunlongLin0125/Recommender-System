{
 "cells": [
  {
   "cell_type": "code",
   "execution_count": 1,
   "metadata": {
    "collapsed": true
   },
   "outputs": [],
   "source": [
    "from collections import defaultdict\n",
    "from datetime import datetime\n",
    "import torch\n",
    "import pandas as pd"
   ]
  },
  {
   "cell_type": "code",
   "execution_count": 2,
   "outputs": [],
   "source": [
    "data_path = '../../../../datasets/Retailrocket'"
   ],
   "metadata": {
    "collapsed": false
   }
  },
  {
   "cell_type": "code",
   "execution_count": 14,
   "outputs": [],
   "source": [
    "file_path = data_path + '/events.csv'\n",
    "events_data = pd.read_csv(file_path, index_col='visitorid')\n",
    "events_data = events_data.sort_index().drop('transactionid', axis=1, inplace=False)"
   ],
   "metadata": {
    "collapsed": false
   }
  },
  {
   "cell_type": "code",
   "execution_count": 15,
   "outputs": [],
   "source": [
    "events_data = events_data[events_data.event != 'view']"
   ],
   "metadata": {
    "collapsed": false
   }
  },
  {
   "cell_type": "code",
   "execution_count": 16,
   "outputs": [
    {
     "data": {
      "text/plain": "               timestamp      event  itemid\nvisitorid                                  \n6          1440914628202  addtocart   65273\n150        1433719818230  addtocart  452955\n155        1441952340395  addtocart  224623\n155        1441951932678  addtocart  368372\n155        1441952265950  addtocart  442601\n...                  ...        ...     ...\n1407512    1432953262950  addtocart   54141\n1407512    1432952383859  addtocart  107832\n1407512    1432954196910  addtocart  398091\n1407512    1432954281393  addtocart  398533\n1407515    1434155002730  addtocart  193218\n\n[91789 rows x 3 columns]",
      "text/html": "<div>\n<style scoped>\n    .dataframe tbody tr th:only-of-type {\n        vertical-align: middle;\n    }\n\n    .dataframe tbody tr th {\n        vertical-align: top;\n    }\n\n    .dataframe thead th {\n        text-align: right;\n    }\n</style>\n<table border=\"1\" class=\"dataframe\">\n  <thead>\n    <tr style=\"text-align: right;\">\n      <th></th>\n      <th>timestamp</th>\n      <th>event</th>\n      <th>itemid</th>\n    </tr>\n    <tr>\n      <th>visitorid</th>\n      <th></th>\n      <th></th>\n      <th></th>\n    </tr>\n  </thead>\n  <tbody>\n    <tr>\n      <th>6</th>\n      <td>1440914628202</td>\n      <td>addtocart</td>\n      <td>65273</td>\n    </tr>\n    <tr>\n      <th>150</th>\n      <td>1433719818230</td>\n      <td>addtocart</td>\n      <td>452955</td>\n    </tr>\n    <tr>\n      <th>155</th>\n      <td>1441952340395</td>\n      <td>addtocart</td>\n      <td>224623</td>\n    </tr>\n    <tr>\n      <th>155</th>\n      <td>1441951932678</td>\n      <td>addtocart</td>\n      <td>368372</td>\n    </tr>\n    <tr>\n      <th>155</th>\n      <td>1441952265950</td>\n      <td>addtocart</td>\n      <td>442601</td>\n    </tr>\n    <tr>\n      <th>...</th>\n      <td>...</td>\n      <td>...</td>\n      <td>...</td>\n    </tr>\n    <tr>\n      <th>1407512</th>\n      <td>1432953262950</td>\n      <td>addtocart</td>\n      <td>54141</td>\n    </tr>\n    <tr>\n      <th>1407512</th>\n      <td>1432952383859</td>\n      <td>addtocart</td>\n      <td>107832</td>\n    </tr>\n    <tr>\n      <th>1407512</th>\n      <td>1432954196910</td>\n      <td>addtocart</td>\n      <td>398091</td>\n    </tr>\n    <tr>\n      <th>1407512</th>\n      <td>1432954281393</td>\n      <td>addtocart</td>\n      <td>398533</td>\n    </tr>\n    <tr>\n      <th>1407515</th>\n      <td>1434155002730</td>\n      <td>addtocart</td>\n      <td>193218</td>\n    </tr>\n  </tbody>\n</table>\n<p>91789 rows × 3 columns</p>\n</div>"
     },
     "execution_count": 16,
     "metadata": {},
     "output_type": "execute_result"
    }
   ],
   "source": [
    "events_data"
   ],
   "metadata": {
    "collapsed": false
   }
  },
  {
   "cell_type": "markdown",
   "source": [
    "## SASRec handling\n",
    "Only use implicit feedback in the sequence of items"
   ],
   "metadata": {
    "collapsed": false
   }
  },
  {
   "cell_type": "code",
   "execution_count": 17,
   "outputs": [
    {
     "data": {
      "text/plain": "               timestamp        event  itemid\nvisitorid                                    \n172        1439599816912    addtocart   10034\n172        1439601219691    addtocart  465522\n172        1439601228324    addtocart  465522\n172        1439602141230  transaction  465522\n172        1439602141686  transaction   10034\n...                  ...          ...     ...\n1404163    1435710164769    addtocart  316255\n1404163    1435710167921    addtocart   11670\n1404163    1435710195727    addtocart  409793\n1404163    1435710325899    addtocart  233427\n1404163    1435710374506    addtocart  460034\n\n[19067 rows x 3 columns]",
      "text/html": "<div>\n<style scoped>\n    .dataframe tbody tr th:only-of-type {\n        vertical-align: middle;\n    }\n\n    .dataframe tbody tr th {\n        vertical-align: top;\n    }\n\n    .dataframe thead th {\n        text-align: right;\n    }\n</style>\n<table border=\"1\" class=\"dataframe\">\n  <thead>\n    <tr style=\"text-align: right;\">\n      <th></th>\n      <th>timestamp</th>\n      <th>event</th>\n      <th>itemid</th>\n    </tr>\n    <tr>\n      <th>visitorid</th>\n      <th></th>\n      <th></th>\n      <th></th>\n    </tr>\n  </thead>\n  <tbody>\n    <tr>\n      <th>172</th>\n      <td>1439599816912</td>\n      <td>addtocart</td>\n      <td>10034</td>\n    </tr>\n    <tr>\n      <th>172</th>\n      <td>1439601219691</td>\n      <td>addtocart</td>\n      <td>465522</td>\n    </tr>\n    <tr>\n      <th>172</th>\n      <td>1439601228324</td>\n      <td>addtocart</td>\n      <td>465522</td>\n    </tr>\n    <tr>\n      <th>172</th>\n      <td>1439602141230</td>\n      <td>transaction</td>\n      <td>465522</td>\n    </tr>\n    <tr>\n      <th>172</th>\n      <td>1439602141686</td>\n      <td>transaction</td>\n      <td>10034</td>\n    </tr>\n    <tr>\n      <th>...</th>\n      <td>...</td>\n      <td>...</td>\n      <td>...</td>\n    </tr>\n    <tr>\n      <th>1404163</th>\n      <td>1435710164769</td>\n      <td>addtocart</td>\n      <td>316255</td>\n    </tr>\n    <tr>\n      <th>1404163</th>\n      <td>1435710167921</td>\n      <td>addtocart</td>\n      <td>11670</td>\n    </tr>\n    <tr>\n      <th>1404163</th>\n      <td>1435710195727</td>\n      <td>addtocart</td>\n      <td>409793</td>\n    </tr>\n    <tr>\n      <th>1404163</th>\n      <td>1435710325899</td>\n      <td>addtocart</td>\n      <td>233427</td>\n    </tr>\n    <tr>\n      <th>1404163</th>\n      <td>1435710374506</td>\n      <td>addtocart</td>\n      <td>460034</td>\n    </tr>\n  </tbody>\n</table>\n<p>19067 rows × 3 columns</p>\n</div>"
     },
     "execution_count": 17,
     "metadata": {},
     "output_type": "execute_result"
    }
   ],
   "source": [
    "# use timestamps to determine the sequence order of actions.\n",
    "actions = events_data\n",
    "actions = actions.groupby('itemid').filter(lambda  x: len(x) >= 5)\n",
    "actions = actions.groupby('visitorid').filter(lambda  x: len(x) >= 5)\n",
    "actions = actions.groupby('visitorid', group_keys= False).apply(lambda  x: x.sort_values('timestamp'))\n",
    "# We discard users and items with fewer than 5 related actions.\n",
    "actions"
   ],
   "metadata": {
    "collapsed": false
   }
  },
  {
   "cell_type": "code",
   "execution_count": 18,
   "outputs": [],
   "source": [
    "usermap = dict()\n",
    "usernum = 0\n",
    "itemmap = dict()\n",
    "itemnum = 0\n",
    "for _id, row in actions.iterrows():\n",
    "    if _id in usermap:\n",
    "        userid = usermap[_id]\n",
    "    else:\n",
    "        usernum += 1\n",
    "        userid = usernum\n",
    "        usermap[_id] = userid\n",
    "\n",
    "    if row.itemid in itemmap:\n",
    "        itemid = itemmap[row.itemid]\n",
    "    else:\n",
    "        itemnum += 1\n",
    "        itemid = itemnum\n",
    "        itemmap[row.itemid] = itemid"
   ],
   "metadata": {
    "collapsed": false
   }
  },
  {
   "cell_type": "code",
   "execution_count": 19,
   "outputs": [
    {
     "data": {
      "text/plain": "(1256, 4205)"
     },
     "execution_count": 19,
     "metadata": {},
     "output_type": "execute_result"
    }
   ],
   "source": [
    "usermap.__len__(), itemmap.__len__()"
   ],
   "metadata": {
    "collapsed": false
   }
  },
  {
   "cell_type": "code",
   "execution_count": 20,
   "outputs": [],
   "source": [
    "actions['itemid'] = actions['itemid'].map(itemmap)\n",
    "actions.index = actions.index.map(usermap)\n",
    "# data['Occupation'] = data['Occupation'].map(occupation_map)"
   ],
   "metadata": {
    "collapsed": false
   }
  },
  {
   "cell_type": "code",
   "execution_count": 21,
   "outputs": [
    {
     "data": {
      "text/plain": "               timestamp        event  itemid\nvisitorid                                    \n1          1439599816912    addtocart       1\n1          1439601219691    addtocart       2\n1          1439601228324    addtocart       2\n1          1439602141230  transaction       2\n1          1439602141686  transaction       1\n...                  ...          ...     ...\n1256       1435710164769    addtocart    1164\n1256       1435710167921    addtocart    1166\n1256       1435710195727    addtocart     237\n1256       1435710325899    addtocart    1263\n1256       1435710374506    addtocart    1167\n\n[19067 rows x 3 columns]",
      "text/html": "<div>\n<style scoped>\n    .dataframe tbody tr th:only-of-type {\n        vertical-align: middle;\n    }\n\n    .dataframe tbody tr th {\n        vertical-align: top;\n    }\n\n    .dataframe thead th {\n        text-align: right;\n    }\n</style>\n<table border=\"1\" class=\"dataframe\">\n  <thead>\n    <tr style=\"text-align: right;\">\n      <th></th>\n      <th>timestamp</th>\n      <th>event</th>\n      <th>itemid</th>\n    </tr>\n    <tr>\n      <th>visitorid</th>\n      <th></th>\n      <th></th>\n      <th></th>\n    </tr>\n  </thead>\n  <tbody>\n    <tr>\n      <th>1</th>\n      <td>1439599816912</td>\n      <td>addtocart</td>\n      <td>1</td>\n    </tr>\n    <tr>\n      <th>1</th>\n      <td>1439601219691</td>\n      <td>addtocart</td>\n      <td>2</td>\n    </tr>\n    <tr>\n      <th>1</th>\n      <td>1439601228324</td>\n      <td>addtocart</td>\n      <td>2</td>\n    </tr>\n    <tr>\n      <th>1</th>\n      <td>1439602141230</td>\n      <td>transaction</td>\n      <td>2</td>\n    </tr>\n    <tr>\n      <th>1</th>\n      <td>1439602141686</td>\n      <td>transaction</td>\n      <td>1</td>\n    </tr>\n    <tr>\n      <th>...</th>\n      <td>...</td>\n      <td>...</td>\n      <td>...</td>\n    </tr>\n    <tr>\n      <th>1256</th>\n      <td>1435710164769</td>\n      <td>addtocart</td>\n      <td>1164</td>\n    </tr>\n    <tr>\n      <th>1256</th>\n      <td>1435710167921</td>\n      <td>addtocart</td>\n      <td>1166</td>\n    </tr>\n    <tr>\n      <th>1256</th>\n      <td>1435710195727</td>\n      <td>addtocart</td>\n      <td>237</td>\n    </tr>\n    <tr>\n      <th>1256</th>\n      <td>1435710325899</td>\n      <td>addtocart</td>\n      <td>1263</td>\n    </tr>\n    <tr>\n      <th>1256</th>\n      <td>1435710374506</td>\n      <td>addtocart</td>\n      <td>1167</td>\n    </tr>\n  </tbody>\n</table>\n<p>19067 rows × 3 columns</p>\n</div>"
     },
     "execution_count": 21,
     "metadata": {},
     "output_type": "execute_result"
    }
   ],
   "source": [
    "actions"
   ],
   "metadata": {
    "collapsed": false
   }
  },
  {
   "cell_type": "code",
   "execution_count": 22,
   "outputs": [
    {
     "data": {
      "text/plain": "           itemid\nvisitorid        \n1               1\n1               2\n1               2\n1               2\n1               1",
      "text/html": "<div>\n<style scoped>\n    .dataframe tbody tr th:only-of-type {\n        vertical-align: middle;\n    }\n\n    .dataframe tbody tr th {\n        vertical-align: top;\n    }\n\n    .dataframe thead th {\n        text-align: right;\n    }\n</style>\n<table border=\"1\" class=\"dataframe\">\n  <thead>\n    <tr style=\"text-align: right;\">\n      <th></th>\n      <th>itemid</th>\n    </tr>\n    <tr>\n      <th>visitorid</th>\n      <th></th>\n    </tr>\n  </thead>\n  <tbody>\n    <tr>\n      <th>1</th>\n      <td>1</td>\n    </tr>\n    <tr>\n      <th>1</th>\n      <td>2</td>\n    </tr>\n    <tr>\n      <th>1</th>\n      <td>2</td>\n    </tr>\n    <tr>\n      <th>1</th>\n      <td>2</td>\n    </tr>\n    <tr>\n      <th>1</th>\n      <td>1</td>\n    </tr>\n  </tbody>\n</table>\n</div>"
     },
     "execution_count": 22,
     "metadata": {},
     "output_type": "execute_result"
    }
   ],
   "source": [
    "sas_data = actions.drop('timestamp', axis=1, inplace=False).drop('event', axis=1, inplace=False)\n",
    "## ..continue\n",
    "sas_data.loc[1]"
   ],
   "metadata": {
    "collapsed": false
   }
  },
  {
   "cell_type": "code",
   "execution_count": 11,
   "outputs": [
    {
     "data": {
      "text/plain": "           itemid\nvisitorid        \n1               1\n1               1\n1               2\n1               3\n1               4\n...           ...\n75875       65712\n75875       32303\n75875        1327\n75875        3346\n75875        3346\n\n[879086 rows x 1 columns]",
      "text/html": "<div>\n<style scoped>\n    .dataframe tbody tr th:only-of-type {\n        vertical-align: middle;\n    }\n\n    .dataframe tbody tr th {\n        vertical-align: top;\n    }\n\n    .dataframe thead th {\n        text-align: right;\n    }\n</style>\n<table border=\"1\" class=\"dataframe\">\n  <thead>\n    <tr style=\"text-align: right;\">\n      <th></th>\n      <th>itemid</th>\n    </tr>\n    <tr>\n      <th>visitorid</th>\n      <th></th>\n    </tr>\n  </thead>\n  <tbody>\n    <tr>\n      <th>1</th>\n      <td>1</td>\n    </tr>\n    <tr>\n      <th>1</th>\n      <td>1</td>\n    </tr>\n    <tr>\n      <th>1</th>\n      <td>2</td>\n    </tr>\n    <tr>\n      <th>1</th>\n      <td>3</td>\n    </tr>\n    <tr>\n      <th>1</th>\n      <td>4</td>\n    </tr>\n    <tr>\n      <th>...</th>\n      <td>...</td>\n    </tr>\n    <tr>\n      <th>75875</th>\n      <td>65712</td>\n    </tr>\n    <tr>\n      <th>75875</th>\n      <td>32303</td>\n    </tr>\n    <tr>\n      <th>75875</th>\n      <td>1327</td>\n    </tr>\n    <tr>\n      <th>75875</th>\n      <td>3346</td>\n    </tr>\n    <tr>\n      <th>75875</th>\n      <td>3346</td>\n    </tr>\n  </tbody>\n</table>\n<p>879086 rows × 1 columns</p>\n</div>"
     },
     "execution_count": 11,
     "metadata": {},
     "output_type": "execute_result"
    }
   ],
   "source": [
    "sas_data"
   ],
   "metadata": {
    "collapsed": false
   }
  },
  {
   "cell_type": "code",
   "execution_count": 12,
   "outputs": [],
   "source": [
    "with open('retailrocket.txt', 'w') as f:\n",
    "    for _id in set(sas_data.index):\n",
    "        for item_id in sas_data.loc[_id].itemid:\n",
    "            f.write('%d %d\\n' % (_id, item_id))"
   ],
   "metadata": {
    "collapsed": false
   }
  },
  {
   "cell_type": "code",
   "execution_count": 23,
   "outputs": [
    {
     "data": {
      "text/plain": "15.180732484076433"
     },
     "execution_count": 23,
     "metadata": {},
     "output_type": "execute_result"
    }
   ],
   "source": [
    "userActLength = actions.groupby('visitorid').size()\n",
    "seq_avg_length= userActLength.mean()\n",
    "seq_avg_length"
   ],
   "metadata": {
    "collapsed": false
   }
  },
  {
   "cell_type": "code",
   "execution_count": 24,
   "outputs": [
    {
     "data": {
      "text/plain": "(5, 866)"
     },
     "execution_count": 24,
     "metadata": {},
     "output_type": "execute_result"
    }
   ],
   "source": [
    "userActLength.min(), userActLength.max()"
   ],
   "metadata": {
    "collapsed": false
   }
  }
 ],
 "metadata": {
  "kernelspec": {
   "display_name": "Python 3",
   "language": "python",
   "name": "python3"
  },
  "language_info": {
   "codemirror_mode": {
    "name": "ipython",
    "version": 2
   },
   "file_extension": ".py",
   "mimetype": "text/x-python",
   "name": "python",
   "nbconvert_exporter": "python",
   "pygments_lexer": "ipython2",
   "version": "2.7.6"
  }
 },
 "nbformat": 4,
 "nbformat_minor": 0
}
