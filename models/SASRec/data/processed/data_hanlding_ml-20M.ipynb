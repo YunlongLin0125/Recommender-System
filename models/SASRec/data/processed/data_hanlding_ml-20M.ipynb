{
 "cells": [
  {
   "cell_type": "code",
   "execution_count": 84,
   "metadata": {
    "collapsed": true
   },
   "outputs": [],
   "source": [
    "from collections import defaultdict\n",
    "from datetime import datetime\n",
    "import torch\n",
    "import numpy as np\n",
    "import pandas as pd"
   ]
  },
  {
   "cell_type": "code",
   "execution_count": 2,
   "outputs": [],
   "source": [
    "ml_20m_path = '../../../../datasets/ml-20m'"
   ],
   "metadata": {
    "collapsed": false
   }
  },
  {
   "cell_type": "code",
   "execution_count": 3,
   "outputs": [],
   "source": [
    "file_path = ml_20m_path + '/ratings.csv'\n",
    "data = pd.read_csv(file_path, encoding='latin-1', sep=',', engine='python', index_col='userId')"
   ],
   "metadata": {
    "collapsed": false
   }
  },
  {
   "cell_type": "code",
   "execution_count": 4,
   "outputs": [
    {
     "data": {
      "text/plain": "        movieId  rating   timestamp\nuserId                             \n1             2     3.5  1112486027\n1            29     3.5  1112484676\n1            32     3.5  1112484819\n1            47     3.5  1112484727\n1            50     3.5  1112484580\n...         ...     ...         ...\n138493    68954     4.5  1258126920\n138493    69526     4.5  1259865108\n138493    69644     3.0  1260209457\n138493    70286     5.0  1258126944\n138493    71619     2.5  1255811136\n\n[20000263 rows x 3 columns]",
      "text/html": "<div>\n<style scoped>\n    .dataframe tbody tr th:only-of-type {\n        vertical-align: middle;\n    }\n\n    .dataframe tbody tr th {\n        vertical-align: top;\n    }\n\n    .dataframe thead th {\n        text-align: right;\n    }\n</style>\n<table border=\"1\" class=\"dataframe\">\n  <thead>\n    <tr style=\"text-align: right;\">\n      <th></th>\n      <th>movieId</th>\n      <th>rating</th>\n      <th>timestamp</th>\n    </tr>\n    <tr>\n      <th>userId</th>\n      <th></th>\n      <th></th>\n      <th></th>\n    </tr>\n  </thead>\n  <tbody>\n    <tr>\n      <th>1</th>\n      <td>2</td>\n      <td>3.5</td>\n      <td>1112486027</td>\n    </tr>\n    <tr>\n      <th>1</th>\n      <td>29</td>\n      <td>3.5</td>\n      <td>1112484676</td>\n    </tr>\n    <tr>\n      <th>1</th>\n      <td>32</td>\n      <td>3.5</td>\n      <td>1112484819</td>\n    </tr>\n    <tr>\n      <th>1</th>\n      <td>47</td>\n      <td>3.5</td>\n      <td>1112484727</td>\n    </tr>\n    <tr>\n      <th>1</th>\n      <td>50</td>\n      <td>3.5</td>\n      <td>1112484580</td>\n    </tr>\n    <tr>\n      <th>...</th>\n      <td>...</td>\n      <td>...</td>\n      <td>...</td>\n    </tr>\n    <tr>\n      <th>138493</th>\n      <td>68954</td>\n      <td>4.5</td>\n      <td>1258126920</td>\n    </tr>\n    <tr>\n      <th>138493</th>\n      <td>69526</td>\n      <td>4.5</td>\n      <td>1259865108</td>\n    </tr>\n    <tr>\n      <th>138493</th>\n      <td>69644</td>\n      <td>3.0</td>\n      <td>1260209457</td>\n    </tr>\n    <tr>\n      <th>138493</th>\n      <td>70286</td>\n      <td>5.0</td>\n      <td>1258126944</td>\n    </tr>\n    <tr>\n      <th>138493</th>\n      <td>71619</td>\n      <td>2.5</td>\n      <td>1255811136</td>\n    </tr>\n  </tbody>\n</table>\n<p>20000263 rows × 3 columns</p>\n</div>"
     },
     "execution_count": 4,
     "metadata": {},
     "output_type": "execute_result"
    }
   ],
   "source": [
    "data"
   ],
   "metadata": {
    "collapsed": false
   }
  },
  {
   "cell_type": "code",
   "execution_count": 5,
   "outputs": [],
   "source": [
    "actions = data\n",
    "actions = actions.groupby('movieId').filter(lambda  x: len(x) >= 5)\n",
    "actions = actions.groupby('userId').filter(lambda  x: len(x) >= 5)"
   ],
   "metadata": {
    "collapsed": false
   }
  },
  {
   "cell_type": "code",
   "execution_count": 6,
   "outputs": [],
   "source": [
    "actions = actions.groupby('userId', group_keys=False).apply(lambda  x: x.sort_values('timestamp'))"
   ],
   "metadata": {
    "collapsed": false
   }
  },
  {
   "cell_type": "code",
   "execution_count": 7,
   "outputs": [
    {
     "data": {
      "text/plain": "        movieId  rating   timestamp\nuserId                             \n1           924     3.5  1094785598\n1           919     3.5  1094785621\n1          2683     3.5  1094785650\n1          1584     3.5  1094785656\n1          1079     4.0  1094785665\n...         ...     ...         ...\n138493     6534     3.0  1260209908\n138493    53464     4.0  1260209920\n138493     1275     3.0  1262378552\n138493     6996     3.0  1262378555\n138493      405     3.0  1262378572\n\n[19984024 rows x 3 columns]",
      "text/html": "<div>\n<style scoped>\n    .dataframe tbody tr th:only-of-type {\n        vertical-align: middle;\n    }\n\n    .dataframe tbody tr th {\n        vertical-align: top;\n    }\n\n    .dataframe thead th {\n        text-align: right;\n    }\n</style>\n<table border=\"1\" class=\"dataframe\">\n  <thead>\n    <tr style=\"text-align: right;\">\n      <th></th>\n      <th>movieId</th>\n      <th>rating</th>\n      <th>timestamp</th>\n    </tr>\n    <tr>\n      <th>userId</th>\n      <th></th>\n      <th></th>\n      <th></th>\n    </tr>\n  </thead>\n  <tbody>\n    <tr>\n      <th>1</th>\n      <td>924</td>\n      <td>3.5</td>\n      <td>1094785598</td>\n    </tr>\n    <tr>\n      <th>1</th>\n      <td>919</td>\n      <td>3.5</td>\n      <td>1094785621</td>\n    </tr>\n    <tr>\n      <th>1</th>\n      <td>2683</td>\n      <td>3.5</td>\n      <td>1094785650</td>\n    </tr>\n    <tr>\n      <th>1</th>\n      <td>1584</td>\n      <td>3.5</td>\n      <td>1094785656</td>\n    </tr>\n    <tr>\n      <th>1</th>\n      <td>1079</td>\n      <td>4.0</td>\n      <td>1094785665</td>\n    </tr>\n    <tr>\n      <th>...</th>\n      <td>...</td>\n      <td>...</td>\n      <td>...</td>\n    </tr>\n    <tr>\n      <th>138493</th>\n      <td>6534</td>\n      <td>3.0</td>\n      <td>1260209908</td>\n    </tr>\n    <tr>\n      <th>138493</th>\n      <td>53464</td>\n      <td>4.0</td>\n      <td>1260209920</td>\n    </tr>\n    <tr>\n      <th>138493</th>\n      <td>1275</td>\n      <td>3.0</td>\n      <td>1262378552</td>\n    </tr>\n    <tr>\n      <th>138493</th>\n      <td>6996</td>\n      <td>3.0</td>\n      <td>1262378555</td>\n    </tr>\n    <tr>\n      <th>138493</th>\n      <td>405</td>\n      <td>3.0</td>\n      <td>1262378572</td>\n    </tr>\n  </tbody>\n</table>\n<p>19984024 rows × 3 columns</p>\n</div>"
     },
     "execution_count": 7,
     "metadata": {},
     "output_type": "execute_result"
    }
   ],
   "source": [
    "actions"
   ],
   "metadata": {
    "collapsed": false
   }
  },
  {
   "cell_type": "code",
   "execution_count": 8,
   "outputs": [
    {
     "data": {
      "text/plain": "(20, 8540, 144.2935816250641)"
     },
     "execution_count": 8,
     "metadata": {},
     "output_type": "execute_result"
    }
   ],
   "source": [
    "# data = data.groupby('userId')\n",
    "min = 100000\n",
    "max = 0\n",
    "total = 0\n",
    "for i in range(1, actions.index.max()):\n",
    "    total += len(actions.loc[i])\n",
    "    if len(data.loc[i]) < min:\n",
    "        min = len(actions.loc[i])\n",
    "    if len(data.loc[i]) > max:\n",
    "        max = len(actions.loc[i])\n",
    "min, max, total/actions.index.max()"
   ],
   "metadata": {
    "collapsed": false
   }
  },
  {
   "cell_type": "code",
   "execution_count": 8,
   "outputs": [],
   "source": [],
   "metadata": {
    "collapsed": false
   }
  },
  {
   "cell_type": "code",
   "execution_count": 9,
   "outputs": [],
   "source": [
    "usermap = dict()\n",
    "usernum = 0\n",
    "itemmap = dict()\n",
    "itemnum = 0\n",
    "# reorder the userid and itemid (keep the same step with original SASRec code)\n",
    "for _id, row in actions.iterrows():\n",
    "    if _id in usermap:\n",
    "        userid = usermap[_id]\n",
    "    else:\n",
    "        usernum += 1\n",
    "        userid = usernum\n",
    "        usermap[_id] = userid\n",
    "\n",
    "    if row.movieId in itemmap:\n",
    "        itemid = itemmap[row.movieId]\n",
    "    else:\n",
    "        itemnum += 1\n",
    "        itemid = itemnum\n",
    "        itemmap[row.movieId] = itemid"
   ],
   "metadata": {
    "collapsed": false
   }
  },
  {
   "cell_type": "code",
   "execution_count": 10,
   "outputs": [
    {
     "data": {
      "text/plain": "(138493, 18345)"
     },
     "execution_count": 10,
     "metadata": {},
     "output_type": "execute_result"
    }
   ],
   "source": [
    "usermap.__len__(), itemmap.__len__()"
   ],
   "metadata": {
    "collapsed": false
   }
  },
  {
   "cell_type": "code",
   "execution_count": 11,
   "outputs": [],
   "source": [
    "actions['movieId'] = actions['movieId'].map(itemmap)\n",
    "actions.index = actions.index.map(usermap)"
   ],
   "metadata": {
    "collapsed": false
   }
  },
  {
   "cell_type": "code",
   "execution_count": 12,
   "outputs": [
    {
     "data": {
      "text/plain": "        movieId  rating   timestamp\nuserId                             \n1             1     3.5  1094785598\n1             2     3.5  1094785621\n1             3     3.5  1094785650\n1             4     3.5  1094785656\n1             5     4.0  1094785665\n...         ...     ...         ...\n138493      872     3.0  1260209908\n138493      797     4.0  1260209920\n138493     2336     3.0  1262378552\n138493      946     3.0  1262378555\n138493      789     3.0  1262378572\n\n[19984024 rows x 3 columns]",
      "text/html": "<div>\n<style scoped>\n    .dataframe tbody tr th:only-of-type {\n        vertical-align: middle;\n    }\n\n    .dataframe tbody tr th {\n        vertical-align: top;\n    }\n\n    .dataframe thead th {\n        text-align: right;\n    }\n</style>\n<table border=\"1\" class=\"dataframe\">\n  <thead>\n    <tr style=\"text-align: right;\">\n      <th></th>\n      <th>movieId</th>\n      <th>rating</th>\n      <th>timestamp</th>\n    </tr>\n    <tr>\n      <th>userId</th>\n      <th></th>\n      <th></th>\n      <th></th>\n    </tr>\n  </thead>\n  <tbody>\n    <tr>\n      <th>1</th>\n      <td>1</td>\n      <td>3.5</td>\n      <td>1094785598</td>\n    </tr>\n    <tr>\n      <th>1</th>\n      <td>2</td>\n      <td>3.5</td>\n      <td>1094785621</td>\n    </tr>\n    <tr>\n      <th>1</th>\n      <td>3</td>\n      <td>3.5</td>\n      <td>1094785650</td>\n    </tr>\n    <tr>\n      <th>1</th>\n      <td>4</td>\n      <td>3.5</td>\n      <td>1094785656</td>\n    </tr>\n    <tr>\n      <th>1</th>\n      <td>5</td>\n      <td>4.0</td>\n      <td>1094785665</td>\n    </tr>\n    <tr>\n      <th>...</th>\n      <td>...</td>\n      <td>...</td>\n      <td>...</td>\n    </tr>\n    <tr>\n      <th>138493</th>\n      <td>872</td>\n      <td>3.0</td>\n      <td>1260209908</td>\n    </tr>\n    <tr>\n      <th>138493</th>\n      <td>797</td>\n      <td>4.0</td>\n      <td>1260209920</td>\n    </tr>\n    <tr>\n      <th>138493</th>\n      <td>2336</td>\n      <td>3.0</td>\n      <td>1262378552</td>\n    </tr>\n    <tr>\n      <th>138493</th>\n      <td>946</td>\n      <td>3.0</td>\n      <td>1262378555</td>\n    </tr>\n    <tr>\n      <th>138493</th>\n      <td>789</td>\n      <td>3.0</td>\n      <td>1262378572</td>\n    </tr>\n  </tbody>\n</table>\n<p>19984024 rows × 3 columns</p>\n</div>"
     },
     "execution_count": 12,
     "metadata": {},
     "output_type": "execute_result"
    }
   ],
   "source": [
    "actions"
   ],
   "metadata": {
    "collapsed": false
   }
  },
  {
   "cell_type": "code",
   "execution_count": 13,
   "outputs": [],
   "source": [
    "sas_data = actions.drop('rating', axis=1, inplace=False).drop('timestamp', axis=1, inplace=False)"
   ],
   "metadata": {
    "collapsed": false
   }
  },
  {
   "cell_type": "code",
   "execution_count": 14,
   "outputs": [],
   "source": [
    "with open('ml-20m.txt', 'w') as f:\n",
    "    for _id in set(sas_data.index):\n",
    "        for movie_id in sas_data.loc[_id].movieId:\n",
    "            f.write('%d %d\\n' % (_id, movie_id))"
   ],
   "metadata": {
    "collapsed": false
   }
  },
  {
   "cell_type": "code",
   "execution_count": 15,
   "outputs": [
    {
     "data": {
      "text/plain": "        movieId\nuserId         \n1             1\n1             2\n1             3\n1             4\n1             5\n...         ...\n138493      872\n138493      797\n138493     2336\n138493      946\n138493      789\n\n[19984024 rows x 1 columns]",
      "text/html": "<div>\n<style scoped>\n    .dataframe tbody tr th:only-of-type {\n        vertical-align: middle;\n    }\n\n    .dataframe tbody tr th {\n        vertical-align: top;\n    }\n\n    .dataframe thead th {\n        text-align: right;\n    }\n</style>\n<table border=\"1\" class=\"dataframe\">\n  <thead>\n    <tr style=\"text-align: right;\">\n      <th></th>\n      <th>movieId</th>\n    </tr>\n    <tr>\n      <th>userId</th>\n      <th></th>\n    </tr>\n  </thead>\n  <tbody>\n    <tr>\n      <th>1</th>\n      <td>1</td>\n    </tr>\n    <tr>\n      <th>1</th>\n      <td>2</td>\n    </tr>\n    <tr>\n      <th>1</th>\n      <td>3</td>\n    </tr>\n    <tr>\n      <th>1</th>\n      <td>4</td>\n    </tr>\n    <tr>\n      <th>1</th>\n      <td>5</td>\n    </tr>\n    <tr>\n      <th>...</th>\n      <td>...</td>\n    </tr>\n    <tr>\n      <th>138493</th>\n      <td>872</td>\n    </tr>\n    <tr>\n      <th>138493</th>\n      <td>797</td>\n    </tr>\n    <tr>\n      <th>138493</th>\n      <td>2336</td>\n    </tr>\n    <tr>\n      <th>138493</th>\n      <td>946</td>\n    </tr>\n    <tr>\n      <th>138493</th>\n      <td>789</td>\n    </tr>\n  </tbody>\n</table>\n<p>19984024 rows × 1 columns</p>\n</div>"
     },
     "execution_count": 15,
     "metadata": {},
     "output_type": "execute_result"
    }
   ],
   "source": [
    "sas_data"
   ],
   "metadata": {
    "collapsed": false
   }
  },
  {
   "cell_type": "code",
   "execution_count": 16,
   "outputs": [],
   "source": [
    "userMaxTime = actions.groupby('userId').timestamp.max()"
   ],
   "metadata": {
    "collapsed": false
   }
  },
  {
   "cell_type": "code",
   "execution_count": 17,
   "outputs": [
    {
     "data": {
      "text/plain": "userId\n1         1112486201\n2          974821014\n3          945176099\n4          840879654\n5          851617728\n             ...    \n138489    1352990179\n138490     975545576\n138491    1247183347\n138492    1115351450\n138493    1262378572\nName: timestamp, Length: 138493, dtype: int64"
     },
     "execution_count": 17,
     "metadata": {},
     "output_type": "execute_result"
    }
   ],
   "source": [
    "userMaxTime"
   ],
   "metadata": {
    "collapsed": false
   }
  },
  {
   "cell_type": "code",
   "execution_count": 30,
   "outputs": [],
   "source": [
    "day = 86400\n",
    "num_day = 14\n",
    "userSplitTime = userMaxTime - num_day * day"
   ],
   "metadata": {
    "collapsed": false
   }
  },
  {
   "cell_type": "code",
   "execution_count": 31,
   "outputs": [
    {
     "data": {
      "text/plain": "        movieId  rating   timestamp\nuserId                             \n1             1     3.5  1094785598\n1             2     3.5  1094785621\n1             3     3.5  1094785650\n1             4     3.5  1094785656\n1             5     4.0  1094785665\n...         ...     ...         ...\n138493      872     3.0  1260209908\n138493      797     4.0  1260209920\n138493     2336     3.0  1262378552\n138493      946     3.0  1262378555\n138493      789     3.0  1262378572\n\n[19984024 rows x 3 columns]",
      "text/html": "<div>\n<style scoped>\n    .dataframe tbody tr th:only-of-type {\n        vertical-align: middle;\n    }\n\n    .dataframe tbody tr th {\n        vertical-align: top;\n    }\n\n    .dataframe thead th {\n        text-align: right;\n    }\n</style>\n<table border=\"1\" class=\"dataframe\">\n  <thead>\n    <tr style=\"text-align: right;\">\n      <th></th>\n      <th>movieId</th>\n      <th>rating</th>\n      <th>timestamp</th>\n    </tr>\n    <tr>\n      <th>userId</th>\n      <th></th>\n      <th></th>\n      <th></th>\n    </tr>\n  </thead>\n  <tbody>\n    <tr>\n      <th>1</th>\n      <td>1</td>\n      <td>3.5</td>\n      <td>1094785598</td>\n    </tr>\n    <tr>\n      <th>1</th>\n      <td>2</td>\n      <td>3.5</td>\n      <td>1094785621</td>\n    </tr>\n    <tr>\n      <th>1</th>\n      <td>3</td>\n      <td>3.5</td>\n      <td>1094785650</td>\n    </tr>\n    <tr>\n      <th>1</th>\n      <td>4</td>\n      <td>3.5</td>\n      <td>1094785656</td>\n    </tr>\n    <tr>\n      <th>1</th>\n      <td>5</td>\n      <td>4.0</td>\n      <td>1094785665</td>\n    </tr>\n    <tr>\n      <th>...</th>\n      <td>...</td>\n      <td>...</td>\n      <td>...</td>\n    </tr>\n    <tr>\n      <th>138493</th>\n      <td>872</td>\n      <td>3.0</td>\n      <td>1260209908</td>\n    </tr>\n    <tr>\n      <th>138493</th>\n      <td>797</td>\n      <td>4.0</td>\n      <td>1260209920</td>\n    </tr>\n    <tr>\n      <th>138493</th>\n      <td>2336</td>\n      <td>3.0</td>\n      <td>1262378552</td>\n    </tr>\n    <tr>\n      <th>138493</th>\n      <td>946</td>\n      <td>3.0</td>\n      <td>1262378555</td>\n    </tr>\n    <tr>\n      <th>138493</th>\n      <td>789</td>\n      <td>3.0</td>\n      <td>1262378572</td>\n    </tr>\n  </tbody>\n</table>\n<p>19984024 rows × 3 columns</p>\n</div>"
     },
     "execution_count": 31,
     "metadata": {},
     "output_type": "execute_result"
    }
   ],
   "source": [
    "actions"
   ],
   "metadata": {
    "collapsed": false
   }
  },
  {
   "cell_type": "code",
   "execution_count": 32,
   "outputs": [
    {
     "data": {
      "text/plain": "userId\n1         1111276601\n2          973611414\n3          943966499\n4          839670054\n5          850408128\n             ...    \n138489    1351780579\n138490     974335976\n138491    1245973747\n138492    1114141850\n138493    1261168972\nName: timestamp, Length: 138493, dtype: int64"
     },
     "execution_count": 32,
     "metadata": {},
     "output_type": "execute_result"
    }
   ],
   "source": [
    "userSplitTime"
   ],
   "metadata": {
    "collapsed": false
   }
  },
  {
   "cell_type": "code",
   "execution_count": 38,
   "outputs": [],
   "source": [
    "def filter_input(group):\n",
    "    user_id = group.index[0]\n",
    "    limit = userSplitTime.loc[user_id]\n",
    "    return group[group['timestamp'] < limit]\n",
    "\n",
    "def filter_target(group):\n",
    "    user_id = group.index[0]\n",
    "    limit = userSplitTime.loc[user_id]\n",
    "    return group[group['timestamp'] >= limit]"
   ],
   "metadata": {
    "collapsed": false
   }
  },
  {
   "cell_type": "code",
   "execution_count": 65,
   "outputs": [],
   "source": [
    "input_data = actions.groupby('userId').apply(filter_input)\n",
    "target_window = actions.groupby('userId').apply(filter_target)"
   ],
   "metadata": {
    "collapsed": false
   }
  },
  {
   "cell_type": "code",
   "execution_count": 66,
   "outputs": [],
   "source": [
    "input_data = input_data.reset_index(level=1, drop=True)"
   ],
   "metadata": {
    "collapsed": false
   }
  },
  {
   "cell_type": "code",
   "execution_count": 54,
   "outputs": [
    {
     "data": {
      "text/plain": "        movieId  rating   timestamp\nuserId                             \n1             1     3.5  1094785598\n1             2     3.5  1094785621\n1             3     3.5  1094785650\n1             4     3.5  1094785656\n1             5     4.0  1094785665\n...         ...     ...         ...\n138493     1901     4.5  1260209726\n138493      978     3.5  1260209807\n138493      971     4.0  1260209811\n138493      872     3.0  1260209908\n138493      797     4.0  1260209920\n\n[10504095 rows x 3 columns]",
      "text/html": "<div>\n<style scoped>\n    .dataframe tbody tr th:only-of-type {\n        vertical-align: middle;\n    }\n\n    .dataframe tbody tr th {\n        vertical-align: top;\n    }\n\n    .dataframe thead th {\n        text-align: right;\n    }\n</style>\n<table border=\"1\" class=\"dataframe\">\n  <thead>\n    <tr style=\"text-align: right;\">\n      <th></th>\n      <th>movieId</th>\n      <th>rating</th>\n      <th>timestamp</th>\n    </tr>\n    <tr>\n      <th>userId</th>\n      <th></th>\n      <th></th>\n      <th></th>\n    </tr>\n  </thead>\n  <tbody>\n    <tr>\n      <th>1</th>\n      <td>1</td>\n      <td>3.5</td>\n      <td>1094785598</td>\n    </tr>\n    <tr>\n      <th>1</th>\n      <td>2</td>\n      <td>3.5</td>\n      <td>1094785621</td>\n    </tr>\n    <tr>\n      <th>1</th>\n      <td>3</td>\n      <td>3.5</td>\n      <td>1094785650</td>\n    </tr>\n    <tr>\n      <th>1</th>\n      <td>4</td>\n      <td>3.5</td>\n      <td>1094785656</td>\n    </tr>\n    <tr>\n      <th>1</th>\n      <td>5</td>\n      <td>4.0</td>\n      <td>1094785665</td>\n    </tr>\n    <tr>\n      <th>...</th>\n      <td>...</td>\n      <td>...</td>\n      <td>...</td>\n    </tr>\n    <tr>\n      <th>138493</th>\n      <td>1901</td>\n      <td>4.5</td>\n      <td>1260209726</td>\n    </tr>\n    <tr>\n      <th>138493</th>\n      <td>978</td>\n      <td>3.5</td>\n      <td>1260209807</td>\n    </tr>\n    <tr>\n      <th>138493</th>\n      <td>971</td>\n      <td>4.0</td>\n      <td>1260209811</td>\n    </tr>\n    <tr>\n      <th>138493</th>\n      <td>872</td>\n      <td>3.0</td>\n      <td>1260209908</td>\n    </tr>\n    <tr>\n      <th>138493</th>\n      <td>797</td>\n      <td>4.0</td>\n      <td>1260209920</td>\n    </tr>\n  </tbody>\n</table>\n<p>10504095 rows × 3 columns</p>\n</div>"
     },
     "execution_count": 54,
     "metadata": {},
     "output_type": "execute_result"
    }
   ],
   "source": [
    "input_data"
   ],
   "metadata": {
    "collapsed": false
   }
  },
  {
   "cell_type": "code",
   "execution_count": 67,
   "outputs": [],
   "source": [
    "target_window = target_window.reset_index(level=1, drop=True)"
   ],
   "metadata": {
    "collapsed": false
   }
  },
  {
   "cell_type": "code",
   "execution_count": 55,
   "outputs": [
    {
     "data": {
      "text/plain": "        movieId  rating   timestamp\nuserId                             \n1            47     3.5  1112484493\n1            48     3.5  1112484525\n1            49     3.5  1112484537\n1            50     3.0  1112484548\n1            51     4.0  1112484560\n...         ...     ...         ...\n138492     2955     4.0  1115351448\n138492      189     5.0  1115351450\n138493     2336     3.0  1262378552\n138493      946     3.0  1262378555\n138493      789     3.0  1262378572\n\n[9479929 rows x 3 columns]",
      "text/html": "<div>\n<style scoped>\n    .dataframe tbody tr th:only-of-type {\n        vertical-align: middle;\n    }\n\n    .dataframe tbody tr th {\n        vertical-align: top;\n    }\n\n    .dataframe thead th {\n        text-align: right;\n    }\n</style>\n<table border=\"1\" class=\"dataframe\">\n  <thead>\n    <tr style=\"text-align: right;\">\n      <th></th>\n      <th>movieId</th>\n      <th>rating</th>\n      <th>timestamp</th>\n    </tr>\n    <tr>\n      <th>userId</th>\n      <th></th>\n      <th></th>\n      <th></th>\n    </tr>\n  </thead>\n  <tbody>\n    <tr>\n      <th>1</th>\n      <td>47</td>\n      <td>3.5</td>\n      <td>1112484493</td>\n    </tr>\n    <tr>\n      <th>1</th>\n      <td>48</td>\n      <td>3.5</td>\n      <td>1112484525</td>\n    </tr>\n    <tr>\n      <th>1</th>\n      <td>49</td>\n      <td>3.5</td>\n      <td>1112484537</td>\n    </tr>\n    <tr>\n      <th>1</th>\n      <td>50</td>\n      <td>3.0</td>\n      <td>1112484548</td>\n    </tr>\n    <tr>\n      <th>1</th>\n      <td>51</td>\n      <td>4.0</td>\n      <td>1112484560</td>\n    </tr>\n    <tr>\n      <th>...</th>\n      <td>...</td>\n      <td>...</td>\n      <td>...</td>\n    </tr>\n    <tr>\n      <th>138492</th>\n      <td>2955</td>\n      <td>4.0</td>\n      <td>1115351448</td>\n    </tr>\n    <tr>\n      <th>138492</th>\n      <td>189</td>\n      <td>5.0</td>\n      <td>1115351450</td>\n    </tr>\n    <tr>\n      <th>138493</th>\n      <td>2336</td>\n      <td>3.0</td>\n      <td>1262378552</td>\n    </tr>\n    <tr>\n      <th>138493</th>\n      <td>946</td>\n      <td>3.0</td>\n      <td>1262378555</td>\n    </tr>\n    <tr>\n      <th>138493</th>\n      <td>789</td>\n      <td>3.0</td>\n      <td>1262378572</td>\n    </tr>\n  </tbody>\n</table>\n<p>9479929 rows × 3 columns</p>\n</div>"
     },
     "execution_count": 55,
     "metadata": {},
     "output_type": "execute_result"
    }
   ],
   "source": [
    "target_window"
   ],
   "metadata": {
    "collapsed": false
   }
  },
  {
   "cell_type": "code",
   "execution_count": 68,
   "outputs": [],
   "source": [
    "input_idx = set(input_data.index)\n",
    "target_idx = set(target_window.index)\n",
    "valid_userid = input_idx.intersection(target_idx)"
   ],
   "metadata": {
    "collapsed": false
   }
  },
  {
   "cell_type": "code",
   "execution_count": 70,
   "outputs": [
    {
     "data": {
      "text/plain": "39019"
     },
     "execution_count": 70,
     "metadata": {},
     "output_type": "execute_result"
    }
   ],
   "source": [
    "len(valid_userid)"
   ],
   "metadata": {
    "collapsed": false
   }
  },
  {
   "cell_type": "code",
   "execution_count": 72,
   "outputs": [
    {
     "data": {
      "text/plain": "[1,\n 11,\n 17,\n 18,\n 24,\n 34,\n 35,\n 40,\n 41,\n 43,\n 46,\n 47,\n 48,\n 51,\n 56,\n 58,\n 60,\n 61,\n 65,\n 82,\n 89,\n 90,\n 91,\n 93,\n 96,\n 100,\n 103,\n 107,\n 129,\n 130,\n 131,\n 132,\n 133,\n 134,\n 135,\n 136,\n 137,\n 140,\n 144,\n 153,\n 154,\n 156,\n 162,\n 167,\n 170,\n 186,\n 189,\n 205,\n 206,\n 208,\n 209,\n 213,\n 215,\n 218,\n 219,\n 220,\n 222,\n 223,\n 228,\n 233,\n 238,\n 239,\n 241,\n 247,\n 248,\n 258,\n 267,\n 268,\n 269,\n 271,\n 275,\n 278,\n 279,\n 283,\n 290,\n 294,\n 304,\n 306,\n 309,\n 312,\n 313,\n 314,\n 317,\n 318,\n 334,\n 335,\n 337,\n 339,\n 342,\n 343,\n 344,\n 347,\n 348,\n 349,\n 351,\n 359,\n 361,\n 367,\n 370,\n 372,\n 375,\n 376,\n 378,\n 379,\n 380,\n 383,\n 386,\n 387,\n 388,\n 389,\n 390,\n 394,\n 409,\n 412,\n 413,\n 415,\n 419,\n 421,\n 423,\n 425,\n 431,\n 439,\n 440,\n 441,\n 445,\n 448,\n 449,\n 451,\n 453,\n 455,\n 456,\n 459,\n 466,\n 468,\n 469,\n 470,\n 471,\n 474,\n 485,\n 486,\n 487,\n 488,\n 489,\n 490,\n 495,\n 503,\n 505,\n 506,\n 508,\n 514,\n 516,\n 520,\n 523,\n 534,\n 535,\n 539,\n 540,\n 544,\n 549,\n 557,\n 567,\n 572,\n 573,\n 575,\n 577,\n 578,\n 581,\n 583,\n 584,\n 586,\n 587,\n 593,\n 594,\n 603,\n 604,\n 609,\n 614,\n 619,\n 627,\n 628,\n 631,\n 632,\n 634,\n 635,\n 637,\n 638,\n 648,\n 650,\n 654,\n 662,\n 663,\n 664,\n 670,\n 671,\n 672,\n 673,\n 674,\n 675,\n 678,\n 688,\n 689,\n 694,\n 696,\n 699,\n 707,\n 710,\n 711,\n 713,\n 721,\n 724,\n 727,\n 729,\n 732,\n 735,\n 737,\n 738,\n 739,\n 741,\n 742,\n 744,\n 751,\n 757,\n 760,\n 761,\n 764,\n 765,\n 768,\n 769,\n 776,\n 778,\n 786,\n 787,\n 790,\n 792,\n 793,\n 794,\n 796,\n 798,\n 804,\n 812,\n 816,\n 817,\n 821,\n 824,\n 827,\n 828,\n 829,\n 834,\n 839,\n 846,\n 847,\n 853,\n 860,\n 862,\n 863,\n 864,\n 868,\n 870,\n 878,\n 885,\n 887,\n 890,\n 893,\n 894,\n 900,\n 902,\n 903,\n 910,\n 914,\n 920,\n 923,\n 926,\n 929,\n 932,\n 935,\n 940,\n 942,\n 943,\n 947,\n 953,\n 955,\n 959,\n 964,\n 969,\n 971,\n 975,\n 981,\n 982,\n 986,\n 990,\n 994,\n 995,\n 1001,\n 1011,\n 1015,\n 1020,\n 1022,\n 1023,\n 1024,\n 1026,\n 1028,\n 1030,\n 1032,\n 1034,\n 1038,\n 1042,\n 1044,\n 1045,\n 1052,\n 1057,\n 1068,\n 1073,\n 1076,\n 1078,\n 1081,\n 1084,\n 1087,\n 1093,\n 1095,\n 1102,\n 1107,\n 1108,\n 1113,\n 1123,\n 1125,\n 1133,\n 1136,\n 1140,\n 1141,\n 1145,\n 1148,\n 1149,\n 1150,\n 1152,\n 1155,\n 1160,\n 1165,\n 1170,\n 1174,\n 1175,\n 1187,\n 1188,\n 1190,\n 1191,\n 1195,\n 1198,\n 1200,\n 1202,\n 1206,\n 1207,\n 1209,\n 1216,\n 1217,\n 1219,\n 1222,\n 1223,\n 1225,\n 1228,\n 1233,\n 1236,\n 1244,\n 1254,\n 1263,\n 1265,\n 1268,\n 1270,\n 1271,\n 1277,\n 1280,\n 1282,\n 1288,\n 1291,\n 1296,\n 1301,\n 1308,\n 1310,\n 1313,\n 1314,\n 1317,\n 1320,\n 1326,\n 1330,\n 1334,\n 1336,\n 1338,\n 1339,\n 1341,\n 1357,\n 1359,\n 1367,\n 1369,\n 1372,\n 1374,\n 1378,\n 1381,\n 1384,\n 1387,\n 1390,\n 1391,\n 1396,\n 1403,\n 1408,\n 1411,\n 1412,\n 1418,\n 1419,\n 1421,\n 1422,\n 1426,\n 1430,\n 1433,\n 1436,\n 1437,\n 1441,\n 1442,\n 1447,\n 1449,\n 1452,\n 1453,\n 1454,\n 1455,\n 1457,\n 1458,\n 1459,\n 1475,\n 1486,\n 1494,\n 1496,\n 1507,\n 1508,\n 1510,\n 1511,\n 1514,\n 1515,\n 1516,\n 1518,\n 1523,\n 1528,\n 1530,\n 1537,\n 1539,\n 1546,\n 1548,\n 1550,\n 1551,\n 1553,\n 1554,\n 1555,\n 1559,\n 1560,\n 1563,\n 1566,\n 1567,\n 1568,\n 1571,\n 1577,\n 1581,\n 1583,\n 1584,\n 1587,\n 1588,\n 1591,\n 1593,\n 1598,\n 1600,\n 1601,\n 1602,\n 1604,\n 1610,\n 1612,\n 1616,\n 1626,\n 1627,\n 1629,\n 1644,\n 1646,\n 1650,\n 1653,\n 1657,\n 1662,\n 1663,\n 1666,\n 1667,\n 1669,\n 1672,\n 1678,\n 1679,\n 1682,\n 1685,\n 1689,\n 1690,\n 1693,\n 1698,\n 1702,\n 1703,\n 1707,\n 1714,\n 1715,\n 1716,\n 1718,\n 1719,\n 1728,\n 1734,\n 1735,\n 1736,\n 1741,\n 1748,\n 1750,\n 1755,\n 1757,\n 1758,\n 1762,\n 1763,\n 1767,\n 1770,\n 1775,\n 1777,\n 1779,\n 1786,\n 1789,\n 1803,\n 1807,\n 1810,\n 1813,\n 1816,\n 1817,\n 1825,\n 1826,\n 1829,\n 1830,\n 1831,\n 1835,\n 1837,\n 1839,\n 1843,\n 1848,\n 1849,\n 1851,\n 1854,\n 1855,\n 1863,\n 1864,\n 1868,\n 1876,\n 1877,\n 1882,\n 1883,\n 1885,\n 1887,\n 1888,\n 1889,\n 1896,\n 1906,\n 1908,\n 1915,\n 1917,\n 1919,\n 1924,\n 1925,\n 1927,\n 1928,\n 1932,\n 1935,\n 1937,\n 1939,\n 1942,\n 1946,\n 1947,\n 1958,\n 1959,\n 1963,\n 1966,\n 1970,\n 1972,\n 1980,\n 1983,\n 1984,\n 1988,\n 1994,\n 2001,\n 2003,\n 2004,\n 2005,\n 2007,\n 2008,\n 2010,\n 2015,\n 2020,\n 2022,\n 2024,\n 2026,\n 2029,\n 2030,\n 2031,\n 2033,\n 2034,\n 2035,\n 2036,\n 2038,\n 2043,\n 2044,\n 2045,\n 2047,\n 2048,\n 2051,\n 2052,\n 2055,\n 2061,\n 2062,\n 2068,\n 2070,\n 2072,\n 2080,\n 2081,\n 2083,\n 2084,\n 2086,\n 2092,\n 2095,\n 2099,\n 2104,\n 2105,\n 2107,\n 2113,\n 2114,\n 2117,\n 2119,\n 2120,\n 2126,\n 2127,\n 2128,\n 2130,\n 2136,\n 2138,\n 2140,\n 2157,\n 2158,\n 2161,\n 2165,\n 2166,\n 2169,\n 2170,\n 2171,\n 2172,\n 2175,\n 2177,\n 2181,\n 2184,\n 2188,\n 2193,\n 2194,\n 2199,\n 2202,\n 2208,\n 2209,\n 2211,\n 2213,\n 2217,\n 2221,\n 2222,\n 2226,\n 2227,\n 2229,\n 2230,\n 2231,\n 2232,\n 2233,\n 2234,\n 2235,\n 2236,\n 2239,\n 2243,\n 2244,\n 2245,\n 2246,\n 2247,\n 2248,\n 2249,\n 2254,\n 2258,\n 2259,\n 2261,\n 2264,\n 2268,\n 2269,\n 2270,\n 2274,\n 2275,\n 2276,\n 2278,\n 2281,\n 2282,\n 2284,\n 2289,\n 2298,\n 2299,\n 2300,\n 2301,\n 2310,\n 2311,\n 2316,\n 2320,\n 2321,\n 2324,\n 2328,\n 2332,\n 2334,\n 2335,\n 2338,\n 2339,\n 2340,\n 2344,\n 2345,\n 2349,\n 2350,\n 2352,\n 2367,\n 2368,\n 2371,\n 2373,\n 2378,\n 2379,\n 2386,\n 2392,\n 2394,\n 2395,\n 2397,\n 2398,\n 2399,\n 2402,\n 2404,\n 2409,\n 2417,\n 2423,\n 2426,\n 2428,\n 2430,\n 2436,\n 2440,\n 2444,\n 2456,\n 2468,\n 2474,\n 2476,\n 2483,\n 2484,\n 2487,\n 2488,\n 2492,\n 2494,\n 2502,\n 2513,\n 2514,\n 2515,\n 2517,\n 2518,\n 2523,\n 2529,\n 2540,\n 2544,\n 2549,\n 2550,\n 2551,\n 2553,\n 2555,\n 2558,\n 2568,\n 2570,\n 2581,\n 2582,\n 2584,\n 2586,\n 2589,\n 2593,\n 2595,\n 2600,\n 2601,\n 2605,\n 2606,\n 2611,\n 2612,\n 2623,\n 2626,\n 2630,\n 2633,\n 2643,\n 2644,\n 2649,\n 2650,\n 2653,\n 2655,\n 2656,\n 2657,\n 2669,\n 2671,\n 2676,\n 2679,\n 2680,\n 2681,\n 2689,\n 2691,\n 2694,\n 2698,\n 2702,\n 2703,\n 2707,\n 2708,\n 2711,\n 2713,\n 2718,\n 2720,\n 2724,\n 2725,\n 2728,\n 2731,\n 2734,\n 2735,\n 2736,\n 2740,\n 2742,\n 2743,\n 2750,\n 2751,\n 2752,\n 2755,\n 2756,\n 2757,\n 2761,\n 2762,\n 2771,\n 2772,\n 2782,\n 2783,\n 2787,\n 2789,\n 2791,\n 2793,\n 2810,\n 2812,\n 2813,\n 2822,\n 2823,\n 2826,\n 2833,\n 2834,\n 2835,\n 2836,\n 2843,\n 2847,\n 2848,\n 2851,\n 2855,\n 2856,\n 2860,\n 2863,\n 2865,\n 2867,\n 2874,\n 2875,\n 2877,\n 2885,\n 2887,\n 2891,\n 2892,\n 2893,\n 2899,\n 2903,\n 2908,\n 2909,\n 2910,\n 2912,\n 2914,\n 2915,\n 2916,\n 2918,\n 2925,\n 2930,\n 2931,\n 2934,\n 2937,\n 2945,\n 2949,\n 2950,\n 2951,\n 2955,\n 2959,\n 2970,\n 2972,\n 2973,\n 2974,\n 2978,\n 2982,\n 2983,\n 2988,\n 2992,\n 3000,\n 3009,\n 3017,\n 3020,\n 3022,\n 3024,\n 3025,\n 3029,\n 3030,\n 3031,\n 3032,\n 3033,\n 3037,\n 3038,\n 3052,\n 3053,\n 3054,\n 3059,\n 3060,\n 3061,\n 3069,\n 3073,\n 3075,\n 3077,\n 3079,\n 3081,\n 3086,\n 3088,\n 3094,\n 3101,\n 3102,\n 3103,\n 3106,\n 3115,\n 3117,\n 3121,\n 3127,\n 3128,\n 3135,\n 3138,\n 3142,\n 3146,\n 3149,\n 3152,\n 3155,\n 3157,\n 3159,\n 3163,\n 3165,\n 3171,\n 3177,\n 3178,\n 3179,\n 3182,\n 3183,\n 3184,\n 3187,\n 3191,\n 3195,\n 3196,\n 3197,\n 3201,\n 3203,\n 3212,\n 3216,\n 3218,\n 3222,\n 3223,\n 3224,\n 3225,\n 3226,\n 3227,\n 3228,\n 3229,\n 3236,\n 3240,\n 3242,\n 3248,\n 3249,\n 3251,\n 3254,\n 3256,\n 3257,\n 3263,\n 3264,\n 3266,\n 3267,\n 3268,\n 3269,\n 3271,\n 3272,\n 3273,\n 3275,\n 3277,\n 3279,\n 3281,\n 3282,\n 3284,\n 3287,\n 3288,\n 3289,\n 3292,\n 3295,\n 3316,\n 3317,\n ...]"
     },
     "execution_count": 72,
     "metadata": {},
     "output_type": "execute_result"
    }
   ],
   "source": [
    "valid_user = sorted(list(valid_userid))\n",
    "valid_user"
   ],
   "metadata": {
    "collapsed": false
   }
  },
  {
   "cell_type": "code",
   "execution_count": 87,
   "outputs": [],
   "source": [
    "with open('ml-20m_train.txt', 'w') as f:\n",
    "    for _id in valid_user:\n",
    "        movie_id_data = input_data.loc[_id].movieId\n",
    "        if isinstance(movie_id_data, pd.Series):\n",
    "            for movie_id in movie_id_data:\n",
    "                f.write('%d %d\\n' % (_id, movie_id))\n",
    "        else:  # it's a single value, not a list\n",
    "            f.write('%d %d\\n' % (_id, movie_id_data))"
   ],
   "metadata": {
    "collapsed": false
   }
  },
  {
   "cell_type": "code",
   "execution_count": 83,
   "outputs": [
    {
     "ename": "TypeError",
     "evalue": "'numpy.float64' object is not iterable",
     "output_type": "error",
     "traceback": [
      "\u001B[1;31m---------------------------------------------------------------------------\u001B[0m",
      "\u001B[1;31mTypeError\u001B[0m                                 Traceback (most recent call last)",
      "Cell \u001B[1;32mIn[83], line 1\u001B[0m\n\u001B[1;32m----> 1\u001B[0m \u001B[38;5;28;43mlist\u001B[39;49m\u001B[43m(\u001B[49m\u001B[43minput_data\u001B[49m\u001B[38;5;241;43m.\u001B[39;49m\u001B[43mloc\u001B[49m\u001B[43m[\u001B[49m\u001B[38;5;241;43m7448\u001B[39;49m\u001B[43m]\u001B[49m\u001B[38;5;241;43m.\u001B[39;49m\u001B[43mmovieId\u001B[49m\u001B[43m)\u001B[49m\n",
      "\u001B[1;31mTypeError\u001B[0m: 'numpy.float64' object is not iterable"
     ]
    }
   ],
   "source": [
    "list(input_data.loc[7448].movieId)"
   ],
   "metadata": {
    "collapsed": false
   }
  },
  {
   "cell_type": "code",
   "execution_count": 88,
   "outputs": [],
   "source": [
    "with open('ml-20m_target.txt', 'w') as f:\n",
    "    for _id in valid_user:\n",
    "        movie_id_data = target_window.loc[_id].movieId\n",
    "        if isinstance(movie_id_data, pd.Series):\n",
    "            for movie_id in movie_id_data:\n",
    "                f.write('%d %d\\n' % (_id, movie_id))\n",
    "        else:  # it's a single value, not a list\n",
    "            f.write('%d %d\\n' % (_id, movie_id_data))"
   ],
   "metadata": {
    "collapsed": false
   }
  }
 ],
 "metadata": {
  "kernelspec": {
   "display_name": "Python 3",
   "language": "python",
   "name": "python3"
  },
  "language_info": {
   "codemirror_mode": {
    "name": "ipython",
    "version": 2
   },
   "file_extension": ".py",
   "mimetype": "text/x-python",
   "name": "python",
   "nbconvert_exporter": "python",
   "pygments_lexer": "ipython2",
   "version": "2.7.6"
  }
 },
 "nbformat": 4,
 "nbformat_minor": 0
}
