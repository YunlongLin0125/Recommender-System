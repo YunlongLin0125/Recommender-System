{
 "cells": [
  {
   "cell_type": "code",
   "execution_count": 1,
   "metadata": {
    "collapsed": true
   },
   "outputs": [],
   "source": [
    "from collections import defaultdict\n",
    "from datetime import datetime\n",
    "import torch\n",
    "import pandas as pd"
   ]
  },
  {
   "cell_type": "code",
   "execution_count": 2,
   "outputs": [],
   "source": [
    "ml_20m_path = '../../../../datasets/ml-20m'"
   ],
   "metadata": {
    "collapsed": false
   }
  },
  {
   "cell_type": "code",
   "execution_count": 3,
   "outputs": [],
   "source": [
    "file_path = ml_20m_path + '/ratings.csv'\n",
    "data = pd.read_csv(file_path, encoding='latin-1', sep=',', engine='python', index_col='userId')"
   ],
   "metadata": {
    "collapsed": false
   }
  },
  {
   "cell_type": "code",
   "execution_count": 4,
   "outputs": [
    {
     "data": {
      "text/plain": "        movieId  rating   timestamp\nuserId                             \n1             2     3.5  1112486027\n1            29     3.5  1112484676\n1            32     3.5  1112484819\n1            47     3.5  1112484727\n1            50     3.5  1112484580\n...         ...     ...         ...\n138493    68954     4.5  1258126920\n138493    69526     4.5  1259865108\n138493    69644     3.0  1260209457\n138493    70286     5.0  1258126944\n138493    71619     2.5  1255811136\n\n[20000263 rows x 3 columns]",
      "text/html": "<div>\n<style scoped>\n    .dataframe tbody tr th:only-of-type {\n        vertical-align: middle;\n    }\n\n    .dataframe tbody tr th {\n        vertical-align: top;\n    }\n\n    .dataframe thead th {\n        text-align: right;\n    }\n</style>\n<table border=\"1\" class=\"dataframe\">\n  <thead>\n    <tr style=\"text-align: right;\">\n      <th></th>\n      <th>movieId</th>\n      <th>rating</th>\n      <th>timestamp</th>\n    </tr>\n    <tr>\n      <th>userId</th>\n      <th></th>\n      <th></th>\n      <th></th>\n    </tr>\n  </thead>\n  <tbody>\n    <tr>\n      <th>1</th>\n      <td>2</td>\n      <td>3.5</td>\n      <td>1112486027</td>\n    </tr>\n    <tr>\n      <th>1</th>\n      <td>29</td>\n      <td>3.5</td>\n      <td>1112484676</td>\n    </tr>\n    <tr>\n      <th>1</th>\n      <td>32</td>\n      <td>3.5</td>\n      <td>1112484819</td>\n    </tr>\n    <tr>\n      <th>1</th>\n      <td>47</td>\n      <td>3.5</td>\n      <td>1112484727</td>\n    </tr>\n    <tr>\n      <th>1</th>\n      <td>50</td>\n      <td>3.5</td>\n      <td>1112484580</td>\n    </tr>\n    <tr>\n      <th>...</th>\n      <td>...</td>\n      <td>...</td>\n      <td>...</td>\n    </tr>\n    <tr>\n      <th>138493</th>\n      <td>68954</td>\n      <td>4.5</td>\n      <td>1258126920</td>\n    </tr>\n    <tr>\n      <th>138493</th>\n      <td>69526</td>\n      <td>4.5</td>\n      <td>1259865108</td>\n    </tr>\n    <tr>\n      <th>138493</th>\n      <td>69644</td>\n      <td>3.0</td>\n      <td>1260209457</td>\n    </tr>\n    <tr>\n      <th>138493</th>\n      <td>70286</td>\n      <td>5.0</td>\n      <td>1258126944</td>\n    </tr>\n    <tr>\n      <th>138493</th>\n      <td>71619</td>\n      <td>2.5</td>\n      <td>1255811136</td>\n    </tr>\n  </tbody>\n</table>\n<p>20000263 rows × 3 columns</p>\n</div>"
     },
     "execution_count": 4,
     "metadata": {},
     "output_type": "execute_result"
    }
   ],
   "source": [
    "data"
   ],
   "metadata": {
    "collapsed": false
   }
  },
  {
   "cell_type": "code",
   "execution_count": 5,
   "outputs": [],
   "source": [
    "actions = data\n",
    "actions = actions.groupby('movieId').filter(lambda  x: len(x) >= 5)\n",
    "actions = actions.groupby('userId').filter(lambda  x: len(x) >= 5)"
   ],
   "metadata": {
    "collapsed": false
   }
  },
  {
   "cell_type": "code",
   "execution_count": 6,
   "outputs": [],
   "source": [
    "actions = actions.groupby('userId', group_keys=False).apply(lambda  x: x.sort_values('timestamp'))"
   ],
   "metadata": {
    "collapsed": false
   }
  },
  {
   "cell_type": "code",
   "execution_count": 7,
   "outputs": [
    {
     "data": {
      "text/plain": "        movieId  rating   timestamp\nuserId                             \n1           924     3.5  1094785598\n1           919     3.5  1094785621\n1          2683     3.5  1094785650\n1          1584     3.5  1094785656\n1          1079     4.0  1094785665\n...         ...     ...         ...\n138493     6534     3.0  1260209908\n138493    53464     4.0  1260209920\n138493     1275     3.0  1262378552\n138493     6996     3.0  1262378555\n138493      405     3.0  1262378572\n\n[19984024 rows x 3 columns]",
      "text/html": "<div>\n<style scoped>\n    .dataframe tbody tr th:only-of-type {\n        vertical-align: middle;\n    }\n\n    .dataframe tbody tr th {\n        vertical-align: top;\n    }\n\n    .dataframe thead th {\n        text-align: right;\n    }\n</style>\n<table border=\"1\" class=\"dataframe\">\n  <thead>\n    <tr style=\"text-align: right;\">\n      <th></th>\n      <th>movieId</th>\n      <th>rating</th>\n      <th>timestamp</th>\n    </tr>\n    <tr>\n      <th>userId</th>\n      <th></th>\n      <th></th>\n      <th></th>\n    </tr>\n  </thead>\n  <tbody>\n    <tr>\n      <th>1</th>\n      <td>924</td>\n      <td>3.5</td>\n      <td>1094785598</td>\n    </tr>\n    <tr>\n      <th>1</th>\n      <td>919</td>\n      <td>3.5</td>\n      <td>1094785621</td>\n    </tr>\n    <tr>\n      <th>1</th>\n      <td>2683</td>\n      <td>3.5</td>\n      <td>1094785650</td>\n    </tr>\n    <tr>\n      <th>1</th>\n      <td>1584</td>\n      <td>3.5</td>\n      <td>1094785656</td>\n    </tr>\n    <tr>\n      <th>1</th>\n      <td>1079</td>\n      <td>4.0</td>\n      <td>1094785665</td>\n    </tr>\n    <tr>\n      <th>...</th>\n      <td>...</td>\n      <td>...</td>\n      <td>...</td>\n    </tr>\n    <tr>\n      <th>138493</th>\n      <td>6534</td>\n      <td>3.0</td>\n      <td>1260209908</td>\n    </tr>\n    <tr>\n      <th>138493</th>\n      <td>53464</td>\n      <td>4.0</td>\n      <td>1260209920</td>\n    </tr>\n    <tr>\n      <th>138493</th>\n      <td>1275</td>\n      <td>3.0</td>\n      <td>1262378552</td>\n    </tr>\n    <tr>\n      <th>138493</th>\n      <td>6996</td>\n      <td>3.0</td>\n      <td>1262378555</td>\n    </tr>\n    <tr>\n      <th>138493</th>\n      <td>405</td>\n      <td>3.0</td>\n      <td>1262378572</td>\n    </tr>\n  </tbody>\n</table>\n<p>19984024 rows × 3 columns</p>\n</div>"
     },
     "execution_count": 7,
     "metadata": {},
     "output_type": "execute_result"
    }
   ],
   "source": [
    "actions"
   ],
   "metadata": {
    "collapsed": false
   }
  },
  {
   "cell_type": "code",
   "execution_count": 8,
   "outputs": [
    {
     "data": {
      "text/plain": "(20, 8540, 144.2935816250641)"
     },
     "execution_count": 8,
     "metadata": {},
     "output_type": "execute_result"
    }
   ],
   "source": [
    "# data = data.groupby('userId')\n",
    "min = 100000\n",
    "max = 0\n",
    "total = 0\n",
    "for i in range(1, actions.index.max()):\n",
    "    total += len(actions.loc[i])\n",
    "    if len(data.loc[i]) < min:\n",
    "        min = len(actions.loc[i])\n",
    "    if len(data.loc[i]) > max:\n",
    "        max = len(actions.loc[i])\n",
    "min, max, total/actions.index.max()"
   ],
   "metadata": {
    "collapsed": false
   }
  },
  {
   "cell_type": "code",
   "execution_count": null,
   "outputs": [],
   "source": [],
   "metadata": {
    "collapsed": false
   }
  },
  {
   "cell_type": "code",
   "execution_count": 9,
   "outputs": [],
   "source": [
    "usermap = dict()\n",
    "usernum = 0\n",
    "itemmap = dict()\n",
    "itemnum = 0\n",
    "# reorder the userid and itemid (keep the same step with original SASRec code)\n",
    "for _id, row in actions.iterrows():\n",
    "    if _id in usermap:\n",
    "        userid = usermap[_id]\n",
    "    else:\n",
    "        usernum += 1\n",
    "        userid = usernum\n",
    "        usermap[_id] = userid\n",
    "\n",
    "    if row.movieId in itemmap:\n",
    "        itemid = itemmap[row.movieId]\n",
    "    else:\n",
    "        itemnum += 1\n",
    "        itemid = itemnum\n",
    "        itemmap[row.movieId] = itemid"
   ],
   "metadata": {
    "collapsed": false
   }
  },
  {
   "cell_type": "code",
   "execution_count": 10,
   "outputs": [
    {
     "data": {
      "text/plain": "(138493, 18345)"
     },
     "execution_count": 10,
     "metadata": {},
     "output_type": "execute_result"
    }
   ],
   "source": [
    "usermap.__len__(), itemmap.__len__()"
   ],
   "metadata": {
    "collapsed": false
   }
  },
  {
   "cell_type": "code",
   "execution_count": 11,
   "outputs": [],
   "source": [
    "actions['movieId'] = actions['movieId'].map(itemmap)\n",
    "actions.index = actions.index.map(usermap)"
   ],
   "metadata": {
    "collapsed": false
   }
  },
  {
   "cell_type": "code",
   "execution_count": 12,
   "outputs": [
    {
     "data": {
      "text/plain": "        movieId  rating   timestamp\nuserId                             \n1             1     3.5  1094785598\n1             2     3.5  1094785621\n1             3     3.5  1094785650\n1             4     3.5  1094785656\n1             5     4.0  1094785665\n...         ...     ...         ...\n138493      872     3.0  1260209908\n138493      797     4.0  1260209920\n138493     2336     3.0  1262378552\n138493      946     3.0  1262378555\n138493      789     3.0  1262378572\n\n[19984024 rows x 3 columns]",
      "text/html": "<div>\n<style scoped>\n    .dataframe tbody tr th:only-of-type {\n        vertical-align: middle;\n    }\n\n    .dataframe tbody tr th {\n        vertical-align: top;\n    }\n\n    .dataframe thead th {\n        text-align: right;\n    }\n</style>\n<table border=\"1\" class=\"dataframe\">\n  <thead>\n    <tr style=\"text-align: right;\">\n      <th></th>\n      <th>movieId</th>\n      <th>rating</th>\n      <th>timestamp</th>\n    </tr>\n    <tr>\n      <th>userId</th>\n      <th></th>\n      <th></th>\n      <th></th>\n    </tr>\n  </thead>\n  <tbody>\n    <tr>\n      <th>1</th>\n      <td>1</td>\n      <td>3.5</td>\n      <td>1094785598</td>\n    </tr>\n    <tr>\n      <th>1</th>\n      <td>2</td>\n      <td>3.5</td>\n      <td>1094785621</td>\n    </tr>\n    <tr>\n      <th>1</th>\n      <td>3</td>\n      <td>3.5</td>\n      <td>1094785650</td>\n    </tr>\n    <tr>\n      <th>1</th>\n      <td>4</td>\n      <td>3.5</td>\n      <td>1094785656</td>\n    </tr>\n    <tr>\n      <th>1</th>\n      <td>5</td>\n      <td>4.0</td>\n      <td>1094785665</td>\n    </tr>\n    <tr>\n      <th>...</th>\n      <td>...</td>\n      <td>...</td>\n      <td>...</td>\n    </tr>\n    <tr>\n      <th>138493</th>\n      <td>872</td>\n      <td>3.0</td>\n      <td>1260209908</td>\n    </tr>\n    <tr>\n      <th>138493</th>\n      <td>797</td>\n      <td>4.0</td>\n      <td>1260209920</td>\n    </tr>\n    <tr>\n      <th>138493</th>\n      <td>2336</td>\n      <td>3.0</td>\n      <td>1262378552</td>\n    </tr>\n    <tr>\n      <th>138493</th>\n      <td>946</td>\n      <td>3.0</td>\n      <td>1262378555</td>\n    </tr>\n    <tr>\n      <th>138493</th>\n      <td>789</td>\n      <td>3.0</td>\n      <td>1262378572</td>\n    </tr>\n  </tbody>\n</table>\n<p>19984024 rows × 3 columns</p>\n</div>"
     },
     "execution_count": 12,
     "metadata": {},
     "output_type": "execute_result"
    }
   ],
   "source": [
    "actions"
   ],
   "metadata": {
    "collapsed": false
   }
  },
  {
   "cell_type": "code",
   "execution_count": 13,
   "outputs": [],
   "source": [
    "sas_data = actions.drop('rating', axis=1, inplace=False).drop('timestamp', axis=1, inplace=False)"
   ],
   "metadata": {
    "collapsed": false
   }
  },
  {
   "cell_type": "code",
   "execution_count": 14,
   "outputs": [],
   "source": [
    "with open('ml-20m.txt', 'w') as f:\n",
    "    for _id in set(sas_data.index):\n",
    "        for movie_id in sas_data.loc[_id].movieId:\n",
    "            f.write('%d %d\\n' % (_id, movie_id))"
   ],
   "metadata": {
    "collapsed": false
   }
  },
  {
   "cell_type": "code",
   "execution_count": 15,
   "outputs": [
    {
     "data": {
      "text/plain": "        movieId\nuserId         \n1             1\n1             2\n1             3\n1             4\n1             5\n...         ...\n138493      872\n138493      797\n138493     2336\n138493      946\n138493      789\n\n[19984024 rows x 1 columns]",
      "text/html": "<div>\n<style scoped>\n    .dataframe tbody tr th:only-of-type {\n        vertical-align: middle;\n    }\n\n    .dataframe tbody tr th {\n        vertical-align: top;\n    }\n\n    .dataframe thead th {\n        text-align: right;\n    }\n</style>\n<table border=\"1\" class=\"dataframe\">\n  <thead>\n    <tr style=\"text-align: right;\">\n      <th></th>\n      <th>movieId</th>\n    </tr>\n    <tr>\n      <th>userId</th>\n      <th></th>\n    </tr>\n  </thead>\n  <tbody>\n    <tr>\n      <th>1</th>\n      <td>1</td>\n    </tr>\n    <tr>\n      <th>1</th>\n      <td>2</td>\n    </tr>\n    <tr>\n      <th>1</th>\n      <td>3</td>\n    </tr>\n    <tr>\n      <th>1</th>\n      <td>4</td>\n    </tr>\n    <tr>\n      <th>1</th>\n      <td>5</td>\n    </tr>\n    <tr>\n      <th>...</th>\n      <td>...</td>\n    </tr>\n    <tr>\n      <th>138493</th>\n      <td>872</td>\n    </tr>\n    <tr>\n      <th>138493</th>\n      <td>797</td>\n    </tr>\n    <tr>\n      <th>138493</th>\n      <td>2336</td>\n    </tr>\n    <tr>\n      <th>138493</th>\n      <td>946</td>\n    </tr>\n    <tr>\n      <th>138493</th>\n      <td>789</td>\n    </tr>\n  </tbody>\n</table>\n<p>19984024 rows × 1 columns</p>\n</div>"
     },
     "execution_count": 15,
     "metadata": {},
     "output_type": "execute_result"
    }
   ],
   "source": [
    "sas_data"
   ],
   "metadata": {
    "collapsed": false
   }
  },
  {
   "cell_type": "code",
   "execution_count": 16,
   "outputs": [],
   "source": [
    "userMaxTime = actions.groupby('userId').timestamp.max()"
   ],
   "metadata": {
    "collapsed": false
   }
  },
  {
   "cell_type": "code",
   "execution_count": 17,
   "outputs": [
    {
     "data": {
      "text/plain": "userId\n1         1112486201\n2          974821014\n3          945176099\n4          840879654\n5          851617728\n             ...    \n138489    1352990179\n138490     975545576\n138491    1247183347\n138492    1115351450\n138493    1262378572\nName: timestamp, Length: 138493, dtype: int64"
     },
     "execution_count": 17,
     "metadata": {},
     "output_type": "execute_result"
    }
   ],
   "source": [
    "userMaxTime"
   ],
   "metadata": {
    "collapsed": false
   }
  },
  {
   "cell_type": "code",
   "execution_count": 30,
   "outputs": [],
   "source": [
    "day = 86400\n",
    "num_day = 7\n",
    "userSplitTime = userMaxTime - num_day  * day"
   ],
   "metadata": {
    "collapsed": false
   }
  },
  {
   "cell_type": "code",
   "execution_count": 29,
   "outputs": [
    {
     "data": {
      "text/plain": "userId\n1         1111276601\n2          973611414\n3          943966499\n4          839670054\n5          850408128\n             ...    \n138489    1351780579\n138490     974335976\n138491    1245973747\n138492    1114141850\n138493    1261168972\nName: timestamp, Length: 138493, dtype: int64"
     },
     "execution_count": 29,
     "metadata": {},
     "output_type": "execute_result"
    }
   ],
   "source": [
    "userSplitTime"
   ],
   "metadata": {
    "collapsed": false
   }
  },
  {
   "cell_type": "code",
   "execution_count": 52,
   "outputs": [
    {
     "ename": "KeyboardInterrupt",
     "evalue": "",
     "output_type": "error",
     "traceback": [
      "\u001B[1;31m---------------------------------------------------------------------------\u001B[0m",
      "\u001B[1;31mKeyboardInterrupt\u001B[0m                         Traceback (most recent call last)",
      "Cell \u001B[1;32mIn[52], line 8\u001B[0m\n\u001B[0;32m      6\u001B[0m     train_seq \u001B[38;5;241m=\u001B[39m user_seq\n\u001B[0;32m      7\u001B[0m \u001B[38;5;28;01melse\u001B[39;00m:\n\u001B[1;32m----> 8\u001B[0m     train_seq \u001B[38;5;241m=\u001B[39m \u001B[43mpd\u001B[49m\u001B[38;5;241;43m.\u001B[39;49m\u001B[43mconcat\u001B[49m\u001B[43m(\u001B[49m\u001B[43m[\u001B[49m\u001B[43mtrain_seq\u001B[49m\u001B[43m,\u001B[49m\u001B[43m \u001B[49m\u001B[43muser_seq\u001B[49m\u001B[43m]\u001B[49m\u001B[43m,\u001B[49m\u001B[43m \u001B[49m\u001B[43mignore_index\u001B[49m\u001B[38;5;241;43m=\u001B[39;49m\u001B[38;5;28;43;01mFalse\u001B[39;49;00m\u001B[43m)\u001B[49m\n",
      "File \u001B[1;32m~\\anaconda3\\lib\\site-packages\\pandas\\util\\_decorators.py:331\u001B[0m, in \u001B[0;36mdeprecate_nonkeyword_arguments.<locals>.decorate.<locals>.wrapper\u001B[1;34m(*args, **kwargs)\u001B[0m\n\u001B[0;32m    325\u001B[0m \u001B[38;5;28;01mif\u001B[39;00m \u001B[38;5;28mlen\u001B[39m(args) \u001B[38;5;241m>\u001B[39m num_allow_args:\n\u001B[0;32m    326\u001B[0m     warnings\u001B[38;5;241m.\u001B[39mwarn(\n\u001B[0;32m    327\u001B[0m         msg\u001B[38;5;241m.\u001B[39mformat(arguments\u001B[38;5;241m=\u001B[39m_format_argument_list(allow_args)),\n\u001B[0;32m    328\u001B[0m         \u001B[38;5;167;01mFutureWarning\u001B[39;00m,\n\u001B[0;32m    329\u001B[0m         stacklevel\u001B[38;5;241m=\u001B[39mfind_stack_level(),\n\u001B[0;32m    330\u001B[0m     )\n\u001B[1;32m--> 331\u001B[0m \u001B[38;5;28;01mreturn\u001B[39;00m func(\u001B[38;5;241m*\u001B[39margs, \u001B[38;5;241m*\u001B[39m\u001B[38;5;241m*\u001B[39mkwargs)\n",
      "File \u001B[1;32m~\\anaconda3\\lib\\site-packages\\pandas\\core\\reshape\\concat.py:381\u001B[0m, in \u001B[0;36mconcat\u001B[1;34m(objs, axis, join, ignore_index, keys, levels, names, verify_integrity, sort, copy)\u001B[0m\n\u001B[0;32m    159\u001B[0m \u001B[38;5;124;03m\"\"\"\u001B[39;00m\n\u001B[0;32m    160\u001B[0m \u001B[38;5;124;03mConcatenate pandas objects along a particular axis.\u001B[39;00m\n\u001B[0;32m    161\u001B[0m \n\u001B[1;32m   (...)\u001B[0m\n\u001B[0;32m    366\u001B[0m \u001B[38;5;124;03m1   3   4\u001B[39;00m\n\u001B[0;32m    367\u001B[0m \u001B[38;5;124;03m\"\"\"\u001B[39;00m\n\u001B[0;32m    368\u001B[0m op \u001B[38;5;241m=\u001B[39m _Concatenator(\n\u001B[0;32m    369\u001B[0m     objs,\n\u001B[0;32m    370\u001B[0m     axis\u001B[38;5;241m=\u001B[39maxis,\n\u001B[1;32m   (...)\u001B[0m\n\u001B[0;32m    378\u001B[0m     sort\u001B[38;5;241m=\u001B[39msort,\n\u001B[0;32m    379\u001B[0m )\n\u001B[1;32m--> 381\u001B[0m \u001B[38;5;28;01mreturn\u001B[39;00m \u001B[43mop\u001B[49m\u001B[38;5;241;43m.\u001B[39;49m\u001B[43mget_result\u001B[49m\u001B[43m(\u001B[49m\u001B[43m)\u001B[49m\n",
      "File \u001B[1;32m~\\anaconda3\\lib\\site-packages\\pandas\\core\\reshape\\concat.py:616\u001B[0m, in \u001B[0;36m_Concatenator.get_result\u001B[1;34m(self)\u001B[0m\n\u001B[0;32m    612\u001B[0m             indexers[ax] \u001B[38;5;241m=\u001B[39m obj_labels\u001B[38;5;241m.\u001B[39mget_indexer(new_labels)\n\u001B[0;32m    614\u001B[0m     mgrs_indexers\u001B[38;5;241m.\u001B[39mappend((obj\u001B[38;5;241m.\u001B[39m_mgr, indexers))\n\u001B[1;32m--> 616\u001B[0m new_data \u001B[38;5;241m=\u001B[39m \u001B[43mconcatenate_managers\u001B[49m\u001B[43m(\u001B[49m\n\u001B[0;32m    617\u001B[0m \u001B[43m    \u001B[49m\u001B[43mmgrs_indexers\u001B[49m\u001B[43m,\u001B[49m\u001B[43m \u001B[49m\u001B[38;5;28;43mself\u001B[39;49m\u001B[38;5;241;43m.\u001B[39;49m\u001B[43mnew_axes\u001B[49m\u001B[43m,\u001B[49m\u001B[43m \u001B[49m\u001B[43mconcat_axis\u001B[49m\u001B[38;5;241;43m=\u001B[39;49m\u001B[38;5;28;43mself\u001B[39;49m\u001B[38;5;241;43m.\u001B[39;49m\u001B[43mbm_axis\u001B[49m\u001B[43m,\u001B[49m\u001B[43m \u001B[49m\u001B[43mcopy\u001B[49m\u001B[38;5;241;43m=\u001B[39;49m\u001B[38;5;28;43mself\u001B[39;49m\u001B[38;5;241;43m.\u001B[39;49m\u001B[43mcopy\u001B[49m\n\u001B[0;32m    618\u001B[0m \u001B[43m\u001B[49m\u001B[43m)\u001B[49m\n\u001B[0;32m    619\u001B[0m \u001B[38;5;28;01mif\u001B[39;00m \u001B[38;5;129;01mnot\u001B[39;00m \u001B[38;5;28mself\u001B[39m\u001B[38;5;241m.\u001B[39mcopy:\n\u001B[0;32m    620\u001B[0m     new_data\u001B[38;5;241m.\u001B[39m_consolidate_inplace()\n",
      "File \u001B[1;32m~\\anaconda3\\lib\\site-packages\\pandas\\core\\internals\\concat.py:233\u001B[0m, in \u001B[0;36mconcatenate_managers\u001B[1;34m(mgrs_indexers, axes, concat_axis, copy)\u001B[0m\n\u001B[0;32m    231\u001B[0m     fastpath \u001B[38;5;241m=\u001B[39m blk\u001B[38;5;241m.\u001B[39mvalues\u001B[38;5;241m.\u001B[39mdtype \u001B[38;5;241m==\u001B[39m values\u001B[38;5;241m.\u001B[39mdtype\n\u001B[0;32m    232\u001B[0m \u001B[38;5;28;01melse\u001B[39;00m:\n\u001B[1;32m--> 233\u001B[0m     values \u001B[38;5;241m=\u001B[39m \u001B[43m_concatenate_join_units\u001B[49m\u001B[43m(\u001B[49m\u001B[43mjoin_units\u001B[49m\u001B[43m,\u001B[49m\u001B[43m \u001B[49m\u001B[43mconcat_axis\u001B[49m\u001B[43m,\u001B[49m\u001B[43m \u001B[49m\u001B[43mcopy\u001B[49m\u001B[38;5;241;43m=\u001B[39;49m\u001B[43mcopy\u001B[49m\u001B[43m)\u001B[49m\n\u001B[0;32m    234\u001B[0m     fastpath \u001B[38;5;241m=\u001B[39m \u001B[38;5;28;01mFalse\u001B[39;00m\n\u001B[0;32m    236\u001B[0m \u001B[38;5;28;01mif\u001B[39;00m fastpath:\n",
      "File \u001B[1;32m~\\anaconda3\\lib\\site-packages\\pandas\\core\\internals\\concat.py:577\u001B[0m, in \u001B[0;36m_concatenate_join_units\u001B[1;34m(join_units, concat_axis, copy)\u001B[0m\n\u001B[0;32m    574\u001B[0m     concat_values \u001B[38;5;241m=\u001B[39m ensure_block_shape(concat_values, \u001B[38;5;241m2\u001B[39m)\n\u001B[0;32m    576\u001B[0m \u001B[38;5;28;01melse\u001B[39;00m:\n\u001B[1;32m--> 577\u001B[0m     concat_values \u001B[38;5;241m=\u001B[39m \u001B[43mconcat_compat\u001B[49m\u001B[43m(\u001B[49m\u001B[43mto_concat\u001B[49m\u001B[43m,\u001B[49m\u001B[43m \u001B[49m\u001B[43maxis\u001B[49m\u001B[38;5;241;43m=\u001B[39;49m\u001B[43mconcat_axis\u001B[49m\u001B[43m)\u001B[49m\n\u001B[0;32m    579\u001B[0m \u001B[38;5;28;01mreturn\u001B[39;00m concat_values\n",
      "File \u001B[1;32m~\\anaconda3\\lib\\site-packages\\pandas\\core\\dtypes\\concat.py:151\u001B[0m, in \u001B[0;36mconcat_compat\u001B[1;34m(to_concat, axis, ea_compat_axis)\u001B[0m\n\u001B[0;32m    148\u001B[0m             to_concat \u001B[38;5;241m=\u001B[39m [x\u001B[38;5;241m.\u001B[39mastype(\u001B[38;5;124m\"\u001B[39m\u001B[38;5;124mobject\u001B[39m\u001B[38;5;124m\"\u001B[39m) \u001B[38;5;28;01mfor\u001B[39;00m x \u001B[38;5;129;01min\u001B[39;00m to_concat]\n\u001B[0;32m    149\u001B[0m             kinds \u001B[38;5;241m=\u001B[39m {\u001B[38;5;124m\"\u001B[39m\u001B[38;5;124mo\u001B[39m\u001B[38;5;124m\"\u001B[39m}\n\u001B[1;32m--> 151\u001B[0m result \u001B[38;5;241m=\u001B[39m \u001B[43mnp\u001B[49m\u001B[38;5;241;43m.\u001B[39;49m\u001B[43mconcatenate\u001B[49m\u001B[43m(\u001B[49m\u001B[43mto_concat\u001B[49m\u001B[43m,\u001B[49m\u001B[43m \u001B[49m\u001B[43maxis\u001B[49m\u001B[38;5;241;43m=\u001B[39;49m\u001B[43maxis\u001B[49m\u001B[43m)\u001B[49m\n\u001B[0;32m    152\u001B[0m \u001B[38;5;28;01mif\u001B[39;00m \u001B[38;5;124m\"\u001B[39m\u001B[38;5;124mb\u001B[39m\u001B[38;5;124m\"\u001B[39m \u001B[38;5;129;01min\u001B[39;00m kinds \u001B[38;5;129;01mand\u001B[39;00m result\u001B[38;5;241m.\u001B[39mdtype\u001B[38;5;241m.\u001B[39mkind \u001B[38;5;129;01min\u001B[39;00m [\u001B[38;5;124m\"\u001B[39m\u001B[38;5;124mi\u001B[39m\u001B[38;5;124m\"\u001B[39m, \u001B[38;5;124m\"\u001B[39m\u001B[38;5;124mu\u001B[39m\u001B[38;5;124m\"\u001B[39m, \u001B[38;5;124m\"\u001B[39m\u001B[38;5;124mf\u001B[39m\u001B[38;5;124m\"\u001B[39m]:\n\u001B[0;32m    153\u001B[0m     \u001B[38;5;66;03m# GH#39817\u001B[39;00m\n\u001B[0;32m    154\u001B[0m     warnings\u001B[38;5;241m.\u001B[39mwarn(\n\u001B[0;32m    155\u001B[0m         \u001B[38;5;124m\"\u001B[39m\u001B[38;5;124mBehavior when concatenating bool-dtype and numeric-dtype arrays is \u001B[39m\u001B[38;5;124m\"\u001B[39m\n\u001B[0;32m    156\u001B[0m         \u001B[38;5;124m\"\u001B[39m\u001B[38;5;124mdeprecated; in a future version these will cast to object dtype \u001B[39m\u001B[38;5;124m\"\u001B[39m\n\u001B[1;32m   (...)\u001B[0m\n\u001B[0;32m    160\u001B[0m         stacklevel\u001B[38;5;241m=\u001B[39mfind_stack_level(),\n\u001B[0;32m    161\u001B[0m     )\n",
      "File \u001B[1;32m<__array_function__ internals>:180\u001B[0m, in \u001B[0;36mconcatenate\u001B[1;34m(*args, **kwargs)\u001B[0m\n",
      "\u001B[1;31mKeyboardInterrupt\u001B[0m: "
     ]
    }
   ],
   "source": [
    "train_seq = None\n",
    "for _id in actions.index:\n",
    "    split_time = userSplitTime.loc[_id]\n",
    "    user_seq = actions[(actions.index == _id) & (actions.timestamp < split_time)]\n",
    "    if _id == 1:\n",
    "        train_seq = user_seq\n",
    "    else:\n",
    "        train_seq = pd.concat([train_seq, user_seq], ignore_index=False)"
   ],
   "metadata": {
    "collapsed": false
   }
  },
  {
   "cell_type": "code",
   "execution_count": null,
   "outputs": [],
   "source": [
    "train_seq"
   ],
   "metadata": {
    "collapsed": false
   }
  },
  {
   "cell_type": "markdown",
   "source": [
    "## SASRec handling\n",
    "Only use implicit feedback in the sequence of items"
   ],
   "metadata": {
    "collapsed": false
   }
  },
  {
   "cell_type": "code",
   "execution_count": 91,
   "outputs": [
    {
     "data": {
      "text/plain": "938"
     },
     "execution_count": 91,
     "metadata": {},
     "output_type": "execute_result"
    }
   ],
   "source": [
    "day = 86400\n",
    "usernum = actions.index.max()\n",
    "split_percent = 0.9\n",
    "k = 25\n",
    "split_index = int(len(actions.loc[k]) * split_percent)\n",
    "train_seq = actions.loc[k].iloc[:split_index]\n",
    "target_seq = actions.loc[k].iloc[split_index:]\n",
    "target_seq.timestamp.max() - train_seq.timestamp.max()\n",
    "# actions.loc[1].timestamp.max() -"
   ],
   "metadata": {
    "collapsed": false
   }
  },
  {
   "cell_type": "code",
   "execution_count": 91,
   "outputs": [
    {
     "data": {
      "text/plain": "(UserID\n 1       978824351\n 2       978300174\n 3       978298504\n 4       978294282\n 5       978246585\n           ...    \n 6036    956755196\n 6037    956801840\n 6038    956717204\n 6039    956758029\n 6040    998315055\n Name: Timestamp, Length: 6040, dtype: int64,\n UserID\n 1        47\n 2       116\n 3        45\n 4        18\n 5       178\n        ... \n 6036    799\n 6037    181\n 6038     18\n 6039    110\n 6040    306\n Length: 6040, dtype: int32)"
     },
     "execution_count": 91,
     "metadata": {},
     "output_type": "execute_result"
    }
   ],
   "source": [
    "userMaxTime = actions.groupby('userId').timestamp.max()\n",
    "userActLength = actions.groupby('userId').size()\n",
    "split_index = (userActLength * split_percent).astype(int)\n",
    "userMaxTime, split_index"
   ],
   "metadata": {
    "collapsed": false
   }
  },
  {
   "cell_type": "code",
   "execution_count": 80,
   "outputs": [
    {
     "data": {
      "text/plain": "(165.49850993377484,\n [156,\n  261,\n  338,\n  22,\n  722,\n  1110,\n  24,\n  15650,\n  363,\n  1470652,\n  5279,\n  57,\n  160,\n  314,\n  149252,\n  124,\n  318,\n  1560,\n  15127680,\n  112,\n  117,\n  12994916,\n  15241369,\n  8022472,\n  253412,\n  113844,\n  324,\n  858897,\n  351,\n  129,\n  301,\n  2645,\n  3199,\n  293,\n  107557,\n  46843182,\n  295,\n  1181,\n  120,\n  209,\n  1551,\n  714,\n  128,\n  1606,\n  1033,\n  70,\n  92,\n  342578,\n  838908,\n  120,\n  122,\n  648,\n  6620,\n  102,\n  89,\n  230,\n  282,\n  943,\n  860,\n  77,\n  199,\n  1753,\n  2210449,\n  215,\n  46524175,\n  480,\n  579,\n  305,\n  213,\n  129,\n  139,\n  251,\n  3053711,\n  406,\n  897421,\n  344,\n  161,\n  288,\n  259,\n  15991573,\n  414,\n  1041313,\n  322,\n  356,\n  327,\n  4505964,\n  73585,\n  159,\n  7046,\n  89185,\n  127,\n  522861,\n  1078,\n  0,\n  1133,\n  1186,\n  22094588,\n  183,\n  697,\n  437,\n  478,\n  4003124,\n  367,\n  81,\n  74,\n  98,\n  249,\n  404,\n  1021,\n  459,\n  337,\n  73,\n  491,\n  2867558,\n  42,\n  810,\n  1138434,\n  693,\n  702569,\n  183,\n  244,\n  131,\n  1630409,\n  183,\n  73684,\n  120,\n  34574157,\n  109,\n  1217,\n  115,\n  61708675,\n  199,\n  17370128,\n  44055616,\n  74,\n  925,\n  727,\n  75,\n  851,\n  6819977,\n  50,\n  3206299,\n  448,\n  197,\n  176,\n  31886062,\n  1033,\n  617650,\n  32277744,\n  37292748,\n  10688945,\n  65,\n  6572108,\n  110,\n  766,\n  477,\n  57189067,\n  0,\n  119,\n  423,\n  712,\n  3108771,\n  910876,\n  14000230,\n  457,\n  2077985,\n  283,\n  150,\n  65637636,\n  540,\n  88,\n  55,\n  17286550,\n  135,\n  2824479,\n  100,\n  428,\n  415,\n  132,\n  740,\n  1352,\n  189,\n  4239772,\n  115,\n  150,\n  468,\n  1301,\n  156,\n  174,\n  483,\n  71555,\n  54968793,\n  1591,\n  5023,\n  35087104,\n  75,\n  24632,\n  14347498,\n  18431,\n  67,\n  32398115,\n  1534,\n  247,\n  3579410,\n  230,\n  0,\n  53,\n  19716663,\n  44,\n  252,\n  119,\n  40959,\n  141,\n  641,\n  2075774,\n  1658,\n  111,\n  13622893,\n  237,\n  447,\n  62,\n  174,\n  1960,\n  11926509,\n  344932,\n  44,\n  110,\n  15385252,\n  6821585,\n  1241,\n  6246249,\n  166,\n  288,\n  2497396,\n  41311283,\n  243,\n  51207048,\n  421,\n  48361408,\n  703,\n  542,\n  14966382,\n  649,\n  64136,\n  92495,\n  139,\n  210,\n  1682442,\n  552,\n  149,\n  445705,\n  543,\n  317778,\n  45,\n  885,\n  333,\n  170,\n  439,\n  8199265,\n  670,\n  2857,\n  151,\n  216,\n  8996055,\n  264,\n  299,\n  26605021,\n  6058,\n  442845,\n  28178476,\n  28496100,\n  1201,\n  837,\n  920,\n  215,\n  175,\n  25,\n  419,\n  256,\n  109,\n  236,\n  265,\n  53,\n  172852,\n  48632816,\n  25020,\n  146,\n  158,\n  191,\n  20,\n  864,\n  1480,\n  31729668,\n  274,\n  780,\n  262,\n  246,\n  111,\n  7958755,\n  309,\n  496,\n  37563642,\n  5516914,\n  27,\n  205,\n  59077987,\n  334,\n  2661,\n  802826,\n  35599116,\n  32502157,\n  224,\n  263,\n  33337532,\n  165,\n  816,\n  140,\n  78,\n  51388336,\n  57,\n  4649369,\n  301,\n  292,\n  259,\n  1126,\n  3382819,\n  85294,\n  294,\n  60958814,\n  5415805,\n  1368643,\n  26737783,\n  1125,\n  1160,\n  748,\n  1129880,\n  2105,\n  36122308,\n  477,\n  383,\n  52,\n  320,\n  16831747,\n  270,\n  85,\n  1012,\n  517,\n  194,\n  17850576,\n  155,\n  35573023,\n  3150,\n  217,\n  181,\n  65246717,\n  516,\n  856,\n  224,\n  197,\n  1028,\n  324745,\n  2421622,\n  68,\n  188,\n  521,\n  71070,\n  116,\n  12175604,\n  265,\n  314,\n  468,\n  594394,\n  63,\n  147,\n  98,\n  3554700,\n  482,\n  60,\n  627,\n  280559,\n  77,\n  4497967,\n  144,\n  107,\n  528,\n  1311,\n  2756810,\n  272,\n  221,\n  1001,\n  5033072,\n  18154835,\n  360,\n  215,\n  2338,\n  697,\n  60,\n  2234,\n  157,\n  97,\n  408,\n  8388471,\n  70081365,\n  7722114,\n  16486520,\n  1300,\n  56,\n  2661,\n  804,\n  249,\n  44147054,\n  34254381,\n  314,\n  453,\n  757,\n  4504,\n  0,\n  394,\n  464,\n  6906711,\n  176,\n  417,\n  115,\n  25044132,\n  603408,\n  797,\n  82,\n  136,\n  708,\n  108,\n  1116913,\n  180,\n  175,\n  181,\n  731,\n  258,\n  216,\n  39991437,\n  8157367,\n  184,\n  340,\n  28865155,\n  259980,\n  1064,\n  593,\n  355,\n  27,\n  184,\n  64,\n  150,\n  842,\n  826,\n  32708341,\n  1268173,\n  29,\n  587,\n  2098,\n  196,\n  222,\n  284,\n  755,\n  33852972,\n  605,\n  288,\n  169,\n  416,\n  608,\n  86,\n  206,\n  124,\n  275,\n  251,\n  1119038,\n  58805,\n  361,\n  1610,\n  452,\n  154,\n  394,\n  13927239,\n  161381,\n  35438597,\n  142,\n  140,\n  213,\n  127,\n  39575992,\n  0,\n  60,\n  843,\n  85,\n  193,\n  279,\n  789,\n  681,\n  49152271,\n  70,\n  669,\n  2061,\n  9016349,\n  94,\n  84,\n  323,\n  166251,\n  1582,\n  98,\n  75,\n  2096,\n  1816,\n  393,\n  77,\n  133,\n  1141,\n  6598063,\n  297,\n  1602022,\n  478,\n  64464121,\n  3134963,\n  3816401,\n  97,\n  67,\n  246,\n  1890,\n  708552,\n  77,\n  199,\n  55885720,\n  4582018,\n  388,\n  39404576,\n  49,\n  78800,\n  6899,\n  113,\n  480,\n  332,\n  160,\n  302,\n  91,\n  707,\n  211,\n  218361,\n  788,\n  186,\n  956,\n  208,\n  337,\n  67213070,\n  2378,\n  863,\n  824,\n  1458,\n  342,\n  73,\n  1020,\n  130,\n  83888,\n  16,\n  792,\n  207,\n  52,\n  425,\n  157,\n  54,\n  1149838,\n  617,\n  83,\n  490,\n  1122,\n  169,\n  54,\n  149,\n  40,\n  508303,\n  264,\n  280,\n  45,\n  349,\n  166,\n  522,\n  171,\n  10336158,\n  147,\n  15680,\n  757,\n  16442044,\n  20306854,\n  220,\n  287,\n  1413,\n  194,\n  26955887,\n  265,\n  7363453,\n  73,\n  99,\n  4977,\n  35,\n  2174254,\n  2233,\n  126,\n  140,\n  467,\n  716,\n  200,\n  67,\n  10132047,\n  26693958,\n  310,\n  14608093,\n  1093,\n  250,\n  106,\n  779,\n  151,\n  61,\n  119,\n  99,\n  468,\n  1292,\n  182,\n  31621392,\n  32906894,\n  782,\n  16453167,\n  300,\n  550,\n  471,\n  570,\n  980,\n  56,\n  9543518,\n  68714,\n  601,\n  193,\n  1482,\n  638,\n  8524100,\n  20,\n  704,\n  729,\n  134,\n  18022,\n  129,\n  832,\n  769,\n  14514076,\n  8313388,\n  57,\n  2599,\n  163,\n  71,\n  310,\n  1950,\n  363,\n  2415399,\n  255,\n  489,\n  1183808,\n  19480,\n  439,\n  394,\n  498,\n  55,\n  704,\n  36128101,\n  427,\n  1011,\n  562,\n  9075474,\n  250,\n  329360,\n  74326,\n  37,\n  1351947,\n  557,\n  54350941,\n  317,\n  92,\n  151,\n  127,\n  430,\n  178,\n  427,\n  359,\n  1090,\n  44,\n  365,\n  762,\n  1974,\n  47709969,\n  2677762,\n  120,\n  792,\n  63202586,\n  228,\n  7482,\n  93461,\n  69,\n  684,\n  1565,\n  64,\n  141,\n  614,\n  903,\n  5478942,\n  103,\n  603,\n  52694097,\n  5007491,\n  538490,\n  1273,\n  2770635,\n  3977702,\n  3449,\n  72,\n  278,\n  92,\n  559,\n  17619314,\n  511,\n  399,\n  460,\n  683,\n  239,\n  33530642,\n  445,\n  395,\n  1211,\n  927,\n  292,\n  291,\n  128,\n  2340616,\n  978,\n  1530,\n  16643,\n  1728654,\n  123,\n  206,\n  85,\n  56873841,\n  1351,\n  332847,\n  9587866,\n  133,\n  949,\n  38711969,\n  159,\n  25,\n  35662452,\n  29048249,\n  941,\n  1376950,\n  169,\n  35003,\n  112,\n  388,\n  495829,\n  67,\n  414,\n  164,\n  782,\n  2089,\n  281,\n  450,\n  1099512,\n  141,\n  13772248,\n  3120,\n  23,\n  175863,\n  14342227,\n  71,\n  350,\n  4577503,\n  595,\n  146,\n  3125,\n  1148,\n  84,\n  8711096,\n  638,\n  366,\n  139,\n  10399502,\n  949,\n  465,\n  59,\n  53412600,\n  94,\n  437,\n  114,\n  63186656,\n  957067,\n  358,\n  3780,\n  77,\n  3167,\n  67423,\n  2715,\n  256,\n  137,\n  302,\n  211,\n  66,\n  37666,\n  174,\n  848,\n  340976,\n  266,\n  495,\n  83,\n  156,\n  1207,\n  734,\n  466,\n  328,\n  165,\n  46,\n  33752047,\n  895,\n  173121,\n  117379,\n  376,\n  47,\n  458,\n  24943167,\n  229,\n  165,\n  269,\n  290,\n  141,\n  32,\n  328,\n  80,\n  17933596,\n  64861154,\n  50714671,\n  174,\n  439,\n  5881,\n  216,\n  449,\n  38417806,\n  313,\n  11331276,\n  297,\n  4778,\n  423,\n  85,\n  249,\n  2590,\n  9333,\n  22352704,\n  664,\n  447,\n  671,\n  163,\n  523,\n  12219844,\n  74,\n  347597,\n  91,\n  159,\n  147,\n  180,\n  1500,\n  153,\n  92,\n  36112632,\n  3002,\n  43,\n  3483,\n  352,\n  1996,\n  2360362,\n  722,\n  281,\n  778015,\n  314,\n  149,\n  21260846,\n  91,\n  218,\n  17485,\n  13149,\n  109303,\n  15137550,\n  351,\n  207,\n  507,\n  1131363,\n  179,\n  334,\n  29672009,\n  282,\n  4208931,\n  102,\n  940,\n  70,\n  326,\n  2161081,\n  230,\n  184,\n  28,\n  199,\n  391,\n  6103547,\n  70645441,\n  133,\n  50381237,\n  433,\n  185,\n  64,\n  738,\n  655,\n  1176,\n  530,\n  2772446,\n  596671,\n  537,\n  297,\n  251,\n  247,\n  957,\n  933,\n  10858298,\n  802,\n  237,\n  62,\n  209,\n  165007,\n  1112,\n  1420210,\n  35937584,\n  97,\n  171,\n  327,\n  0,\n  519,\n  52439367,\n  240,\n  1321,\n  235,\n  478,\n  13011259,\n  3582,\n  102,\n  0,\n  826,\n  58618598,\n  561,\n  2064,\n  462,\n  3529532,\n  756,\n  1464,\n  1885,\n  27,\n  1282462,\n  4802996,\n  141,\n  6415,\n  394,\n  173,\n  91,\n  43,\n  1155,\n  1123,\n  162,\n  555,\n  124,\n  1207565,\n  56,\n  625,\n  376,\n  3197594,\n  794,\n  2675043,\n  89,\n  270,\n  12734825,\n  951,\n  39,\n  11087448,\n  1270484,\n  3278,\n  1588,\n  350278,\n  1233,\n  498298,\n  145,\n  140,\n  24788712,\n  3709131,\n  215,\n  1009,\n  669,\n  ...])"
     },
     "execution_count": 80,
     "metadata": {},
     "output_type": "execute_result"
    }
   ],
   "source": [
    "window_size = []\n",
    "for i in range(1 ,actions.index.max() + 1):\n",
    "    cur_seq = actions.loc[i]\n",
    "    split = split_index.loc[i]\n",
    "    train_seq = cur_seq.iloc[:split]\n",
    "    target_seq = cur_seq.iloc[split:]\n",
    "    window_size.append(target_seq.iloc[-1].timestamp - train_seq.iloc[-1].timestamp)\n",
    "\n",
    "seq_avg_length= userActLength.mean()\n",
    "seq_avg_length # , window_size"
   ],
   "metadata": {
    "collapsed": false
   }
  },
  {
   "cell_type": "code",
   "execution_count": 128,
   "outputs": [],
   "source": [
    "def data_partition_window(fname, valid_percent, test_percent, train_percent):\n",
    "    if valid_percent + test_percent > 0.6:\n",
    "        print('the percent you select for val/test are too high')\n",
    "        return None\n",
    "    valid_start = 1 - valid_percent - test_percent\n",
    "    test_start = 1 - test_percent\n",
    "    train_start = 1 - train_percent\n",
    "    usernum = 0\n",
    "    itemnum = 0\n",
    "    User = defaultdict(list)\n",
    "    user_train = {}\n",
    "    user_valid = {}\n",
    "    user_test = {}\n",
    "    # assume user/item index starting from 1\n",
    "    f = open('%s.txt' % fname, 'r')\n",
    "    # read from each line\n",
    "    for line in f:\n",
    "        u, i = line.rstrip().split(' ')\n",
    "        u = int(u)\n",
    "        i = int(i)\n",
    "        usernum = max(u, usernum)\n",
    "        itemnum = max(i, itemnum)\n",
    "        User[u].append(i)\n",
    "        # count user and items\n",
    "    # read from each user\n",
    "    count = 0\n",
    "    for user in User:\n",
    "        nfeedback = len(User[user])\n",
    "        if nfeedback < 3:\n",
    "            user_train[user] = User[user]\n",
    "            user_valid[user] = []\n",
    "            user_test[user] = []\n",
    "        else:\n",
    "            # select the whole training seq\n",
    "            # user_train[user] = User[user][:-2]\n",
    "            seq_len = len(User[user])\n",
    "            valid_index = int(seq_len * valid_start)\n",
    "            test_index = int(seq_len * test_start)\n",
    "            if valid_index == test_index:\n",
    "                user_train[user] = User[user]\n",
    "                user_valid[user] = []\n",
    "                user_test[user] = []\n",
    "            else:\n",
    "                train_seq = User[user][: valid_index]\n",
    "                valid_seq = User[user][valid_index: test_index]\n",
    "                test_seq = User[user][test_index:]\n",
    "                train_seq_length =len(train_seq)\n",
    "                split_index = int(train_seq_length * train_start)\n",
    "                input_seq = train_seq[:split_index]\n",
    "                target_seq = train_seq[split_index:]\n",
    "                for target in target_seq:\n",
    "                    count+=1\n",
    "                    user_train[count] = input_seq + [target]\n",
    "                user_valid[user] = []\n",
    "                user_valid[user]+= valid_seq\n",
    "                user_test[user] = []\n",
    "                user_test[user]+= test_seq\n",
    "    return [user_train, user_valid, user_test, usernum, itemnum]"
   ],
   "metadata": {
    "collapsed": false
   }
  },
  {
   "cell_type": "code",
   "execution_count": 143,
   "outputs": [],
   "source": [
    "dataset = data_partition_window('ml-1m', 0.1, 0.1, 0.2)"
   ],
   "metadata": {
    "collapsed": false
   }
  },
  {
   "cell_type": "code",
   "execution_count": 139,
   "outputs": [
    {
     "data": {
      "text/plain": "(161930,\n [1,\n  2,\n  3,\n  4,\n  5,\n  6,\n  7,\n  8,\n  9,\n  10,\n  11,\n  12,\n  13,\n  14,\n  15,\n  16,\n  17,\n  18,\n  19,\n  20,\n  21,\n  22,\n  23,\n  24,\n  25,\n  26,\n  27,\n  28,\n  29,\n  30,\n  31,\n  32,\n  33,\n  34])"
     },
     "execution_count": 139,
     "metadata": {},
     "output_type": "execute_result"
    }
   ],
   "source": [
    "[user_train, user_valid, user_test, usernum, itemnum] = dataset\n",
    "len(user_train), user_train[1]"
   ],
   "metadata": {
    "collapsed": false
   }
  },
  {
   "cell_type": "code",
   "execution_count": 46,
   "outputs": [],
   "source": [
    "[user_train, user_valid, user_test, usernum, itemnum] = dataset"
   ],
   "metadata": {
    "collapsed": false
   }
  },
  {
   "cell_type": "code",
   "execution_count": 140,
   "outputs": [],
   "source": [
    "def data_partition_window_1(fname):\n",
    "    usernum = 0\n",
    "    itemnum = 0\n",
    "    User = defaultdict(list)\n",
    "    split_percent = 0.8\n",
    "\n",
    "    user_train = {}\n",
    "    user_valid = {}\n",
    "    user_test = {}\n",
    "    # assume user/item index starting from 1\n",
    "    f = open('%s.txt' % fname, 'r')\n",
    "    # read from each line\n",
    "    for line in f:\n",
    "        u, i = line.rstrip().split(' ')\n",
    "        u = int(u)\n",
    "        i = int(i)\n",
    "        usernum = max(u, usernum)\n",
    "        itemnum = max(i, itemnum)\n",
    "        User[u].append(i)\n",
    "    # read from each user\n",
    "    count = 0\n",
    "    for user in User:\n",
    "        nfeedback = len(User[user])\n",
    "        if nfeedback < 3:\n",
    "            user_train[user] = User[user]\n",
    "            user_valid[user] = []\n",
    "            user_test[user] = []\n",
    "        else:\n",
    "            # select the whole training seq\n",
    "            # user_train[user] = User[user][:-2]\n",
    "            train_seq = User[user][:-2]\n",
    "            train_seq_length = len(train_seq)\n",
    "            split_index = int(train_seq_length * split_percent)\n",
    "            input_seq = train_seq[:split_index]\n",
    "            target_seq = train_seq[split_index:]\n",
    "            for target in target_seq:\n",
    "                count += 1\n",
    "                user_train[count] = input_seq + [target]\n",
    "            user_valid[user] = []\n",
    "            user_valid[user].append(User[user][-2])\n",
    "            user_test[user] = []\n",
    "            user_test[user].append(User[user][-1])\n",
    "    usernum = count\n",
    "    return [user_train, user_valid, user_test, usernum, itemnum]"
   ],
   "metadata": {
    "collapsed": false
   }
  },
  {
   "cell_type": "code",
   "execution_count": 141,
   "outputs": [],
   "source": [
    "dataset = data_partition_window_1('ml-1m')\n",
    "[user_train, user_valid, user_test, usernum, itemnum] = dataset"
   ],
   "metadata": {
    "collapsed": false
   }
  },
  {
   "cell_type": "code",
   "execution_count": 142,
   "outputs": [
    {
     "data": {
      "text/plain": "(199890,\n [490,\n  12,\n  1041,\n  4,\n  1694,\n  63,\n  716,\n  1890,\n  222,\n  221,\n  1891,\n  199,\n  224,\n  442,\n  227,\n  792,\n  525,\n  867,\n  50,\n  905,\n  483,\n  1822,\n  936,\n  452,\n  475,\n  875,\n  234,\n  231,\n  739,\n  2233,\n  236,\n  98,\n  876,\n  939,\n  938,\n  531,\n  1166,\n  646,\n  944,\n  868,\n  153,\n  1151,\n  880,\n  817,\n  250,\n  453,\n  252,\n  253,\n  124,\n  251,\n  2040,\n  29,\n  883,\n  254,\n  478,\n  884,\n  887,\n  259,\n  260,\n  945,\n  298,\n  771,\n  565,\n  79,\n  837,\n  974,\n  2390,\n  87,\n  214,\n  987,\n  744,\n  215,\n  132,\n  514,\n  308,\n  977,\n  56,\n  25,\n  539,\n  104,\n  666,\n  592,\n  1474,\n  137,\n  988,\n  970,\n  353,\n  743,\n  746,\n  595,\n  209,\n  742,\n  571,\n  371,\n  138,\n  1001,\n  1008,\n  435,\n  740,\n  140,\n  1013,\n  618,\n  1035,\n  757,\n  2361,\n  720,\n  857,\n  637,\n  645,\n  155,\n  745,\n  617,\n  1264,\n  755,\n  1004,\n  165,\n  150,\n  1034,\n  635,\n  164,\n  1006,\n  669,\n  1720])"
     },
     "execution_count": 142,
     "metadata": {},
     "output_type": "execute_result"
    }
   ],
   "source": [
    "len(user_train), user_train[101442]"
   ],
   "metadata": {
    "collapsed": false
   }
  },
  {
   "cell_type": "code",
   "execution_count": 37,
   "outputs": [
    {
     "data": {
      "text/plain": "136"
     },
     "execution_count": 34,
     "metadata": {},
     "output_type": "execute_result"
    },
    {
     "data": {
      "text/plain": "5922"
     },
     "execution_count": 35,
     "metadata": {},
     "output_type": "execute_result"
    },
    {
     "data": {
      "text/plain": "1910"
     },
     "execution_count": 36,
     "metadata": {},
     "output_type": "execute_result"
    },
    {
     "data": {
      "text/plain": "726"
     },
     "execution_count": 37,
     "metadata": {},
     "output_type": "execute_result"
    }
   ],
   "source": [
    "import numpy as np\n",
    "user = np.random.randint(1, usernum + 1)\n",
    "user"
   ],
   "metadata": {
    "collapsed": false
   }
  },
  {
   "cell_type": "markdown",
   "source": [
    "# Evaluation metrix modification"
   ],
   "metadata": {
    "collapsed": false
   }
  },
  {
   "cell_type": "code",
   "execution_count": 94,
   "outputs": [],
   "source": [
    "from collections import defaultdict\n",
    "\n",
    "def data_partition(fname):\n",
    "    usernum = 0\n",
    "    itemnum = 0\n",
    "    User = defaultdict(list)\n",
    "    user_train = {}\n",
    "    user_valid = {}\n",
    "    user_test = {}\n",
    "    # assume user/item index starting from 1\n",
    "    f = open('%s.txt' % fname, 'r')\n",
    "    for line in f:\n",
    "        u, i = line.rstrip().split(' ')\n",
    "        u = int(u)\n",
    "        i = int(i)\n",
    "        usernum = max(u, usernum)\n",
    "        itemnum = max(i, itemnum)\n",
    "        User[u].append(i)\n",
    "\n",
    "    for user in User:\n",
    "        nfeedback = len(User[user])\n",
    "        if nfeedback < 3:\n",
    "            user_train[user] = User[user]\n",
    "            user_valid[user] = []\n",
    "            user_test[user] = []\n",
    "        else:\n",
    "            user_train[user] = User[user][:-2]\n",
    "            user_valid[user] = []\n",
    "            user_valid[user].append(User[user][-2])\n",
    "            user_test[user] = []\n",
    "            user_test[user].append(User[user][-1])\n",
    "    return [user_train, user_valid, user_test, usernum, itemnum]"
   ],
   "metadata": {
    "collapsed": false
   }
  },
  {
   "cell_type": "code",
   "execution_count": 98,
   "outputs": [
    {
     "ename": "KeyError",
     "evalue": "0",
     "output_type": "error",
     "traceback": [
      "\u001B[1;31m---------------------------------------------------------------------------\u001B[0m",
      "\u001B[1;31mKeyError\u001B[0m                                  Traceback (most recent call last)",
      "Cell \u001B[1;32mIn[98], line 2\u001B[0m\n\u001B[0;32m      1\u001B[0m dataset \u001B[38;5;241m=\u001B[39m data_partition(\u001B[38;5;124m'\u001B[39m\u001B[38;5;124mml-1m\u001B[39m\u001B[38;5;124m'\u001B[39m)\n\u001B[1;32m----> 2\u001B[0m \u001B[43mdataset\u001B[49m\u001B[43m[\u001B[49m\u001B[38;5;241;43m0\u001B[39;49m\u001B[43m]\u001B[49m\u001B[43m[\u001B[49m\u001B[38;5;241;43m0\u001B[39;49m\u001B[43m]\u001B[49m\n",
      "\u001B[1;31mKeyError\u001B[0m: 0"
     ]
    }
   ],
   "source": [
    "dataset = data_partition('ml-1m')\n",
    "dataset[0]"
   ],
   "metadata": {
    "collapsed": false
   }
  },
  {
   "cell_type": "code",
   "execution_count": 144,
   "outputs": [],
   "source": [
    "import random\n",
    "import numpy as np\n",
    "import copy\n",
    "import torch\n",
    "import sys\n",
    "\n",
    "def evaluate_window_valid(model, dataset, args):\n",
    "    [train, valid, test, usernum, itemnum] = copy.deepcopy(dataset)\n",
    "    Recall = 0.0\n",
    "    P90 = 0.0\n",
    "    # P90 coverage means the smallest item sets that appear in the top 10 lists of at least 90% of the users.\n",
    "    valid_user = 0.0\n",
    "    sample_nums = 500\n",
    "    random_items = random.sample(range(1, itemnum + 1), sample_nums)\n",
    "    # if usernum > 10000:\n",
    "    #     # avoid too many training users\n",
    "    #     # keep at most 10000 users\n",
    "    #     users = random.sample(range(1, usernum + 1), 10000)\n",
    "    # else:\n",
    "    #     # else keep all the users\n",
    "    #     users = range(1, usernum + 1)\n",
    "    users = range(1, usernum+1)\n",
    "    for u in users:\n",
    "        # make sure the sequence can be validated\n",
    "        if len(train[u]) < 1 or len(valid[u]) < 1: continue\n",
    "        seq = np.zeros([args.maxlen], dtype=np.int32)\n",
    "        idx = args.maxlen - 1\n",
    "        for i in reversed(train[u]):\n",
    "            seq[idx] = i\n",
    "            # fill the sequence from end to beginning\n",
    "            idx -= 1\n",
    "            if idx == -1: break\n",
    "            # select the max len or all of the training data in the sequence\n",
    "            # limit the length, seq contains the actual training sequence\n",
    "        rated = set(train[u])\n",
    "        rated.add(0)\n",
    "        # all items interacted by the current user\n",
    "        item_idx = [valid[u][0]]\n",
    "        # get the index of validated item\n",
    "        for _ in range(100):\n",
    "            # negative sampling\n",
    "            t = np.random.randint(1, itemnum + 1)\n",
    "            # randomly sample 100 items\n",
    "            while t in rated: t = np.random.randint(1, itemnum + 1)\n",
    "            item_idx.append(t)\n",
    "        predictions = -model.predict(*[np.array(l) for l in [[u], [seq], item_idx]])\n",
    "        # predicting the recommendation list\n",
    "        predictions = predictions[0]\n",
    "        rank = predictions.argsort().argsort()[0].item()\n",
    "        # the rank of the expected next single item\n",
    "        valid_user += 1\n",
    "        if rank < 10:\n",
    "            Recall += 1\n",
    "            # P90 coverage\n",
    "        if valid_user % 100 == 0:\n",
    "            print('.', end=\"\")\n",
    "            sys.stdout.flush()\n",
    "    return Recall / valid_user, P90 / valid_user"
   ],
   "metadata": {
    "collapsed": false
   }
  },
  {
   "cell_type": "code",
   "execution_count": 4,
   "outputs": [],
   "source": [
    "import argparse\n",
    "\n",
    "def str2bool(s):\n",
    "    if s not in {'false', 'true'}:\n",
    "        raise ValueError('Not a valid boolean string')\n",
    "    return s == 'true'\n",
    "\n",
    "def create_args(args):\n",
    "    parser = argparse.ArgumentParser()\n",
    "    parser.add_argument('--dataset', required=True)\n",
    "    parser.add_argument('--train_dir', required=True)\n",
    "    parser.add_argument('--batch_size', default=128, type=int)\n",
    "    parser.add_argument('--lr', default=0.001, type=float)\n",
    "    parser.add_argument('--maxlen', default=50, type=int)\n",
    "    parser.add_argument('--hidden_units', default=50, type=int)\n",
    "    parser.add_argument('--num_blocks', default=2, type=int)\n",
    "    parser.add_argument('--num_epochs', default=201, type=int)\n",
    "    parser.add_argument('--num_heads', default=1, type=int)\n",
    "    parser.add_argument('--dropout_rate', default=0.5, type=float)\n",
    "    parser.add_argument('--l2_emb', default=0.0, type=float)\n",
    "    parser.add_argument('--device', default='cpu', type=str)\n",
    "    parser.add_argument('--inference_only', default=False, type=str2bool)\n",
    "    parser.add_argument('--state_dict_path', default=None, type=str)\n",
    "    args = parser.parse_args(args)\n",
    "    return args"
   ],
   "metadata": {
    "collapsed": false
   }
  },
  {
   "cell_type": "code",
   "execution_count": 5,
   "outputs": [
    {
     "data": {
      "text/plain": "<All keys matched successfully>"
     },
     "execution_count": 5,
     "metadata": {},
     "output_type": "execute_result"
    }
   ],
   "source": [
    "from models.SASRec.model import SASRec\n",
    "[train, valid, test, usernum, itemnum] = copy.deepcopy(dataset)\n",
    "model_path = '../../processed/ml-1m_repro2/SASRec.epoch=201.lr=0.001.layer=2.head=1.hidden=50.maxlen=200.pth'\n",
    "# args.device = 'ml-1m'\n",
    "# args.train_dir = 'test'\n",
    "# args.state_dict_path = model_path\n",
    "# args.inference\n",
    "args = create_args(['--dataset','ml-1m',\n",
    "                    '--train_dir', 'test',\n",
    "                    '--device', 'cuda',\n",
    "                    '--state_dict_path', model_path,\n",
    "                    '--inference_only', 'true',\n",
    "                    '--maxlen', '200'])\n",
    "# print(args.dataset)\n",
    "model = SASRec(usernum, itemnum, args).to(args.device) # no ReLU activation in original SASRec implementation?\n",
    "model.load_state_dict(torch.load(args.state_dict_path, map_location=torch.device(args.device)))\n"
   ],
   "metadata": {
    "collapsed": false
   }
  },
  {
   "cell_type": "code",
   "execution_count": 6,
   "outputs": [],
   "source": [
    "# seq = np.zeros([200], dtype=np.int32)\n",
    "from collections import Counter\n",
    "\n",
    "def window_eval(model, dataset, args):\n",
    "    [train, valid, test, usernum, itemnum] = copy.deepcopy(dataset)\n",
    "    Recall = 0.0\n",
    "    P90 = 0.0\n",
    "    coverage_list = []\n",
    "    # P90 coverage means the smallest item sets that appear in the top 10 lists of at least 90% of the users.\n",
    "    valid_user = 0.0\n",
    "    sample_nums = 100\n",
    "    random_items = random.sample(range(1, itemnum + 1), sample_nums)\n",
    "    sample_idx = random_items\n",
    "    sample_idx_tensor = torch.tensor(sample_idx).to(args.device)\n",
    "    users = range(1, usernum+1)\n",
    "    for u in users:\n",
    "        if len(train[u]) < 1 or len(valid[u]) < 1: continue\n",
    "        seq = np.zeros([args.maxlen], dtype=np.int32)\n",
    "        idx = args.maxlen - 1\n",
    "        for i in reversed(train[u]):\n",
    "            seq[idx] = i\n",
    "            # fill the sequence from end to beginning\n",
    "            idx -= 1\n",
    "            if idx == -1: break\n",
    "            # select the max len or all of the training data in the sequence\n",
    "            # limit the length, seq contains the actual training sequence\n",
    "        # interacted items\n",
    "        rated = set(train[u])\n",
    "        rated.add(0)\n",
    "        # ground truth item\n",
    "        ground_truth_idx = [valid[u][0]]\n",
    "        # collect all indexes, which needs to process on\n",
    "        process_idx = ground_truth_idx + sample_idx\n",
    "        predictions = -model.predict(*[np.array(l) for l in [[u], [seq], process_idx]])[0]\n",
    "        # target distance\n",
    "        target_d = predictions[0]\n",
    "        # sampled results\n",
    "        sample_d = predictions[1:]\n",
    "        # print(len(sample_d))\n",
    "        bool_tensor = target_d >= sample_d\n",
    "        count = torch.sum(bool_tensor).item()\n",
    "        if count < 10:\n",
    "            Recall += 1\n",
    "        sorted_indices = torch.argsort(sample_d)\n",
    "        sorted_sample_idx = sample_idx_tensor[sorted_indices]\n",
    "        # take the coverage@10 for all users\n",
    "        coverage_list+=list(sorted_sample_idx[:10])\n",
    "        valid_user+=1\n",
    "    p90_list = [i.item() for i in coverage_list]\n",
    "    p90_dict = Counter(p90_list)\n",
    "    p90_sort = sorted(p90_dict.items(), key=lambda x: x[1], reverse=True)\n",
    "    total_rec = 0\n",
    "    item_count = 0\n",
    "    for _, num in p90_sort:\n",
    "        total_rec+= num\n",
    "        item_count+= 1\n",
    "        if total_rec>=0.9*10*usernum:\n",
    "            break\n",
    "    return Recall/ valid_user, item_count/sample_nums"
   ],
   "metadata": {
    "collapsed": false
   }
  },
  {
   "cell_type": "code",
   "execution_count": 7,
   "outputs": [
    {
     "data": {
      "text/plain": "(0.6837748344370861, 0.39)"
     },
     "execution_count": 7,
     "metadata": {},
     "output_type": "execute_result"
    }
   ],
   "source": [
    "r_10, p90_10 = window_eval(model, dataset, args)\n",
    "r_10, p90_10"
   ],
   "metadata": {
    "collapsed": false
   }
  },
  {
   "cell_type": "code",
   "execution_count": 324,
   "outputs": [
    {
     "data": {
      "text/plain": "0.7220198675496688"
     },
     "execution_count": 324,
     "metadata": {},
     "output_type": "execute_result"
    }
   ],
   "source": [
    "r_10"
   ],
   "metadata": {
    "collapsed": false
   }
  },
  {
   "cell_type": "code",
   "execution_count": 325,
   "outputs": [
    {
     "data": {
      "text/plain": "tensor(555, device='cuda:0')"
     },
     "execution_count": 325,
     "metadata": {},
     "output_type": "execute_result"
    }
   ],
   "source": [
    "p90_10[0]"
   ],
   "metadata": {
    "collapsed": false
   }
  },
  {
   "cell_type": "code",
   "execution_count": 4,
   "outputs": [
    {
     "data": {
      "text/plain": "[7, 3, 2, 8, 6]"
     },
     "execution_count": 4,
     "metadata": {},
     "output_type": "execute_result"
    }
   ],
   "source": [
    "train_user = [7,3,2,8,6,1]\n",
    "train_user[:-1]"
   ],
   "metadata": {
    "collapsed": false
   }
  }
 ],
 "metadata": {
  "kernelspec": {
   "display_name": "Python 3",
   "language": "python",
   "name": "python3"
  },
  "language_info": {
   "codemirror_mode": {
    "name": "ipython",
    "version": 2
   },
   "file_extension": ".py",
   "mimetype": "text/x-python",
   "name": "python",
   "nbconvert_exporter": "python",
   "pygments_lexer": "ipython2",
   "version": "2.7.6"
  }
 },
 "nbformat": 4,
 "nbformat_minor": 0
}
