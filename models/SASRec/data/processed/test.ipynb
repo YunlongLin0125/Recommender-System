{
 "cells": [
  {
   "cell_type": "code",
   "execution_count": 7,
   "metadata": {
    "collapsed": true
   },
   "outputs": [],
   "source": [
    "from collections import defaultdict\n",
    "from datetime import datetime\n",
    "import torch\n",
    "import random\n",
    "import numpy as np\n",
    "import pandas as pd"
   ]
  },
  {
   "cell_type": "code",
   "execution_count": 8,
   "outputs": [],
   "source": [
    "\n",
    "[user_input, user_target, usernum, itemnum] = data_partition_window_InputTarget_byP('ml-20m_train', 'ml-20m_target')"
   ],
   "metadata": {
    "collapsed": false
   }
  },
  {
   "cell_type": "code",
   "execution_count": 18,
   "outputs": [],
   "source": [],
   "metadata": {
    "collapsed": false
   }
  },
  {
   "cell_type": "code",
   "execution_count": 22,
   "outputs": [],
   "source": [
    "train_split = 0.7\n",
    "valid_split = 0.85\n",
    "keys = list(user_input.keys())\n",
    "random.shuffle(keys)\n",
    "# Split the keys into train, valid, test\n",
    "train_users = keys[:int(usernum * train_split)]\n",
    "valid_users = keys[int(usernum * train_split):int(usernum * valid_split)]\n",
    "test_users = keys[int(usernum * valid_split):]\n"
   ],
   "metadata": {
    "collapsed": false
   }
  }
 ],
 "metadata": {
  "kernelspec": {
   "display_name": "Python 3",
   "language": "python",
   "name": "python3"
  },
  "language_info": {
   "codemirror_mode": {
    "name": "ipython",
    "version": 2
   },
   "file_extension": ".py",
   "mimetype": "text/x-python",
   "name": "python",
   "nbconvert_exporter": "python",
   "pygments_lexer": "ipython2",
   "version": "2.7.6"
  }
 },
 "nbformat": 4,
 "nbformat_minor": 0
}
