{
 "cells": [
  {
   "cell_type": "code",
   "execution_count": 1,
   "metadata": {
    "collapsed": true
   },
   "outputs": [],
   "source": [
    "from collections import defaultdict\n",
    "from datetime import datetime\n",
    "import torch\n",
    "import numpy as np\n",
    "import pandas as pd"
   ]
  },
  {
   "cell_type": "code",
   "execution_count": 4,
   "outputs": [],
   "source": [
    "ml_1m_path = '../../../../datasets/ml-1m'"
   ],
   "metadata": {
    "collapsed": false
   }
  },
  {
   "cell_type": "code",
   "execution_count": 6,
   "outputs": [],
   "source": [
    "file_path = ml_1m_path + '/ratings.dat'\n",
    "# data = pd.read_csv(file_path, encoding='latin-1', sep=',', engine='python', index_col='userId')\n",
    "data = pd.read_csv(file_path, sep='::', engine='python',\n",
    "                   names=['userId', 'movieId', 'rating', 'timestamp'], index_col='userId')"
   ],
   "metadata": {
    "collapsed": false
   }
  },
  {
   "cell_type": "code",
   "execution_count": 7,
   "outputs": [
    {
     "data": {
      "text/plain": "        movieId  rating  timestamp\nuserId                            \n1          1193       5  978300760\n1           661       3  978302109\n1           914       3  978301968\n1          3408       4  978300275\n1          2355       5  978824291\n...         ...     ...        ...\n6040       1091       1  956716541\n6040       1094       5  956704887\n6040        562       5  956704746\n6040       1096       4  956715648\n6040       1097       4  956715569\n\n[1000209 rows x 3 columns]",
      "text/html": "<div>\n<style scoped>\n    .dataframe tbody tr th:only-of-type {\n        vertical-align: middle;\n    }\n\n    .dataframe tbody tr th {\n        vertical-align: top;\n    }\n\n    .dataframe thead th {\n        text-align: right;\n    }\n</style>\n<table border=\"1\" class=\"dataframe\">\n  <thead>\n    <tr style=\"text-align: right;\">\n      <th></th>\n      <th>movieId</th>\n      <th>rating</th>\n      <th>timestamp</th>\n    </tr>\n    <tr>\n      <th>userId</th>\n      <th></th>\n      <th></th>\n      <th></th>\n    </tr>\n  </thead>\n  <tbody>\n    <tr>\n      <th>1</th>\n      <td>1193</td>\n      <td>5</td>\n      <td>978300760</td>\n    </tr>\n    <tr>\n      <th>1</th>\n      <td>661</td>\n      <td>3</td>\n      <td>978302109</td>\n    </tr>\n    <tr>\n      <th>1</th>\n      <td>914</td>\n      <td>3</td>\n      <td>978301968</td>\n    </tr>\n    <tr>\n      <th>1</th>\n      <td>3408</td>\n      <td>4</td>\n      <td>978300275</td>\n    </tr>\n    <tr>\n      <th>1</th>\n      <td>2355</td>\n      <td>5</td>\n      <td>978824291</td>\n    </tr>\n    <tr>\n      <th>...</th>\n      <td>...</td>\n      <td>...</td>\n      <td>...</td>\n    </tr>\n    <tr>\n      <th>6040</th>\n      <td>1091</td>\n      <td>1</td>\n      <td>956716541</td>\n    </tr>\n    <tr>\n      <th>6040</th>\n      <td>1094</td>\n      <td>5</td>\n      <td>956704887</td>\n    </tr>\n    <tr>\n      <th>6040</th>\n      <td>562</td>\n      <td>5</td>\n      <td>956704746</td>\n    </tr>\n    <tr>\n      <th>6040</th>\n      <td>1096</td>\n      <td>4</td>\n      <td>956715648</td>\n    </tr>\n    <tr>\n      <th>6040</th>\n      <td>1097</td>\n      <td>4</td>\n      <td>956715569</td>\n    </tr>\n  </tbody>\n</table>\n<p>1000209 rows × 3 columns</p>\n</div>"
     },
     "execution_count": 7,
     "metadata": {},
     "output_type": "execute_result"
    }
   ],
   "source": [
    "data"
   ],
   "metadata": {
    "collapsed": false
   }
  },
  {
   "cell_type": "code",
   "execution_count": 8,
   "outputs": [],
   "source": [
    "actions = data\n",
    "actions = actions.groupby('movieId').filter(lambda  x: len(x) >= 5)\n",
    "actions = actions.groupby('userId').filter(lambda  x: len(x) >= 5)"
   ],
   "metadata": {
    "collapsed": false
   }
  },
  {
   "cell_type": "code",
   "execution_count": 9,
   "outputs": [],
   "source": [
    "actions = actions.groupby('userId', group_keys=False).apply(lambda  x: x.sort_values('timestamp'))"
   ],
   "metadata": {
    "collapsed": false
   }
  },
  {
   "cell_type": "code",
   "execution_count": 10,
   "outputs": [
    {
     "data": {
      "text/plain": "        movieId  rating  timestamp\nuserId                            \n1          3186       4  978300019\n1          1721       4  978300055\n1          1022       5  978300055\n1          1270       5  978300055\n1          2340       3  978300103\n...         ...     ...        ...\n6040       2917       4  997454429\n6040       1784       3  997454464\n6040       1921       4  997454464\n6040        161       3  997454486\n6040       1221       4  998315055\n\n[999611 rows x 3 columns]",
      "text/html": "<div>\n<style scoped>\n    .dataframe tbody tr th:only-of-type {\n        vertical-align: middle;\n    }\n\n    .dataframe tbody tr th {\n        vertical-align: top;\n    }\n\n    .dataframe thead th {\n        text-align: right;\n    }\n</style>\n<table border=\"1\" class=\"dataframe\">\n  <thead>\n    <tr style=\"text-align: right;\">\n      <th></th>\n      <th>movieId</th>\n      <th>rating</th>\n      <th>timestamp</th>\n    </tr>\n    <tr>\n      <th>userId</th>\n      <th></th>\n      <th></th>\n      <th></th>\n    </tr>\n  </thead>\n  <tbody>\n    <tr>\n      <th>1</th>\n      <td>3186</td>\n      <td>4</td>\n      <td>978300019</td>\n    </tr>\n    <tr>\n      <th>1</th>\n      <td>1721</td>\n      <td>4</td>\n      <td>978300055</td>\n    </tr>\n    <tr>\n      <th>1</th>\n      <td>1022</td>\n      <td>5</td>\n      <td>978300055</td>\n    </tr>\n    <tr>\n      <th>1</th>\n      <td>1270</td>\n      <td>5</td>\n      <td>978300055</td>\n    </tr>\n    <tr>\n      <th>1</th>\n      <td>2340</td>\n      <td>3</td>\n      <td>978300103</td>\n    </tr>\n    <tr>\n      <th>...</th>\n      <td>...</td>\n      <td>...</td>\n      <td>...</td>\n    </tr>\n    <tr>\n      <th>6040</th>\n      <td>2917</td>\n      <td>4</td>\n      <td>997454429</td>\n    </tr>\n    <tr>\n      <th>6040</th>\n      <td>1784</td>\n      <td>3</td>\n      <td>997454464</td>\n    </tr>\n    <tr>\n      <th>6040</th>\n      <td>1921</td>\n      <td>4</td>\n      <td>997454464</td>\n    </tr>\n    <tr>\n      <th>6040</th>\n      <td>161</td>\n      <td>3</td>\n      <td>997454486</td>\n    </tr>\n    <tr>\n      <th>6040</th>\n      <td>1221</td>\n      <td>4</td>\n      <td>998315055</td>\n    </tr>\n  </tbody>\n</table>\n<p>999611 rows × 3 columns</p>\n</div>"
     },
     "execution_count": 10,
     "metadata": {},
     "output_type": "execute_result"
    }
   ],
   "source": [
    "actions"
   ],
   "metadata": {
    "collapsed": false
   }
  },
  {
   "cell_type": "code",
   "execution_count": 11,
   "outputs": [
    {
     "data": {
      "text/plain": "(20, 2277, 165.44205298013244)"
     },
     "execution_count": 11,
     "metadata": {},
     "output_type": "execute_result"
    }
   ],
   "source": [
    "# data = data.groupby('userId')\n",
    "min = 100000\n",
    "max = 0\n",
    "total = 0\n",
    "for i in range(1, actions.index.max()):\n",
    "    total += len(actions.loc[i])\n",
    "    if len(data.loc[i]) < min:\n",
    "        min = len(actions.loc[i])\n",
    "    if len(data.loc[i]) > max:\n",
    "        max = len(actions.loc[i])\n",
    "min, max, total/actions.index.max()"
   ],
   "metadata": {
    "collapsed": false
   }
  },
  {
   "cell_type": "code",
   "execution_count": 12,
   "outputs": [],
   "source": [
    "usermap = dict()\n",
    "usernum = 0\n",
    "itemmap = dict()\n",
    "itemnum = 0\n",
    "# reorder the userid and itemid (keep the same step with original SASRec code)\n",
    "for _id, row in actions.iterrows():\n",
    "    if _id in usermap:\n",
    "        userid = usermap[_id]\n",
    "    else:\n",
    "        usernum += 1\n",
    "        userid = usernum\n",
    "        usermap[_id] = userid\n",
    "\n",
    "    if row.movieId in itemmap:\n",
    "        itemid = itemmap[row.movieId]\n",
    "    else:\n",
    "        itemnum += 1\n",
    "        itemid = itemnum\n",
    "        itemmap[row.movieId] = itemid"
   ],
   "metadata": {
    "collapsed": false
   }
  },
  {
   "cell_type": "code",
   "execution_count": 13,
   "outputs": [
    {
     "data": {
      "text/plain": "(6040, 3416)"
     },
     "execution_count": 13,
     "metadata": {},
     "output_type": "execute_result"
    }
   ],
   "source": [
    "usermap.__len__(), itemmap.__len__()"
   ],
   "metadata": {
    "collapsed": false
   }
  },
  {
   "cell_type": "code",
   "execution_count": 14,
   "outputs": [],
   "source": [
    "actions['movieId'] = actions['movieId'].map(itemmap)\n",
    "actions.index = actions.index.map(usermap)"
   ],
   "metadata": {
    "collapsed": false
   }
  },
  {
   "cell_type": "code",
   "execution_count": 15,
   "outputs": [
    {
     "data": {
      "text/plain": "        movieId  rating  timestamp\nuserId                            \n1             1       4  978300019\n1             2       4  978300055\n1             3       5  978300055\n1             4       5  978300055\n1             5       3  978300103\n...         ...     ...        ...\n6040       1249       4  997454429\n6040         88       3  997454464\n6040        371       4  997454464\n6040        464       3  997454486\n6040        431       4  998315055\n\n[999611 rows x 3 columns]",
      "text/html": "<div>\n<style scoped>\n    .dataframe tbody tr th:only-of-type {\n        vertical-align: middle;\n    }\n\n    .dataframe tbody tr th {\n        vertical-align: top;\n    }\n\n    .dataframe thead th {\n        text-align: right;\n    }\n</style>\n<table border=\"1\" class=\"dataframe\">\n  <thead>\n    <tr style=\"text-align: right;\">\n      <th></th>\n      <th>movieId</th>\n      <th>rating</th>\n      <th>timestamp</th>\n    </tr>\n    <tr>\n      <th>userId</th>\n      <th></th>\n      <th></th>\n      <th></th>\n    </tr>\n  </thead>\n  <tbody>\n    <tr>\n      <th>1</th>\n      <td>1</td>\n      <td>4</td>\n      <td>978300019</td>\n    </tr>\n    <tr>\n      <th>1</th>\n      <td>2</td>\n      <td>4</td>\n      <td>978300055</td>\n    </tr>\n    <tr>\n      <th>1</th>\n      <td>3</td>\n      <td>5</td>\n      <td>978300055</td>\n    </tr>\n    <tr>\n      <th>1</th>\n      <td>4</td>\n      <td>5</td>\n      <td>978300055</td>\n    </tr>\n    <tr>\n      <th>1</th>\n      <td>5</td>\n      <td>3</td>\n      <td>978300103</td>\n    </tr>\n    <tr>\n      <th>...</th>\n      <td>...</td>\n      <td>...</td>\n      <td>...</td>\n    </tr>\n    <tr>\n      <th>6040</th>\n      <td>1249</td>\n      <td>4</td>\n      <td>997454429</td>\n    </tr>\n    <tr>\n      <th>6040</th>\n      <td>88</td>\n      <td>3</td>\n      <td>997454464</td>\n    </tr>\n    <tr>\n      <th>6040</th>\n      <td>371</td>\n      <td>4</td>\n      <td>997454464</td>\n    </tr>\n    <tr>\n      <th>6040</th>\n      <td>464</td>\n      <td>3</td>\n      <td>997454486</td>\n    </tr>\n    <tr>\n      <th>6040</th>\n      <td>431</td>\n      <td>4</td>\n      <td>998315055</td>\n    </tr>\n  </tbody>\n</table>\n<p>999611 rows × 3 columns</p>\n</div>"
     },
     "execution_count": 15,
     "metadata": {},
     "output_type": "execute_result"
    }
   ],
   "source": [
    "actions"
   ],
   "metadata": {
    "collapsed": false
   }
  },
  {
   "cell_type": "code",
   "execution_count": 16,
   "outputs": [],
   "source": [
    "userMaxTime = actions.groupby('userId').timestamp.max()"
   ],
   "metadata": {
    "collapsed": false
   }
  },
  {
   "cell_type": "code",
   "execution_count": 17,
   "outputs": [
    {
     "data": {
      "text/plain": "userId\n1       978824351\n2       978300174\n3       978298504\n4       978294282\n5       978246585\n          ...    \n6036    956755196\n6037    956801840\n6038    956717204\n6039    956758029\n6040    998315055\nName: timestamp, Length: 6040, dtype: int64"
     },
     "execution_count": 17,
     "metadata": {},
     "output_type": "execute_result"
    }
   ],
   "source": [
    "userMaxTime"
   ],
   "metadata": {
    "collapsed": false
   }
  },
  {
   "cell_type": "code",
   "execution_count": 18,
   "outputs": [],
   "source": [
    "day = 86400\n",
    "num_day = 14\n",
    "userSplitTime = userMaxTime - num_day * day"
   ],
   "metadata": {
    "collapsed": false
   }
  },
  {
   "cell_type": "code",
   "execution_count": 19,
   "outputs": [
    {
     "data": {
      "text/plain": "        movieId  rating  timestamp\nuserId                            \n1             1       4  978300019\n1             2       4  978300055\n1             3       5  978300055\n1             4       5  978300055\n1             5       3  978300103\n...         ...     ...        ...\n6040       1249       4  997454429\n6040         88       3  997454464\n6040        371       4  997454464\n6040        464       3  997454486\n6040        431       4  998315055\n\n[999611 rows x 3 columns]",
      "text/html": "<div>\n<style scoped>\n    .dataframe tbody tr th:only-of-type {\n        vertical-align: middle;\n    }\n\n    .dataframe tbody tr th {\n        vertical-align: top;\n    }\n\n    .dataframe thead th {\n        text-align: right;\n    }\n</style>\n<table border=\"1\" class=\"dataframe\">\n  <thead>\n    <tr style=\"text-align: right;\">\n      <th></th>\n      <th>movieId</th>\n      <th>rating</th>\n      <th>timestamp</th>\n    </tr>\n    <tr>\n      <th>userId</th>\n      <th></th>\n      <th></th>\n      <th></th>\n    </tr>\n  </thead>\n  <tbody>\n    <tr>\n      <th>1</th>\n      <td>1</td>\n      <td>4</td>\n      <td>978300019</td>\n    </tr>\n    <tr>\n      <th>1</th>\n      <td>2</td>\n      <td>4</td>\n      <td>978300055</td>\n    </tr>\n    <tr>\n      <th>1</th>\n      <td>3</td>\n      <td>5</td>\n      <td>978300055</td>\n    </tr>\n    <tr>\n      <th>1</th>\n      <td>4</td>\n      <td>5</td>\n      <td>978300055</td>\n    </tr>\n    <tr>\n      <th>1</th>\n      <td>5</td>\n      <td>3</td>\n      <td>978300103</td>\n    </tr>\n    <tr>\n      <th>...</th>\n      <td>...</td>\n      <td>...</td>\n      <td>...</td>\n    </tr>\n    <tr>\n      <th>6040</th>\n      <td>1249</td>\n      <td>4</td>\n      <td>997454429</td>\n    </tr>\n    <tr>\n      <th>6040</th>\n      <td>88</td>\n      <td>3</td>\n      <td>997454464</td>\n    </tr>\n    <tr>\n      <th>6040</th>\n      <td>371</td>\n      <td>4</td>\n      <td>997454464</td>\n    </tr>\n    <tr>\n      <th>6040</th>\n      <td>464</td>\n      <td>3</td>\n      <td>997454486</td>\n    </tr>\n    <tr>\n      <th>6040</th>\n      <td>431</td>\n      <td>4</td>\n      <td>998315055</td>\n    </tr>\n  </tbody>\n</table>\n<p>999611 rows × 3 columns</p>\n</div>"
     },
     "execution_count": 19,
     "metadata": {},
     "output_type": "execute_result"
    }
   ],
   "source": [
    "actions"
   ],
   "metadata": {
    "collapsed": false
   }
  },
  {
   "cell_type": "code",
   "execution_count": 20,
   "outputs": [
    {
     "data": {
      "text/plain": "userId\n1       977614751\n2       977090574\n3       977088904\n4       977084682\n5       977036985\n          ...    \n6036    955545596\n6037    955592240\n6038    955507604\n6039    955548429\n6040    997105455\nName: timestamp, Length: 6040, dtype: int64"
     },
     "execution_count": 20,
     "metadata": {},
     "output_type": "execute_result"
    }
   ],
   "source": [
    "userSplitTime"
   ],
   "metadata": {
    "collapsed": false
   }
  },
  {
   "cell_type": "code",
   "execution_count": 21,
   "outputs": [],
   "source": [
    "def filter_input(group):\n",
    "    user_id = group.index[0]\n",
    "    limit = userSplitTime.loc[user_id]\n",
    "    return group[group['timestamp'] < limit]\n",
    "\n",
    "def filter_target(group):\n",
    "    user_id = group.index[0]\n",
    "    limit = userSplitTime.loc[user_id]\n",
    "    return group[group['timestamp'] >= limit]"
   ],
   "metadata": {
    "collapsed": false
   }
  },
  {
   "cell_type": "code",
   "execution_count": 64,
   "outputs": [],
   "source": [
    "input_data = actions.groupby('userId').apply(filter_input)\n",
    "target_window = actions.groupby('userId').apply(filter_target)"
   ],
   "metadata": {
    "collapsed": false
   }
  },
  {
   "cell_type": "code",
   "execution_count": 65,
   "outputs": [],
   "source": [
    "input_data = input_data.reset_index(level=1, drop=True)"
   ],
   "metadata": {
    "collapsed": false
   }
  },
  {
   "cell_type": "code",
   "execution_count": 24,
   "outputs": [
    {
     "data": {
      "text/plain": "        movieId  rating  timestamp\nuserId                            \n10          552       3  978224375\n10          553       3  978224375\n10          430       4  978224375\n10          554       4  978224400\n10           56       4  978224400\n...         ...     ...        ...\n6040        515       4  964828782\n6040       2799       2  964828782\n6040        984       5  964828799\n6040        183       4  964828900\n6040        829       5  984195682\n\n[417212 rows x 3 columns]",
      "text/html": "<div>\n<style scoped>\n    .dataframe tbody tr th:only-of-type {\n        vertical-align: middle;\n    }\n\n    .dataframe tbody tr th {\n        vertical-align: top;\n    }\n\n    .dataframe thead th {\n        text-align: right;\n    }\n</style>\n<table border=\"1\" class=\"dataframe\">\n  <thead>\n    <tr style=\"text-align: right;\">\n      <th></th>\n      <th>movieId</th>\n      <th>rating</th>\n      <th>timestamp</th>\n    </tr>\n    <tr>\n      <th>userId</th>\n      <th></th>\n      <th></th>\n      <th></th>\n    </tr>\n  </thead>\n  <tbody>\n    <tr>\n      <th>10</th>\n      <td>552</td>\n      <td>3</td>\n      <td>978224375</td>\n    </tr>\n    <tr>\n      <th>10</th>\n      <td>553</td>\n      <td>3</td>\n      <td>978224375</td>\n    </tr>\n    <tr>\n      <th>10</th>\n      <td>430</td>\n      <td>4</td>\n      <td>978224375</td>\n    </tr>\n    <tr>\n      <th>10</th>\n      <td>554</td>\n      <td>4</td>\n      <td>978224400</td>\n    </tr>\n    <tr>\n      <th>10</th>\n      <td>56</td>\n      <td>4</td>\n      <td>978224400</td>\n    </tr>\n    <tr>\n      <th>...</th>\n      <td>...</td>\n      <td>...</td>\n      <td>...</td>\n    </tr>\n    <tr>\n      <th>6040</th>\n      <td>515</td>\n      <td>4</td>\n      <td>964828782</td>\n    </tr>\n    <tr>\n      <th>6040</th>\n      <td>2799</td>\n      <td>2</td>\n      <td>964828782</td>\n    </tr>\n    <tr>\n      <th>6040</th>\n      <td>984</td>\n      <td>5</td>\n      <td>964828799</td>\n    </tr>\n    <tr>\n      <th>6040</th>\n      <td>183</td>\n      <td>4</td>\n      <td>964828900</td>\n    </tr>\n    <tr>\n      <th>6040</th>\n      <td>829</td>\n      <td>5</td>\n      <td>984195682</td>\n    </tr>\n  </tbody>\n</table>\n<p>417212 rows × 3 columns</p>\n</div>"
     },
     "execution_count": 24,
     "metadata": {},
     "output_type": "execute_result"
    }
   ],
   "source": [
    "input_data"
   ],
   "metadata": {
    "collapsed": false
   }
  },
  {
   "cell_type": "code",
   "execution_count": 66,
   "outputs": [],
   "source": [
    "target_window = target_window.reset_index(level=1, drop=True)"
   ],
   "metadata": {
    "collapsed": false
   }
  },
  {
   "cell_type": "code",
   "execution_count": 26,
   "outputs": [
    {
     "data": {
      "text/plain": "        movieId  rating  timestamp\nuserId                            \n1             1       4  978300019\n1             2       4  978300055\n1             3       5  978300055\n1             4       5  978300055\n1             5       3  978300103\n...         ...     ...        ...\n6040       1249       4  997454429\n6040         88       3  997454464\n6040        371       4  997454464\n6040        464       3  997454486\n6040        431       4  998315055\n\n[582399 rows x 3 columns]",
      "text/html": "<div>\n<style scoped>\n    .dataframe tbody tr th:only-of-type {\n        vertical-align: middle;\n    }\n\n    .dataframe tbody tr th {\n        vertical-align: top;\n    }\n\n    .dataframe thead th {\n        text-align: right;\n    }\n</style>\n<table border=\"1\" class=\"dataframe\">\n  <thead>\n    <tr style=\"text-align: right;\">\n      <th></th>\n      <th>movieId</th>\n      <th>rating</th>\n      <th>timestamp</th>\n    </tr>\n    <tr>\n      <th>userId</th>\n      <th></th>\n      <th></th>\n      <th></th>\n    </tr>\n  </thead>\n  <tbody>\n    <tr>\n      <th>1</th>\n      <td>1</td>\n      <td>4</td>\n      <td>978300019</td>\n    </tr>\n    <tr>\n      <th>1</th>\n      <td>2</td>\n      <td>4</td>\n      <td>978300055</td>\n    </tr>\n    <tr>\n      <th>1</th>\n      <td>3</td>\n      <td>5</td>\n      <td>978300055</td>\n    </tr>\n    <tr>\n      <th>1</th>\n      <td>4</td>\n      <td>5</td>\n      <td>978300055</td>\n    </tr>\n    <tr>\n      <th>1</th>\n      <td>5</td>\n      <td>3</td>\n      <td>978300103</td>\n    </tr>\n    <tr>\n      <th>...</th>\n      <td>...</td>\n      <td>...</td>\n      <td>...</td>\n    </tr>\n    <tr>\n      <th>6040</th>\n      <td>1249</td>\n      <td>4</td>\n      <td>997454429</td>\n    </tr>\n    <tr>\n      <th>6040</th>\n      <td>88</td>\n      <td>3</td>\n      <td>997454464</td>\n    </tr>\n    <tr>\n      <th>6040</th>\n      <td>371</td>\n      <td>4</td>\n      <td>997454464</td>\n    </tr>\n    <tr>\n      <th>6040</th>\n      <td>464</td>\n      <td>3</td>\n      <td>997454486</td>\n    </tr>\n    <tr>\n      <th>6040</th>\n      <td>431</td>\n      <td>4</td>\n      <td>998315055</td>\n    </tr>\n  </tbody>\n</table>\n<p>582399 rows × 3 columns</p>\n</div>"
     },
     "execution_count": 26,
     "metadata": {},
     "output_type": "execute_result"
    }
   ],
   "source": [
    "target_window"
   ],
   "metadata": {
    "collapsed": false
   }
  },
  {
   "cell_type": "code",
   "execution_count": 67,
   "outputs": [],
   "source": [
    "input_idx = set(input_data.index)\n",
    "target_idx = set(target_window.index)\n",
    "valid_userid = input_idx.intersection(target_idx)"
   ],
   "metadata": {
    "collapsed": false
   }
  },
  {
   "cell_type": "code",
   "execution_count": 28,
   "outputs": [
    {
     "data": {
      "text/plain": "1628"
     },
     "execution_count": 28,
     "metadata": {},
     "output_type": "execute_result"
    }
   ],
   "source": [
    "len(valid_userid)"
   ],
   "metadata": {
    "collapsed": false
   }
  },
  {
   "cell_type": "code",
   "execution_count": 49,
   "outputs": [
    {
     "data": {
      "text/plain": "[10,\n 19,\n 20,\n 22,\n 23,\n 24,\n 36,\n 44,\n 59,\n 63,\n 65,\n 68,\n 73,\n 74,\n 76,\n 80,\n 85,\n 86,\n 89,\n 90,\n 92,\n 96,\n 97,\n 99,\n 102,\n 104,\n 114,\n 116,\n 122,\n 123,\n 124,\n 127,\n 131,\n 133,\n 134,\n 137,\n 140,\n 142,\n 146,\n 148,\n 149,\n 150,\n 151,\n 153,\n 157,\n 160,\n 162,\n 164,\n 166,\n 169,\n 173,\n 175,\n 180,\n 183,\n 184,\n 188,\n 192,\n 193,\n 195,\n 198,\n 201,\n 204,\n 208,\n 215,\n 218,\n 224,\n 228,\n 229,\n 231,\n 234,\n 235,\n 237,\n 239,\n 242,\n 248,\n 259,\n 264,\n 267,\n 270,\n 271,\n 279,\n 285,\n 293,\n 299,\n 302,\n 303,\n 306,\n 308,\n 310,\n 311,\n 314,\n 319,\n 321,\n 322,\n 326,\n 329,\n 330,\n 331,\n 332,\n 333,\n 338,\n 343,\n 349,\n 351,\n 355,\n 356,\n 362,\n 366,\n 368,\n 372,\n 375,\n 376,\n 382,\n 387,\n 391,\n 392,\n 398,\n 402,\n 403,\n 404,\n 405,\n 408,\n 411,\n 412,\n 415,\n 419,\n 420,\n 422,\n 424,\n 438,\n 439,\n 442,\n 453,\n 454,\n 462,\n 480,\n 482,\n 487,\n 496,\n 498,\n 500,\n 507,\n 514,\n 516,\n 518,\n 519,\n 520,\n 528,\n 529,\n 531,\n 549,\n 566,\n 582,\n 583,\n 584,\n 587,\n 588,\n 593,\n 595,\n 600,\n 608,\n 609,\n 611,\n 623,\n 624,\n 626,\n 633,\n 635,\n 639,\n 641,\n 648,\n 649,\n 650,\n 657,\n 660,\n 667,\n 671,\n 676,\n 678,\n 691,\n 692,\n 693,\n 696,\n 698,\n 699,\n 701,\n 707,\n 710,\n 711,\n 714,\n 715,\n 716,\n 721,\n 725,\n 727,\n 735,\n 736,\n 737,\n 739,\n 743,\n 746,\n 749,\n 752,\n 753,\n 754,\n 755,\n 767,\n 770,\n 774,\n 777,\n 783,\n 787,\n 791,\n 795,\n 796,\n 822,\n 823,\n 827,\n 829,\n 838,\n 839,\n 840,\n 846,\n 848,\n 856,\n 862,\n 864,\n 869,\n 872,\n 874,\n 878,\n 879,\n 881,\n 884,\n 890,\n 897,\n 899,\n 904,\n 910,\n 911,\n 913,\n 914,\n 918,\n 921,\n 926,\n 927,\n 929,\n 930,\n 934,\n 935,\n 936,\n 937,\n 943,\n 948,\n 953,\n 957,\n 959,\n 962,\n 963,\n 970,\n 975,\n 979,\n 981,\n 984,\n 987,\n 988,\n 990,\n 993,\n 996,\n 997,\n 1001,\n 1002,\n 1005,\n 1010,\n 1015,\n 1019,\n 1020,\n 1021,\n 1026,\n 1029,\n 1033,\n 1041,\n 1043,\n 1048,\n 1050,\n 1051,\n 1058,\n 1059,\n 1061,\n 1063,\n 1064,\n 1067,\n 1068,\n 1074,\n 1077,\n 1079,\n 1086,\n 1087,\n 1088,\n 1092,\n 1101,\n 1105,\n 1107,\n 1109,\n 1113,\n 1117,\n 1120,\n 1121,\n 1124,\n 1125,\n 1127,\n 1130,\n 1137,\n 1139,\n 1141,\n 1142,\n 1149,\n 1150,\n 1160,\n 1164,\n 1165,\n 1173,\n 1181,\n 1182,\n 1186,\n 1192,\n 1193,\n 1194,\n 1195,\n 1202,\n 1203,\n 1211,\n 1213,\n 1217,\n 1218,\n 1219,\n 1220,\n 1224,\n 1225,\n 1227,\n 1228,\n 1241,\n 1242,\n 1243,\n 1246,\n 1252,\n 1256,\n 1260,\n 1265,\n 1266,\n 1268,\n 1274,\n 1278,\n 1279,\n 1280,\n 1284,\n 1285,\n 1290,\n 1291,\n 1301,\n 1302,\n 1303,\n 1306,\n 1315,\n 1317,\n 1324,\n 1327,\n 1329,\n 1333,\n 1336,\n 1338,\n 1340,\n 1343,\n 1347,\n 1348,\n 1352,\n 1354,\n 1355,\n 1356,\n 1362,\n 1369,\n 1380,\n 1383,\n 1386,\n 1389,\n 1390,\n 1395,\n 1399,\n 1404,\n 1407,\n 1413,\n 1415,\n 1420,\n 1421,\n 1422,\n 1425,\n 1426,\n 1437,\n 1447,\n 1448,\n 1449,\n 1451,\n 1455,\n 1457,\n 1458,\n 1463,\n 1467,\n 1470,\n 1483,\n 1484,\n 1491,\n 1499,\n 1500,\n 1501,\n 1502,\n 1503,\n 1505,\n 1506,\n 1509,\n 1511,\n 1516,\n 1519,\n 1524,\n 1530,\n 1538,\n 1539,\n 1546,\n 1547,\n 1551,\n 1556,\n 1557,\n 1560,\n 1561,\n 1579,\n 1584,\n 1587,\n 1590,\n 1593,\n 1597,\n 1599,\n 1601,\n 1603,\n 1605,\n 1611,\n 1616,\n 1624,\n 1628,\n 1635,\n 1638,\n 1639,\n 1643,\n 1645,\n 1647,\n 1650,\n 1651,\n 1655,\n 1657,\n 1660,\n 1666,\n 1671,\n 1676,\n 1678,\n 1680,\n 1698,\n 1699,\n 1701,\n 1702,\n 1710,\n 1712,\n 1715,\n 1716,\n 1717,\n 1723,\n 1724,\n 1728,\n 1729,\n 1733,\n 1737,\n 1739,\n 1748,\n 1752,\n 1755,\n 1759,\n 1767,\n 1776,\n 1778,\n 1779,\n 1780,\n 1789,\n 1794,\n 1798,\n 1800,\n 1804,\n 1806,\n 1812,\n 1824,\n 1827,\n 1834,\n 1836,\n 1837,\n 1839,\n 1841,\n 1842,\n 1851,\n 1854,\n 1858,\n 1860,\n 1861,\n 1862,\n 1863,\n 1865,\n 1866,\n 1873,\n 1879,\n 1882,\n 1884,\n 1889,\n 1890,\n 1897,\n 1899,\n 1912,\n 1917,\n 1922,\n 1925,\n 1926,\n 1928,\n 1930,\n 1941,\n 1943,\n 1946,\n 1949,\n 1952,\n 1954,\n 1958,\n 1959,\n 1960,\n 1962,\n 1969,\n 1974,\n 1978,\n 1979,\n 1980,\n 1982,\n 1983,\n 1988,\n 1995,\n 1996,\n 1998,\n 2000,\n 2008,\n 2011,\n 2012,\n 2015,\n 2018,\n 2019,\n 2020,\n 2022,\n 2023,\n 2025,\n 2030,\n 2031,\n 2035,\n 2036,\n 2041,\n 2047,\n 2050,\n 2057,\n 2059,\n 2060,\n 2063,\n 2070,\n 2071,\n 2076,\n 2077,\n 2078,\n 2079,\n 2082,\n 2089,\n 2092,\n 2097,\n 2103,\n 2105,\n 2106,\n 2111,\n 2114,\n 2116,\n 2119,\n 2120,\n 2122,\n 2125,\n 2127,\n 2129,\n 2131,\n 2153,\n 2159,\n 2168,\n 2172,\n 2176,\n 2181,\n 2188,\n 2190,\n 2193,\n 2195,\n 2208,\n 2210,\n 2225,\n 2232,\n 2239,\n 2242,\n 2244,\n 2246,\n 2247,\n 2255,\n 2258,\n 2269,\n 2270,\n 2271,\n 2272,\n 2276,\n 2282,\n 2303,\n 2307,\n 2310,\n 2316,\n 2321,\n 2323,\n 2330,\n 2331,\n 2332,\n 2333,\n 2342,\n 2350,\n 2353,\n 2359,\n 2360,\n 2362,\n 2376,\n 2380,\n 2383,\n 2390,\n 2395,\n 2407,\n 2409,\n 2414,\n 2415,\n 2419,\n 2427,\n 2433,\n 2436,\n 2438,\n 2446,\n 2451,\n 2453,\n 2454,\n 2462,\n 2471,\n 2472,\n 2478,\n 2485,\n 2489,\n 2493,\n 2501,\n 2504,\n 2505,\n 2507,\n 2514,\n 2520,\n 2528,\n 2529,\n 2535,\n 2544,\n 2547,\n 2555,\n 2561,\n 2565,\n 2566,\n 2574,\n 2577,\n 2581,\n 2583,\n 2593,\n 2594,\n 2597,\n 2598,\n 2609,\n 2611,\n 2621,\n 2626,\n 2627,\n 2634,\n 2636,\n 2638,\n 2641,\n 2642,\n 2643,\n 2648,\n 2650,\n 2655,\n 2665,\n 2669,\n 2670,\n 2673,\n 2683,\n 2684,\n 2688,\n 2691,\n 2715,\n 2718,\n 2724,\n 2748,\n 2749,\n 2751,\n 2753,\n 2756,\n 2757,\n 2760,\n 2762,\n 2764,\n 2766,\n 2770,\n 2772,\n 2775,\n 2777,\n 2778,\n 2779,\n 2781,\n 2784,\n 2786,\n 2791,\n 2793,\n 2796,\n 2802,\n 2803,\n 2806,\n 2808,\n 2809,\n 2810,\n 2814,\n 2820,\n 2824,\n 2826,\n 2828,\n 2832,\n 2840,\n 2841,\n 2844,\n 2847,\n 2849,\n 2858,\n 2859,\n 2860,\n 2868,\n 2872,\n 2877,\n 2878,\n 2880,\n 2882,\n 2885,\n 2887,\n 2889,\n 2892,\n 2895,\n 2896,\n 2898,\n 2903,\n 2904,\n 2905,\n 2907,\n 2909,\n 2910,\n 2911,\n 2915,\n 2917,\n 2918,\n 2919,\n 2925,\n 2926,\n 2931,\n 2933,\n 2935,\n 2936,\n 2944,\n 2946,\n 2952,\n 2962,\n 2964,\n 2969,\n 2980,\n 2985,\n 2986,\n 2987,\n 2988,\n 2991,\n 2996,\n 2998,\n 3001,\n 3002,\n 3006,\n 3011,\n 3012,\n 3013,\n 3014,\n 3015,\n 3017,\n 3018,\n 3020,\n 3029,\n 3031,\n 3033,\n 3036,\n 3038,\n 3041,\n 3051,\n 3053,\n 3054,\n 3055,\n 3057,\n 3058,\n 3065,\n 3067,\n 3072,\n 3074,\n 3075,\n 3078,\n 3079,\n 3080,\n 3085,\n 3087,\n 3089,\n 3090,\n 3093,\n 3095,\n 3096,\n 3097,\n 3106,\n 3109,\n 3112,\n 3113,\n 3115,\n 3119,\n 3125,\n 3128,\n 3140,\n 3143,\n 3146,\n 3150,\n 3152,\n 3154,\n 3156,\n 3158,\n 3159,\n 3163,\n 3171,\n 3172,\n 3174,\n 3177,\n 3178,\n 3182,\n 3189,\n 3192,\n 3194,\n 3195,\n 3196,\n 3200,\n 3201,\n 3203,\n 3210,\n 3217,\n 3219,\n 3224,\n 3227,\n 3229,\n 3233,\n 3256,\n 3258,\n 3259,\n 3260,\n 3261,\n 3262,\n 3265,\n 3266,\n 3268,\n 3270,\n 3272,\n 3274,\n 3277,\n 3278,\n 3279,\n 3280,\n 3285,\n 3288,\n 3292,\n 3299,\n 3300,\n 3301,\n 3311,\n 3312,\n 3313,\n 3314,\n 3315,\n 3317,\n 3320,\n 3323,\n 3326,\n 3327,\n 3331,\n 3332,\n 3333,\n 3336,\n 3340,\n 3355,\n 3359,\n 3363,\n 3364,\n 3367,\n 3368,\n 3371,\n 3378,\n 3386,\n 3387,\n 3391,\n 3400,\n 3401,\n 3405,\n 3410,\n 3411,\n 3412,\n 3413,\n 3414,\n 3420,\n 3423,\n 3424,\n 3425,\n 3428,\n 3430,\n 3433,\n 3435,\n 3436,\n 3437,\n 3441,\n 3452,\n 3453,\n 3454,\n 3457,\n 3459,\n 3462,\n 3464,\n 3471,\n 3473,\n 3475,\n 3476,\n 3481,\n 3483,\n 3492,\n 3495,\n 3503,\n 3504,\n 3505,\n 3507,\n 3509,\n 3512,\n 3516,\n 3518,\n 3519,\n 3520,\n 3524,\n 3526,\n 3531,\n 3532,\n 3540,\n 3547,\n 3550,\n 3557,\n 3560,\n 3561,\n 3562,\n 3569,\n 3571,\n 3589,\n 3590,\n 3591,\n 3592,\n 3594,\n 3596,\n 3599,\n 3602,\n 3607,\n 3610,\n 3612,\n 3613,\n 3619,\n 3620,\n 3624,\n 3626,\n 3628,\n 3630,\n 3634,\n 3641,\n 3643,\n 3648,\n ...]"
     },
     "execution_count": 49,
     "metadata": {},
     "output_type": "execute_result"
    }
   ],
   "source": [
    "valid_user = sorted(list(valid_userid))\n",
    "valid_user"
   ],
   "metadata": {
    "collapsed": false
   }
  },
  {
   "cell_type": "code",
   "execution_count": 30,
   "outputs": [
    {
     "data": {
      "text/plain": "1628"
     },
     "execution_count": 30,
     "metadata": {},
     "output_type": "execute_result"
    }
   ],
   "source": [
    "len(valid_user)"
   ],
   "metadata": {
    "collapsed": false
   }
  },
  {
   "cell_type": "code",
   "execution_count": 31,
   "outputs": [
    {
     "data": {
      "text/plain": "(417212, 582399)"
     },
     "execution_count": 31,
     "metadata": {},
     "output_type": "execute_result"
    }
   ],
   "source": [
    "len(input_data), len(target_window)"
   ],
   "metadata": {
    "collapsed": false
   }
  },
  {
   "cell_type": "code",
   "execution_count": 32,
   "outputs": [
    {
     "data": {
      "text/plain": "[10,\n 19,\n 20,\n 22,\n 23,\n 24,\n 36,\n 44,\n 59,\n 63,\n 65,\n 68,\n 73,\n 74,\n 76,\n 80,\n 85,\n 86,\n 89,\n 90,\n 92,\n 96,\n 97,\n 99,\n 102,\n 104,\n 114,\n 116,\n 122,\n 123,\n 124,\n 127,\n 131,\n 133,\n 134,\n 137,\n 140,\n 142,\n 146,\n 148,\n 149,\n 150,\n 151,\n 153,\n 157,\n 160,\n 162,\n 164,\n 166,\n 169,\n 173,\n 175,\n 180,\n 183,\n 184,\n 188,\n 192,\n 193,\n 195,\n 198,\n 201,\n 204,\n 208,\n 215,\n 218,\n 224,\n 228,\n 229,\n 231,\n 234,\n 235,\n 237,\n 239,\n 242,\n 248,\n 259,\n 264,\n 267,\n 270,\n 271,\n 279,\n 285,\n 293,\n 299,\n 302,\n 303,\n 306,\n 308,\n 310,\n 311,\n 314,\n 319,\n 321,\n 322,\n 326,\n 329,\n 330,\n 331,\n 332,\n 333,\n 338,\n 343,\n 349,\n 351,\n 355,\n 356,\n 362,\n 366,\n 368,\n 372,\n 375,\n 376,\n 382,\n 387,\n 391,\n 392,\n 398,\n 402,\n 403,\n 404,\n 405,\n 408,\n 411,\n 412,\n 415,\n 419,\n 420,\n 422,\n 424,\n 438,\n 439,\n 442,\n 453,\n 454,\n 462,\n 480,\n 482,\n 487,\n 496,\n 498,\n 500,\n 507,\n 514,\n 516,\n 518,\n 519,\n 520,\n 528,\n 529,\n 531,\n 549,\n 566,\n 582,\n 583,\n 584,\n 587,\n 588,\n 593,\n 595,\n 600,\n 608,\n 609,\n 611,\n 623,\n 624,\n 626,\n 633,\n 635,\n 639,\n 641,\n 648,\n 649,\n 650,\n 657,\n 660,\n 667,\n 671,\n 676,\n 678,\n 691,\n 692,\n 693,\n 696,\n 698,\n 699,\n 701,\n 707,\n 710,\n 711,\n 714,\n 715,\n 716,\n 721,\n 725,\n 727,\n 735,\n 736,\n 737,\n 739,\n 743,\n 746,\n 749,\n 752,\n 753,\n 754,\n 755,\n 767,\n 770,\n 774,\n 777,\n 783,\n 787,\n 791,\n 795,\n 796,\n 822,\n 823,\n 827,\n 829,\n 838,\n 839,\n 840,\n 846,\n 848,\n 856,\n 862,\n 864,\n 869,\n 872,\n 874,\n 878,\n 879,\n 881,\n 884,\n 890,\n 897,\n 899,\n 904,\n 910,\n 911,\n 913,\n 914,\n 918,\n 921,\n 926,\n 927,\n 929,\n 930,\n 934,\n 935,\n 936,\n 937,\n 943,\n 948,\n 953,\n 957,\n 959,\n 962,\n 963,\n 970,\n 975,\n 979,\n 981,\n 984,\n 987,\n 988,\n 990,\n 993,\n 996,\n 997,\n 1001,\n 1002,\n 1005,\n 1010,\n 1015,\n 1019,\n 1020,\n 1021,\n 1026,\n 1029,\n 1033,\n 1041,\n 1043,\n 1048,\n 1050,\n 1051,\n 1058,\n 1059,\n 1061,\n 1063,\n 1064,\n 1067,\n 1068,\n 1074,\n 1077,\n 1079,\n 1086,\n 1087,\n 1088,\n 1092,\n 1101,\n 1105,\n 1107,\n 1109,\n 1113,\n 1117,\n 1120,\n 1121,\n 1124,\n 1125,\n 1127,\n 1130,\n 1137,\n 1139,\n 1141,\n 1142,\n 1149,\n 1150,\n 1160,\n 1164,\n 1165,\n 1173,\n 1181,\n 1182,\n 1186,\n 1192,\n 1193,\n 1194,\n 1195,\n 1202,\n 1203,\n 1211,\n 1213,\n 1217,\n 1218,\n 1219,\n 1220,\n 1224,\n 1225,\n 1227,\n 1228,\n 1241,\n 1242,\n 1243,\n 1246,\n 1252,\n 1256,\n 1260,\n 1265,\n 1266,\n 1268,\n 1274,\n 1278,\n 1279,\n 1280,\n 1284,\n 1285,\n 1290,\n 1291,\n 1301,\n 1302,\n 1303,\n 1306,\n 1315,\n 1317,\n 1324,\n 1327,\n 1329,\n 1333,\n 1336,\n 1338,\n 1340,\n 1343,\n 1347,\n 1348,\n 1352,\n 1354,\n 1355,\n 1356,\n 1362,\n 1369,\n 1380,\n 1383,\n 1386,\n 1389,\n 1390,\n 1395,\n 1399,\n 1404,\n 1407,\n 1413,\n 1415,\n 1420,\n 1421,\n 1422,\n 1425,\n 1426,\n 1437,\n 1447,\n 1448,\n 1449,\n 1451,\n 1455,\n 1457,\n 1458,\n 1463,\n 1467,\n 1470,\n 1483,\n 1484,\n 1491,\n 1499,\n 1500,\n 1501,\n 1502,\n 1503,\n 1505,\n 1506,\n 1509,\n 1511,\n 1516,\n 1519,\n 1524,\n 1530,\n 1538,\n 1539,\n 1546,\n 1547,\n 1551,\n 1556,\n 1557,\n 1560,\n 1561,\n 1579,\n 1584,\n 1587,\n 1590,\n 1593,\n 1597,\n 1599,\n 1601,\n 1603,\n 1605,\n 1611,\n 1616,\n 1624,\n 1628,\n 1635,\n 1638,\n 1639,\n 1643,\n 1645,\n 1647,\n 1650,\n 1651,\n 1655,\n 1657,\n 1660,\n 1666,\n 1671,\n 1676,\n 1678,\n 1680,\n 1698,\n 1699,\n 1701,\n 1702,\n 1710,\n 1712,\n 1715,\n 1716,\n 1717,\n 1723,\n 1724,\n 1728,\n 1729,\n 1733,\n 1737,\n 1739,\n 1748,\n 1752,\n 1755,\n 1759,\n 1767,\n 1776,\n 1778,\n 1779,\n 1780,\n 1789,\n 1794,\n 1798,\n 1800,\n 1804,\n 1806,\n 1812,\n 1824,\n 1827,\n 1834,\n 1836,\n 1837,\n 1839,\n 1841,\n 1842,\n 1851,\n 1854,\n 1858,\n 1860,\n 1861,\n 1862,\n 1863,\n 1865,\n 1866,\n 1873,\n 1879,\n 1882,\n 1884,\n 1889,\n 1890,\n 1897,\n 1899,\n 1912,\n 1917,\n 1922,\n 1925,\n 1926,\n 1928,\n 1930,\n 1941,\n 1943,\n 1946,\n 1949,\n 1952,\n 1954,\n 1958,\n 1959,\n 1960,\n 1962,\n 1969,\n 1974,\n 1978,\n 1979,\n 1980,\n 1982,\n 1983,\n 1988,\n 1995,\n 1996,\n 1998,\n 2000,\n 2008,\n 2011,\n 2012,\n 2015,\n 2018,\n 2019,\n 2020,\n 2022,\n 2023,\n 2025,\n 2030,\n 2031,\n 2035,\n 2036,\n 2041,\n 2047,\n 2050,\n 2057,\n 2059,\n 2060,\n 2063,\n 2070,\n 2071,\n 2076,\n 2077,\n 2078,\n 2079,\n 2082,\n 2089,\n 2092,\n 2097,\n 2103,\n 2105,\n 2106,\n 2111,\n 2114,\n 2116,\n 2119,\n 2120,\n 2122,\n 2125,\n 2127,\n 2129,\n 2131,\n 2153,\n 2159,\n 2168,\n 2172,\n 2176,\n 2181,\n 2188,\n 2190,\n 2193,\n 2195,\n 2208,\n 2210,\n 2225,\n 2232,\n 2239,\n 2242,\n 2244,\n 2246,\n 2247,\n 2255,\n 2258,\n 2269,\n 2270,\n 2271,\n 2272,\n 2276,\n 2282,\n 2303,\n 2307,\n 2310,\n 2316,\n 2321,\n 2323,\n 2330,\n 2331,\n 2332,\n 2333,\n 2342,\n 2350,\n 2353,\n 2359,\n 2360,\n 2362,\n 2376,\n 2380,\n 2383,\n 2390,\n 2395,\n 2407,\n 2409,\n 2414,\n 2415,\n 2419,\n 2427,\n 2433,\n 2436,\n 2438,\n 2446,\n 2451,\n 2453,\n 2454,\n 2462,\n 2471,\n 2472,\n 2478,\n 2485,\n 2489,\n 2493,\n 2501,\n 2504,\n 2505,\n 2507,\n 2514,\n 2520,\n 2528,\n 2529,\n 2535,\n 2544,\n 2547,\n 2555,\n 2561,\n 2565,\n 2566,\n 2574,\n 2577,\n 2581,\n 2583,\n 2593,\n 2594,\n 2597,\n 2598,\n 2609,\n 2611,\n 2621,\n 2626,\n 2627,\n 2634,\n 2636,\n 2638,\n 2641,\n 2642,\n 2643,\n 2648,\n 2650,\n 2655,\n 2665,\n 2669,\n 2670,\n 2673,\n 2683,\n 2684,\n 2688,\n 2691,\n 2715,\n 2718,\n 2724,\n 2748,\n 2749,\n 2751,\n 2753,\n 2756,\n 2757,\n 2760,\n 2762,\n 2764,\n 2766,\n 2770,\n 2772,\n 2775,\n 2777,\n 2778,\n 2779,\n 2781,\n 2784,\n 2786,\n 2791,\n 2793,\n 2796,\n 2802,\n 2803,\n 2806,\n 2808,\n 2809,\n 2810,\n 2814,\n 2820,\n 2824,\n 2826,\n 2828,\n 2832,\n 2840,\n 2841,\n 2844,\n 2847,\n 2849,\n 2858,\n 2859,\n 2860,\n 2868,\n 2872,\n 2877,\n 2878,\n 2880,\n 2882,\n 2885,\n 2887,\n 2889,\n 2892,\n 2895,\n 2896,\n 2898,\n 2903,\n 2904,\n 2905,\n 2907,\n 2909,\n 2910,\n 2911,\n 2915,\n 2917,\n 2918,\n 2919,\n 2925,\n 2926,\n 2931,\n 2933,\n 2935,\n 2936,\n 2944,\n 2946,\n 2952,\n 2962,\n 2964,\n 2969,\n 2980,\n 2985,\n 2986,\n 2987,\n 2988,\n 2991,\n 2996,\n 2998,\n 3001,\n 3002,\n 3006,\n 3011,\n 3012,\n 3013,\n 3014,\n 3015,\n 3017,\n 3018,\n 3020,\n 3029,\n 3031,\n 3033,\n 3036,\n 3038,\n 3041,\n 3051,\n 3053,\n 3054,\n 3055,\n 3057,\n 3058,\n 3065,\n 3067,\n 3072,\n 3074,\n 3075,\n 3078,\n 3079,\n 3080,\n 3085,\n 3087,\n 3089,\n 3090,\n 3093,\n 3095,\n 3096,\n 3097,\n 3106,\n 3109,\n 3112,\n 3113,\n 3115,\n 3119,\n 3125,\n 3128,\n 3140,\n 3143,\n 3146,\n 3150,\n 3152,\n 3154,\n 3156,\n 3158,\n 3159,\n 3163,\n 3171,\n 3172,\n 3174,\n 3177,\n 3178,\n 3182,\n 3189,\n 3192,\n 3194,\n 3195,\n 3196,\n 3200,\n 3201,\n 3203,\n 3210,\n 3217,\n 3219,\n 3224,\n 3227,\n 3229,\n 3233,\n 3256,\n 3258,\n 3259,\n 3260,\n 3261,\n 3262,\n 3265,\n 3266,\n 3268,\n 3270,\n 3272,\n 3274,\n 3277,\n 3278,\n 3279,\n 3280,\n 3285,\n 3288,\n 3292,\n 3299,\n 3300,\n 3301,\n 3311,\n 3312,\n 3313,\n 3314,\n 3315,\n 3317,\n 3320,\n 3323,\n 3326,\n 3327,\n 3331,\n 3332,\n 3333,\n 3336,\n 3340,\n 3355,\n 3359,\n 3363,\n 3364,\n 3367,\n 3368,\n 3371,\n 3378,\n 3386,\n 3387,\n 3391,\n 3400,\n 3401,\n 3405,\n 3410,\n 3411,\n 3412,\n 3413,\n 3414,\n 3420,\n 3423,\n 3424,\n 3425,\n 3428,\n 3430,\n 3433,\n 3435,\n 3436,\n 3437,\n 3441,\n 3452,\n 3453,\n 3454,\n 3457,\n 3459,\n 3462,\n 3464,\n 3471,\n 3473,\n 3475,\n 3476,\n 3481,\n 3483,\n 3492,\n 3495,\n 3503,\n 3504,\n 3505,\n 3507,\n 3509,\n 3512,\n 3516,\n 3518,\n 3519,\n 3520,\n 3524,\n 3526,\n 3531,\n 3532,\n 3540,\n 3547,\n 3550,\n 3557,\n 3560,\n 3561,\n 3562,\n 3569,\n 3571,\n 3589,\n 3590,\n 3591,\n 3592,\n 3594,\n 3596,\n 3599,\n 3602,\n 3607,\n 3610,\n 3612,\n 3613,\n 3619,\n 3620,\n 3624,\n 3626,\n 3628,\n 3630,\n 3634,\n 3641,\n 3643,\n 3648,\n ...]"
     },
     "execution_count": 32,
     "metadata": {},
     "output_type": "execute_result"
    }
   ],
   "source": [
    "valid_user"
   ],
   "metadata": {
    "collapsed": false
   }
  },
  {
   "cell_type": "code",
   "execution_count": 68,
   "outputs": [],
   "source": [
    "filted_actions = actions.loc[valid_user]\n",
    "# input_data = input_data.loc[valid_user]\n",
    "# target_window = target_window.loc[valid_user]"
   ],
   "metadata": {
    "collapsed": false
   }
  },
  {
   "cell_type": "code",
   "execution_count": 69,
   "outputs": [
    {
     "data": {
      "text/plain": "        movieId  rating  timestamp\nuserId                            \n10          552       3  978224375\n10          553       3  978224375\n10          430       4  978224375\n10          554       4  978224400\n10           56       4  978224400\n...         ...     ...        ...\n6040        515       4  964828782\n6040       2799       2  964828782\n6040        984       5  964828799\n6040        183       4  964828900\n6040        829       5  984195682\n\n[417212 rows x 3 columns]",
      "text/html": "<div>\n<style scoped>\n    .dataframe tbody tr th:only-of-type {\n        vertical-align: middle;\n    }\n\n    .dataframe tbody tr th {\n        vertical-align: top;\n    }\n\n    .dataframe thead th {\n        text-align: right;\n    }\n</style>\n<table border=\"1\" class=\"dataframe\">\n  <thead>\n    <tr style=\"text-align: right;\">\n      <th></th>\n      <th>movieId</th>\n      <th>rating</th>\n      <th>timestamp</th>\n    </tr>\n    <tr>\n      <th>userId</th>\n      <th></th>\n      <th></th>\n      <th></th>\n    </tr>\n  </thead>\n  <tbody>\n    <tr>\n      <th>10</th>\n      <td>552</td>\n      <td>3</td>\n      <td>978224375</td>\n    </tr>\n    <tr>\n      <th>10</th>\n      <td>553</td>\n      <td>3</td>\n      <td>978224375</td>\n    </tr>\n    <tr>\n      <th>10</th>\n      <td>430</td>\n      <td>4</td>\n      <td>978224375</td>\n    </tr>\n    <tr>\n      <th>10</th>\n      <td>554</td>\n      <td>4</td>\n      <td>978224400</td>\n    </tr>\n    <tr>\n      <th>10</th>\n      <td>56</td>\n      <td>4</td>\n      <td>978224400</td>\n    </tr>\n    <tr>\n      <th>...</th>\n      <td>...</td>\n      <td>...</td>\n      <td>...</td>\n    </tr>\n    <tr>\n      <th>6040</th>\n      <td>515</td>\n      <td>4</td>\n      <td>964828782</td>\n    </tr>\n    <tr>\n      <th>6040</th>\n      <td>2799</td>\n      <td>2</td>\n      <td>964828782</td>\n    </tr>\n    <tr>\n      <th>6040</th>\n      <td>984</td>\n      <td>5</td>\n      <td>964828799</td>\n    </tr>\n    <tr>\n      <th>6040</th>\n      <td>183</td>\n      <td>4</td>\n      <td>964828900</td>\n    </tr>\n    <tr>\n      <th>6040</th>\n      <td>829</td>\n      <td>5</td>\n      <td>984195682</td>\n    </tr>\n  </tbody>\n</table>\n<p>417212 rows × 3 columns</p>\n</div>"
     },
     "execution_count": 69,
     "metadata": {},
     "output_type": "execute_result"
    }
   ],
   "source": [
    "input_data"
   ],
   "metadata": {
    "collapsed": false
   }
  },
  {
   "cell_type": "code",
   "execution_count": 54,
   "outputs": [
    {
     "data": {
      "text/plain": "        movieId  rating  timestamp\nuserId                            \n10          765       3  979775053\n10          766       3  979775054\n10           60       4  979775131\n10          268       3  979775159\n10          767       3  979775159\n...         ...     ...        ...\n6040       1249       4  997454429\n6040         88       3  997454464\n6040        371       4  997454464\n6040        464       3  997454486\n6040        431       4  998315055\n\n[47227 rows x 3 columns]",
      "text/html": "<div>\n<style scoped>\n    .dataframe tbody tr th:only-of-type {\n        vertical-align: middle;\n    }\n\n    .dataframe tbody tr th {\n        vertical-align: top;\n    }\n\n    .dataframe thead th {\n        text-align: right;\n    }\n</style>\n<table border=\"1\" class=\"dataframe\">\n  <thead>\n    <tr style=\"text-align: right;\">\n      <th></th>\n      <th>movieId</th>\n      <th>rating</th>\n      <th>timestamp</th>\n    </tr>\n    <tr>\n      <th>userId</th>\n      <th></th>\n      <th></th>\n      <th></th>\n    </tr>\n  </thead>\n  <tbody>\n    <tr>\n      <th>10</th>\n      <td>765</td>\n      <td>3</td>\n      <td>979775053</td>\n    </tr>\n    <tr>\n      <th>10</th>\n      <td>766</td>\n      <td>3</td>\n      <td>979775054</td>\n    </tr>\n    <tr>\n      <th>10</th>\n      <td>60</td>\n      <td>4</td>\n      <td>979775131</td>\n    </tr>\n    <tr>\n      <th>10</th>\n      <td>268</td>\n      <td>3</td>\n      <td>979775159</td>\n    </tr>\n    <tr>\n      <th>10</th>\n      <td>767</td>\n      <td>3</td>\n      <td>979775159</td>\n    </tr>\n    <tr>\n      <th>...</th>\n      <td>...</td>\n      <td>...</td>\n      <td>...</td>\n    </tr>\n    <tr>\n      <th>6040</th>\n      <td>1249</td>\n      <td>4</td>\n      <td>997454429</td>\n    </tr>\n    <tr>\n      <th>6040</th>\n      <td>88</td>\n      <td>3</td>\n      <td>997454464</td>\n    </tr>\n    <tr>\n      <th>6040</th>\n      <td>371</td>\n      <td>4</td>\n      <td>997454464</td>\n    </tr>\n    <tr>\n      <th>6040</th>\n      <td>464</td>\n      <td>3</td>\n      <td>997454486</td>\n    </tr>\n    <tr>\n      <th>6040</th>\n      <td>431</td>\n      <td>4</td>\n      <td>998315055</td>\n    </tr>\n  </tbody>\n</table>\n<p>47227 rows × 3 columns</p>\n</div>"
     },
     "execution_count": 54,
     "metadata": {},
     "output_type": "execute_result"
    }
   ],
   "source": [
    "target_window"
   ],
   "metadata": {
    "collapsed": false
   }
  },
  {
   "cell_type": "code",
   "execution_count": 51,
   "outputs": [
    {
     "data": {
      "text/plain": "        movieId  rating  timestamp\nuserId                            \n10          552       3  978224375\n10          553       3  978224375\n10          430       4  978224375\n10          554       4  978224400\n10           56       4  978224400\n...         ...     ...        ...\n6040       1249       4  997454429\n6040         88       3  997454464\n6040        371       4  997454464\n6040        464       3  997454486\n6040        431       4  998315055\n\n[464439 rows x 3 columns]",
      "text/html": "<div>\n<style scoped>\n    .dataframe tbody tr th:only-of-type {\n        vertical-align: middle;\n    }\n\n    .dataframe tbody tr th {\n        vertical-align: top;\n    }\n\n    .dataframe thead th {\n        text-align: right;\n    }\n</style>\n<table border=\"1\" class=\"dataframe\">\n  <thead>\n    <tr style=\"text-align: right;\">\n      <th></th>\n      <th>movieId</th>\n      <th>rating</th>\n      <th>timestamp</th>\n    </tr>\n    <tr>\n      <th>userId</th>\n      <th></th>\n      <th></th>\n      <th></th>\n    </tr>\n  </thead>\n  <tbody>\n    <tr>\n      <th>10</th>\n      <td>552</td>\n      <td>3</td>\n      <td>978224375</td>\n    </tr>\n    <tr>\n      <th>10</th>\n      <td>553</td>\n      <td>3</td>\n      <td>978224375</td>\n    </tr>\n    <tr>\n      <th>10</th>\n      <td>430</td>\n      <td>4</td>\n      <td>978224375</td>\n    </tr>\n    <tr>\n      <th>10</th>\n      <td>554</td>\n      <td>4</td>\n      <td>978224400</td>\n    </tr>\n    <tr>\n      <th>10</th>\n      <td>56</td>\n      <td>4</td>\n      <td>978224400</td>\n    </tr>\n    <tr>\n      <th>...</th>\n      <td>...</td>\n      <td>...</td>\n      <td>...</td>\n    </tr>\n    <tr>\n      <th>6040</th>\n      <td>1249</td>\n      <td>4</td>\n      <td>997454429</td>\n    </tr>\n    <tr>\n      <th>6040</th>\n      <td>88</td>\n      <td>3</td>\n      <td>997454464</td>\n    </tr>\n    <tr>\n      <th>6040</th>\n      <td>371</td>\n      <td>4</td>\n      <td>997454464</td>\n    </tr>\n    <tr>\n      <th>6040</th>\n      <td>464</td>\n      <td>3</td>\n      <td>997454486</td>\n    </tr>\n    <tr>\n      <th>6040</th>\n      <td>431</td>\n      <td>4</td>\n      <td>998315055</td>\n    </tr>\n  </tbody>\n</table>\n<p>464439 rows × 3 columns</p>\n</div>"
     },
     "execution_count": 51,
     "metadata": {},
     "output_type": "execute_result"
    }
   ],
   "source": [
    "filted_actions"
   ],
   "metadata": {
    "collapsed": false
   }
  },
  {
   "cell_type": "code",
   "execution_count": 70,
   "outputs": [],
   "source": [
    "# map the user and item\n",
    "usermap = dict()\n",
    "usernum = 0\n",
    "itemmap = dict()\n",
    "itemnum = 0\n",
    "# reorder the userid and itemid (keep the same step with original SASRec code)\n",
    "for _id, row in filted_actions.iterrows():\n",
    "    if _id in usermap:\n",
    "        userid = usermap[_id]\n",
    "    else:\n",
    "        usernum += 1\n",
    "        userid = usernum\n",
    "        usermap[_id] = userid\n",
    "\n",
    "    if row.movieId in itemmap:\n",
    "        itemid = itemmap[row.movieId]\n",
    "    else:\n",
    "        itemnum += 1\n",
    "        itemid = itemnum\n",
    "        itemmap[row.movieId] = itemid"
   ],
   "metadata": {
    "collapsed": false
   }
  },
  {
   "cell_type": "code",
   "execution_count": 71,
   "outputs": [],
   "source": [
    "input_data['movieId'] = input_data['movieId'].map(itemmap)\n",
    "input_data.index = input_data.index.map(usermap)"
   ],
   "metadata": {
    "collapsed": false
   }
  },
  {
   "cell_type": "code",
   "execution_count": 72,
   "outputs": [],
   "source": [
    "target_window['movieId'] = target_window['movieId'].map(itemmap)\n",
    "target_window.index = target_window.index.map(usermap)"
   ],
   "metadata": {
    "collapsed": false
   }
  },
  {
   "cell_type": "code",
   "execution_count": 37,
   "outputs": [
    {
     "data": {
      "text/plain": "[1,\n 2,\n 3,\n 4,\n 5,\n 6,\n 7,\n 8,\n 9,\n 10,\n 11,\n 12,\n 13,\n 14,\n 15,\n 16,\n 17,\n 18,\n 19,\n 20,\n 21,\n 22,\n 23,\n 24,\n 25,\n 26,\n 27,\n 28,\n 29,\n 30,\n 31,\n 32,\n 33,\n 34,\n 35,\n 36,\n 37,\n 38,\n 39,\n 40,\n 41,\n 42,\n 43,\n 44,\n 45,\n 46,\n 47,\n 48,\n 49,\n 50,\n 51,\n 52,\n 53,\n 54,\n 55,\n 56,\n 57,\n 58,\n 59,\n 60,\n 61,\n 62,\n 63,\n 64,\n 65,\n 66,\n 67,\n 68,\n 69,\n 70,\n 71,\n 72,\n 73,\n 74,\n 75,\n 76,\n 77,\n 78,\n 79,\n 80,\n 81,\n 82,\n 83,\n 84,\n 85,\n 86,\n 87,\n 88,\n 89,\n 90,\n 91,\n 92,\n 93,\n 94,\n 95,\n 96,\n 97,\n 98,\n 99,\n 100,\n 101,\n 102,\n 103,\n 104,\n 105,\n 106,\n 107,\n 108,\n 109,\n 110,\n 111,\n 112,\n 113,\n 114,\n 115,\n 116,\n 117,\n 118,\n 119,\n 120,\n 121,\n 122,\n 123,\n 124,\n 125,\n 126,\n 127,\n 128,\n 129,\n 130,\n 131,\n 132,\n 133,\n 134,\n 135,\n 136,\n 137,\n 138,\n 139,\n 140,\n 141,\n 142,\n 143,\n 144,\n 145,\n 146,\n 147,\n 148,\n 149,\n 150,\n 151,\n 152,\n 153,\n 154,\n 155,\n 156,\n 157,\n 158,\n 159,\n 160,\n 161,\n 162,\n 163,\n 164,\n 165,\n 166,\n 167,\n 168,\n 169,\n 170,\n 171,\n 172,\n 173,\n 174,\n 175,\n 176,\n 177,\n 178,\n 179,\n 180,\n 181,\n 182,\n 183,\n 184,\n 185,\n 186,\n 187,\n 188,\n 189,\n 190,\n 191,\n 192,\n 193,\n 194,\n 195,\n 196,\n 197,\n 198,\n 199,\n 200,\n 201,\n 202,\n 203,\n 204,\n 205,\n 206,\n 207,\n 208,\n 209,\n 210,\n 211,\n 212,\n 213,\n 214,\n 215,\n 216,\n 217,\n 218,\n 219,\n 220,\n 221,\n 222,\n 223,\n 224,\n 225,\n 226,\n 227,\n 228,\n 229,\n 230,\n 231,\n 232,\n 233,\n 234,\n 235,\n 236,\n 237,\n 238,\n 239,\n 240,\n 241,\n 242,\n 243,\n 244,\n 245,\n 246,\n 247,\n 248,\n 249,\n 250,\n 251,\n 252,\n 253,\n 254,\n 255,\n 256,\n 257,\n 258,\n 259,\n 260,\n 261,\n 262,\n 263,\n 264,\n 265,\n 266,\n 267,\n 268,\n 269,\n 270,\n 271,\n 272,\n 273,\n 274,\n 275,\n 276,\n 277,\n 278,\n 279,\n 280,\n 281,\n 282,\n 283,\n 284,\n 285,\n 286,\n 287,\n 288,\n 289,\n 290,\n 291,\n 292,\n 293,\n 294,\n 295,\n 296,\n 297,\n 298,\n 299,\n 300,\n 301,\n 302,\n 303,\n 304,\n 305,\n 306,\n 307,\n 308,\n 309,\n 310,\n 311,\n 312,\n 313,\n 314,\n 315,\n 316,\n 317,\n 318,\n 319,\n 320,\n 321,\n 322,\n 323,\n 324,\n 325,\n 326,\n 327,\n 328,\n 329,\n 330,\n 331,\n 332,\n 333,\n 334,\n 335,\n 336,\n 337,\n 338,\n 339,\n 340,\n 341,\n 342,\n 343,\n 344,\n 345,\n 346,\n 347,\n 348,\n 349,\n 350,\n 351,\n 352,\n 353,\n 354,\n 355,\n 356,\n 357,\n 358,\n 359,\n 360,\n 361,\n 362,\n 363,\n 364,\n 365,\n 366,\n 367,\n 368,\n 369,\n 370,\n 371,\n 372,\n 373,\n 374,\n 375,\n 376,\n 377,\n 378,\n 379,\n 380,\n 381,\n 382,\n 383,\n 384,\n 385,\n 386,\n 387,\n 388,\n 389,\n 390,\n 391,\n 392,\n 393,\n 394,\n 395,\n 396,\n 397,\n 398,\n 399,\n 400,\n 401,\n 402,\n 403,\n 404,\n 405,\n 406,\n 407,\n 408,\n 409,\n 410,\n 411,\n 412,\n 413,\n 414,\n 415,\n 416,\n 417,\n 418,\n 419,\n 420,\n 421,\n 422,\n 423,\n 424,\n 425,\n 426,\n 427,\n 428,\n 429,\n 430,\n 431,\n 432,\n 433,\n 434,\n 435,\n 436,\n 437,\n 438,\n 439,\n 440,\n 441,\n 442,\n 443,\n 444,\n 445,\n 446,\n 447,\n 448,\n 449,\n 450,\n 451,\n 452,\n 453,\n 454,\n 455,\n 456,\n 457,\n 458,\n 459,\n 460,\n 461,\n 462,\n 463,\n 464,\n 465,\n 466,\n 467,\n 468,\n 469,\n 470,\n 471,\n 472,\n 473,\n 474,\n 475,\n 476,\n 477,\n 478,\n 479,\n 480,\n 481,\n 482,\n 483,\n 484,\n 485,\n 486,\n 487,\n 488,\n 489,\n 490,\n 491,\n 492,\n 493,\n 494,\n 495,\n 496,\n 497,\n 498,\n 499,\n 500,\n 501,\n 502,\n 503,\n 504,\n 505,\n 506,\n 507,\n 508,\n 509,\n 510,\n 511,\n 512,\n 513,\n 514,\n 515,\n 516,\n 517,\n 518,\n 519,\n 520,\n 521,\n 522,\n 523,\n 524,\n 525,\n 526,\n 527,\n 528,\n 529,\n 530,\n 531,\n 532,\n 533,\n 534,\n 535,\n 536,\n 537,\n 538,\n 539,\n 540,\n 541,\n 542,\n 543,\n 544,\n 545,\n 546,\n 547,\n 548,\n 549,\n 550,\n 551,\n 552,\n 553,\n 554,\n 555,\n 556,\n 557,\n 558,\n 559,\n 560,\n 561,\n 562,\n 563,\n 564,\n 565,\n 566,\n 567,\n 568,\n 569,\n 570,\n 571,\n 572,\n 573,\n 574,\n 575,\n 576,\n 577,\n 578,\n 579,\n 580,\n 581,\n 582,\n 583,\n 584,\n 585,\n 586,\n 587,\n 588,\n 589,\n 590,\n 591,\n 592,\n 593,\n 594,\n 595,\n 596,\n 597,\n 598,\n 599,\n 600,\n 601,\n 602,\n 603,\n 604,\n 605,\n 606,\n 607,\n 608,\n 609,\n 610,\n 611,\n 612,\n 613,\n 614,\n 615,\n 616,\n 617,\n 618,\n 619,\n 620,\n 621,\n 622,\n 623,\n 624,\n 625,\n 626,\n 627,\n 628,\n 629,\n 630,\n 631,\n 632,\n 633,\n 634,\n 635,\n 636,\n 637,\n 638,\n 639,\n 640,\n 641,\n 642,\n 643,\n 644,\n 645,\n 646,\n 647,\n 648,\n 649,\n 650,\n 651,\n 652,\n 653,\n 654,\n 655,\n 656,\n 657,\n 658,\n 659,\n 660,\n 661,\n 662,\n 663,\n 664,\n 665,\n 666,\n 667,\n 668,\n 669,\n 670,\n 671,\n 672,\n 673,\n 674,\n 675,\n 676,\n 677,\n 678,\n 679,\n 680,\n 681,\n 682,\n 683,\n 684,\n 685,\n 686,\n 687,\n 688,\n 689,\n 690,\n 691,\n 692,\n 693,\n 694,\n 695,\n 696,\n 697,\n 698,\n 699,\n 700,\n 701,\n 702,\n 703,\n 704,\n 705,\n 706,\n 707,\n 708,\n 709,\n 710,\n 711,\n 712,\n 713,\n 714,\n 715,\n 716,\n 717,\n 718,\n 719,\n 720,\n 721,\n 722,\n 723,\n 724,\n 725,\n 726,\n 727,\n 728,\n 729,\n 730,\n 731,\n 732,\n 733,\n 734,\n 735,\n 736,\n 737,\n 738,\n 739,\n 740,\n 741,\n 742,\n 743,\n 744,\n 745,\n 746,\n 747,\n 748,\n 749,\n 750,\n 751,\n 752,\n 753,\n 754,\n 755,\n 756,\n 757,\n 758,\n 759,\n 760,\n 761,\n 762,\n 763,\n 764,\n 765,\n 766,\n 767,\n 768,\n 769,\n 770,\n 771,\n 772,\n 773,\n 774,\n 775,\n 776,\n 777,\n 778,\n 779,\n 780,\n 781,\n 782,\n 783,\n 784,\n 785,\n 786,\n 787,\n 788,\n 789,\n 790,\n 791,\n 792,\n 793,\n 794,\n 795,\n 796,\n 797,\n 798,\n 799,\n 800,\n 801,\n 802,\n 803,\n 804,\n 805,\n 806,\n 807,\n 808,\n 809,\n 810,\n 811,\n 812,\n 813,\n 814,\n 815,\n 816,\n 817,\n 818,\n 819,\n 820,\n 821,\n 822,\n 823,\n 824,\n 825,\n 826,\n 827,\n 828,\n 829,\n 830,\n 831,\n 832,\n 833,\n 834,\n 835,\n 836,\n 837,\n 838,\n 839,\n 840,\n 841,\n 842,\n 843,\n 844,\n 845,\n 846,\n 847,\n 848,\n 849,\n 850,\n 851,\n 852,\n 853,\n 854,\n 855,\n 856,\n 857,\n 858,\n 859,\n 860,\n 861,\n 862,\n 863,\n 864,\n 865,\n 866,\n 867,\n 868,\n 869,\n 870,\n 871,\n 872,\n 873,\n 874,\n 875,\n 876,\n 877,\n 878,\n 879,\n 880,\n 881,\n 882,\n 883,\n 884,\n 885,\n 886,\n 887,\n 888,\n 889,\n 890,\n 891,\n 892,\n 893,\n 894,\n 895,\n 896,\n 897,\n 898,\n 899,\n 900,\n 901,\n 902,\n 903,\n 904,\n 905,\n 906,\n 907,\n 908,\n 909,\n 910,\n 911,\n 912,\n 913,\n 914,\n 915,\n 916,\n 917,\n 918,\n 919,\n 920,\n 921,\n 922,\n 923,\n 924,\n 925,\n 926,\n 927,\n 928,\n 929,\n 930,\n 931,\n 932,\n 933,\n 934,\n 935,\n 936,\n 937,\n 938,\n 939,\n 940,\n 941,\n 942,\n 943,\n 944,\n 945,\n 946,\n 947,\n 948,\n 949,\n 950,\n 951,\n 952,\n 953,\n 954,\n 955,\n 956,\n 957,\n 958,\n 959,\n 960,\n 961,\n 962,\n 963,\n 964,\n 965,\n 966,\n 967,\n 968,\n 969,\n 970,\n 971,\n 972,\n 973,\n 974,\n 975,\n 976,\n 977,\n 978,\n 979,\n 980,\n 981,\n 982,\n 983,\n 984,\n 985,\n 986,\n 987,\n 988,\n 989,\n 990,\n 991,\n 992,\n 993,\n 994,\n 995,\n 996,\n 997,\n 998,\n 999,\n 1000,\n ...]"
     },
     "execution_count": 37,
     "metadata": {},
     "output_type": "execute_result"
    }
   ],
   "source": [
    "list(usermap.values())"
   ],
   "metadata": {
    "collapsed": false
   }
  },
  {
   "cell_type": "code",
   "execution_count": 73,
   "outputs": [
    {
     "data": {
      "text/plain": "        movieId  rating  timestamp\nuserId                            \n1             1       3  978224375\n1             2       3  978224375\n1             3       4  978224375\n1             4       4  978224400\n1             5       4  978224400\n...         ...     ...        ...\n1628          7       4  964828782\n1628       2391       2  964828782\n1628        755       5  964828799\n1628        976       4  964828900\n1628       1775       5  984195682\n\n[417212 rows x 3 columns]",
      "text/html": "<div>\n<style scoped>\n    .dataframe tbody tr th:only-of-type {\n        vertical-align: middle;\n    }\n\n    .dataframe tbody tr th {\n        vertical-align: top;\n    }\n\n    .dataframe thead th {\n        text-align: right;\n    }\n</style>\n<table border=\"1\" class=\"dataframe\">\n  <thead>\n    <tr style=\"text-align: right;\">\n      <th></th>\n      <th>movieId</th>\n      <th>rating</th>\n      <th>timestamp</th>\n    </tr>\n    <tr>\n      <th>userId</th>\n      <th></th>\n      <th></th>\n      <th></th>\n    </tr>\n  </thead>\n  <tbody>\n    <tr>\n      <th>1</th>\n      <td>1</td>\n      <td>3</td>\n      <td>978224375</td>\n    </tr>\n    <tr>\n      <th>1</th>\n      <td>2</td>\n      <td>3</td>\n      <td>978224375</td>\n    </tr>\n    <tr>\n      <th>1</th>\n      <td>3</td>\n      <td>4</td>\n      <td>978224375</td>\n    </tr>\n    <tr>\n      <th>1</th>\n      <td>4</td>\n      <td>4</td>\n      <td>978224400</td>\n    </tr>\n    <tr>\n      <th>1</th>\n      <td>5</td>\n      <td>4</td>\n      <td>978224400</td>\n    </tr>\n    <tr>\n      <th>...</th>\n      <td>...</td>\n      <td>...</td>\n      <td>...</td>\n    </tr>\n    <tr>\n      <th>1628</th>\n      <td>7</td>\n      <td>4</td>\n      <td>964828782</td>\n    </tr>\n    <tr>\n      <th>1628</th>\n      <td>2391</td>\n      <td>2</td>\n      <td>964828782</td>\n    </tr>\n    <tr>\n      <th>1628</th>\n      <td>755</td>\n      <td>5</td>\n      <td>964828799</td>\n    </tr>\n    <tr>\n      <th>1628</th>\n      <td>976</td>\n      <td>4</td>\n      <td>964828900</td>\n    </tr>\n    <tr>\n      <th>1628</th>\n      <td>1775</td>\n      <td>5</td>\n      <td>984195682</td>\n    </tr>\n  </tbody>\n</table>\n<p>417212 rows × 3 columns</p>\n</div>"
     },
     "execution_count": 73,
     "metadata": {},
     "output_type": "execute_result"
    }
   ],
   "source": [
    "input_data"
   ],
   "metadata": {
    "collapsed": false
   }
  },
  {
   "cell_type": "code",
   "execution_count": 74,
   "outputs": [
    {
     "data": {
      "text/plain": "        movieId  rating  timestamp\nuserId                            \nNaN      1297.0       4  978300019\nNaN       311.0       4  978300055\nNaN       386.0       5  978300055\nNaN        37.0       5  978300055\nNaN      1530.0       3  978300103\n...         ...     ...        ...\n1628.0    734.0       4  997454429\n1628.0    357.0       3  997454464\n1628.0    145.0       4  997454464\n1628.0    579.0       3  997454486\n1628.0    399.0       4  998315055\n\n[582399 rows x 3 columns]",
      "text/html": "<div>\n<style scoped>\n    .dataframe tbody tr th:only-of-type {\n        vertical-align: middle;\n    }\n\n    .dataframe tbody tr th {\n        vertical-align: top;\n    }\n\n    .dataframe thead th {\n        text-align: right;\n    }\n</style>\n<table border=\"1\" class=\"dataframe\">\n  <thead>\n    <tr style=\"text-align: right;\">\n      <th></th>\n      <th>movieId</th>\n      <th>rating</th>\n      <th>timestamp</th>\n    </tr>\n    <tr>\n      <th>userId</th>\n      <th></th>\n      <th></th>\n      <th></th>\n    </tr>\n  </thead>\n  <tbody>\n    <tr>\n      <th>NaN</th>\n      <td>1297.0</td>\n      <td>4</td>\n      <td>978300019</td>\n    </tr>\n    <tr>\n      <th>NaN</th>\n      <td>311.0</td>\n      <td>4</td>\n      <td>978300055</td>\n    </tr>\n    <tr>\n      <th>NaN</th>\n      <td>386.0</td>\n      <td>5</td>\n      <td>978300055</td>\n    </tr>\n    <tr>\n      <th>NaN</th>\n      <td>37.0</td>\n      <td>5</td>\n      <td>978300055</td>\n    </tr>\n    <tr>\n      <th>NaN</th>\n      <td>1530.0</td>\n      <td>3</td>\n      <td>978300103</td>\n    </tr>\n    <tr>\n      <th>...</th>\n      <td>...</td>\n      <td>...</td>\n      <td>...</td>\n    </tr>\n    <tr>\n      <th>1628.0</th>\n      <td>734.0</td>\n      <td>4</td>\n      <td>997454429</td>\n    </tr>\n    <tr>\n      <th>1628.0</th>\n      <td>357.0</td>\n      <td>3</td>\n      <td>997454464</td>\n    </tr>\n    <tr>\n      <th>1628.0</th>\n      <td>145.0</td>\n      <td>4</td>\n      <td>997454464</td>\n    </tr>\n    <tr>\n      <th>1628.0</th>\n      <td>579.0</td>\n      <td>3</td>\n      <td>997454486</td>\n    </tr>\n    <tr>\n      <th>1628.0</th>\n      <td>399.0</td>\n      <td>4</td>\n      <td>998315055</td>\n    </tr>\n  </tbody>\n</table>\n<p>582399 rows × 3 columns</p>\n</div>"
     },
     "execution_count": 74,
     "metadata": {},
     "output_type": "execute_result"
    }
   ],
   "source": [
    "target_window"
   ],
   "metadata": {
    "collapsed": false
   }
  },
  {
   "cell_type": "code",
   "execution_count": 109,
   "outputs": [
    {
     "data": {
      "text/plain": "Int64Index([    1,     1,     1,     1,     1,     1,     1,     1,     1,\n                1,\n            ...\n            39019, 39019, 39019, 39019, 39019, 39019, 39019, 39019, 39019,\n            39019],\n           dtype='int64', name='userId', length=10504095)"
     },
     "execution_count": 109,
     "metadata": {},
     "output_type": "execute_result"
    }
   ],
   "source": [],
   "metadata": {
    "collapsed": false
   }
  },
  {
   "cell_type": "code",
   "execution_count": 61,
   "outputs": [],
   "source": [
    "with open('ml-1m_train.txt', 'w') as f:\n",
    "    for _id in list(usermap.values()):\n",
    "        movie_id_data = input_data.loc[_id].movieId\n",
    "        if isinstance(movie_id_data, pd.Series):\n",
    "            for movie_id in movie_id_data:\n",
    "                f.write('%d %d\\n' % (_id, movie_id))\n",
    "        else:  # it's a single value, not a list\n",
    "            f.write('%d %d\\n' % (_id, movie_id_data))"
   ],
   "metadata": {
    "collapsed": false
   }
  },
  {
   "cell_type": "code",
   "execution_count": 75,
   "outputs": [],
   "source": [
    "with open('ml-1m_target.txt', 'w') as f:\n",
    "    for _id in list(usermap.values()):\n",
    "        movie_id_data = target_window.loc[_id].movieId\n",
    "        if isinstance(movie_id_data, pd.Series):\n",
    "            for movie_id in movie_id_data:\n",
    "                f.write('%d %d\\n' % (_id, movie_id))\n",
    "        else:  # it's a single value, not a list\n",
    "            f.write('%d %d\\n' % (_id, movie_id_data))"
   ],
   "metadata": {
    "collapsed": false
   }
  },
  {
   "cell_type": "markdown",
   "source": [
    "# DATA reading"
   ],
   "metadata": {
    "collapsed": false
   }
  },
  {
   "cell_type": "code",
   "execution_count": 124,
   "outputs": [],
   "source": [],
   "metadata": {
    "collapsed": false
   }
  },
  {
   "cell_type": "code",
   "execution_count": 125,
   "outputs": [
    {
     "ename": "AxisError",
     "evalue": "axis 1 is out of bounds for array of dimension 0",
     "output_type": "error",
     "traceback": [
      "\u001B[1;31m---------------------------------------------------------------------------\u001B[0m",
      "\u001B[1;31mAxisError\u001B[0m                                 Traceback (most recent call last)",
      "Cell \u001B[1;32mIn[125], line 1\u001B[0m\n\u001B[1;32m----> 1\u001B[0m [_,_,a,b] \u001B[38;5;241m=\u001B[39m \u001B[43mdata_partition_window_InputTarget_byP\u001B[49m\u001B[43m(\u001B[49m\u001B[38;5;124;43m'\u001B[39;49m\u001B[38;5;124;43mml-20m_train\u001B[39;49m\u001B[38;5;124;43m'\u001B[39;49m\u001B[43m,\u001B[49m\u001B[43m \u001B[49m\u001B[38;5;124;43m'\u001B[39;49m\u001B[38;5;124;43mml-20m_target\u001B[39;49m\u001B[38;5;124;43m'\u001B[39;49m\u001B[43m)\u001B[49m\n",
      "Cell \u001B[1;32mIn[124], line 12\u001B[0m, in \u001B[0;36mdata_partition_window_InputTarget_byP\u001B[1;34m(f_train, f_target)\u001B[0m\n\u001B[0;32m     10\u001B[0m u \u001B[38;5;241m=\u001B[39m \u001B[38;5;28mint\u001B[39m(u)\n\u001B[0;32m     11\u001B[0m i \u001B[38;5;241m=\u001B[39m \u001B[38;5;28mint\u001B[39m(i)\n\u001B[1;32m---> 12\u001B[0m usernum \u001B[38;5;241m=\u001B[39m \u001B[43mnp\u001B[49m\u001B[38;5;241;43m.\u001B[39;49m\u001B[43mmax\u001B[49m\u001B[43m(\u001B[49m\u001B[43mu\u001B[49m\u001B[43m,\u001B[49m\u001B[43m \u001B[49m\u001B[43musernum\u001B[49m\u001B[43m)\u001B[49m\n\u001B[0;32m     13\u001B[0m itemnum \u001B[38;5;241m=\u001B[39m np\u001B[38;5;241m.\u001B[39mmax(i, itemnum)\n\u001B[0;32m     14\u001B[0m user_input[u]\u001B[38;5;241m.\u001B[39mappend(i)\n",
      "File \u001B[1;32m<__array_function__ internals>:180\u001B[0m, in \u001B[0;36mamax\u001B[1;34m(*args, **kwargs)\u001B[0m\n",
      "File \u001B[1;32m~\\anaconda3\\lib\\site-packages\\numpy\\core\\fromnumeric.py:2793\u001B[0m, in \u001B[0;36mamax\u001B[1;34m(a, axis, out, keepdims, initial, where)\u001B[0m\n\u001B[0;32m   2677\u001B[0m \u001B[38;5;129m@array_function_dispatch\u001B[39m(_amax_dispatcher)\n\u001B[0;32m   2678\u001B[0m \u001B[38;5;28;01mdef\u001B[39;00m \u001B[38;5;21mamax\u001B[39m(a, axis\u001B[38;5;241m=\u001B[39m\u001B[38;5;28;01mNone\u001B[39;00m, out\u001B[38;5;241m=\u001B[39m\u001B[38;5;28;01mNone\u001B[39;00m, keepdims\u001B[38;5;241m=\u001B[39mnp\u001B[38;5;241m.\u001B[39m_NoValue, initial\u001B[38;5;241m=\u001B[39mnp\u001B[38;5;241m.\u001B[39m_NoValue,\n\u001B[0;32m   2679\u001B[0m          where\u001B[38;5;241m=\u001B[39mnp\u001B[38;5;241m.\u001B[39m_NoValue):\n\u001B[0;32m   2680\u001B[0m     \u001B[38;5;124;03m\"\"\"\u001B[39;00m\n\u001B[0;32m   2681\u001B[0m \u001B[38;5;124;03m    Return the maximum of an array or maximum along an axis.\u001B[39;00m\n\u001B[0;32m   2682\u001B[0m \n\u001B[1;32m   (...)\u001B[0m\n\u001B[0;32m   2791\u001B[0m \u001B[38;5;124;03m    5\u001B[39;00m\n\u001B[0;32m   2792\u001B[0m \u001B[38;5;124;03m    \"\"\"\u001B[39;00m\n\u001B[1;32m-> 2793\u001B[0m     \u001B[38;5;28;01mreturn\u001B[39;00m \u001B[43m_wrapreduction\u001B[49m\u001B[43m(\u001B[49m\u001B[43ma\u001B[49m\u001B[43m,\u001B[49m\u001B[43m \u001B[49m\u001B[43mnp\u001B[49m\u001B[38;5;241;43m.\u001B[39;49m\u001B[43mmaximum\u001B[49m\u001B[43m,\u001B[49m\u001B[43m \u001B[49m\u001B[38;5;124;43m'\u001B[39;49m\u001B[38;5;124;43mmax\u001B[39;49m\u001B[38;5;124;43m'\u001B[39;49m\u001B[43m,\u001B[49m\u001B[43m \u001B[49m\u001B[43maxis\u001B[49m\u001B[43m,\u001B[49m\u001B[43m \u001B[49m\u001B[38;5;28;43;01mNone\u001B[39;49;00m\u001B[43m,\u001B[49m\u001B[43m \u001B[49m\u001B[43mout\u001B[49m\u001B[43m,\u001B[49m\n\u001B[0;32m   2794\u001B[0m \u001B[43m                          \u001B[49m\u001B[43mkeepdims\u001B[49m\u001B[38;5;241;43m=\u001B[39;49m\u001B[43mkeepdims\u001B[49m\u001B[43m,\u001B[49m\u001B[43m \u001B[49m\u001B[43minitial\u001B[49m\u001B[38;5;241;43m=\u001B[39;49m\u001B[43minitial\u001B[49m\u001B[43m,\u001B[49m\u001B[43m \u001B[49m\u001B[43mwhere\u001B[49m\u001B[38;5;241;43m=\u001B[39;49m\u001B[43mwhere\u001B[49m\u001B[43m)\u001B[49m\n",
      "File \u001B[1;32m~\\anaconda3\\lib\\site-packages\\numpy\\core\\fromnumeric.py:86\u001B[0m, in \u001B[0;36m_wrapreduction\u001B[1;34m(obj, ufunc, method, axis, dtype, out, **kwargs)\u001B[0m\n\u001B[0;32m     83\u001B[0m         \u001B[38;5;28;01melse\u001B[39;00m:\n\u001B[0;32m     84\u001B[0m             \u001B[38;5;28;01mreturn\u001B[39;00m reduction(axis\u001B[38;5;241m=\u001B[39maxis, out\u001B[38;5;241m=\u001B[39mout, \u001B[38;5;241m*\u001B[39m\u001B[38;5;241m*\u001B[39mpasskwargs)\n\u001B[1;32m---> 86\u001B[0m \u001B[38;5;28;01mreturn\u001B[39;00m ufunc\u001B[38;5;241m.\u001B[39mreduce(obj, axis, dtype, out, \u001B[38;5;241m*\u001B[39m\u001B[38;5;241m*\u001B[39mpasskwargs)\n",
      "\u001B[1;31mAxisError\u001B[0m: axis 1 is out of bounds for array of dimension 0"
     ]
    }
   ],
   "source": [
    "def data_partition_window_InputTarget_byP(f_train, f_target):\n",
    "    usernum = 0\n",
    "    itemnum = 0\n",
    "    user_input = defaultdict(list)\n",
    "    user_target = defaultdict(list)\n",
    "    f = open('%s.txt' % f_train, 'r')\n",
    "    # read from each line\n",
    "    for line in f:\n",
    "        u, i = line.rstrip().split(' ')\n",
    "        u = int(u)\n",
    "        i = int(i)\n",
    "        usernum = max(u, usernum)\n",
    "        itemnum = max(i, itemnum)\n",
    "        user_input[u].append(i)\n",
    "        # count user and items\n",
    "    f = open('%s.txt' % f_target, 'r')\n",
    "    # read from each line\n",
    "    for line in f:\n",
    "        u, i = line.rstrip().split(' ')\n",
    "        u = int(u)\n",
    "        i = int(i)\n",
    "        itemnum = max(i, itemnum)\n",
    "        user_target[u].append(i)\n",
    "        # count user and items\n",
    "\n",
    "    return [user_input, user_target, usernum, itemnum]\n",
    "\n",
    "[_,_,a,b] = data_partition_window_InputTarget_byP('ml-20m_train', 'ml-20m_target')"
   ],
   "metadata": {
    "collapsed": false
   }
  }
 ],
 "metadata": {
  "kernelspec": {
   "display_name": "Python 3",
   "language": "python",
   "name": "python3"
  },
  "language_info": {
   "codemirror_mode": {
    "name": "ipython",
    "version": 2
   },
   "file_extension": ".py",
   "mimetype": "text/x-python",
   "name": "python",
   "nbconvert_exporter": "python",
   "pygments_lexer": "ipython2",
   "version": "2.7.6"
  }
 },
 "nbformat": 4,
 "nbformat_minor": 0
}
