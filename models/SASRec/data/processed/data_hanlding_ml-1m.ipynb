{
 "cells": [
  {
   "cell_type": "code",
   "execution_count": 1,
   "metadata": {
    "collapsed": true
   },
   "outputs": [],
   "source": [
    "from collections import defaultdict\n",
    "from datetime import datetime\n",
    "import torch\n",
    "import pandas as pd"
   ]
  },
  {
   "cell_type": "code",
   "execution_count": 2,
   "outputs": [],
   "source": [
    "ml_1m_path = '../../../../datasets/ml-1m'"
   ],
   "metadata": {
    "collapsed": false
   }
  },
  {
   "cell_type": "markdown",
   "source": [],
   "metadata": {
    "collapsed": false
   }
  },
  {
   "cell_type": "code",
   "execution_count": 3,
   "outputs": [
    {
     "data": {
      "text/plain": "                                      Title  Action  Adventure  Animation  \\\nMovieID                                                                     \n1                          Toy Story (1995)       0          0          1   \n2                            Jumanji (1995)       0          1          0   \n3                   Grumpier Old Men (1995)       0          0          0   \n4                  Waiting to Exhale (1995)       0          0          0   \n5        Father of the Bride Part II (1995)       0          0          0   \n...                                     ...     ...        ...        ...   \n3948                Meet the Parents (2000)       0          0          0   \n3949             Requiem for a Dream (2000)       0          0          0   \n3950                       Tigerland (2000)       0          0          0   \n3951                Two Family House (2000)       0          0          0   \n3952                  Contender, The (2000)       0          0          0   \n\n         Children's  Comedy  Crime  Documentary  Drama  Fantasy  Film-Noir  \\\nMovieID                                                                      \n1                 1       1      0            0      0        0          0   \n2                 1       0      0            0      0        1          0   \n3                 0       1      0            0      0        0          0   \n4                 0       1      0            0      1        0          0   \n5                 0       1      0            0      0        0          0   \n...             ...     ...    ...          ...    ...      ...        ...   \n3948              0       1      0            0      0        0          0   \n3949              0       0      0            0      1        0          0   \n3950              0       0      0            0      1        0          0   \n3951              0       0      0            0      1        0          0   \n3952              0       0      0            0      1        0          0   \n\n         Horror  Musical  Mystery  Romance  Sci-Fi  Thriller  War  Western  \nMovieID                                                                     \n1             0        0        0        0       0         0    0        0  \n2             0        0        0        0       0         0    0        0  \n3             0        0        0        1       0         0    0        0  \n4             0        0        0        0       0         0    0        0  \n5             0        0        0        0       0         0    0        0  \n...         ...      ...      ...      ...     ...       ...  ...      ...  \n3948          0        0        0        0       0         0    0        0  \n3949          0        0        0        0       0         0    0        0  \n3950          0        0        0        0       0         0    0        0  \n3951          0        0        0        0       0         0    0        0  \n3952          0        0        0        0       0         1    0        0  \n\n[3883 rows x 19 columns]",
      "text/html": "<div>\n<style scoped>\n    .dataframe tbody tr th:only-of-type {\n        vertical-align: middle;\n    }\n\n    .dataframe tbody tr th {\n        vertical-align: top;\n    }\n\n    .dataframe thead th {\n        text-align: right;\n    }\n</style>\n<table border=\"1\" class=\"dataframe\">\n  <thead>\n    <tr style=\"text-align: right;\">\n      <th></th>\n      <th>Title</th>\n      <th>Action</th>\n      <th>Adventure</th>\n      <th>Animation</th>\n      <th>Children's</th>\n      <th>Comedy</th>\n      <th>Crime</th>\n      <th>Documentary</th>\n      <th>Drama</th>\n      <th>Fantasy</th>\n      <th>Film-Noir</th>\n      <th>Horror</th>\n      <th>Musical</th>\n      <th>Mystery</th>\n      <th>Romance</th>\n      <th>Sci-Fi</th>\n      <th>Thriller</th>\n      <th>War</th>\n      <th>Western</th>\n    </tr>\n    <tr>\n      <th>MovieID</th>\n      <th></th>\n      <th></th>\n      <th></th>\n      <th></th>\n      <th></th>\n      <th></th>\n      <th></th>\n      <th></th>\n      <th></th>\n      <th></th>\n      <th></th>\n      <th></th>\n      <th></th>\n      <th></th>\n      <th></th>\n      <th></th>\n      <th></th>\n      <th></th>\n      <th></th>\n    </tr>\n  </thead>\n  <tbody>\n    <tr>\n      <th>1</th>\n      <td>Toy Story (1995)</td>\n      <td>0</td>\n      <td>0</td>\n      <td>1</td>\n      <td>1</td>\n      <td>1</td>\n      <td>0</td>\n      <td>0</td>\n      <td>0</td>\n      <td>0</td>\n      <td>0</td>\n      <td>0</td>\n      <td>0</td>\n      <td>0</td>\n      <td>0</td>\n      <td>0</td>\n      <td>0</td>\n      <td>0</td>\n      <td>0</td>\n    </tr>\n    <tr>\n      <th>2</th>\n      <td>Jumanji (1995)</td>\n      <td>0</td>\n      <td>1</td>\n      <td>0</td>\n      <td>1</td>\n      <td>0</td>\n      <td>0</td>\n      <td>0</td>\n      <td>0</td>\n      <td>1</td>\n      <td>0</td>\n      <td>0</td>\n      <td>0</td>\n      <td>0</td>\n      <td>0</td>\n      <td>0</td>\n      <td>0</td>\n      <td>0</td>\n      <td>0</td>\n    </tr>\n    <tr>\n      <th>3</th>\n      <td>Grumpier Old Men (1995)</td>\n      <td>0</td>\n      <td>0</td>\n      <td>0</td>\n      <td>0</td>\n      <td>1</td>\n      <td>0</td>\n      <td>0</td>\n      <td>0</td>\n      <td>0</td>\n      <td>0</td>\n      <td>0</td>\n      <td>0</td>\n      <td>0</td>\n      <td>1</td>\n      <td>0</td>\n      <td>0</td>\n      <td>0</td>\n      <td>0</td>\n    </tr>\n    <tr>\n      <th>4</th>\n      <td>Waiting to Exhale (1995)</td>\n      <td>0</td>\n      <td>0</td>\n      <td>0</td>\n      <td>0</td>\n      <td>1</td>\n      <td>0</td>\n      <td>0</td>\n      <td>1</td>\n      <td>0</td>\n      <td>0</td>\n      <td>0</td>\n      <td>0</td>\n      <td>0</td>\n      <td>0</td>\n      <td>0</td>\n      <td>0</td>\n      <td>0</td>\n      <td>0</td>\n    </tr>\n    <tr>\n      <th>5</th>\n      <td>Father of the Bride Part II (1995)</td>\n      <td>0</td>\n      <td>0</td>\n      <td>0</td>\n      <td>0</td>\n      <td>1</td>\n      <td>0</td>\n      <td>0</td>\n      <td>0</td>\n      <td>0</td>\n      <td>0</td>\n      <td>0</td>\n      <td>0</td>\n      <td>0</td>\n      <td>0</td>\n      <td>0</td>\n      <td>0</td>\n      <td>0</td>\n      <td>0</td>\n    </tr>\n    <tr>\n      <th>...</th>\n      <td>...</td>\n      <td>...</td>\n      <td>...</td>\n      <td>...</td>\n      <td>...</td>\n      <td>...</td>\n      <td>...</td>\n      <td>...</td>\n      <td>...</td>\n      <td>...</td>\n      <td>...</td>\n      <td>...</td>\n      <td>...</td>\n      <td>...</td>\n      <td>...</td>\n      <td>...</td>\n      <td>...</td>\n      <td>...</td>\n      <td>...</td>\n    </tr>\n    <tr>\n      <th>3948</th>\n      <td>Meet the Parents (2000)</td>\n      <td>0</td>\n      <td>0</td>\n      <td>0</td>\n      <td>0</td>\n      <td>1</td>\n      <td>0</td>\n      <td>0</td>\n      <td>0</td>\n      <td>0</td>\n      <td>0</td>\n      <td>0</td>\n      <td>0</td>\n      <td>0</td>\n      <td>0</td>\n      <td>0</td>\n      <td>0</td>\n      <td>0</td>\n      <td>0</td>\n    </tr>\n    <tr>\n      <th>3949</th>\n      <td>Requiem for a Dream (2000)</td>\n      <td>0</td>\n      <td>0</td>\n      <td>0</td>\n      <td>0</td>\n      <td>0</td>\n      <td>0</td>\n      <td>0</td>\n      <td>1</td>\n      <td>0</td>\n      <td>0</td>\n      <td>0</td>\n      <td>0</td>\n      <td>0</td>\n      <td>0</td>\n      <td>0</td>\n      <td>0</td>\n      <td>0</td>\n      <td>0</td>\n    </tr>\n    <tr>\n      <th>3950</th>\n      <td>Tigerland (2000)</td>\n      <td>0</td>\n      <td>0</td>\n      <td>0</td>\n      <td>0</td>\n      <td>0</td>\n      <td>0</td>\n      <td>0</td>\n      <td>1</td>\n      <td>0</td>\n      <td>0</td>\n      <td>0</td>\n      <td>0</td>\n      <td>0</td>\n      <td>0</td>\n      <td>0</td>\n      <td>0</td>\n      <td>0</td>\n      <td>0</td>\n    </tr>\n    <tr>\n      <th>3951</th>\n      <td>Two Family House (2000)</td>\n      <td>0</td>\n      <td>0</td>\n      <td>0</td>\n      <td>0</td>\n      <td>0</td>\n      <td>0</td>\n      <td>0</td>\n      <td>1</td>\n      <td>0</td>\n      <td>0</td>\n      <td>0</td>\n      <td>0</td>\n      <td>0</td>\n      <td>0</td>\n      <td>0</td>\n      <td>0</td>\n      <td>0</td>\n      <td>0</td>\n    </tr>\n    <tr>\n      <th>3952</th>\n      <td>Contender, The (2000)</td>\n      <td>0</td>\n      <td>0</td>\n      <td>0</td>\n      <td>0</td>\n      <td>0</td>\n      <td>0</td>\n      <td>0</td>\n      <td>1</td>\n      <td>0</td>\n      <td>0</td>\n      <td>0</td>\n      <td>0</td>\n      <td>0</td>\n      <td>0</td>\n      <td>0</td>\n      <td>1</td>\n      <td>0</td>\n      <td>0</td>\n    </tr>\n  </tbody>\n</table>\n<p>3883 rows × 19 columns</p>\n</div>"
     },
     "execution_count": 3,
     "metadata": {},
     "output_type": "execute_result"
    }
   ],
   "source": [
    "file_path = ml_1m_path + '/movies.dat'\n",
    "# file_path = Path(file_path)\n",
    "data_movies = pd.read_csv(file_path, encoding='latin-1', sep='::', engine='python',\n",
    "                   names=['MovieID', 'Title', 'Genres'], index_col='MovieID')\n",
    "genres = data_movies['Genres'].str.get_dummies('|')\n",
    "data_movies= pd.concat([data_movies, genres], axis=1)\n",
    "# [row, columns], axis = 1 is column\n",
    "data_movies.drop('Genres', axis=1, inplace=True)\n",
    "data_movies"
   ],
   "metadata": {
    "collapsed": false
   }
  },
  {
   "cell_type": "code",
   "execution_count": 4,
   "outputs": [
    {
     "data": {
      "text/plain": "        Gender  Age  Occupation Zip-code\nUserID                                  \n1            0    1          10    48067\n2            1   56          16    70072\n3            1   25          15    55117\n4            1   45           7    02460\n5            1   25          20    55455\n...        ...  ...         ...      ...\n6036         0   25          15    32603\n6037         0   45           1    76006\n6038         0   56           1    14706\n6039         0   45           0    01060\n6040         1   25           6    11106\n\n[6040 rows x 4 columns]",
      "text/html": "<div>\n<style scoped>\n    .dataframe tbody tr th:only-of-type {\n        vertical-align: middle;\n    }\n\n    .dataframe tbody tr th {\n        vertical-align: top;\n    }\n\n    .dataframe thead th {\n        text-align: right;\n    }\n</style>\n<table border=\"1\" class=\"dataframe\">\n  <thead>\n    <tr style=\"text-align: right;\">\n      <th></th>\n      <th>Gender</th>\n      <th>Age</th>\n      <th>Occupation</th>\n      <th>Zip-code</th>\n    </tr>\n    <tr>\n      <th>UserID</th>\n      <th></th>\n      <th></th>\n      <th></th>\n      <th></th>\n    </tr>\n  </thead>\n  <tbody>\n    <tr>\n      <th>1</th>\n      <td>0</td>\n      <td>1</td>\n      <td>10</td>\n      <td>48067</td>\n    </tr>\n    <tr>\n      <th>2</th>\n      <td>1</td>\n      <td>56</td>\n      <td>16</td>\n      <td>70072</td>\n    </tr>\n    <tr>\n      <th>3</th>\n      <td>1</td>\n      <td>25</td>\n      <td>15</td>\n      <td>55117</td>\n    </tr>\n    <tr>\n      <th>4</th>\n      <td>1</td>\n      <td>45</td>\n      <td>7</td>\n      <td>02460</td>\n    </tr>\n    <tr>\n      <th>5</th>\n      <td>1</td>\n      <td>25</td>\n      <td>20</td>\n      <td>55455</td>\n    </tr>\n    <tr>\n      <th>...</th>\n      <td>...</td>\n      <td>...</td>\n      <td>...</td>\n      <td>...</td>\n    </tr>\n    <tr>\n      <th>6036</th>\n      <td>0</td>\n      <td>25</td>\n      <td>15</td>\n      <td>32603</td>\n    </tr>\n    <tr>\n      <th>6037</th>\n      <td>0</td>\n      <td>45</td>\n      <td>1</td>\n      <td>76006</td>\n    </tr>\n    <tr>\n      <th>6038</th>\n      <td>0</td>\n      <td>56</td>\n      <td>1</td>\n      <td>14706</td>\n    </tr>\n    <tr>\n      <th>6039</th>\n      <td>0</td>\n      <td>45</td>\n      <td>0</td>\n      <td>01060</td>\n    </tr>\n    <tr>\n      <th>6040</th>\n      <td>1</td>\n      <td>25</td>\n      <td>6</td>\n      <td>11106</td>\n    </tr>\n  </tbody>\n</table>\n<p>6040 rows × 4 columns</p>\n</div>"
     },
     "execution_count": 4,
     "metadata": {},
     "output_type": "execute_result"
    }
   ],
   "source": [
    "file_path = ml_1m_path + '/users.dat'\n",
    "data_users = pd.read_csv(file_path, sep='::', engine='python',\n",
    "                   names=['UserID', 'Gender', 'Age', 'Occupation', 'Zip-code'], index_col='UserID')\n",
    "\n",
    "# Convert Gender to binary indicator variable\n",
    "data_users['Gender'] = (data_users['Gender'] == 'M').astype(int)\n",
    "occupation_map = {\n",
    "    0: 'other',\n",
    "    1: 'academic/educator',\n",
    "    2: 'artist',\n",
    "    3: 'clerical/admin',\n",
    "    4: 'college/grad student',\n",
    "    5: 'customer service',\n",
    "    6: 'doctor/health care',\n",
    "    7: 'executive/managerial',\n",
    "    8: 'farmer',\n",
    "    9: 'homemaker',\n",
    "    10: 'K-12 student',\n",
    "    11: 'lawyer',\n",
    "    12: 'programmer',\n",
    "    13: 'retired',\n",
    "    14: 'sales/marketing',\n",
    "    15: 'scientist',\n",
    "    16: 'self-employed',\n",
    "    17: 'technician/engineer',\n",
    "    18: 'tradesman/craftsman',\n",
    "    19: 'unemployed',\n",
    "    20: 'writer'\n",
    "}\n",
    "# data['Occupation'] = data['Occupation'].map(occupation_map)\n",
    "data_users"
   ],
   "metadata": {
    "collapsed": false
   }
  },
  {
   "cell_type": "code",
   "execution_count": 5,
   "outputs": [],
   "source": [
    "file_path = ml_1m_path + '/ratings.dat'\n",
    "\n",
    "data_ratings = pd.read_csv(file_path, sep='::', engine='python',\n",
    "                   names=['UserID', 'MovieID', 'Rating', 'Timestamp'], index_col='UserID')\n"
   ],
   "metadata": {
    "collapsed": false
   }
  },
  {
   "cell_type": "code",
   "execution_count": 6,
   "outputs": [
    {
     "data": {
      "text/plain": "        MovieID  Rating  Timestamp\nUserID                            \n1          1193       5  978300760\n1           661       3  978302109\n1           914       3  978301968\n1          3408       4  978300275\n1          2355       5  978824291\n...         ...     ...        ...\n6040       1091       1  956716541\n6040       1094       5  956704887\n6040        562       5  956704746\n6040       1096       4  956715648\n6040       1097       4  956715569\n\n[1000209 rows x 3 columns]",
      "text/html": "<div>\n<style scoped>\n    .dataframe tbody tr th:only-of-type {\n        vertical-align: middle;\n    }\n\n    .dataframe tbody tr th {\n        vertical-align: top;\n    }\n\n    .dataframe thead th {\n        text-align: right;\n    }\n</style>\n<table border=\"1\" class=\"dataframe\">\n  <thead>\n    <tr style=\"text-align: right;\">\n      <th></th>\n      <th>MovieID</th>\n      <th>Rating</th>\n      <th>Timestamp</th>\n    </tr>\n    <tr>\n      <th>UserID</th>\n      <th></th>\n      <th></th>\n      <th></th>\n    </tr>\n  </thead>\n  <tbody>\n    <tr>\n      <th>1</th>\n      <td>1193</td>\n      <td>5</td>\n      <td>978300760</td>\n    </tr>\n    <tr>\n      <th>1</th>\n      <td>661</td>\n      <td>3</td>\n      <td>978302109</td>\n    </tr>\n    <tr>\n      <th>1</th>\n      <td>914</td>\n      <td>3</td>\n      <td>978301968</td>\n    </tr>\n    <tr>\n      <th>1</th>\n      <td>3408</td>\n      <td>4</td>\n      <td>978300275</td>\n    </tr>\n    <tr>\n      <th>1</th>\n      <td>2355</td>\n      <td>5</td>\n      <td>978824291</td>\n    </tr>\n    <tr>\n      <th>...</th>\n      <td>...</td>\n      <td>...</td>\n      <td>...</td>\n    </tr>\n    <tr>\n      <th>6040</th>\n      <td>1091</td>\n      <td>1</td>\n      <td>956716541</td>\n    </tr>\n    <tr>\n      <th>6040</th>\n      <td>1094</td>\n      <td>5</td>\n      <td>956704887</td>\n    </tr>\n    <tr>\n      <th>6040</th>\n      <td>562</td>\n      <td>5</td>\n      <td>956704746</td>\n    </tr>\n    <tr>\n      <th>6040</th>\n      <td>1096</td>\n      <td>4</td>\n      <td>956715648</td>\n    </tr>\n    <tr>\n      <th>6040</th>\n      <td>1097</td>\n      <td>4</td>\n      <td>956715569</td>\n    </tr>\n  </tbody>\n</table>\n<p>1000209 rows × 3 columns</p>\n</div>"
     },
     "execution_count": 6,
     "metadata": {},
     "output_type": "execute_result"
    }
   ],
   "source": [
    "data_ratings"
   ],
   "metadata": {
    "collapsed": false
   }
  },
  {
   "cell_type": "markdown",
   "source": [
    "## SASRec handling\n",
    "Only use implicit feedback in the sequence of items"
   ],
   "metadata": {
    "collapsed": false
   }
  },
  {
   "cell_type": "code",
   "execution_count": 7,
   "outputs": [
    {
     "data": {
      "text/plain": "        MovieID  Rating  Timestamp\nUserID                            \n1          1193       5  978300760\n1           661       3  978302109\n1           914       3  978301968\n1          3408       4  978300275\n1          2355       5  978824291\n...         ...     ...        ...\n6040       1091       1  956716541\n6040       1094       5  956704887\n6040        562       5  956704746\n6040       1096       4  956715648\n6040       1097       4  956715569\n\n[1000209 rows x 3 columns]",
      "text/html": "<div>\n<style scoped>\n    .dataframe tbody tr th:only-of-type {\n        vertical-align: middle;\n    }\n\n    .dataframe tbody tr th {\n        vertical-align: top;\n    }\n\n    .dataframe thead th {\n        text-align: right;\n    }\n</style>\n<table border=\"1\" class=\"dataframe\">\n  <thead>\n    <tr style=\"text-align: right;\">\n      <th></th>\n      <th>MovieID</th>\n      <th>Rating</th>\n      <th>Timestamp</th>\n    </tr>\n    <tr>\n      <th>UserID</th>\n      <th></th>\n      <th></th>\n      <th></th>\n    </tr>\n  </thead>\n  <tbody>\n    <tr>\n      <th>1</th>\n      <td>1193</td>\n      <td>5</td>\n      <td>978300760</td>\n    </tr>\n    <tr>\n      <th>1</th>\n      <td>661</td>\n      <td>3</td>\n      <td>978302109</td>\n    </tr>\n    <tr>\n      <th>1</th>\n      <td>914</td>\n      <td>3</td>\n      <td>978301968</td>\n    </tr>\n    <tr>\n      <th>1</th>\n      <td>3408</td>\n      <td>4</td>\n      <td>978300275</td>\n    </tr>\n    <tr>\n      <th>1</th>\n      <td>2355</td>\n      <td>5</td>\n      <td>978824291</td>\n    </tr>\n    <tr>\n      <th>...</th>\n      <td>...</td>\n      <td>...</td>\n      <td>...</td>\n    </tr>\n    <tr>\n      <th>6040</th>\n      <td>1091</td>\n      <td>1</td>\n      <td>956716541</td>\n    </tr>\n    <tr>\n      <th>6040</th>\n      <td>1094</td>\n      <td>5</td>\n      <td>956704887</td>\n    </tr>\n    <tr>\n      <th>6040</th>\n      <td>562</td>\n      <td>5</td>\n      <td>956704746</td>\n    </tr>\n    <tr>\n      <th>6040</th>\n      <td>1096</td>\n      <td>4</td>\n      <td>956715648</td>\n    </tr>\n    <tr>\n      <th>6040</th>\n      <td>1097</td>\n      <td>4</td>\n      <td>956715569</td>\n    </tr>\n  </tbody>\n</table>\n<p>1000209 rows × 3 columns</p>\n</div>"
     },
     "execution_count": 7,
     "metadata": {},
     "output_type": "execute_result"
    }
   ],
   "source": [
    "data_ratings"
   ],
   "metadata": {
    "collapsed": false
   }
  },
  {
   "cell_type": "code",
   "execution_count": 8,
   "outputs": [
    {
     "data": {
      "text/plain": "        MovieID  Rating  Timestamp\nUserID                            \n1          3186       4  978300019\n1          1721       4  978300055\n1          1022       5  978300055\n1          1270       5  978300055\n1          2340       3  978300103\n...         ...     ...        ...\n6040       2917       4  997454429\n6040       1784       3  997454464\n6040       1921       4  997454464\n6040        161       3  997454486\n6040       1221       4  998315055\n\n[999611 rows x 3 columns]",
      "text/html": "<div>\n<style scoped>\n    .dataframe tbody tr th:only-of-type {\n        vertical-align: middle;\n    }\n\n    .dataframe tbody tr th {\n        vertical-align: top;\n    }\n\n    .dataframe thead th {\n        text-align: right;\n    }\n</style>\n<table border=\"1\" class=\"dataframe\">\n  <thead>\n    <tr style=\"text-align: right;\">\n      <th></th>\n      <th>MovieID</th>\n      <th>Rating</th>\n      <th>Timestamp</th>\n    </tr>\n    <tr>\n      <th>UserID</th>\n      <th></th>\n      <th></th>\n      <th></th>\n    </tr>\n  </thead>\n  <tbody>\n    <tr>\n      <th>1</th>\n      <td>3186</td>\n      <td>4</td>\n      <td>978300019</td>\n    </tr>\n    <tr>\n      <th>1</th>\n      <td>1721</td>\n      <td>4</td>\n      <td>978300055</td>\n    </tr>\n    <tr>\n      <th>1</th>\n      <td>1022</td>\n      <td>5</td>\n      <td>978300055</td>\n    </tr>\n    <tr>\n      <th>1</th>\n      <td>1270</td>\n      <td>5</td>\n      <td>978300055</td>\n    </tr>\n    <tr>\n      <th>1</th>\n      <td>2340</td>\n      <td>3</td>\n      <td>978300103</td>\n    </tr>\n    <tr>\n      <th>...</th>\n      <td>...</td>\n      <td>...</td>\n      <td>...</td>\n    </tr>\n    <tr>\n      <th>6040</th>\n      <td>2917</td>\n      <td>4</td>\n      <td>997454429</td>\n    </tr>\n    <tr>\n      <th>6040</th>\n      <td>1784</td>\n      <td>3</td>\n      <td>997454464</td>\n    </tr>\n    <tr>\n      <th>6040</th>\n      <td>1921</td>\n      <td>4</td>\n      <td>997454464</td>\n    </tr>\n    <tr>\n      <th>6040</th>\n      <td>161</td>\n      <td>3</td>\n      <td>997454486</td>\n    </tr>\n    <tr>\n      <th>6040</th>\n      <td>1221</td>\n      <td>4</td>\n      <td>998315055</td>\n    </tr>\n  </tbody>\n</table>\n<p>999611 rows × 3 columns</p>\n</div>"
     },
     "execution_count": 8,
     "metadata": {},
     "output_type": "execute_result"
    }
   ],
   "source": [
    "# use timestamps to determine the sequence order of actions.\n",
    "actions = data_ratings\n",
    "actions = actions.groupby('MovieID').filter(lambda  x: len(x) >= 5)\n",
    "actions = actions.groupby('UserID').filter(lambda  x: len(x) >= 5)\n",
    "actions = actions.groupby('UserID', group_keys=False).apply(lambda  x: x.sort_values('Timestamp'))\n",
    "# We discard users and items with fewer than 5 related actions.\n",
    "actions"
   ],
   "metadata": {
    "collapsed": false
   }
  },
  {
   "cell_type": "code",
   "execution_count": 9,
   "outputs": [],
   "source": [
    "usermap = dict()\n",
    "usernum = 0\n",
    "itemmap = dict()\n",
    "itemnum = 0\n",
    "# reorder the userid and itemid (keep the same step with original SASRec code)\n",
    "for _id, row in actions.iterrows():\n",
    "    if _id in usermap:\n",
    "        userid = usermap[_id]\n",
    "    else:\n",
    "        usernum += 1\n",
    "        userid = usernum\n",
    "        usermap[_id] = userid\n",
    "\n",
    "    if row.MovieID in itemmap:\n",
    "        itemid = itemmap[row.MovieID]\n",
    "    else:\n",
    "        itemnum += 1\n",
    "        itemid = itemnum\n",
    "        itemmap[row.MovieID] = itemid"
   ],
   "metadata": {
    "collapsed": false
   }
  },
  {
   "cell_type": "code",
   "execution_count": 9,
   "outputs": [
    {
     "data": {
      "text/plain": "(6040, 3416)"
     },
     "execution_count": 9,
     "metadata": {},
     "output_type": "execute_result"
    }
   ],
   "source": [
    "usermap.__len__(), itemmap.__len__()"
   ],
   "metadata": {
    "collapsed": false
   }
  },
  {
   "cell_type": "code",
   "execution_count": 10,
   "outputs": [],
   "source": [
    "actions['MovieID'] = actions['MovieID'].map(itemmap)\n",
    "actions.index = actions.index.map(usermap)\n",
    "# data['Occupation'] = data['Occupation'].map(occupation_map)"
   ],
   "metadata": {
    "collapsed": false
   }
  },
  {
   "cell_type": "code",
   "execution_count": 15,
   "outputs": [
    {
     "data": {
      "text/plain": "        MovieID  Rating  Timestamp\nUserID                            \n1             1       4  978300019\n1             2       4  978300055\n1             3       5  978300055\n1             4       5  978300055\n1             5       3  978300103\n...         ...     ...        ...\n6040       1249       4  997454429\n6040         88       3  997454464\n6040        371       4  997454464\n6040        464       3  997454486\n6040        431       4  998315055\n\n[999611 rows x 3 columns]",
      "text/html": "<div>\n<style scoped>\n    .dataframe tbody tr th:only-of-type {\n        vertical-align: middle;\n    }\n\n    .dataframe tbody tr th {\n        vertical-align: top;\n    }\n\n    .dataframe thead th {\n        text-align: right;\n    }\n</style>\n<table border=\"1\" class=\"dataframe\">\n  <thead>\n    <tr style=\"text-align: right;\">\n      <th></th>\n      <th>MovieID</th>\n      <th>Rating</th>\n      <th>Timestamp</th>\n    </tr>\n    <tr>\n      <th>UserID</th>\n      <th></th>\n      <th></th>\n      <th></th>\n    </tr>\n  </thead>\n  <tbody>\n    <tr>\n      <th>1</th>\n      <td>1</td>\n      <td>4</td>\n      <td>978300019</td>\n    </tr>\n    <tr>\n      <th>1</th>\n      <td>2</td>\n      <td>4</td>\n      <td>978300055</td>\n    </tr>\n    <tr>\n      <th>1</th>\n      <td>3</td>\n      <td>5</td>\n      <td>978300055</td>\n    </tr>\n    <tr>\n      <th>1</th>\n      <td>4</td>\n      <td>5</td>\n      <td>978300055</td>\n    </tr>\n    <tr>\n      <th>1</th>\n      <td>5</td>\n      <td>3</td>\n      <td>978300103</td>\n    </tr>\n    <tr>\n      <th>...</th>\n      <td>...</td>\n      <td>...</td>\n      <td>...</td>\n    </tr>\n    <tr>\n      <th>6040</th>\n      <td>1249</td>\n      <td>4</td>\n      <td>997454429</td>\n    </tr>\n    <tr>\n      <th>6040</th>\n      <td>88</td>\n      <td>3</td>\n      <td>997454464</td>\n    </tr>\n    <tr>\n      <th>6040</th>\n      <td>371</td>\n      <td>4</td>\n      <td>997454464</td>\n    </tr>\n    <tr>\n      <th>6040</th>\n      <td>464</td>\n      <td>3</td>\n      <td>997454486</td>\n    </tr>\n    <tr>\n      <th>6040</th>\n      <td>431</td>\n      <td>4</td>\n      <td>998315055</td>\n    </tr>\n  </tbody>\n</table>\n<p>999611 rows × 3 columns</p>\n</div>"
     },
     "execution_count": 15,
     "metadata": {},
     "output_type": "execute_result"
    }
   ],
   "source": [
    "actions"
   ],
   "metadata": {
    "collapsed": false
   }
  },
  {
   "cell_type": "code",
   "execution_count": 14,
   "outputs": [
    {
     "data": {
      "text/plain": "        MovieID  Timestamp\nUserID                    \n1             1  978300019\n1             2  978300055\n1             3  978300055\n1             4  978300055\n1             5  978300103\n...         ...        ...\n6040       1249  997454429\n6040         88  997454464\n6040        371  997454464\n6040        464  997454486\n6040        431  998315055\n\n[999611 rows x 2 columns]",
      "text/html": "<div>\n<style scoped>\n    .dataframe tbody tr th:only-of-type {\n        vertical-align: middle;\n    }\n\n    .dataframe tbody tr th {\n        vertical-align: top;\n    }\n\n    .dataframe thead th {\n        text-align: right;\n    }\n</style>\n<table border=\"1\" class=\"dataframe\">\n  <thead>\n    <tr style=\"text-align: right;\">\n      <th></th>\n      <th>MovieID</th>\n      <th>Timestamp</th>\n    </tr>\n    <tr>\n      <th>UserID</th>\n      <th></th>\n      <th></th>\n    </tr>\n  </thead>\n  <tbody>\n    <tr>\n      <th>1</th>\n      <td>1</td>\n      <td>978300019</td>\n    </tr>\n    <tr>\n      <th>1</th>\n      <td>2</td>\n      <td>978300055</td>\n    </tr>\n    <tr>\n      <th>1</th>\n      <td>3</td>\n      <td>978300055</td>\n    </tr>\n    <tr>\n      <th>1</th>\n      <td>4</td>\n      <td>978300055</td>\n    </tr>\n    <tr>\n      <th>1</th>\n      <td>5</td>\n      <td>978300103</td>\n    </tr>\n    <tr>\n      <th>...</th>\n      <td>...</td>\n      <td>...</td>\n    </tr>\n    <tr>\n      <th>6040</th>\n      <td>1249</td>\n      <td>997454429</td>\n    </tr>\n    <tr>\n      <th>6040</th>\n      <td>88</td>\n      <td>997454464</td>\n    </tr>\n    <tr>\n      <th>6040</th>\n      <td>371</td>\n      <td>997454464</td>\n    </tr>\n    <tr>\n      <th>6040</th>\n      <td>464</td>\n      <td>997454486</td>\n    </tr>\n    <tr>\n      <th>6040</th>\n      <td>431</td>\n      <td>998315055</td>\n    </tr>\n  </tbody>\n</table>\n<p>999611 rows × 2 columns</p>\n</div>"
     },
     "execution_count": 14,
     "metadata": {},
     "output_type": "execute_result"
    }
   ],
   "source": [
    "sas_data_T = actions.drop('Rating', axis=1, inplace=False)\n",
    "sas_data_T"
   ],
   "metadata": {
    "collapsed": false
   }
  },
  {
   "cell_type": "code",
   "execution_count": 16,
   "outputs": [],
   "source": [
    "with open('ml-1m_time.txt', 'w') as f:\n",
    "    for _id,_row in sas_data_T.iterrows():\n",
    "        f.write('%d %d %d\\n' % (_id, _row.MovieID, _row.Timestamp))"
   ],
   "metadata": {
    "collapsed": false
   }
  },
  {
   "cell_type": "code",
   "execution_count": 11,
   "outputs": [
    {
     "data": {
      "text/plain": "        MovieID\nUserID         \n1             1\n1             2\n1             3\n1             4\n1             5\n1             6\n1             7\n1             8\n1             9\n1            10\n1            11\n1            12\n1            13\n1            14\n1            15\n1            16\n1            17\n1            18\n1            19\n1            20\n1            21\n1            22\n1            23\n1            24\n1            25\n1            26\n1            27\n1            28\n1            29\n1            30\n1            31\n1            32\n1            33\n1            34\n1            35\n1            36\n1            37\n1            38\n1            39\n1            40\n1            41\n1            42\n1            43\n1            44\n1            45\n1            46\n1            47\n1            48\n1            49\n1            50\n1            51\n1            52\n1            53",
      "text/html": "<div>\n<style scoped>\n    .dataframe tbody tr th:only-of-type {\n        vertical-align: middle;\n    }\n\n    .dataframe tbody tr th {\n        vertical-align: top;\n    }\n\n    .dataframe thead th {\n        text-align: right;\n    }\n</style>\n<table border=\"1\" class=\"dataframe\">\n  <thead>\n    <tr style=\"text-align: right;\">\n      <th></th>\n      <th>MovieID</th>\n    </tr>\n    <tr>\n      <th>UserID</th>\n      <th></th>\n    </tr>\n  </thead>\n  <tbody>\n    <tr>\n      <th>1</th>\n      <td>1</td>\n    </tr>\n    <tr>\n      <th>1</th>\n      <td>2</td>\n    </tr>\n    <tr>\n      <th>1</th>\n      <td>3</td>\n    </tr>\n    <tr>\n      <th>1</th>\n      <td>4</td>\n    </tr>\n    <tr>\n      <th>1</th>\n      <td>5</td>\n    </tr>\n    <tr>\n      <th>1</th>\n      <td>6</td>\n    </tr>\n    <tr>\n      <th>1</th>\n      <td>7</td>\n    </tr>\n    <tr>\n      <th>1</th>\n      <td>8</td>\n    </tr>\n    <tr>\n      <th>1</th>\n      <td>9</td>\n    </tr>\n    <tr>\n      <th>1</th>\n      <td>10</td>\n    </tr>\n    <tr>\n      <th>1</th>\n      <td>11</td>\n    </tr>\n    <tr>\n      <th>1</th>\n      <td>12</td>\n    </tr>\n    <tr>\n      <th>1</th>\n      <td>13</td>\n    </tr>\n    <tr>\n      <th>1</th>\n      <td>14</td>\n    </tr>\n    <tr>\n      <th>1</th>\n      <td>15</td>\n    </tr>\n    <tr>\n      <th>1</th>\n      <td>16</td>\n    </tr>\n    <tr>\n      <th>1</th>\n      <td>17</td>\n    </tr>\n    <tr>\n      <th>1</th>\n      <td>18</td>\n    </tr>\n    <tr>\n      <th>1</th>\n      <td>19</td>\n    </tr>\n    <tr>\n      <th>1</th>\n      <td>20</td>\n    </tr>\n    <tr>\n      <th>1</th>\n      <td>21</td>\n    </tr>\n    <tr>\n      <th>1</th>\n      <td>22</td>\n    </tr>\n    <tr>\n      <th>1</th>\n      <td>23</td>\n    </tr>\n    <tr>\n      <th>1</th>\n      <td>24</td>\n    </tr>\n    <tr>\n      <th>1</th>\n      <td>25</td>\n    </tr>\n    <tr>\n      <th>1</th>\n      <td>26</td>\n    </tr>\n    <tr>\n      <th>1</th>\n      <td>27</td>\n    </tr>\n    <tr>\n      <th>1</th>\n      <td>28</td>\n    </tr>\n    <tr>\n      <th>1</th>\n      <td>29</td>\n    </tr>\n    <tr>\n      <th>1</th>\n      <td>30</td>\n    </tr>\n    <tr>\n      <th>1</th>\n      <td>31</td>\n    </tr>\n    <tr>\n      <th>1</th>\n      <td>32</td>\n    </tr>\n    <tr>\n      <th>1</th>\n      <td>33</td>\n    </tr>\n    <tr>\n      <th>1</th>\n      <td>34</td>\n    </tr>\n    <tr>\n      <th>1</th>\n      <td>35</td>\n    </tr>\n    <tr>\n      <th>1</th>\n      <td>36</td>\n    </tr>\n    <tr>\n      <th>1</th>\n      <td>37</td>\n    </tr>\n    <tr>\n      <th>1</th>\n      <td>38</td>\n    </tr>\n    <tr>\n      <th>1</th>\n      <td>39</td>\n    </tr>\n    <tr>\n      <th>1</th>\n      <td>40</td>\n    </tr>\n    <tr>\n      <th>1</th>\n      <td>41</td>\n    </tr>\n    <tr>\n      <th>1</th>\n      <td>42</td>\n    </tr>\n    <tr>\n      <th>1</th>\n      <td>43</td>\n    </tr>\n    <tr>\n      <th>1</th>\n      <td>44</td>\n    </tr>\n    <tr>\n      <th>1</th>\n      <td>45</td>\n    </tr>\n    <tr>\n      <th>1</th>\n      <td>46</td>\n    </tr>\n    <tr>\n      <th>1</th>\n      <td>47</td>\n    </tr>\n    <tr>\n      <th>1</th>\n      <td>48</td>\n    </tr>\n    <tr>\n      <th>1</th>\n      <td>49</td>\n    </tr>\n    <tr>\n      <th>1</th>\n      <td>50</td>\n    </tr>\n    <tr>\n      <th>1</th>\n      <td>51</td>\n    </tr>\n    <tr>\n      <th>1</th>\n      <td>52</td>\n    </tr>\n    <tr>\n      <th>1</th>\n      <td>53</td>\n    </tr>\n  </tbody>\n</table>\n</div>"
     },
     "execution_count": 11,
     "metadata": {},
     "output_type": "execute_result"
    }
   ],
   "source": [
    "sas_data = actions.drop('Rating', axis=1, inplace=False).drop('Timestamp', axis=1, inplace=False)\n",
    "## ..continue\n",
    "sas_data.loc[1]"
   ],
   "metadata": {
    "collapsed": false
   }
  },
  {
   "cell_type": "code",
   "execution_count": 12,
   "outputs": [],
   "source": [
    "with open('ml-1m.txt', 'w') as f:\n",
    "    for _id in set(sas_data.index):\n",
    "        for movie_id in sas_data.loc[_id].MovieID:\n",
    "            f.write('%d %d\\n' % (_id, movie_id))"
   ],
   "metadata": {
    "collapsed": false
   }
  },
  {
   "cell_type": "code",
   "execution_count": 20,
   "outputs": [],
   "source": [
    "def data_partition_window_forSAS(fname, valid_percent, test_percent):\n",
    "    if valid_percent + test_percent > 0.6:\n",
    "        print('the percent you select for val/test are too high')\n",
    "        return None\n",
    "    valid_start = 1 - valid_percent - test_percent\n",
    "    test_start = 1 - test_percent\n",
    "    usernum = 0\n",
    "    itemnum = 0\n",
    "    User = defaultdict(list)\n",
    "    user_train_seq = {}\n",
    "    user_train = {}\n",
    "    user_valid = {}\n",
    "    user_test = {}\n",
    "    # assume user/item index starting from 1\n",
    "    f = open('%s.txt' % fname, 'r')\n",
    "    # read from each line\n",
    "    for line in f:\n",
    "        u, i = line.rstrip().split(' ')\n",
    "        u = int(u)\n",
    "        i = int(i)\n",
    "        usernum = max(u, usernum)\n",
    "        itemnum = max(i, itemnum)\n",
    "        User[u].append(i)\n",
    "        # count user and items\n",
    "    # read from each user\n",
    "    count = 0\n",
    "    for user in User:\n",
    "        nfeedback = len(User[user])\n",
    "        if nfeedback < 3:\n",
    "            user_train[user] = User[user]\n",
    "            user_valid[user] = []\n",
    "            user_test[user] = []\n",
    "        else:\n",
    "\n",
    "            # select the whole training seq\n",
    "            # user_train[user] = User[user][:-2]\n",
    "            seq_len = len(User[user])\n",
    "            valid_index = int(seq_len * valid_start)\n",
    "            test_index = int(seq_len * test_start)\n",
    "            if valid_index == test_index:\n",
    "                user_train[user] = User[user]\n",
    "                user_valid[user] = []\n",
    "                user_test[user] = []\n",
    "            else:\n",
    "                train_seq = User[user][: valid_index]\n",
    "                valid_seq = User[user][valid_index: test_index]\n",
    "                test_seq = User[user][test_index:]\n",
    "                user_train[user] = train_seq\n",
    "                user_valid[user] = []\n",
    "                user_valid[user] += valid_seq\n",
    "                user_test[user] = []\n",
    "                user_test[user] += test_seq\n",
    "    return [user_train, user_valid, user_test, usernum, itemnum]"
   ],
   "metadata": {
    "collapsed": false
   }
  },
  {
   "cell_type": "code",
   "execution_count": 24,
   "outputs": [],
   "source": [
    "[user_train, user_valid, user_test, usernum, itemnum] = data_partition_window_forSAS('ml-1m', 0.2, 0.2)"
   ],
   "metadata": {
    "collapsed": false
   }
  },
  {
   "cell_type": "code",
   "execution_count": 30,
   "outputs": [
    {
     "data": {
      "text/plain": "(31, 11, 11)"
     },
     "execution_count": 30,
     "metadata": {},
     "output_type": "execute_result"
    }
   ],
   "source": [
    "len(user_train[1]), len(user_valid[1]), len(user_test[1])"
   ],
   "metadata": {
    "collapsed": false
   }
  },
  {
   "cell_type": "markdown",
   "source": [
    "# Evaluation metrix modification"
   ],
   "metadata": {
    "collapsed": false
   }
  },
  {
   "cell_type": "code",
   "execution_count": 1,
   "outputs": [],
   "source": [
    "from collections import defaultdict\n",
    "\n",
    "def data_partition(fname):\n",
    "    usernum = 0\n",
    "    itemnum = 0\n",
    "    User = defaultdict(list)\n",
    "    user_train = {}\n",
    "    user_valid = {}\n",
    "    user_test = {}\n",
    "    # assume user/item index starting from 1\n",
    "    f = open('%s.txt' % fname, 'r')\n",
    "    for line in f:\n",
    "        u, i = line.rstrip().split(' ')\n",
    "        u = int(u)\n",
    "        i = int(i)\n",
    "        usernum = max(u, usernum)\n",
    "        itemnum = max(i, itemnum)\n",
    "        User[u].append(i)\n",
    "\n",
    "    for user in User:\n",
    "        nfeedback = len(User[user])\n",
    "        if nfeedback < 3:\n",
    "            user_train[user] = User[user]\n",
    "            user_valid[user] = []\n",
    "            user_test[user] = []\n",
    "        else:\n",
    "            user_train[user] = User[user][:-2]\n",
    "            user_valid[user] = []\n",
    "            user_valid[user].append(User[user][-2])\n",
    "            user_test[user] = []\n",
    "            user_test[user].append(User[user][-1])\n",
    "    return [user_train, user_valid, user_test, usernum, itemnum]"
   ],
   "metadata": {
    "collapsed": false
   }
  },
  {
   "cell_type": "code",
   "execution_count": 2,
   "outputs": [],
   "source": [
    "dataset = data_partition('ml-1m')"
   ],
   "metadata": {
    "collapsed": false
   }
  },
  {
   "cell_type": "code",
   "execution_count": 3,
   "outputs": [],
   "source": [
    "[user_train, user_valid, user_test, usernum, itemnum] = dataset"
   ],
   "metadata": {
    "collapsed": false
   }
  },
  {
   "cell_type": "code",
   "execution_count": 8,
   "outputs": [
    {
     "data": {
      "text/plain": "6040"
     },
     "execution_count": 8,
     "metadata": {},
     "output_type": "execute_result"
    }
   ],
   "source": [
    "len(user_train)"
   ],
   "metadata": {
    "collapsed": false
   }
  },
  {
   "cell_type": "code",
   "execution_count": 9,
   "outputs": [
    {
     "data": {
      "text/plain": "6040"
     },
     "execution_count": 9,
     "metadata": {},
     "output_type": "execute_result"
    }
   ],
   "source": [
    "len(user_valid)"
   ],
   "metadata": {
    "collapsed": false
   }
  },
  {
   "cell_type": "code",
   "execution_count": 10,
   "outputs": [
    {
     "data": {
      "text/plain": "6040"
     },
     "execution_count": 10,
     "metadata": {},
     "output_type": "execute_result"
    }
   ],
   "source": [
    "len(user_test)"
   ],
   "metadata": {
    "collapsed": false
   }
  },
  {
   "cell_type": "code",
   "execution_count": 11,
   "outputs": [
    {
     "data": {
      "text/plain": "6040"
     },
     "execution_count": 11,
     "metadata": {},
     "output_type": "execute_result"
    }
   ],
   "source": [
    "usernum"
   ],
   "metadata": {
    "collapsed": false
   }
  },
  {
   "cell_type": "code",
   "execution_count": 12,
   "outputs": [
    {
     "data": {
      "text/plain": "3416"
     },
     "execution_count": 12,
     "metadata": {},
     "output_type": "execute_result"
    }
   ],
   "source": [
    "itemnum"
   ],
   "metadata": {
    "collapsed": false
   }
  },
  {
   "cell_type": "code",
   "execution_count": 14,
   "outputs": [],
   "source": [],
   "metadata": {
    "collapsed": false
   }
  },
  {
   "cell_type": "code",
   "execution_count": 3,
   "outputs": [],
   "source": [
    "import random\n",
    "import numpy as np\n",
    "import copy\n",
    "import torch\n",
    "import sys\n",
    "\n",
    "def evaluate_window_valid(model, dataset, args):\n",
    "    [train, valid, test, usernum, itemnum] = copy.deepcopy(dataset)\n",
    "    Recall = 0.0\n",
    "    P90 = 0.0\n",
    "    # P90 coverage means the smallest item sets that appear in the top 10 lists of at least 90% of the users.\n",
    "    valid_user = 0.0\n",
    "    sample_nums = 500\n",
    "    random_items = random.sample(range(1, itemnum + 1), sample_nums)\n",
    "    # if usernum > 10000:\n",
    "    #     # avoid too many training users\n",
    "    #     # keep at most 10000 users\n",
    "    #     users = random.sample(range(1, usernum + 1), 10000)\n",
    "    # else:\n",
    "    #     # else keep all the users\n",
    "    #     users = range(1, usernum + 1)\n",
    "    users = range(1, usernum+1)\n",
    "    for u in users:\n",
    "        # make sure the sequence can be validated\n",
    "        if len(train[u]) < 1 or len(valid[u]) < 1: continue\n",
    "        seq = np.zeros([args.maxlen], dtype=np.int32)\n",
    "        idx = args.maxlen - 1\n",
    "        for i in reversed(train[u]):\n",
    "            seq[idx] = i\n",
    "            # fill the sequence from end to beginning\n",
    "            idx -= 1\n",
    "            if idx == -1: break\n",
    "            # select the max len or all of the training data in the sequence\n",
    "            # limit the length, seq contains the actual training sequence\n",
    "        rated = set(train[u])\n",
    "        rated.add(0)\n",
    "        # all items interacted by the current user\n",
    "        item_idx = [valid[u][0]]\n",
    "        # get the index of validated item\n",
    "        for _ in range(100):\n",
    "            # negative sampling\n",
    "            t = np.random.randint(1, itemnum + 1)\n",
    "            # randomly sample 100 items\n",
    "            while t in rated: t = np.random.randint(1, itemnum + 1)\n",
    "            item_idx.append(t)\n",
    "        predictions = -model.predict(*[np.array(l) for l in [[u], [seq], item_idx]])\n",
    "        # predicting the recommendation list\n",
    "        predictions = predictions[0]\n",
    "        rank = predictions.argsort().argsort()[0].item()\n",
    "        # the rank of the expected next single item\n",
    "        valid_user += 1\n",
    "        if rank < 10:\n",
    "            Recall += 1\n",
    "            # P90 coverage\n",
    "        if valid_user % 100 == 0:\n",
    "            print('.', end=\"\")\n",
    "            sys.stdout.flush()\n",
    "    return Recall / valid_user, P90 / valid_user"
   ],
   "metadata": {
    "collapsed": false
   }
  },
  {
   "cell_type": "code",
   "execution_count": 4,
   "outputs": [],
   "source": [
    "import argparse\n",
    "\n",
    "def str2bool(s):\n",
    "    if s not in {'false', 'true'}:\n",
    "        raise ValueError('Not a valid boolean string')\n",
    "    return s == 'true'\n",
    "\n",
    "def create_args(args):\n",
    "    parser = argparse.ArgumentParser()\n",
    "    parser.add_argument('--dataset', required=True)\n",
    "    parser.add_argument('--train_dir', required=True)\n",
    "    parser.add_argument('--batch_size', default=128, type=int)\n",
    "    parser.add_argument('--lr', default=0.001, type=float)\n",
    "    parser.add_argument('--maxlen', default=50, type=int)\n",
    "    parser.add_argument('--hidden_units', default=50, type=int)\n",
    "    parser.add_argument('--num_blocks', default=2, type=int)\n",
    "    parser.add_argument('--num_epochs', default=201, type=int)\n",
    "    parser.add_argument('--num_heads', default=1, type=int)\n",
    "    parser.add_argument('--dropout_rate', default=0.5, type=float)\n",
    "    parser.add_argument('--l2_emb', default=0.0, type=float)\n",
    "    parser.add_argument('--device', default='cpu', type=str)\n",
    "    parser.add_argument('--inference_only', default=False, type=str2bool)\n",
    "    parser.add_argument('--state_dict_path', default=None, type=str)\n",
    "    args = parser.parse_args(args)\n",
    "    return args"
   ],
   "metadata": {
    "collapsed": false
   }
  },
  {
   "cell_type": "code",
   "execution_count": 5,
   "outputs": [
    {
     "data": {
      "text/plain": "<All keys matched successfully>"
     },
     "execution_count": 5,
     "metadata": {},
     "output_type": "execute_result"
    }
   ],
   "source": [
    "from models.SASRec.model import SASRec\n",
    "[train, valid, test, usernum, itemnum] = copy.deepcopy(dataset)\n",
    "model_path = '../../processed/ml-1m_repro2/SASRec.epoch=201.lr=0.001.layer=2.head=1.hidden=50.maxlen=200.pth'\n",
    "# args.device = 'ml-1m'\n",
    "# args.train_dir = 'test'\n",
    "# args.state_dict_path = model_path\n",
    "# args.inference\n",
    "args = create_args(['--dataset','ml-1m',\n",
    "                    '--train_dir', 'test',\n",
    "                    '--device', 'cuda',\n",
    "                    '--state_dict_path', model_path,\n",
    "                    '--inference_only', 'true',\n",
    "                    '--maxlen', '200'])\n",
    "# print(args.dataset)\n",
    "model = SASRec(usernum, itemnum, args).to(args.device) # no ReLU activation in original SASRec implementation?\n",
    "model.load_state_dict(torch.load(args.state_dict_path, map_location=torch.device(args.device)))\n"
   ],
   "metadata": {
    "collapsed": false
   }
  },
  {
   "cell_type": "code",
   "execution_count": 6,
   "outputs": [],
   "source": [
    "# seq = np.zeros([200], dtype=np.int32)\n",
    "from collections import Counter\n",
    "\n",
    "def window_eval(model, dataset, args):\n",
    "    [train, valid, test, usernum, itemnum] = copy.deepcopy(dataset)\n",
    "    Recall = 0.0\n",
    "    P90 = 0.0\n",
    "    coverage_list = []\n",
    "    # P90 coverage means the smallest item sets that appear in the top 10 lists of at least 90% of the users.\n",
    "    valid_user = 0.0\n",
    "    sample_nums = 100\n",
    "    random_items = random.sample(range(1, itemnum + 1), sample_nums)\n",
    "    sample_idx = random_items\n",
    "    sample_idx_tensor = torch.tensor(sample_idx).to(args.device)\n",
    "    users = range(1, usernum+1)\n",
    "    for u in users:\n",
    "        if len(train[u]) < 1 or len(valid[u]) < 1: continue\n",
    "        seq = np.zeros([args.maxlen], dtype=np.int32)\n",
    "        idx = args.maxlen - 1\n",
    "        for i in reversed(train[u]):\n",
    "            seq[idx] = i\n",
    "            # fill the sequence from end to beginning\n",
    "            idx -= 1\n",
    "            if idx == -1: break\n",
    "            # select the max len or all of the training data in the sequence\n",
    "            # limit the length, seq contains the actual training sequence\n",
    "        # interacted items\n",
    "        rated = set(train[u])\n",
    "        rated.add(0)\n",
    "        # ground truth item\n",
    "        ground_truth_idx = [valid[u][0]]\n",
    "        # collect all indexes, which needs to process on\n",
    "        process_idx = ground_truth_idx + sample_idx\n",
    "        predictions = -model.predict(*[np.array(l) for l in [[u], [seq], process_idx]])[0]\n",
    "        # target distance\n",
    "        target_d = predictions[0]\n",
    "        # sampled results\n",
    "        sample_d = predictions[1:]\n",
    "        # print(len(sample_d))\n",
    "        bool_tensor = target_d >= sample_d\n",
    "        count = torch.sum(bool_tensor).item()\n",
    "        if count < 10:\n",
    "            Recall += 1\n",
    "        sorted_indices = torch.argsort(sample_d)\n",
    "        sorted_sample_idx = sample_idx_tensor[sorted_indices]\n",
    "        # take the coverage@10 for all users\n",
    "        coverage_list+=list(sorted_sample_idx[:10])\n",
    "        valid_user+=1\n",
    "    p90_list = [i.item() for i in coverage_list]\n",
    "    p90_dict = Counter(p90_list)\n",
    "    p90_sort = sorted(p90_dict.items(), key=lambda x: x[1], reverse=True)\n",
    "    total_rec = 0\n",
    "    item_count = 0\n",
    "    for _, num in p90_sort:\n",
    "        total_rec+= num\n",
    "        item_count+= 1\n",
    "        if total_rec>=0.9*10*usernum:\n",
    "            break\n",
    "    return Recall/ valid_user, item_count/sample_nums"
   ],
   "metadata": {
    "collapsed": false
   }
  },
  {
   "cell_type": "code",
   "execution_count": 7,
   "outputs": [
    {
     "data": {
      "text/plain": "(0.6837748344370861, 0.39)"
     },
     "execution_count": 7,
     "metadata": {},
     "output_type": "execute_result"
    }
   ],
   "source": [
    "r_10, p90_10 = window_eval(model, dataset, args)\n",
    "r_10, p90_10"
   ],
   "metadata": {
    "collapsed": false
   }
  },
  {
   "cell_type": "code",
   "execution_count": 324,
   "outputs": [
    {
     "data": {
      "text/plain": "0.7220198675496688"
     },
     "execution_count": 324,
     "metadata": {},
     "output_type": "execute_result"
    }
   ],
   "source": [
    "r_10"
   ],
   "metadata": {
    "collapsed": false
   }
  },
  {
   "cell_type": "code",
   "execution_count": 325,
   "outputs": [
    {
     "data": {
      "text/plain": "tensor(555, device='cuda:0')"
     },
     "execution_count": 325,
     "metadata": {},
     "output_type": "execute_result"
    }
   ],
   "source": [
    "p90_10[0]"
   ],
   "metadata": {
    "collapsed": false
   }
  },
  {
   "cell_type": "code",
   "execution_count": 310,
   "outputs": [
    {
     "name": "stdout",
     "output_type": "stream",
     "text": [
      "tensor([ 9.3707, 10.0276,  1.7949,  2.2778,  1.6972,  3.1340,  0.9665,  1.7291,\n",
      "         3.4084,  7.6006,  4.6640,  2.2345,  0.5467,  5.5857,  5.9262,  1.3569,\n",
      "         5.1768,  7.5260,  4.5001,  1.7821,  3.2290,  2.4288,  3.4584,  1.6327,\n",
      "         1.1583,  2.1802,  4.6872,  8.1685,  4.5905,  8.3075,  3.3722,  8.2114,\n",
      "         0.1550,  9.1146,  3.8488,  3.1302,  7.5430,  1.7347,  2.6680, -0.2786,\n",
      "         0.3388, -1.0337,  4.5619,  4.3231, -2.1127,  2.3673,  0.5496,  2.3267,\n",
      "        -0.7152,  0.9132, -0.2480,  3.6144,  2.9695, -0.6554,  6.7954,  8.9082,\n",
      "         3.2031,  4.8945,  1.2898, -1.0845,  5.7791,  4.0360,  8.3336,  8.1273,\n",
      "         3.6473,  0.6227, -0.3586, -1.8947,  2.3814,  0.1306, -0.0944, 10.6808,\n",
      "        -1.7638,  5.1357,  9.9835, -1.3254,  3.1047,  1.2045,  8.4175, -1.1432,\n",
      "        10.1574,  5.1251, -0.9652,  1.3655,  6.3954,  5.4205,  2.2116, -2.6665,\n",
      "         0.0877,  7.0560,  6.0650,  6.4022,  1.3186,  1.6585,  3.3703,  1.1821,\n",
      "         4.2021,  5.0295,  0.1776, -1.2858], device='cuda:0',\n",
      "       grad_fn=<SliceBackward0>)\n"
     ]
    },
    {
     "data": {
      "text/plain": "(tensor([-2.6665, -2.1127, -1.8947, -1.7638, -1.3254, -1.2858, -1.1432, -1.0845,\n         -1.0337, -0.9652, -0.7152, -0.6554, -0.3586, -0.2786, -0.2480, -0.0944,\n          0.0877,  0.1306,  0.1550,  0.1776,  0.3388,  0.5467,  0.5496,  0.6227,\n          0.9132,  0.9665,  1.1583,  1.1821,  1.2045,  1.2898,  1.3186,  1.3569,\n          1.3655,  1.6327,  1.6585,  1.6972,  1.7291,  1.7347,  1.7821,  1.7949,\n          2.1802,  2.2116,  2.2345,  2.2778,  2.3267,  2.3673,  2.3814,  2.4288,\n          2.6680,  2.9695,  3.1047,  3.1302,  3.1340,  3.2031,  3.2290,  3.3703,\n          3.3722,  3.4084,  3.4584,  3.6144,  3.6473,  3.8488,  4.0360,  4.2021,\n          4.3231,  4.5001,  4.5619,  4.5905,  4.6640,  4.6872,  4.8945,  5.0295,\n          5.1251,  5.1357,  5.1768,  5.4205,  5.5857,  5.7791,  5.9262,  6.0650,\n          6.3954,  6.4022,  6.7954,  7.0560,  7.5260,  7.5430,  7.6006,  8.1273,\n          8.1685,  8.2114,  8.3075,  8.3336,  8.4175,  8.9082,  9.1146,  9.3707,\n          9.9835, 10.0276, 10.1574, 10.6808], device='cuda:0',\n        grad_fn=<IndexBackward0>),\n tensor(-1.0337, device='cuda:0', grad_fn=<SelectBackward0>))"
     },
     "execution_count": 310,
     "metadata": {},
     "output_type": "execute_result"
    }
   ],
   "source": [
    "# # rank = predictions\n",
    "# # rank\n",
    "# [train, valid, test, usernum, itemnum] = copy.deepcopy(dataset)\n",
    "# Recall = 0.0\n",
    "# P90 = 0.0\n",
    "# coverage_list = []\n",
    "# # P90 coverage means the smallest item sets that appear in the top 10 lists of at least 90% of the users.\n",
    "# valid_user = 0.0\n",
    "# sample_nums = 100\n",
    "# random_items = random.sample(range(1, itemnum + 1), sample_nums)\n",
    "# sample_idx = random_items\n",
    "# users = range(1, usernum+1)\n",
    "# u = 1\n",
    "# seq = np.zeros([args.maxlen], dtype=np.int32)\n",
    "# idx = args.maxlen - 1\n",
    "# for i in reversed(train[u]):\n",
    "#     seq[idx] = i\n",
    "#     # fill the sequence from end to beginning\n",
    "#     idx -= 1\n",
    "#     if idx == -1: break\n",
    "#     # select the max len or all of the training data in the sequence\n",
    "#     # limit the length, seq contains the actual training sequence\n",
    "# # interacted items\n",
    "# rated = set(train[u])\n",
    "# rated.add(0)\n",
    "# # ground truth item\n",
    "# ground_truth_idx = [valid[u][0]]\n",
    "# process_idx = ground_truth_idx + sample_idx\n",
    "# predictions = -model.predict(*[np.array(l) for l in [[u], [seq], process_idx]])[0]\n",
    "# # sampled results\n",
    "# target_d = predictions[0]\n",
    "# sample_d = predictions[1:]\n",
    "# # print(len(sample_d))\n",
    "#\n",
    "# bool_tensor = target_d >= sample_d\n",
    "# # sample_idx = torch.tensor(sample_idx).to(args.device)\n",
    "# # sample_idx\n",
    "# # # rank the target result\n",
    "# count = torch.sum(bool_tensor).item()\n",
    "# if count < 10:\n",
    "#     Recall += 1\n",
    "# sorted_indices = torch.argsort(sample_d)\n",
    "# print(sample_d)\n",
    "# sample_idx = torch.tensor(sample_idx).to(args.device)\n",
    "# sorted_sample_idx = sample_idx[sorted_indices]\n",
    "# sample_d[sorted_indices], target_d\n",
    "#\n",
    "# # if count < 10:\n",
    "# #     Recall += 1\n",
    "# # sorted_indices = sample_d.argsort()\n",
    "# # sorted_sample_idx = sample_idx[sorted_indices]\n",
    "# # # _, sorted_indices = torch.sort(sample_d, axis=0, direction='ASCENDING', return_sorted_indices=True)\n",
    "# # # bool_tensor\n",
    "# # coverage_list.append(list(sorted_sample_idx[:10]))\n",
    "# # valid_user+=1\n",
    "# # coverage_list"
   ],
   "metadata": {
    "collapsed": false
   }
  }
 ],
 "metadata": {
  "kernelspec": {
   "display_name": "Python 3",
   "language": "python",
   "name": "python3"
  },
  "language_info": {
   "codemirror_mode": {
    "name": "ipython",
    "version": 2
   },
   "file_extension": ".py",
   "mimetype": "text/x-python",
   "name": "python",
   "nbconvert_exporter": "python",
   "pygments_lexer": "ipython2",
   "version": "2.7.6"
  }
 },
 "nbformat": 4,
 "nbformat_minor": 0
}
