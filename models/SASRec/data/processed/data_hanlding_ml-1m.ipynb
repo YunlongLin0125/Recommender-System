{
 "cells": [
  {
   "cell_type": "code",
   "execution_count": 1,
   "metadata": {
    "collapsed": true
   },
   "outputs": [],
   "source": [
    "from collections import defaultdict\n",
    "from datetime import datetime\n",
    "import torch\n",
    "import pandas as pd"
   ]
  },
  {
   "cell_type": "code",
   "execution_count": 2,
   "outputs": [],
   "source": [
    "ml_1m_path = '../../../../datasets/ml-1m'"
   ],
   "metadata": {
    "collapsed": false
   }
  },
  {
   "cell_type": "markdown",
   "source": [],
   "metadata": {
    "collapsed": false
   }
  },
  {
   "cell_type": "code",
   "execution_count": 3,
   "outputs": [
    {
     "data": {
      "text/plain": "                                      Title  Action  Adventure  Animation  \\\nMovieID                                                                     \n1                          Toy Story (1995)       0          0          1   \n2                            Jumanji (1995)       0          1          0   \n3                   Grumpier Old Men (1995)       0          0          0   \n4                  Waiting to Exhale (1995)       0          0          0   \n5        Father of the Bride Part II (1995)       0          0          0   \n...                                     ...     ...        ...        ...   \n3948                Meet the Parents (2000)       0          0          0   \n3949             Requiem for a Dream (2000)       0          0          0   \n3950                       Tigerland (2000)       0          0          0   \n3951                Two Family House (2000)       0          0          0   \n3952                  Contender, The (2000)       0          0          0   \n\n         Children's  Comedy  Crime  Documentary  Drama  Fantasy  Film-Noir  \\\nMovieID                                                                      \n1                 1       1      0            0      0        0          0   \n2                 1       0      0            0      0        1          0   \n3                 0       1      0            0      0        0          0   \n4                 0       1      0            0      1        0          0   \n5                 0       1      0            0      0        0          0   \n...             ...     ...    ...          ...    ...      ...        ...   \n3948              0       1      0            0      0        0          0   \n3949              0       0      0            0      1        0          0   \n3950              0       0      0            0      1        0          0   \n3951              0       0      0            0      1        0          0   \n3952              0       0      0            0      1        0          0   \n\n         Horror  Musical  Mystery  Romance  Sci-Fi  Thriller  War  Western  \nMovieID                                                                     \n1             0        0        0        0       0         0    0        0  \n2             0        0        0        0       0         0    0        0  \n3             0        0        0        1       0         0    0        0  \n4             0        0        0        0       0         0    0        0  \n5             0        0        0        0       0         0    0        0  \n...         ...      ...      ...      ...     ...       ...  ...      ...  \n3948          0        0        0        0       0         0    0        0  \n3949          0        0        0        0       0         0    0        0  \n3950          0        0        0        0       0         0    0        0  \n3951          0        0        0        0       0         0    0        0  \n3952          0        0        0        0       0         1    0        0  \n\n[3883 rows x 19 columns]",
      "text/html": "<div>\n<style scoped>\n    .dataframe tbody tr th:only-of-type {\n        vertical-align: middle;\n    }\n\n    .dataframe tbody tr th {\n        vertical-align: top;\n    }\n\n    .dataframe thead th {\n        text-align: right;\n    }\n</style>\n<table border=\"1\" class=\"dataframe\">\n  <thead>\n    <tr style=\"text-align: right;\">\n      <th></th>\n      <th>Title</th>\n      <th>Action</th>\n      <th>Adventure</th>\n      <th>Animation</th>\n      <th>Children's</th>\n      <th>Comedy</th>\n      <th>Crime</th>\n      <th>Documentary</th>\n      <th>Drama</th>\n      <th>Fantasy</th>\n      <th>Film-Noir</th>\n      <th>Horror</th>\n      <th>Musical</th>\n      <th>Mystery</th>\n      <th>Romance</th>\n      <th>Sci-Fi</th>\n      <th>Thriller</th>\n      <th>War</th>\n      <th>Western</th>\n    </tr>\n    <tr>\n      <th>MovieID</th>\n      <th></th>\n      <th></th>\n      <th></th>\n      <th></th>\n      <th></th>\n      <th></th>\n      <th></th>\n      <th></th>\n      <th></th>\n      <th></th>\n      <th></th>\n      <th></th>\n      <th></th>\n      <th></th>\n      <th></th>\n      <th></th>\n      <th></th>\n      <th></th>\n      <th></th>\n    </tr>\n  </thead>\n  <tbody>\n    <tr>\n      <th>1</th>\n      <td>Toy Story (1995)</td>\n      <td>0</td>\n      <td>0</td>\n      <td>1</td>\n      <td>1</td>\n      <td>1</td>\n      <td>0</td>\n      <td>0</td>\n      <td>0</td>\n      <td>0</td>\n      <td>0</td>\n      <td>0</td>\n      <td>0</td>\n      <td>0</td>\n      <td>0</td>\n      <td>0</td>\n      <td>0</td>\n      <td>0</td>\n      <td>0</td>\n    </tr>\n    <tr>\n      <th>2</th>\n      <td>Jumanji (1995)</td>\n      <td>0</td>\n      <td>1</td>\n      <td>0</td>\n      <td>1</td>\n      <td>0</td>\n      <td>0</td>\n      <td>0</td>\n      <td>0</td>\n      <td>1</td>\n      <td>0</td>\n      <td>0</td>\n      <td>0</td>\n      <td>0</td>\n      <td>0</td>\n      <td>0</td>\n      <td>0</td>\n      <td>0</td>\n      <td>0</td>\n    </tr>\n    <tr>\n      <th>3</th>\n      <td>Grumpier Old Men (1995)</td>\n      <td>0</td>\n      <td>0</td>\n      <td>0</td>\n      <td>0</td>\n      <td>1</td>\n      <td>0</td>\n      <td>0</td>\n      <td>0</td>\n      <td>0</td>\n      <td>0</td>\n      <td>0</td>\n      <td>0</td>\n      <td>0</td>\n      <td>1</td>\n      <td>0</td>\n      <td>0</td>\n      <td>0</td>\n      <td>0</td>\n    </tr>\n    <tr>\n      <th>4</th>\n      <td>Waiting to Exhale (1995)</td>\n      <td>0</td>\n      <td>0</td>\n      <td>0</td>\n      <td>0</td>\n      <td>1</td>\n      <td>0</td>\n      <td>0</td>\n      <td>1</td>\n      <td>0</td>\n      <td>0</td>\n      <td>0</td>\n      <td>0</td>\n      <td>0</td>\n      <td>0</td>\n      <td>0</td>\n      <td>0</td>\n      <td>0</td>\n      <td>0</td>\n    </tr>\n    <tr>\n      <th>5</th>\n      <td>Father of the Bride Part II (1995)</td>\n      <td>0</td>\n      <td>0</td>\n      <td>0</td>\n      <td>0</td>\n      <td>1</td>\n      <td>0</td>\n      <td>0</td>\n      <td>0</td>\n      <td>0</td>\n      <td>0</td>\n      <td>0</td>\n      <td>0</td>\n      <td>0</td>\n      <td>0</td>\n      <td>0</td>\n      <td>0</td>\n      <td>0</td>\n      <td>0</td>\n    </tr>\n    <tr>\n      <th>...</th>\n      <td>...</td>\n      <td>...</td>\n      <td>...</td>\n      <td>...</td>\n      <td>...</td>\n      <td>...</td>\n      <td>...</td>\n      <td>...</td>\n      <td>...</td>\n      <td>...</td>\n      <td>...</td>\n      <td>...</td>\n      <td>...</td>\n      <td>...</td>\n      <td>...</td>\n      <td>...</td>\n      <td>...</td>\n      <td>...</td>\n      <td>...</td>\n    </tr>\n    <tr>\n      <th>3948</th>\n      <td>Meet the Parents (2000)</td>\n      <td>0</td>\n      <td>0</td>\n      <td>0</td>\n      <td>0</td>\n      <td>1</td>\n      <td>0</td>\n      <td>0</td>\n      <td>0</td>\n      <td>0</td>\n      <td>0</td>\n      <td>0</td>\n      <td>0</td>\n      <td>0</td>\n      <td>0</td>\n      <td>0</td>\n      <td>0</td>\n      <td>0</td>\n      <td>0</td>\n    </tr>\n    <tr>\n      <th>3949</th>\n      <td>Requiem for a Dream (2000)</td>\n      <td>0</td>\n      <td>0</td>\n      <td>0</td>\n      <td>0</td>\n      <td>0</td>\n      <td>0</td>\n      <td>0</td>\n      <td>1</td>\n      <td>0</td>\n      <td>0</td>\n      <td>0</td>\n      <td>0</td>\n      <td>0</td>\n      <td>0</td>\n      <td>0</td>\n      <td>0</td>\n      <td>0</td>\n      <td>0</td>\n    </tr>\n    <tr>\n      <th>3950</th>\n      <td>Tigerland (2000)</td>\n      <td>0</td>\n      <td>0</td>\n      <td>0</td>\n      <td>0</td>\n      <td>0</td>\n      <td>0</td>\n      <td>0</td>\n      <td>1</td>\n      <td>0</td>\n      <td>0</td>\n      <td>0</td>\n      <td>0</td>\n      <td>0</td>\n      <td>0</td>\n      <td>0</td>\n      <td>0</td>\n      <td>0</td>\n      <td>0</td>\n    </tr>\n    <tr>\n      <th>3951</th>\n      <td>Two Family House (2000)</td>\n      <td>0</td>\n      <td>0</td>\n      <td>0</td>\n      <td>0</td>\n      <td>0</td>\n      <td>0</td>\n      <td>0</td>\n      <td>1</td>\n      <td>0</td>\n      <td>0</td>\n      <td>0</td>\n      <td>0</td>\n      <td>0</td>\n      <td>0</td>\n      <td>0</td>\n      <td>0</td>\n      <td>0</td>\n      <td>0</td>\n    </tr>\n    <tr>\n      <th>3952</th>\n      <td>Contender, The (2000)</td>\n      <td>0</td>\n      <td>0</td>\n      <td>0</td>\n      <td>0</td>\n      <td>0</td>\n      <td>0</td>\n      <td>0</td>\n      <td>1</td>\n      <td>0</td>\n      <td>0</td>\n      <td>0</td>\n      <td>0</td>\n      <td>0</td>\n      <td>0</td>\n      <td>0</td>\n      <td>1</td>\n      <td>0</td>\n      <td>0</td>\n    </tr>\n  </tbody>\n</table>\n<p>3883 rows × 19 columns</p>\n</div>"
     },
     "execution_count": 3,
     "metadata": {},
     "output_type": "execute_result"
    }
   ],
   "source": [
    "file_path = ml_1m_path + '/movies.dat'\n",
    "# file_path = Path(file_path)\n",
    "data_movies = pd.read_csv(file_path, encoding='latin-1', sep='::', engine='python',\n",
    "                   names=['MovieID', 'Title', 'Genres'], index_col='MovieID')\n",
    "genres = data_movies['Genres'].str.get_dummies('|')\n",
    "data_movies= pd.concat([data_movies, genres], axis=1)\n",
    "# [row, columns], axis = 1 is column\n",
    "data_movies.drop('Genres', axis=1, inplace=True)\n",
    "data_movies"
   ],
   "metadata": {
    "collapsed": false
   }
  },
  {
   "cell_type": "code",
   "execution_count": 4,
   "outputs": [
    {
     "data": {
      "text/plain": "        Gender  Age  Occupation Zip-code\nUserID                                  \n1            0    1          10    48067\n2            1   56          16    70072\n3            1   25          15    55117\n4            1   45           7    02460\n5            1   25          20    55455\n...        ...  ...         ...      ...\n6036         0   25          15    32603\n6037         0   45           1    76006\n6038         0   56           1    14706\n6039         0   45           0    01060\n6040         1   25           6    11106\n\n[6040 rows x 4 columns]",
      "text/html": "<div>\n<style scoped>\n    .dataframe tbody tr th:only-of-type {\n        vertical-align: middle;\n    }\n\n    .dataframe tbody tr th {\n        vertical-align: top;\n    }\n\n    .dataframe thead th {\n        text-align: right;\n    }\n</style>\n<table border=\"1\" class=\"dataframe\">\n  <thead>\n    <tr style=\"text-align: right;\">\n      <th></th>\n      <th>Gender</th>\n      <th>Age</th>\n      <th>Occupation</th>\n      <th>Zip-code</th>\n    </tr>\n    <tr>\n      <th>UserID</th>\n      <th></th>\n      <th></th>\n      <th></th>\n      <th></th>\n    </tr>\n  </thead>\n  <tbody>\n    <tr>\n      <th>1</th>\n      <td>0</td>\n      <td>1</td>\n      <td>10</td>\n      <td>48067</td>\n    </tr>\n    <tr>\n      <th>2</th>\n      <td>1</td>\n      <td>56</td>\n      <td>16</td>\n      <td>70072</td>\n    </tr>\n    <tr>\n      <th>3</th>\n      <td>1</td>\n      <td>25</td>\n      <td>15</td>\n      <td>55117</td>\n    </tr>\n    <tr>\n      <th>4</th>\n      <td>1</td>\n      <td>45</td>\n      <td>7</td>\n      <td>02460</td>\n    </tr>\n    <tr>\n      <th>5</th>\n      <td>1</td>\n      <td>25</td>\n      <td>20</td>\n      <td>55455</td>\n    </tr>\n    <tr>\n      <th>...</th>\n      <td>...</td>\n      <td>...</td>\n      <td>...</td>\n      <td>...</td>\n    </tr>\n    <tr>\n      <th>6036</th>\n      <td>0</td>\n      <td>25</td>\n      <td>15</td>\n      <td>32603</td>\n    </tr>\n    <tr>\n      <th>6037</th>\n      <td>0</td>\n      <td>45</td>\n      <td>1</td>\n      <td>76006</td>\n    </tr>\n    <tr>\n      <th>6038</th>\n      <td>0</td>\n      <td>56</td>\n      <td>1</td>\n      <td>14706</td>\n    </tr>\n    <tr>\n      <th>6039</th>\n      <td>0</td>\n      <td>45</td>\n      <td>0</td>\n      <td>01060</td>\n    </tr>\n    <tr>\n      <th>6040</th>\n      <td>1</td>\n      <td>25</td>\n      <td>6</td>\n      <td>11106</td>\n    </tr>\n  </tbody>\n</table>\n<p>6040 rows × 4 columns</p>\n</div>"
     },
     "execution_count": 4,
     "metadata": {},
     "output_type": "execute_result"
    }
   ],
   "source": [
    "file_path = ml_1m_path + '/users.dat'\n",
    "data_users = pd.read_csv(file_path, sep='::', engine='python',\n",
    "                   names=['UserID', 'Gender', 'Age', 'Occupation', 'Zip-code'], index_col='UserID')\n",
    "\n",
    "# Convert Gender to binary indicator variable\n",
    "data_users['Gender'] = (data_users['Gender'] == 'M').astype(int)\n",
    "occupation_map = {\n",
    "    0: 'other',\n",
    "    1: 'academic/educator',\n",
    "    2: 'artist',\n",
    "    3: 'clerical/admin',\n",
    "    4: 'college/grad student',\n",
    "    5: 'customer service',\n",
    "    6: 'doctor/health care',\n",
    "    7: 'executive/managerial',\n",
    "    8: 'farmer',\n",
    "    9: 'homemaker',\n",
    "    10: 'K-12 student',\n",
    "    11: 'lawyer',\n",
    "    12: 'programmer',\n",
    "    13: 'retired',\n",
    "    14: 'sales/marketing',\n",
    "    15: 'scientist',\n",
    "    16: 'self-employed',\n",
    "    17: 'technician/engineer',\n",
    "    18: 'tradesman/craftsman',\n",
    "    19: 'unemployed',\n",
    "    20: 'writer'\n",
    "}\n",
    "# data['Occupation'] = data['Occupation'].map(occupation_map)\n",
    "data_users"
   ],
   "metadata": {
    "collapsed": false
   }
  },
  {
   "cell_type": "code",
   "execution_count": 5,
   "outputs": [],
   "source": [
    "file_path = ml_1m_path + '/ratings.dat'\n",
    "\n",
    "data_ratings = pd.read_csv(file_path, sep='::', engine='python',\n",
    "                   names=['UserID', 'MovieID', 'Rating', 'Timestamp'], index_col='UserID')\n"
   ],
   "metadata": {
    "collapsed": false
   }
  },
  {
   "cell_type": "code",
   "execution_count": 6,
   "outputs": [
    {
     "data": {
      "text/plain": "        MovieID  Rating  Timestamp\nUserID                            \n1          1193       5  978300760\n1           661       3  978302109\n1           914       3  978301968\n1          3408       4  978300275\n1          2355       5  978824291\n...         ...     ...        ...\n6040       1091       1  956716541\n6040       1094       5  956704887\n6040        562       5  956704746\n6040       1096       4  956715648\n6040       1097       4  956715569\n\n[1000209 rows x 3 columns]",
      "text/html": "<div>\n<style scoped>\n    .dataframe tbody tr th:only-of-type {\n        vertical-align: middle;\n    }\n\n    .dataframe tbody tr th {\n        vertical-align: top;\n    }\n\n    .dataframe thead th {\n        text-align: right;\n    }\n</style>\n<table border=\"1\" class=\"dataframe\">\n  <thead>\n    <tr style=\"text-align: right;\">\n      <th></th>\n      <th>MovieID</th>\n      <th>Rating</th>\n      <th>Timestamp</th>\n    </tr>\n    <tr>\n      <th>UserID</th>\n      <th></th>\n      <th></th>\n      <th></th>\n    </tr>\n  </thead>\n  <tbody>\n    <tr>\n      <th>1</th>\n      <td>1193</td>\n      <td>5</td>\n      <td>978300760</td>\n    </tr>\n    <tr>\n      <th>1</th>\n      <td>661</td>\n      <td>3</td>\n      <td>978302109</td>\n    </tr>\n    <tr>\n      <th>1</th>\n      <td>914</td>\n      <td>3</td>\n      <td>978301968</td>\n    </tr>\n    <tr>\n      <th>1</th>\n      <td>3408</td>\n      <td>4</td>\n      <td>978300275</td>\n    </tr>\n    <tr>\n      <th>1</th>\n      <td>2355</td>\n      <td>5</td>\n      <td>978824291</td>\n    </tr>\n    <tr>\n      <th>...</th>\n      <td>...</td>\n      <td>...</td>\n      <td>...</td>\n    </tr>\n    <tr>\n      <th>6040</th>\n      <td>1091</td>\n      <td>1</td>\n      <td>956716541</td>\n    </tr>\n    <tr>\n      <th>6040</th>\n      <td>1094</td>\n      <td>5</td>\n      <td>956704887</td>\n    </tr>\n    <tr>\n      <th>6040</th>\n      <td>562</td>\n      <td>5</td>\n      <td>956704746</td>\n    </tr>\n    <tr>\n      <th>6040</th>\n      <td>1096</td>\n      <td>4</td>\n      <td>956715648</td>\n    </tr>\n    <tr>\n      <th>6040</th>\n      <td>1097</td>\n      <td>4</td>\n      <td>956715569</td>\n    </tr>\n  </tbody>\n</table>\n<p>1000209 rows × 3 columns</p>\n</div>"
     },
     "execution_count": 6,
     "metadata": {},
     "output_type": "execute_result"
    }
   ],
   "source": [
    "data_ratings"
   ],
   "metadata": {
    "collapsed": false
   }
  },
  {
   "cell_type": "markdown",
   "source": [
    "## SASRec handling\n",
    "Only use implicit feedback in the sequence of items"
   ],
   "metadata": {
    "collapsed": false
   }
  },
  {
   "cell_type": "code",
   "execution_count": 10,
   "outputs": [
    {
     "data": {
      "text/plain": "        MovieID  Rating  Timestamp\nUserID                            \n1          1193       5  978300760\n1           661       3  978302109\n1           914       3  978301968\n1          3408       4  978300275\n1          2355       5  978824291\n...         ...     ...        ...\n6040       1091       1  956716541\n6040       1094       5  956704887\n6040        562       5  956704746\n6040       1096       4  956715648\n6040       1097       4  956715569\n\n[1000209 rows x 3 columns]",
      "text/html": "<div>\n<style scoped>\n    .dataframe tbody tr th:only-of-type {\n        vertical-align: middle;\n    }\n\n    .dataframe tbody tr th {\n        vertical-align: top;\n    }\n\n    .dataframe thead th {\n        text-align: right;\n    }\n</style>\n<table border=\"1\" class=\"dataframe\">\n  <thead>\n    <tr style=\"text-align: right;\">\n      <th></th>\n      <th>MovieID</th>\n      <th>Rating</th>\n      <th>Timestamp</th>\n    </tr>\n    <tr>\n      <th>UserID</th>\n      <th></th>\n      <th></th>\n      <th></th>\n    </tr>\n  </thead>\n  <tbody>\n    <tr>\n      <th>1</th>\n      <td>1193</td>\n      <td>5</td>\n      <td>978300760</td>\n    </tr>\n    <tr>\n      <th>1</th>\n      <td>661</td>\n      <td>3</td>\n      <td>978302109</td>\n    </tr>\n    <tr>\n      <th>1</th>\n      <td>914</td>\n      <td>3</td>\n      <td>978301968</td>\n    </tr>\n    <tr>\n      <th>1</th>\n      <td>3408</td>\n      <td>4</td>\n      <td>978300275</td>\n    </tr>\n    <tr>\n      <th>1</th>\n      <td>2355</td>\n      <td>5</td>\n      <td>978824291</td>\n    </tr>\n    <tr>\n      <th>...</th>\n      <td>...</td>\n      <td>...</td>\n      <td>...</td>\n    </tr>\n    <tr>\n      <th>6040</th>\n      <td>1091</td>\n      <td>1</td>\n      <td>956716541</td>\n    </tr>\n    <tr>\n      <th>6040</th>\n      <td>1094</td>\n      <td>5</td>\n      <td>956704887</td>\n    </tr>\n    <tr>\n      <th>6040</th>\n      <td>562</td>\n      <td>5</td>\n      <td>956704746</td>\n    </tr>\n    <tr>\n      <th>6040</th>\n      <td>1096</td>\n      <td>4</td>\n      <td>956715648</td>\n    </tr>\n    <tr>\n      <th>6040</th>\n      <td>1097</td>\n      <td>4</td>\n      <td>956715569</td>\n    </tr>\n  </tbody>\n</table>\n<p>1000209 rows × 3 columns</p>\n</div>"
     },
     "execution_count": 10,
     "metadata": {},
     "output_type": "execute_result"
    }
   ],
   "source": [
    "data_ratings"
   ],
   "metadata": {
    "collapsed": false
   }
  },
  {
   "cell_type": "code",
   "execution_count": 7,
   "outputs": [
    {
     "data": {
      "text/plain": "        MovieID  Rating  Timestamp\nUserID                            \n1          3186       4  978300019\n1          1721       4  978300055\n1          1022       5  978300055\n1          1270       5  978300055\n1          2340       3  978300103\n...         ...     ...        ...\n6040       2917       4  997454429\n6040       1784       3  997454464\n6040       1921       4  997454464\n6040        161       3  997454486\n6040       1221       4  998315055\n\n[999611 rows x 3 columns]",
      "text/html": "<div>\n<style scoped>\n    .dataframe tbody tr th:only-of-type {\n        vertical-align: middle;\n    }\n\n    .dataframe tbody tr th {\n        vertical-align: top;\n    }\n\n    .dataframe thead th {\n        text-align: right;\n    }\n</style>\n<table border=\"1\" class=\"dataframe\">\n  <thead>\n    <tr style=\"text-align: right;\">\n      <th></th>\n      <th>MovieID</th>\n      <th>Rating</th>\n      <th>Timestamp</th>\n    </tr>\n    <tr>\n      <th>UserID</th>\n      <th></th>\n      <th></th>\n      <th></th>\n    </tr>\n  </thead>\n  <tbody>\n    <tr>\n      <th>1</th>\n      <td>3186</td>\n      <td>4</td>\n      <td>978300019</td>\n    </tr>\n    <tr>\n      <th>1</th>\n      <td>1721</td>\n      <td>4</td>\n      <td>978300055</td>\n    </tr>\n    <tr>\n      <th>1</th>\n      <td>1022</td>\n      <td>5</td>\n      <td>978300055</td>\n    </tr>\n    <tr>\n      <th>1</th>\n      <td>1270</td>\n      <td>5</td>\n      <td>978300055</td>\n    </tr>\n    <tr>\n      <th>1</th>\n      <td>2340</td>\n      <td>3</td>\n      <td>978300103</td>\n    </tr>\n    <tr>\n      <th>...</th>\n      <td>...</td>\n      <td>...</td>\n      <td>...</td>\n    </tr>\n    <tr>\n      <th>6040</th>\n      <td>2917</td>\n      <td>4</td>\n      <td>997454429</td>\n    </tr>\n    <tr>\n      <th>6040</th>\n      <td>1784</td>\n      <td>3</td>\n      <td>997454464</td>\n    </tr>\n    <tr>\n      <th>6040</th>\n      <td>1921</td>\n      <td>4</td>\n      <td>997454464</td>\n    </tr>\n    <tr>\n      <th>6040</th>\n      <td>161</td>\n      <td>3</td>\n      <td>997454486</td>\n    </tr>\n    <tr>\n      <th>6040</th>\n      <td>1221</td>\n      <td>4</td>\n      <td>998315055</td>\n    </tr>\n  </tbody>\n</table>\n<p>999611 rows × 3 columns</p>\n</div>"
     },
     "execution_count": 7,
     "metadata": {},
     "output_type": "execute_result"
    }
   ],
   "source": [
    "# use timestamps to determine the sequence order of actions.\n",
    "actions = data_ratings\n",
    "actions = actions.groupby('MovieID').filter(lambda  x: len(x) >= 5)\n",
    "actions = actions.groupby('UserID').filter(lambda  x: len(x) >= 5)\n",
    "actions = actions.groupby('UserID', group_keys=False).apply(lambda  x: x.sort_values('Timestamp'))\n",
    "# We discard users and items with fewer than 5 related actions.\n",
    "actions"
   ],
   "metadata": {
    "collapsed": false
   }
  },
  {
   "cell_type": "code",
   "execution_count": 8,
   "outputs": [],
   "source": [
    "usermap = dict()\n",
    "usernum = 0\n",
    "itemmap = dict()\n",
    "itemnum = 0\n",
    "# reorder the userid and itemid (keep the same step with original SASRec code)\n",
    "for _id, row in actions.iterrows():\n",
    "    if _id in usermap:\n",
    "        userid = usermap[_id]\n",
    "    else:\n",
    "        usernum += 1\n",
    "        userid = usernum\n",
    "        usermap[_id] = userid\n",
    "\n",
    "    if row.MovieID in itemmap:\n",
    "        itemid = itemmap[row.MovieID]\n",
    "    else:\n",
    "        itemnum += 1\n",
    "        itemid = itemnum\n",
    "        itemmap[row.MovieID] = itemid"
   ],
   "metadata": {
    "collapsed": false
   }
  },
  {
   "cell_type": "code",
   "execution_count": 9,
   "outputs": [
    {
     "data": {
      "text/plain": "(6040, 3416)"
     },
     "execution_count": 9,
     "metadata": {},
     "output_type": "execute_result"
    }
   ],
   "source": [
    "usermap.__len__(), itemmap.__len__()"
   ],
   "metadata": {
    "collapsed": false
   }
  },
  {
   "cell_type": "code",
   "execution_count": 10,
   "outputs": [],
   "source": [
    "actions['MovieID'] = actions['MovieID'].map(itemmap)\n",
    "actions.index = actions.index.map(usermap)\n",
    "# data['Occupation'] = data['Occupation'].map(occupation_map)"
   ],
   "metadata": {
    "collapsed": false
   }
  },
  {
   "cell_type": "code",
   "execution_count": 15,
   "outputs": [
    {
     "data": {
      "text/plain": "        MovieID  Rating  Timestamp\nUserID                            \n1             1       4  978300019\n1             2       4  978300055\n1             3       5  978300055\n1             4       5  978300055\n1             5       3  978300103\n...         ...     ...        ...\n6040       1249       4  997454429\n6040         88       3  997454464\n6040        371       4  997454464\n6040        464       3  997454486\n6040        431       4  998315055\n\n[999611 rows x 3 columns]",
      "text/html": "<div>\n<style scoped>\n    .dataframe tbody tr th:only-of-type {\n        vertical-align: middle;\n    }\n\n    .dataframe tbody tr th {\n        vertical-align: top;\n    }\n\n    .dataframe thead th {\n        text-align: right;\n    }\n</style>\n<table border=\"1\" class=\"dataframe\">\n  <thead>\n    <tr style=\"text-align: right;\">\n      <th></th>\n      <th>MovieID</th>\n      <th>Rating</th>\n      <th>Timestamp</th>\n    </tr>\n    <tr>\n      <th>UserID</th>\n      <th></th>\n      <th></th>\n      <th></th>\n    </tr>\n  </thead>\n  <tbody>\n    <tr>\n      <th>1</th>\n      <td>1</td>\n      <td>4</td>\n      <td>978300019</td>\n    </tr>\n    <tr>\n      <th>1</th>\n      <td>2</td>\n      <td>4</td>\n      <td>978300055</td>\n    </tr>\n    <tr>\n      <th>1</th>\n      <td>3</td>\n      <td>5</td>\n      <td>978300055</td>\n    </tr>\n    <tr>\n      <th>1</th>\n      <td>4</td>\n      <td>5</td>\n      <td>978300055</td>\n    </tr>\n    <tr>\n      <th>1</th>\n      <td>5</td>\n      <td>3</td>\n      <td>978300103</td>\n    </tr>\n    <tr>\n      <th>...</th>\n      <td>...</td>\n      <td>...</td>\n      <td>...</td>\n    </tr>\n    <tr>\n      <th>6040</th>\n      <td>1249</td>\n      <td>4</td>\n      <td>997454429</td>\n    </tr>\n    <tr>\n      <th>6040</th>\n      <td>88</td>\n      <td>3</td>\n      <td>997454464</td>\n    </tr>\n    <tr>\n      <th>6040</th>\n      <td>371</td>\n      <td>4</td>\n      <td>997454464</td>\n    </tr>\n    <tr>\n      <th>6040</th>\n      <td>464</td>\n      <td>3</td>\n      <td>997454486</td>\n    </tr>\n    <tr>\n      <th>6040</th>\n      <td>431</td>\n      <td>4</td>\n      <td>998315055</td>\n    </tr>\n  </tbody>\n</table>\n<p>999611 rows × 3 columns</p>\n</div>"
     },
     "execution_count": 15,
     "metadata": {},
     "output_type": "execute_result"
    }
   ],
   "source": [
    "actions"
   ],
   "metadata": {
    "collapsed": false
   }
  },
  {
   "cell_type": "code",
   "execution_count": 16,
   "outputs": [
    {
     "data": {
      "text/plain": "        MovieID\nUserID         \n1             1\n1             2\n1             3\n1             4\n1             5\n1             6\n1             7\n1             8\n1             9\n1            10\n1            11\n1            12\n1            13\n1            14\n1            15\n1            16\n1            17\n1            18\n1            19\n1            20\n1            21\n1            22\n1            23\n1            24\n1            25\n1            26\n1            27\n1            28\n1            29\n1            30\n1            31\n1            32\n1            33\n1            34\n1            35\n1            36\n1            37\n1            38\n1            39\n1            40\n1            41\n1            42\n1            43\n1            44\n1            45\n1            46\n1            47\n1            48\n1            49\n1            50\n1            51\n1            52\n1            53",
      "text/html": "<div>\n<style scoped>\n    .dataframe tbody tr th:only-of-type {\n        vertical-align: middle;\n    }\n\n    .dataframe tbody tr th {\n        vertical-align: top;\n    }\n\n    .dataframe thead th {\n        text-align: right;\n    }\n</style>\n<table border=\"1\" class=\"dataframe\">\n  <thead>\n    <tr style=\"text-align: right;\">\n      <th></th>\n      <th>MovieID</th>\n    </tr>\n    <tr>\n      <th>UserID</th>\n      <th></th>\n    </tr>\n  </thead>\n  <tbody>\n    <tr>\n      <th>1</th>\n      <td>1</td>\n    </tr>\n    <tr>\n      <th>1</th>\n      <td>2</td>\n    </tr>\n    <tr>\n      <th>1</th>\n      <td>3</td>\n    </tr>\n    <tr>\n      <th>1</th>\n      <td>4</td>\n    </tr>\n    <tr>\n      <th>1</th>\n      <td>5</td>\n    </tr>\n    <tr>\n      <th>1</th>\n      <td>6</td>\n    </tr>\n    <tr>\n      <th>1</th>\n      <td>7</td>\n    </tr>\n    <tr>\n      <th>1</th>\n      <td>8</td>\n    </tr>\n    <tr>\n      <th>1</th>\n      <td>9</td>\n    </tr>\n    <tr>\n      <th>1</th>\n      <td>10</td>\n    </tr>\n    <tr>\n      <th>1</th>\n      <td>11</td>\n    </tr>\n    <tr>\n      <th>1</th>\n      <td>12</td>\n    </tr>\n    <tr>\n      <th>1</th>\n      <td>13</td>\n    </tr>\n    <tr>\n      <th>1</th>\n      <td>14</td>\n    </tr>\n    <tr>\n      <th>1</th>\n      <td>15</td>\n    </tr>\n    <tr>\n      <th>1</th>\n      <td>16</td>\n    </tr>\n    <tr>\n      <th>1</th>\n      <td>17</td>\n    </tr>\n    <tr>\n      <th>1</th>\n      <td>18</td>\n    </tr>\n    <tr>\n      <th>1</th>\n      <td>19</td>\n    </tr>\n    <tr>\n      <th>1</th>\n      <td>20</td>\n    </tr>\n    <tr>\n      <th>1</th>\n      <td>21</td>\n    </tr>\n    <tr>\n      <th>1</th>\n      <td>22</td>\n    </tr>\n    <tr>\n      <th>1</th>\n      <td>23</td>\n    </tr>\n    <tr>\n      <th>1</th>\n      <td>24</td>\n    </tr>\n    <tr>\n      <th>1</th>\n      <td>25</td>\n    </tr>\n    <tr>\n      <th>1</th>\n      <td>26</td>\n    </tr>\n    <tr>\n      <th>1</th>\n      <td>27</td>\n    </tr>\n    <tr>\n      <th>1</th>\n      <td>28</td>\n    </tr>\n    <tr>\n      <th>1</th>\n      <td>29</td>\n    </tr>\n    <tr>\n      <th>1</th>\n      <td>30</td>\n    </tr>\n    <tr>\n      <th>1</th>\n      <td>31</td>\n    </tr>\n    <tr>\n      <th>1</th>\n      <td>32</td>\n    </tr>\n    <tr>\n      <th>1</th>\n      <td>33</td>\n    </tr>\n    <tr>\n      <th>1</th>\n      <td>34</td>\n    </tr>\n    <tr>\n      <th>1</th>\n      <td>35</td>\n    </tr>\n    <tr>\n      <th>1</th>\n      <td>36</td>\n    </tr>\n    <tr>\n      <th>1</th>\n      <td>37</td>\n    </tr>\n    <tr>\n      <th>1</th>\n      <td>38</td>\n    </tr>\n    <tr>\n      <th>1</th>\n      <td>39</td>\n    </tr>\n    <tr>\n      <th>1</th>\n      <td>40</td>\n    </tr>\n    <tr>\n      <th>1</th>\n      <td>41</td>\n    </tr>\n    <tr>\n      <th>1</th>\n      <td>42</td>\n    </tr>\n    <tr>\n      <th>1</th>\n      <td>43</td>\n    </tr>\n    <tr>\n      <th>1</th>\n      <td>44</td>\n    </tr>\n    <tr>\n      <th>1</th>\n      <td>45</td>\n    </tr>\n    <tr>\n      <th>1</th>\n      <td>46</td>\n    </tr>\n    <tr>\n      <th>1</th>\n      <td>47</td>\n    </tr>\n    <tr>\n      <th>1</th>\n      <td>48</td>\n    </tr>\n    <tr>\n      <th>1</th>\n      <td>49</td>\n    </tr>\n    <tr>\n      <th>1</th>\n      <td>50</td>\n    </tr>\n    <tr>\n      <th>1</th>\n      <td>51</td>\n    </tr>\n    <tr>\n      <th>1</th>\n      <td>52</td>\n    </tr>\n    <tr>\n      <th>1</th>\n      <td>53</td>\n    </tr>\n  </tbody>\n</table>\n</div>"
     },
     "execution_count": 16,
     "metadata": {},
     "output_type": "execute_result"
    }
   ],
   "source": [
    "sas_data = actions.drop('Rating', axis=1, inplace=False).drop('Timestamp', axis=1, inplace=False)\n",
    "## ..continue\n",
    "sas_data.loc[1]"
   ],
   "metadata": {
    "collapsed": false
   }
  },
  {
   "cell_type": "code",
   "execution_count": 18,
   "outputs": [],
   "source": [
    "with open('ml-1m.txt', 'w') as f:\n",
    "    for _id in set(sas_data.index):\n",
    "        for movie_id in sas_data.loc[_id].MovieID:\n",
    "            f.write('%d %d\\n' % (_id, movie_id))"
   ],
   "metadata": {
    "collapsed": false
   }
  },
  {
   "cell_type": "code",
   "execution_count": 27,
   "outputs": [],
   "source": [
    "def data_partition(fname):\n",
    "    usernum = 0\n",
    "    itemnum = 0\n",
    "    User = defaultdict(list)\n",
    "    user_train = {}\n",
    "    user_valid = {}\n",
    "    user_test = {}\n",
    "    # assume user/item index starting from 1\n",
    "    f = open('%s.txt' % fname, 'r')\n",
    "    for line in f:\n",
    "        u, i = line.rstrip().split(' ')\n",
    "        u = int(u)\n",
    "        i = int(i)\n",
    "        usernum = max(u, usernum)\n",
    "        itemnum = max(i, itemnum)\n",
    "        User[u].append(i)\n",
    "\n",
    "    for user in User:\n",
    "        nfeedback = len(User[user])\n",
    "        if nfeedback < 3:\n",
    "            user_train[user] = User[user]\n",
    "            user_valid[user] = []\n",
    "            user_test[user] = []\n",
    "        else:\n",
    "            user_train[user] = User[user][:-2]\n",
    "            user_valid[user] = []\n",
    "            user_valid[user].append(User[user][-2])\n",
    "            user_test[user] = []\n",
    "            user_test[user].append(User[user][-1])\n",
    "    return [user_train, user_valid, user_test, usernum, itemnum]"
   ],
   "metadata": {
    "collapsed": false
   }
  },
  {
   "cell_type": "code",
   "execution_count": 49,
   "outputs": [],
   "source": [
    "dataset = data_partition('ml-1m')"
   ],
   "metadata": {
    "collapsed": false
   }
  },
  {
   "cell_type": "code",
   "execution_count": 50,
   "outputs": [],
   "source": [
    "[user_train, user_valid, user_test, usernum, itemnum] = dataset"
   ],
   "metadata": {
    "collapsed": false
   }
  },
  {
   "cell_type": "code",
   "execution_count": 24,
   "outputs": [
    {
     "data": {
      "text/plain": "6040"
     },
     "execution_count": 24,
     "metadata": {},
     "output_type": "execute_result"
    }
   ],
   "source": [
    "len(user_train)"
   ],
   "metadata": {
    "collapsed": false
   }
  },
  {
   "cell_type": "code",
   "execution_count": 25,
   "outputs": [
    {
     "data": {
      "text/plain": "6040"
     },
     "execution_count": 25,
     "metadata": {},
     "output_type": "execute_result"
    }
   ],
   "source": [
    "len(user_valid)"
   ],
   "metadata": {
    "collapsed": false
   }
  },
  {
   "cell_type": "code",
   "execution_count": 26,
   "outputs": [
    {
     "data": {
      "text/plain": "6040"
     },
     "execution_count": 26,
     "metadata": {},
     "output_type": "execute_result"
    }
   ],
   "source": [
    "len(user_test)"
   ],
   "metadata": {
    "collapsed": false
   }
  },
  {
   "cell_type": "code",
   "execution_count": 29,
   "outputs": [
    {
     "data": {
      "text/plain": "6040"
     },
     "execution_count": 29,
     "metadata": {},
     "output_type": "execute_result"
    }
   ],
   "source": [
    "usernum"
   ],
   "metadata": {
    "collapsed": false
   }
  },
  {
   "cell_type": "code",
   "execution_count": 30,
   "outputs": [
    {
     "data": {
      "text/plain": "3416"
     },
     "execution_count": 30,
     "metadata": {},
     "output_type": "execute_result"
    }
   ],
   "source": [
    "itemnum"
   ],
   "metadata": {
    "collapsed": false
   }
  },
  {
   "cell_type": "code",
   "execution_count": 36,
   "outputs": [
    {
     "data": {
      "text/plain": "[2410,\n 677,\n 1267,\n 6109,\n 512,\n 1908,\n 7074,\n 3524,\n 3296,\n 1083,\n 4743,\n 3682,\n 6252,\n 874,\n 1666,\n 244,\n 1402,\n 5036,\n 8103,\n 1284,\n 9094,\n 2272,\n 7757,\n 1928,\n 3426,\n 6262,\n 1180,\n 1471,\n 3643,\n 129,\n 6673,\n 567,\n 413,\n 6180,\n 9997,\n 3920,\n 3245,\n 5370,\n 9434,\n 5536,\n 4006,\n 6363,\n 466,\n 280,\n 1716,\n 6539,\n 1873,\n 7427,\n 5284,\n 7087,\n 4510,\n 8527,\n 3763,\n 8722,\n 9700,\n 3981,\n 5832,\n 4390,\n 9840,\n 4337,\n 7151,\n 2346,\n 9141,\n 5940,\n 548,\n 2406,\n 7099,\n 7116,\n 2647,\n 80,\n 323,\n 7701,\n 1529,\n 6583,\n 8432,\n 9782,\n 3092,\n 2304,\n 7077,\n 6372,\n 4915,\n 4709,\n 9496,\n 3089,\n 208,\n 6622,\n 9246,\n 2357,\n 3408,\n 3898,\n 3807,\n 7442,\n 7669,\n 1225,\n 2528,\n 7759,\n 9067,\n 5180,\n 1381,\n 3019,\n 3107,\n 985,\n 7897,\n 9180,\n 5139,\n 2474,\n 1661,\n 9254,\n 380,\n 6085,\n 3352,\n 5058,\n 3552,\n 2627,\n 1489,\n 2809,\n 7048,\n 2891,\n 868,\n 4050,\n 6885,\n 6457,\n 6058,\n 7453,\n 9124,\n 2871,\n 8120,\n 1134,\n 5867,\n 4494,\n 2846,\n 3181,\n 6772,\n 8111,\n 315,\n 4396,\n 737,\n 6484,\n 3952,\n 314,\n 9428,\n 3974,\n 1398,\n 2239,\n 4103,\n 6294,\n 685,\n 393,\n 8700,\n 195,\n 514,\n 1779,\n 9313,\n 9754,\n 634,\n 8750,\n 6334,\n 6167,\n 2235,\n 5759,\n 6378,\n 2229,\n 6547,\n 7439,\n 4699,\n 3853,\n 9734,\n 8496,\n 9580,\n 7690,\n 2508,\n 27,\n 8455,\n 1327,\n 2803,\n 8104,\n 5027,\n 1264,\n 9533,\n 9042,\n 3299,\n 5810,\n 1387,\n 6160,\n 83,\n 7149,\n 6911,\n 5548,\n 8241,\n 1512,\n 4263,\n 1125,\n 4694,\n 3396,\n 242,\n 2132,\n 3541,\n 5987,\n 310,\n 8183,\n 9164,\n 2606,\n 5316,\n 9307,\n 9424,\n 9692,\n 2733,\n 3228,\n 4046,\n 7501,\n 8015,\n 4246,\n 2690,\n 8831,\n 9513,\n 2458,\n 9983,\n 6006,\n 4435,\n 5652,\n 1433,\n 5025,\n 6668,\n 4398,\n 2383,\n 9257,\n 9309,\n 1859,\n 5381,\n 191,\n 8027,\n 9304,\n 5358,\n 8189,\n 6162,\n 3158,\n 2720,\n 7742,\n 2490,\n 7491,\n 2870,\n 693,\n 6471,\n 4073,\n 8377,\n 1823,\n 7251,\n 160,\n 3445,\n 7869,\n 4367,\n 6077,\n 9908,\n 345,\n 7437,\n 3476,\n 2788,\n 6059,\n 6700,\n 7141,\n 1896,\n 309,\n 6526,\n 2597,\n 3809,\n 2675,\n 3804,\n 5216,\n 6049,\n 6395,\n 3065,\n 4497,\n 3651,\n 7395,\n 9530,\n 8882,\n 7295,\n 2510,\n 6514,\n 8277,\n 4345,\n 5016,\n 7871,\n 8399,\n 1126,\n 1311,\n 785,\n 8792,\n 8473,\n 4581,\n 8415,\n 2481,\n 566,\n 8857,\n 6809,\n 1368,\n 1805,\n 8697,\n 6027,\n 5085,\n 4422,\n 4171,\n 8941,\n 6441,\n 2364,\n 8221,\n 4009,\n 5779,\n 7875,\n 6635,\n 5330,\n 9129,\n 2654,\n 7187,\n 4532,\n 4141,\n 1373,\n 8239,\n 2201,\n 3740,\n 8949,\n 1636,\n 9412,\n 8418,\n 3632,\n 5754,\n 6985,\n 8638,\n 3318,\n 7428,\n 4409,\n 1936,\n 7228,\n 2160,\n 4222,\n 2309,\n 5071,\n 4830,\n 4955,\n 9026,\n 857,\n 5048,\n 1161,\n 4024,\n 5300,\n 2256,\n 7618,\n 1027,\n 1754,\n 1207,\n 1810,\n 8982,\n 1466,\n 3653,\n 6535,\n 115,\n 3286,\n 3995,\n 4207,\n 6656,\n 3958,\n 503,\n 9765,\n 5022,\n 1123,\n 7983,\n 1479,\n 5181,\n 4291,\n 1947,\n 7980,\n 1959,\n 2631,\n 839,\n 5976,\n 2909,\n 9605,\n 8620,\n 4901,\n 3862,\n 4697,\n 197,\n 54,\n 3506,\n 6506,\n 9480,\n 7193,\n 6213,\n 7459,\n 2935,\n 8516,\n 1783,\n 9086,\n 210,\n 9679,\n 9630,\n 7418,\n 3724,\n 5875,\n 3735,\n 7941,\n 4175,\n 2885,\n 3253,\n 8632,\n 5351,\n 910,\n 6425,\n 4136,\n 744,\n 6263,\n 6801,\n 3886,\n 9187,\n 7834,\n 2633,\n 843,\n 7733,\n 9375,\n 6576,\n 3814,\n 9456,\n 8350,\n 4918,\n 1451,\n 6177,\n 1522,\n 5028,\n 8631,\n 9219,\n 4840,\n 3183,\n 2166,\n 2082,\n 4431,\n 4540,\n 1798,\n 3478,\n 7446,\n 1940,\n 62,\n 8760,\n 1185,\n 9039,\n 1969,\n 6300,\n 5076,\n 8156,\n 2624,\n 7671,\n 7668,\n 9757,\n 384,\n 6946,\n 7343,\n 3210,\n 3325,\n 3110,\n 4155,\n 9727,\n 5564,\n 4457,\n 936,\n 6629,\n 7756,\n 3692,\n 3900,\n 111,\n 4632,\n 1454,\n 1563,\n 1317,\n 5588,\n 3908,\n 8392,\n 2151,\n 6133,\n 9278,\n 1304,\n 7902,\n 9925,\n 6429,\n 6292,\n 6839,\n 4231,\n 5919,\n 2240,\n 1257,\n 4384,\n 3850,\n 3350,\n 7479,\n 124,\n 9115,\n 8950,\n 5969,\n 8822,\n 9477,\n 5303,\n 4883,\n 2630,\n 8609,\n 5466,\n 7880,\n 1153,\n 4272,\n 1886,\n 5202,\n 1320,\n 6810,\n 3109,\n 5936,\n 4555,\n 213,\n 5468,\n 6572,\n 3101,\n 4245,\n 1500,\n 3452,\n 9065,\n 4557,\n 4072,\n 3884,\n 2246,\n 474,\n 3708,\n 454,\n 5157,\n 7339,\n 4267,\n 4578,\n 5397,\n 4316,\n 542,\n 2540,\n 5042,\n 2834,\n 5473,\n 9250,\n 3100,\n 9038,\n 7420,\n 5749,\n 6062,\n 1429,\n 4965,\n 3759,\n 6581,\n 4563,\n 3180,\n 1275,\n 8171,\n 3514,\n 7773,\n 5092,\n 8740,\n 3386,\n 6432,\n 606,\n 1096,\n 6886,\n 8135,\n 9112,\n 4482,\n 6218,\n 5835,\n 3153,\n 664,\n 630,\n 1953,\n 327,\n 6074,\n 6667,\n 7741,\n 8801,\n 2573,\n 6019,\n 3959,\n 9795,\n 1094,\n 5693,\n 908,\n 640,\n 1608,\n 8321,\n 4381,\n 9151,\n 1797,\n 5055,\n 1155,\n 7410,\n 430,\n 9970,\n 2965,\n 7159,\n 5018,\n 3212,\n 4729,\n 4306,\n 4478,\n 6534,\n 5776,\n 6266,\n 4419,\n 8811,\n 8037,\n 6722,\n 5187,\n 775,\n 2978,\n 7248,\n 6038,\n 5402,\n 7034,\n 3860,\n 3987,\n 6198,\n 3756,\n 5950,\n 1293,\n 8149,\n 9092,\n 9193,\n 4853,\n 612,\n 39,\n 8975,\n 3196,\n 4835,\n 5977,\n 7605,\n 5088,\n 5091,\n 4105,\n 1038,\n 9741,\n 4038,\n 5480,\n 878,\n 7046,\n 8459,\n 7135,\n 4963,\n 4794,\n 904,\n 264,\n 9090,\n 1191,\n 6932,\n 5973,\n 9547,\n 2467,\n 2103,\n 3314,\n 6283,\n 6253,\n 3700,\n 2360,\n 3384,\n 5422,\n 9328,\n 1303,\n 9241,\n 5862,\n 4844,\n 424,\n 8759,\n 8000,\n 4716,\n 9629,\n 6600,\n 6238,\n 6993,\n 7891,\n 5702,\n 4616,\n 9676,\n 9296,\n 9928,\n 6428,\n 4724,\n 1984,\n 2999,\n 6298,\n 5984,\n 2489,\n 1535,\n 9079,\n 4077,\n 2941,\n 9239,\n 5974,\n 9545,\n 6444,\n 2959,\n 8887,\n 2862,\n 8741,\n 2974,\n 8199,\n 2452,\n 9874,\n 6844,\n 5698,\n 9483,\n 7334,\n 5191,\n 9333,\n 2684,\n 3793,\n 5899,\n 84,\n 4734,\n 651,\n 9103,\n 9806,\n 2285,\n 1258,\n 2399,\n 8292,\n 5375,\n 4527,\n 7456,\n 4943,\n 4333,\n 825,\n 1743,\n 4142,\n 10,\n 1434,\n 6706,\n 2496,\n 3665,\n 9347,\n 2265,\n 4887,\n 8474,\n 2636,\n 1357,\n 9555,\n 8357,\n 1201,\n 4107,\n 9647,\n 5475,\n 1076,\n 7195,\n 6233,\n 8655,\n 7559,\n 849,\n 9943,\n 222,\n 6566,\n 4395,\n 3246,\n 5059,\n 6620,\n 3555,\n 137,\n 7191,\n 2381,\n 1861,\n 6383,\n 7267,\n 9715,\n 1115,\n 7264,\n 1347,\n 5034,\n 2629,\n 2827,\n 5603,\n 404,\n 8299,\n 2112,\n 711,\n 9423,\n 2145,\n 1787,\n 1196,\n 4334,\n 4427,\n 1112,\n 8936,\n 1572,\n 2770,\n 4589,\n 8140,\n 6705,\n 5215,\n 1413,\n 4706,\n 6508,\n 4268,\n 8194,\n 9502,\n 3067,\n 5001,\n 1601,\n 3162,\n 9373,\n 9332,\n 120,\n 1660,\n 8961,\n 5649,\n 3905,\n 6136,\n 8733,\n 2747,\n 2843,\n 2444,\n 9544,\n 5728,\n 4363,\n 4027,\n 1117,\n 659,\n 9286,\n 8290,\n 7364,\n 2117,\n 1684,\n 4761,\n 881,\n 1736,\n 7268,\n 1582,\n 7793,\n 8414,\n 1412,\n 8679,\n 2906,\n 157,\n 637,\n 7518,\n 2592,\n 5655,\n 2826,\n 8970,\n 9540,\n 8624,\n 8613,\n 5604,\n 5364,\n 4276,\n 2847,\n 897,\n 6002,\n 1103,\n 5781,\n 735,\n 6118,\n 4922,\n 5394,\n 6108,\n 321,\n 4923,\n 8017,\n 7043,\n 4807,\n 199,\n 4566,\n 6297,\n 7411,\n 9880,\n 5498,\n 1273,\n 2173,\n 4177,\n 892,\n 1214,\n 6364,\n 4852,\n 8466,\n 8668,\n 4438,\n 8262,\n 2259,\n 725,\n 1793,\n 4377,\n 2745,\n 1735,\n 7449,\n 3726,\n 2696,\n 4969,\n 4489,\n 8663,\n 7683,\n 4626,\n 7327,\n 7819,\n 1916,\n 500,\n 4095,\n 7247,\n 9935,\n 6029,\n 151,\n 6219,\n 1254,\n 7100,\n 4730,\n 604,\n 3473,\n 4848,\n 2651,\n 9517,\n 5648,\n 9764,\n 6235,\n 8021,\n 9386,\n 6942,\n 655,\n 2308,\n 5347,\n 2008,\n 2785,\n 6124,\n 5909,\n 7414,\n 6877,\n 5770,\n 974,\n 1330,\n 9841,\n 4407,\n 850,\n 994,\n 2642,\n 3549,\n 5750,\n 5154,\n 6862,\n 1543,\n 3033,\n 4740,\n 6206,\n 4907,\n 2634,\n 4506,\n 375,\n 2366,\n 817,\n 2886,\n 5255,\n 2755,\n 4677,\n 6596,\n 1097,\n 973,\n 2691,\n 855,\n 4356,\n 9087,\n 3202,\n 959,\n 1599,\n 4137,\n 8990,\n 9110,\n 5676,\n 473,\n 2427,\n 7244,\n 3376,\n 6098,\n 8348,\n 7134,\n 5831,\n 6103,\n 8886,\n 9310,\n 8530,\n 43,\n 132,\n 3909,\n 2499,\n 1334,\n 3546,\n 1263,\n 3010,\n 549,\n 3583,\n 1278,\n 9355,\n 7202,\n 4152,\n 9999,\n 1693,\n 7868,\n 6247,\n 5516,\n 4418,\n 6921,\n ...]"
     },
     "execution_count": 36,
     "metadata": {},
     "output_type": "execute_result"
    }
   ],
   "source": [
    "import random\n",
    "random.sample(range(1, usernum + 1), 10000)"
   ],
   "metadata": {
    "collapsed": false
   }
  },
  {
   "cell_type": "code",
   "execution_count": 55,
   "outputs": [
    {
     "name": "stdout",
     "output_type": "stream",
     "text": [
      "[1] [[ 0  0  0  0  0  0  0  0  0  0  0  0  0  0  0  0  0  0  0  0  0  0  0  0\n",
      "   0  0  0  0  0  0  0  0  0  0  0  0  0  0  0  0  0  0  0  0  0  0  0  0\n",
      "   0  0  0  0  0  0  0  0  0  0  0  0  0  0  0  0  0  0  0  0  0  0  0  0\n",
      "   0  0  0  0  0  0  0  0  0  0  0  0  0  0  0  0  0  0  0  0  0  0  0  0\n",
      "   0  0  0  0  0  0  0  0  0  0  0  0  0  0  0  0  0  0  0  0  0  0  0  0\n",
      "   0  0  0  0  0  0  0  0  0  0  0  0  0  0  0  0  0  0  0  0  0  0  0  0\n",
      "   0  0  0  0  0  1  2  3  4  5  6  7  8  9 10 11 12 13 14 15 16 17 18 19\n",
      "  20 21 22 23 24 25 26 27 28 29 30 31 32 33 34 35 36 37 38 39 40 41 42 43\n",
      "  44 45 46 47 48 49 50 51]] [  52 3156  331 2014 1803 3311 2133 3095  270 3336 2489  911 2651 2772\n",
      " 1751 1917 3184 2776  546 2559 2438 1752 2832  305 1310  358  407  832\n",
      " 1822 3073 2296 2952 2984  568  545 1530 3308  288  707 1595 3303 3129\n",
      " 1114 2594 1580 2964 2359 3100 1828 2273 1759 2005 1760 3018 3170 2834\n",
      " 3307 2039 1405 1922 3329  563  264 1825  577 2515  586  989 1790 2676\n",
      " 3096 1914 1971  851  224  106 2790  890  491 2352 2395   64 1704 2192\n",
      "  832 2113 2967 3241 1073 1164 3089 1837  249  390  262  137 1688 1557\n",
      " 2088  107 1465]\n"
     ]
    }
   ],
   "source": [
    "import numpy as np\n",
    "import copy\n",
    "import sys\n",
    "\n",
    "def evaluate_window_valid(model, dataset, args):\n",
    "    [train, valid, test, usernum, itemnum] = copy.deepcopy(dataset)\n",
    "    Recall = 0.0\n",
    "    P90 = 0.0\n",
    "    # P90 coverage means the smallest item sets that appear in the top 10 lists of at least 90% of the users.\n",
    "    valid_user = 0.0\n",
    "    if usernum > 10000:\n",
    "        # avoid too many training users\n",
    "        # keep at most 10000 users\n",
    "        users = random.sample(range(1, usernum + 1), 10000)\n",
    "    else:\n",
    "        # else keep all the users\n",
    "        users = range(1, usernum + 1)\n",
    "    for u in users:\n",
    "        # make sure the sequence can be validated\n",
    "        if len(train[u]) < 1 or len(valid[u]) < 1: continue\n",
    "        seq = np.zeros([args.maxlen], dtype=np.int32)\n",
    "        idx = args.maxlen - 1\n",
    "        for i in reversed(train[u]):\n",
    "            seq[idx] = i\n",
    "            # fill the sequence from end to beginning\n",
    "            idx -= 1\n",
    "            if idx == -1: break\n",
    "            # select the max len or all of the training data in the sequence\n",
    "            # limit the length, seq contains the actual training sequence\n",
    "        rated = set(train[u])\n",
    "        rated.add(0)\n",
    "        # all items interacted by the current user\n",
    "        item_idx = [valid[u][0]]\n",
    "        # get the index of validated item\n",
    "        for _ in range(100):\n",
    "            # negative sampling\n",
    "            t = np.random.randint(1, itemnum + 1)\n",
    "            # randomly sample 100 items\n",
    "            while t in rated: t = np.random.randint(1, itemnum + 1)\n",
    "            item_idx.append(t)\n",
    "        predictions = -model.predict(*[np.array(l) for l in [[u], [seq], item_idx]])\n",
    "        # predicting the recommendation list\n",
    "        predictions = predictions[0]\n",
    "        rank = predictions.argsort().argsort()[0].item()\n",
    "        # the rank of the expected next single item\n",
    "        valid_user += 1\n",
    "        if rank < 10:\n",
    "            Recall += 1\n",
    "            # P90 coverage\n",
    "        if valid_user % 100 == 0:\n",
    "            print('.', end=\"\")\n",
    "            sys.stdout.flush()\n",
    "    return Recall / valid_user, P90 / valid_user"
   ],
   "metadata": {
    "collapsed": false
   }
  },
  {
   "cell_type": "code",
   "execution_count": null,
   "outputs": [],
   "source": [
    "    # rated = set(train[u])\n",
    "    # rated.add(0)\n",
    "    # item_idx = [valid[u][0]]\n",
    "    # for _ in range(100):\n",
    "    #     t = np.random.randint(1, itemnum + 1)\n",
    "    #     while t in rated: t = np.random.randint(1, itemnum + 1)\n",
    "    #     item_idx.append(t)\n",
    "    #\n",
    "    # predictions = -model.predict(*[np.array(l) for l in [[u], [seq], item_idx]])\n",
    "    # predictions = predictions[0]\n",
    "    #\n",
    "    # rank = predictions.argsort().argsort()[0].item()\n",
    "    #\n",
    "    # valid_user += 1\n",
    "\n",
    "    # if rank < 10:\n",
    "    #     NDCG += 1 / np.log2(rank + 2)\n",
    "    #     HT += 1\n",
    "    # if valid_user % 100 == 0:\n",
    "    #     print('.', end=\"\")\n",
    "    #     sys.stdout.flush()\n",
    "# return NDCG / valid_user, HT / valid_user"
   ],
   "metadata": {
    "collapsed": false
   }
  },
  {
   "cell_type": "code",
   "execution_count": 72,
   "outputs": [],
   "source": [
    "item_list = []"
   ],
   "metadata": {
    "collapsed": false
   }
  },
  {
   "cell_type": "code",
   "execution_count": 73,
   "outputs": [],
   "source": [
    "item_set = set(range(1,itemnum+1))\n",
    "item_set = item_set - rated\n",
    "item_list+= list(item_set)\n"
   ],
   "metadata": {
    "collapsed": false
   }
  },
  {
   "cell_type": "code",
   "execution_count": 74,
   "outputs": [
    {
     "data": {
      "text/plain": "3077"
     },
     "execution_count": 74,
     "metadata": {},
     "output_type": "execute_result"
    }
   ],
   "source": [
    "len(item_list)"
   ],
   "metadata": {
    "collapsed": false
   }
  }
 ],
 "metadata": {
  "kernelspec": {
   "display_name": "Python 3",
   "language": "python",
   "name": "python3"
  },
  "language_info": {
   "codemirror_mode": {
    "name": "ipython",
    "version": 2
   },
   "file_extension": ".py",
   "mimetype": "text/x-python",
   "name": "python",
   "nbconvert_exporter": "python",
   "pygments_lexer": "ipython2",
   "version": "2.7.6"
  }
 },
 "nbformat": 4,
 "nbformat_minor": 0
}
